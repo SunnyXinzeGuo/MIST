{
 "cells": [
  {
   "cell_type": "code",
   "execution_count": 1,
   "id": "1c207e1c",
   "metadata": {},
   "outputs": [],
   "source": [
    "import numpy as np\n",
    "import matplotlib.pyplot as plt\n",
    "import ultranest\n",
    "import read_beam_FEKO as rf\n",
    "import scipy.interpolate\n",
    "import scipy.optimize\n",
    "%matplotlib notebook"
   ]
  },
  {
   "cell_type": "code",
   "execution_count": 2,
   "id": "686121a9",
   "metadata": {},
   "outputs": [
    {
     "name": "stdout",
     "output_type": "stream",
     "text": [
      " Frequency in Hz:               FREQ =    2.50000E+07\n",
      "\n",
      " Frequency in Hz:               FREQ =    2.60000E+07\n",
      "\n",
      " Frequency in Hz:               FREQ =    2.70000E+07\n",
      "\n",
      " Frequency in Hz:               FREQ =    2.80000E+07\n",
      "\n",
      " Frequency in Hz:               FREQ =    2.90000E+07\n",
      "\n",
      " Frequency in Hz:               FREQ =    3.00000E+07\n",
      "\n",
      " Frequency in Hz:               FREQ =    3.10000E+07\n",
      "\n",
      " Frequency in Hz:               FREQ =    3.20000E+07\n",
      "\n",
      " Frequency in Hz:               FREQ =    3.30000E+07\n",
      "\n",
      " Frequency in Hz:               FREQ =    3.40000E+07\n",
      "\n",
      " Frequency in Hz:               FREQ =    3.50000E+07\n",
      "\n",
      " Frequency in Hz:               FREQ =    3.60000E+07\n",
      "\n",
      " Frequency in Hz:               FREQ =    3.70000E+07\n",
      "\n",
      " Frequency in Hz:               FREQ =    3.80000E+07\n",
      "\n",
      " Frequency in Hz:               FREQ =    3.90000E+07\n",
      "\n",
      " Frequency in Hz:               FREQ =    4.00000E+07\n",
      "\n",
      " Frequency in Hz:               FREQ =    4.10000E+07\n",
      "\n",
      " Frequency in Hz:               FREQ =    4.20000E+07\n",
      "\n",
      " Frequency in Hz:               FREQ =    4.30000E+07\n",
      "\n",
      " Frequency in Hz:               FREQ =    4.40000E+07\n",
      "\n",
      " Frequency in Hz:               FREQ =    4.50000E+07\n",
      "\n",
      " Frequency in Hz:               FREQ =    4.60000E+07\n",
      "\n",
      " Frequency in Hz:               FREQ =    4.70000E+07\n",
      "\n",
      " Frequency in Hz:               FREQ =    4.80000E+07\n",
      "\n",
      " Frequency in Hz:               FREQ =    4.90000E+07\n",
      "\n",
      " Frequency in Hz:               FREQ =    5.00000E+07\n",
      "\n",
      " Frequency in Hz:               FREQ =    5.10000E+07\n",
      "\n",
      " Frequency in Hz:               FREQ =    5.20000E+07\n",
      "\n",
      " Frequency in Hz:               FREQ =    5.30000E+07\n",
      "\n",
      " Frequency in Hz:               FREQ =    5.40000E+07\n",
      "\n",
      " Frequency in Hz:               FREQ =    5.50000E+07\n",
      "\n",
      " Frequency in Hz:               FREQ =    5.60000E+07\n",
      "\n",
      " Frequency in Hz:               FREQ =    5.70000E+07\n",
      "\n",
      " Frequency in Hz:               FREQ =    5.80000E+07\n",
      "\n",
      " Frequency in Hz:               FREQ =    5.90000E+07\n",
      "\n",
      " Frequency in Hz:               FREQ =    6.00000E+07\n",
      "\n",
      " Frequency in Hz:               FREQ =    6.10000E+07\n",
      "\n",
      " Frequency in Hz:               FREQ =    6.20000E+07\n",
      "\n",
      " Frequency in Hz:               FREQ =    6.30000E+07\n",
      "\n",
      " Frequency in Hz:               FREQ =    6.40000E+07\n",
      "\n",
      " Frequency in Hz:               FREQ =    6.50000E+07\n",
      "\n",
      " Frequency in Hz:               FREQ =    6.60000E+07\n",
      "\n",
      " Frequency in Hz:               FREQ =    6.70000E+07\n",
      "\n",
      " Frequency in Hz:               FREQ =    6.80000E+07\n",
      "\n",
      " Frequency in Hz:               FREQ =    6.90000E+07\n",
      "\n",
      " Frequency in Hz:               FREQ =    7.00000E+07\n",
      "\n",
      " Frequency in Hz:               FREQ =    7.10000E+07\n",
      "\n",
      " Frequency in Hz:               FREQ =    7.20000E+07\n",
      "\n",
      " Frequency in Hz:               FREQ =    7.30000E+07\n",
      "\n",
      " Frequency in Hz:               FREQ =    7.40000E+07\n",
      "\n",
      " Frequency in Hz:               FREQ =    7.50000E+07\n",
      "\n",
      " Frequency in Hz:               FREQ =    7.60000E+07\n",
      "\n",
      " Frequency in Hz:               FREQ =    7.70000E+07\n",
      "\n",
      " Frequency in Hz:               FREQ =    7.80000E+07\n",
      "\n",
      " Frequency in Hz:               FREQ =    7.90000E+07\n",
      "\n",
      " Frequency in Hz:               FREQ =    8.00000E+07\n",
      "\n",
      " Frequency in Hz:               FREQ =    8.10000E+07\n",
      "\n",
      " Frequency in Hz:               FREQ =    8.20000E+07\n",
      "\n",
      " Frequency in Hz:               FREQ =    8.30000E+07\n",
      "\n",
      " Frequency in Hz:               FREQ =    8.40000E+07\n",
      "\n",
      " Frequency in Hz:               FREQ =    8.50000E+07\n",
      "\n",
      " Frequency in Hz:               FREQ =    8.60000E+07\n",
      "\n",
      " Frequency in Hz:               FREQ =    8.70000E+07\n",
      "\n",
      " Frequency in Hz:               FREQ =    8.80000E+07\n",
      "\n",
      " Frequency in Hz:               FREQ =    8.90000E+07\n",
      "\n",
      " Frequency in Hz:               FREQ =    9.00000E+07\n",
      "\n",
      " Frequency in Hz:               FREQ =    9.10000E+07\n",
      "\n",
      " Frequency in Hz:               FREQ =    9.20000E+07\n",
      "\n",
      " Frequency in Hz:               FREQ =    9.30000E+07\n",
      "\n",
      " Frequency in Hz:               FREQ =    9.40000E+07\n",
      "\n",
      " Frequency in Hz:               FREQ =    9.50000E+07\n",
      "\n",
      " Frequency in Hz:               FREQ =    9.60000E+07\n",
      "\n",
      " Frequency in Hz:               FREQ =    9.70000E+07\n",
      "\n",
      " Frequency in Hz:               FREQ =    9.80000E+07\n",
      "\n",
      " Frequency in Hz:               FREQ =    9.90000E+07\n",
      "\n",
      " Frequency in Hz:               FREQ =    1.00000E+08\n",
      "\n",
      " Frequency in Hz:               FREQ =    1.01000E+08\n",
      "\n",
      " Frequency in Hz:               FREQ =    1.02000E+08\n",
      "\n",
      " Frequency in Hz:               FREQ =    1.03000E+08\n",
      "\n",
      " Frequency in Hz:               FREQ =    1.04000E+08\n",
      "\n",
      " Frequency in Hz:               FREQ =    1.05000E+08\n",
      "\n",
      " Frequency in Hz:               FREQ =    1.06000E+08\n",
      "\n",
      " Frequency in Hz:               FREQ =    1.07000E+08\n",
      "\n",
      " Frequency in Hz:               FREQ =    1.08000E+08\n",
      "\n",
      " Frequency in Hz:               FREQ =    1.09000E+08\n",
      "\n",
      " Frequency in Hz:               FREQ =    1.10000E+08\n",
      "\n",
      " Frequency in Hz:               FREQ =    1.11000E+08\n",
      "\n",
      " Frequency in Hz:               FREQ =    1.12000E+08\n",
      "\n",
      " Frequency in Hz:               FREQ =    1.13000E+08\n",
      "\n",
      " Frequency in Hz:               FREQ =    1.14000E+08\n",
      "\n",
      " Frequency in Hz:               FREQ =    1.15000E+08\n",
      "\n",
      " Frequency in Hz:               FREQ =    1.16000E+08\n",
      "\n",
      " Frequency in Hz:               FREQ =    1.17000E+08\n",
      "\n",
      " Frequency in Hz:               FREQ =    1.18000E+08\n",
      "\n",
      " Frequency in Hz:               FREQ =    1.19000E+08\n",
      "\n",
      " Frequency in Hz:               FREQ =    1.20000E+08\n",
      "\n",
      " Frequency in Hz:               FREQ =    1.21000E+08\n",
      "\n",
      " Frequency in Hz:               FREQ =    1.22000E+08\n",
      "\n",
      " Frequency in Hz:               FREQ =    1.23000E+08\n",
      "\n",
      " Frequency in Hz:               FREQ =    1.24000E+08\n",
      "\n",
      " Frequency in Hz:               FREQ =    1.25000E+08\n",
      "\n",
      "AZ_antenna_axis = 0 deg\n"
     ]
    }
   ],
   "source": [
    "o = rf.read_beam_FEKO('nominal.out',0)"
   ]
  },
  {
   "cell_type": "code",
   "execution_count": 8,
   "id": "c4269fbc",
   "metadata": {},
   "outputs": [],
   "source": [
    "# Define theta as an array from [90 to 0]. phi is from [0 to 359], freq from [25 to 125 MHz]\n",
    "theta = 90 - o[2]\n",
    "phi = o[1]\n",
    "freq = o[0]\n",
    "gain = o[5]\n",
    "xx, yy = np.meshgrid(theta, phi)\n",
    "theta = xx\n",
    "phi = yy\n",
    "#xx is for theta, and yy is for phi"
   ]
  },
  {
   "cell_type": "code",
   "execution_count": 4,
   "id": "acbff42d",
   "metadata": {},
   "outputs": [],
   "source": [
    "#The fundamental TDH functions\n",
    "#Acos,Asin taken theta in degree\n",
    "def Acos(R, theta, miu, nu):\n",
    "    part1 = np.cos(miu*theta*np.pi/180)*(R/(sigma/1.43))**miu\n",
    "    part2 = P(miu,nu,R**2/(sigma/1.43)**2)\n",
    "    part3 = np.exp(-R**2/(4*(sigma/1.43)**2))\n",
    "    return part1*part2*part3\n",
    "\n",
    "def Asin(R, theta, miu, nu):\n",
    "    part1 = np.sin(miu*theta*np.pi/180)*(R/(sigma/1.43))**miu\n",
    "    part2 = P(miu,nu,R**2/(sigma/1.43)**2)\n",
    "    part3 = np.exp(-R**2/(4*(sigma/1.43)**2))\n",
    "    return part1*part2*part3\n",
    "\n",
    "def P(miu,nu,u):\n",
    "    terms = []\n",
    "    p = 0\n",
    "    while p <= nu:\n",
    "        up = np.math.factorial(miu + nu)*np.math.factorial(nu)\n",
    "        down = np.math.factorial(miu + p)*np.math.factorial(p)*np.math.factorial(nu-p)\n",
    "        term = (-2)**(nu-p)* up/down * u**p\n",
    "        terms.append(term)\n",
    "        p += 1\n",
    "    terms = np.array(terms)\n",
    "    return np.sum(terms,axis = 0)"
   ]
  },
  {
   "cell_type": "code",
   "execution_count": 9,
   "id": "1c93b648",
   "metadata": {},
   "outputs": [],
   "source": [
    "#Normalization\n",
    "def normalize(array):\n",
    "    q = np.max(array)\n",
    "    return array/q\n",
    "\n",
    "def TDH(rank):\n",
    "    \"\"\"return matrix A = [f1, f2, f3, ...] for rank 0 to rank TDH functions\"\"\"\n",
    "    zz00c = Acos(theta, phi, 0, 0)\n",
    "    zz00c2d = zz00c.flatten()\n",
    "    array = normalize(zz00c2d)\n",
    "    r = 1\n",
    "    while r <= rank:\n",
    "        m = 0\n",
    "        while m <= r:\n",
    "            if (r - m)%2 == 0:\n",
    "                n = (r - m)/2\n",
    "                if m == 0:\n",
    "                    cosine = Acos(theta,phi,m,n)\n",
    "                    cosine2d = cosine.flatten()\n",
    "                    ncos = normalize(cosine2d)\n",
    "                    array = np.vstack((array, ncos))\n",
    "                    m += 2\n",
    "                else:\n",
    "                    cosine = Acos(theta,phi,m,n)\n",
    "                    cosine2d = cosine.flatten()\n",
    "                    ncos = normalize(cosine2d)\n",
    "                    sine = Asin(theta,phi,m,n)\n",
    "                    sine2d = sine.flatten()\n",
    "                    nsin = normalize(sine2d)\n",
    "                    array = np.vstack((array, ncos))\n",
    "                    array = np.vstack((array, nsin))\n",
    "                    m += 2\n",
    "            else:\n",
    "                m += 1\n",
    "        r += 1\n",
    "    matrix = np.matrix(array).T\n",
    "    return matrix\n",
    "\n",
    "def model(rank, coe):\n",
    "    A = TDH(rank)\n",
    "    a = np.matrix(coe).T\n",
    "    return np.matmul(A,a)\n",
    "\n",
    "def simulation(coe, sigma):\n",
    "    rank = 0\n",
    "    count = 1\n",
    "    length = len(coe) - 1\n",
    "    while length > count:\n",
    "        rank += 1\n",
    "        count += rank + 1\n",
    "    mo = model(rank,coe)\n",
    "    noise = np.random.default_rng().normal(0.0, sigma*np.max(mo),360*91)\n",
    "    noi = np.matrix(noise).T\n",
    "    data = mo + noi\n",
    "    return data\n",
    "\n",
    "def solve(A, data):\n",
    "    AT = A.T\n",
    "    ATA = np.matmul(AT,A)\n",
    "    ATAinverse = np.linalg.inv(ATA)\n",
    "    half = np.matmul(ATAinverse,AT)\n",
    "    x = np.matmul(half,data)\n",
    "    return x\n",
    "\n",
    "def residual(A,data):\n",
    "    x = solve(A, data)\n",
    "    AT = A.T\n",
    "    fittingmodel = np.matmul(A, x)\n",
    "    r = data - fittingmodel\n",
    "    return r\n",
    "\n",
    "def residual2D(A,data):\n",
    "    r = residual(A,data)\n",
    "    r2D = r.reshape(360,91)\n",
    "    return r2D\n",
    "\n",
    "def covariance(A,data):\n",
    "    AT = A.T\n",
    "    ATA = np.matmul(AT,A)\n",
    "    ATAinverse = np.linalg.inv(ATA)\n",
    "    r = residual(A,data)\n",
    "    rT = r.T\n",
    "    rTr = np.matmul(rT,r)\n",
    "    s = rTr/((len(data))-len(AT)) \n",
    "    '''Originally: s = rTr/((len(data))-10). I think the 10 is weird.'''\n",
    "    s2 = s.item(0)\n",
    "    covariance = s2*ATAinverse\n",
    "    return covariance"
   ]
  },
  {
   "cell_type": "markdown",
   "id": "0ac51726",
   "metadata": {},
   "source": [
    "25MHz"
   ]
  },
  {
   "cell_type": "code",
   "execution_count": 12,
   "id": "b8272262",
   "metadata": {},
   "outputs": [],
   "source": [
    "# 2D Gaussian data fitting using UltraNest\n",
    "def Gaussian2D(A, sigx, sigy):\n",
    "    return A * np.exp(-(theta*np.pi/180*np.cos(phi*np.pi/180))**2/2/sigx**2 - (theta*np.pi/180*np.sin(phi*np.pi/180))**2/2/sigy**2) \n",
    "\n",
    "# Define model to simulate data\n",
    "def model1(paras):\n",
    "    A, sigx, sigy = paras\n",
    "    return Gaussian2D(A,sigx,sigy).T\n",
    "\n",
    "sigma = np.std(gain[0])\n",
    "param_names = ['A', 'sigx', 'sigy']\n",
    "def my_prior_transform(cube):\n",
    "    params = cube.copy()\n",
    "\n",
    "    # transform location parameter: uniform prior\n",
    "    lo = 0\n",
    "    hi = 10\n",
    "    params[0] = cube[0] * (hi - lo) + lo\n",
    "\n",
    "    lo = 0\n",
    "    hi = 2\n",
    "    params[1] = cube[1] * (hi - lo) + lo\n",
    "\n",
    "    lo = 0\n",
    "    hi = 2\n",
    "    params[1] = cube[1] * (hi - lo) + lo\n",
    "    \n",
    "    return params\n",
    "def my_likelihood(params):\n",
    "    mo = model1(params)\n",
    "    diff = mo - gain[0]\n",
    "    return -0.5 * np.sum((diff/sigma)**2)"
   ]
  },
  {
   "cell_type": "code",
   "execution_count": 13,
   "id": "8f43030f",
   "metadata": {},
   "outputs": [
    {
     "name": "stdout",
     "output_type": "stream",
     "text": [
      "[ultranest] Sampling 200 live points from prior ...\n"
     ]
    },
    {
     "data": {
      "application/vnd.jupyter.widget-view+json": {
       "model_id": "ee1f61152edb4fd395e9d73cfbac886b",
       "version_major": 2,
       "version_minor": 0
      },
      "text/plain": [
       "VBox(children=(HTML(value=''), GridspecLayout(children=(HTML(value=\"<div style='background-color:#6E6BF4;'>&nb…"
      ]
     },
     "metadata": {},
     "output_type": "display_data"
    },
    {
     "name": "stdout",
     "output_type": "stream",
     "text": [
      "[ultranest] Explored until L=-2e+02  .79 [-185.8414..-185.8412]*| it/evals=4340/8820 eff=50.3480% N=200 0  0    0 0  0  \n",
      "[ultranest] Likelihood function evaluations: 8834\n",
      "[ultranest]   logZ = -202.9 +- 0.2342\n",
      "[ultranest] Effective samples strategy satisfied (ESS = 969.1, need >400)\n",
      "[ultranest] Posterior uncertainty strategy is satisfied (KL: 0.45+-0.09 nat, need <0.50 nat)\n",
      "[ultranest] Evidency uncertainty strategy wants 198 minimum live points (dlogz from 0.18 to 0.61, need <0.5)\n",
      "[ultranest]   logZ error budget: single: 0.28 bs:0.23 tail:0.01 total:0.23 required:<0.50\n",
      "[ultranest] done iterating.\n",
      "\n",
      "logZ = -202.962 +- 0.613\n",
      "  single instance: logZ = -202.962 +- 0.279\n",
      "  bootstrapped   : logZ = -202.882 +- 0.613\n",
      "  tail           : logZ = +- 0.010\n",
      "insert order U test : converged: True correlation: inf iterations\n",
      "\n",
      "    A                   : 0.5285│ ▁▁▁▁▁▁▁▁▂▃▄▄▄▅▆▇▇▇▆▆▆▆▅▃▄▃▂▁▁▁▁▁▁▁ ▁▁ │0.5430    0.5353 +- 0.0019\n",
      "    sigx                : 0.6437│ ▁▁▁▁▁▁▁▁▁▂▂▃▃▄▆▅▆▇▇▆▇▆▅▃▃▃▂▁▁▁▁▁▁▁▁▁▁ │0.6790    0.6612 +- 0.0043\n",
      "    sigy                : 0.6844│ ▁▁▁▁▁▁▁▁▂▂▃▃▆▅▆▆▇▇▆▅▅▅▃▃▂▂▂▁▁▁▁▁  ▁ ▁ │0.7241    0.7029 +- 0.0048\n",
      "\n"
     ]
    }
   ],
   "source": [
    "sampler = ultranest.ReactiveNestedSampler(param_names, my_likelihood, my_prior_transform)\n",
    "result = sampler.run(min_num_live_points=200)\n",
    "sampler.print_results()"
   ]
  },
  {
   "cell_type": "code",
   "execution_count": 14,
   "id": "aad075d7",
   "metadata": {},
   "outputs": [],
   "source": [
    "sigma = np.sqrt(0.5353*0.6612)*180/np.pi\n",
    "A = TDH(7)"
   ]
  },
  {
   "cell_type": "code",
   "execution_count": 15,
   "id": "e6f755f3",
   "metadata": {},
   "outputs": [],
   "source": [
    "data = np.matrix(gain[0].T.flatten())\n",
    "coe = solve(A,data.T)"
   ]
  },
  {
   "cell_type": "code",
   "execution_count": 18,
   "id": "ef56140b",
   "metadata": {},
   "outputs": [
    {
     "name": "stdout",
     "output_type": "stream",
     "text": [
      "(0, matrix([[0.61847371]]))\n",
      "(1, matrix([[-2.75855895e-05]]))\n",
      "(2, matrix([[1.82601783e-06]]))\n",
      "(3, matrix([[0.03015419]]))\n",
      "(4, matrix([[-0.01061785]]))\n",
      "(5, matrix([[-1.67127223e-06]]))\n",
      "(6, matrix([[-3.88467275e-06]]))\n",
      "(7, matrix([[-2.17903305e-07]]))\n",
      "(8, matrix([[9.8159873e-08]]))\n",
      "(9, matrix([[-5.17776008e-08]]))\n",
      "(10, matrix([[-0.06975951]]))\n",
      "(11, matrix([[0.01705658]]))\n",
      "(12, matrix([[1.09807664e-06]]))\n",
      "(13, matrix([[-9.62955447e-05]]))\n",
      "(14, matrix([[-1.58604081e-08]]))\n",
      "(15, matrix([[1.25121872e-05]]))\n",
      "(16, matrix([[-4.10461458e-07]]))\n",
      "(17, matrix([[-4.39251374e-08]]))\n",
      "(18, matrix([[6.46552514e-08]]))\n",
      "(19, matrix([[-1.04359117e-10]]))\n",
      "(20, matrix([[7.06402246e-09]]))\n",
      "(21, matrix([[-0.01815894]]))\n",
      "(22, matrix([[-0.00093073]]))\n",
      "(23, matrix([[3.39663617e-07]]))\n",
      "(24, matrix([[-0.0002065]]))\n",
      "(25, matrix([[-1.74689987e-08]]))\n",
      "(26, matrix([[5.16938222e-07]]))\n",
      "(27, matrix([[1.89670646e-08]]))\n",
      "(28, matrix([[7.82785648e-06]]))\n",
      "(29, matrix([[-6.73606587e-08]]))\n",
      "(30, matrix([[-6.50339126e-08]]))\n",
      "(31, matrix([[4.29448608e-08]]))\n",
      "(32, matrix([[-1.79103567e-09]]))\n",
      "(33, matrix([[2.40160981e-09]]))\n",
      "(34, matrix([[-2.39950321e-08]]))\n",
      "(35, matrix([[-4.9745949e-09]]))\n"
     ]
    }
   ],
   "source": [
    "for i in enumerate(coe):\n",
    "    print(i)"
   ]
  },
  {
   "cell_type": "code",
   "execution_count": 20,
   "id": "1d802a24",
   "metadata": {},
   "outputs": [
    {
     "data": {
      "text/plain": [
       "matrix([[1.04359117e-10, 1.79103567e-09, 2.40160981e-09, 4.97459490e-09,\n",
       "         7.06402246e-09, 1.58604081e-08, 1.74689987e-08, 1.89670646e-08,\n",
       "         2.39950321e-08, 4.29448608e-08, 4.39251374e-08, 5.17776008e-08,\n",
       "         6.46552514e-08, 6.50339126e-08, 6.73606587e-08, 9.81598730e-08,\n",
       "         2.17903305e-07, 3.39663617e-07, 4.10461458e-07, 5.16938222e-07,\n",
       "         1.09807664e-06, 1.67127223e-06, 1.82601783e-06, 3.88467275e-06,\n",
       "         7.82785648e-06, 1.25121872e-05, 2.75855895e-05, 9.62955447e-05,\n",
       "         2.06499554e-04, 9.30725969e-04, 1.06178546e-02, 1.70565765e-02,\n",
       "         1.81589373e-02, 3.01541874e-02, 6.97595103e-02, 6.18473714e-01]])"
      ]
     },
     "execution_count": 20,
     "metadata": {},
     "output_type": "execute_result"
    }
   ],
   "source": [
    "np.sort(abs(coe),axis = None)"
   ]
  },
  {
   "cell_type": "code",
   "execution_count": 40,
   "id": "05411d4f",
   "metadata": {},
   "outputs": [],
   "source": [
    "maxind25 = []\n",
    "for i in range(7):\n",
    "    maxind25.append(np.where(abs(coe) == np.sort(abs(coe),axis = None).T[35-i])[0][0])"
   ]
  },
  {
   "cell_type": "code",
   "execution_count": 42,
   "id": "0ce12150",
   "metadata": {},
   "outputs": [],
   "source": [
    "order = ['cos00','cos10','sin10','cos01','cos20','sin20','cos11','sin11','cos30','sin30',\n",
    "        'cos02','cos21','sin21','cos40','sin40','cos12','sin12','cos31','sin31','cos50',\n",
    "        'sin50','cos03','cos22','sin22','cos41','sin41','cos60','sin60','cos13','sin13',\n",
    "        'cos32','sin32','cos51','sin51','cos70','sin70'\n",
    "        ]"
   ]
  },
  {
   "cell_type": "code",
   "execution_count": 43,
   "id": "1b50eed4",
   "metadata": {},
   "outputs": [
    {
     "name": "stdout",
     "output_type": "stream",
     "text": [
      "cos00\n",
      "cos02\n",
      "cos01\n",
      "cos03\n",
      "cos21\n",
      "cos20\n",
      "cos22\n"
     ]
    }
   ],
   "source": [
    "for i in range(7):\n",
    "    print(order[maxind25[i]])"
   ]
  },
  {
   "cell_type": "markdown",
   "id": "61e55c8b",
   "metadata": {},
   "source": [
    "125MHz"
   ]
  },
  {
   "cell_type": "code",
   "execution_count": 44,
   "id": "fa04215b",
   "metadata": {},
   "outputs": [],
   "source": [
    "# 2D Gaussian data fitting using UltraNest\n",
    "def Gaussian2D(A, sigx, sigy):\n",
    "    return A * np.exp(-(theta*np.pi/180*np.cos(phi*np.pi/180))**2/2/sigx**2 - (theta*np.pi/180*np.sin(phi*np.pi/180))**2/2/sigy**2) \n",
    "\n",
    "# Define model to simulate data\n",
    "def model1(paras):\n",
    "    A, sigx, sigy = paras\n",
    "    return Gaussian2D(A,sigx,sigy).T\n",
    "\n",
    "sigma = np.std(gain[100])\n",
    "param_names = ['A', 'sigx', 'sigy']\n",
    "def my_prior_transform(cube):\n",
    "    params = cube.copy()\n",
    "\n",
    "    # transform location parameter: uniform prior\n",
    "    lo = 0\n",
    "    hi = 10\n",
    "    params[0] = cube[0] * (hi - lo) + lo\n",
    "\n",
    "    lo = 0\n",
    "    hi = 2\n",
    "    params[1] = cube[1] * (hi - lo) + lo\n",
    "\n",
    "    lo = 0\n",
    "    hi = 2\n",
    "    params[1] = cube[1] * (hi - lo) + lo\n",
    "    \n",
    "    return params\n",
    "def my_likelihood(params):\n",
    "    mo = model1(params)\n",
    "    diff = mo - gain[100]\n",
    "    return -0.5 * np.sum((diff/sigma)**2)"
   ]
  },
  {
   "cell_type": "code",
   "execution_count": 45,
   "id": "04775183",
   "metadata": {},
   "outputs": [
    {
     "name": "stdout",
     "output_type": "stream",
     "text": [
      "[ultranest] Sampling 200 live points from prior ...\n"
     ]
    },
    {
     "data": {
      "application/vnd.jupyter.widget-view+json": {
       "model_id": "9ce1f082284a4ede9f365849350e6925",
       "version_major": 2,
       "version_minor": 0
      },
      "text/plain": [
       "VBox(children=(HTML(value=''), GridspecLayout(children=(HTML(value=\"<div style='background-color:#6E6BF4;'>&nb…"
      ]
     },
     "metadata": {},
     "output_type": "display_data"
    },
    {
     "name": "stdout",
     "output_type": "stream",
     "text": [
      "[ultranest] Explored until L=-2e+02  .29 [-177.3382..-177.3377]*| it/evals=4000/8108 eff=50.5817% N=200    0  \n",
      "[ultranest] Likelihood function evaluations: 8111\n",
      "[ultranest]   logZ = -192.7 +- 0.1858\n",
      "[ultranest] Effective samples strategy satisfied (ESS = 950.1, need >400)\n",
      "[ultranest] Posterior uncertainty strategy is satisfied (KL: 0.46+-0.09 nat, need <0.50 nat)\n",
      "[ultranest] Evidency uncertainty strategy is satisfied (dlogz=0.19, need <0.5)\n",
      "[ultranest]   logZ error budget: single: 0.26 bs:0.19 tail:0.01 total:0.19 required:<0.50\n",
      "[ultranest] done iterating.\n",
      "\n",
      "logZ = -192.717 +- 0.426\n",
      "  single instance: logZ = -192.717 +- 0.264\n",
      "  bootstrapped   : logZ = -192.736 +- 0.426\n",
      "  tail           : logZ = +- 0.010\n",
      "insert order U test : converged: True correlation: inf iterations\n",
      "\n",
      "    A                   : 5.037 │ ▁  ▁▁▁▁▁▁▁▁▂▃▄▅▆▇▆▇▇▆▅▅▅▄▃▂▂▁▁▁▁▁▁▁ ▁ │5.248     5.145 +- 0.024\n",
      "    sigx                : 0.3061│ ▁▁▁▁▁▁▁▁▂▂▃▃▃▅▆▅▅▇▇▇▆▇▅▅▄▄▂▁▂▁▁▁▁▁▁▁▁ │0.3237    0.3149 +- 0.0024\n",
      "    sigy                : 0.7940│ ▁▁▁▁▁▁▁▁▁▂▃▄▃▅▇▆▇▆▇▇▅▅▄▅▃▃▂▁▁▁▁▁▁▁▁ ▁ │0.8559    0.8241 +- 0.0079\n",
      "\n"
     ]
    }
   ],
   "source": [
    "sampler = ultranest.ReactiveNestedSampler(param_names, my_likelihood, my_prior_transform)\n",
    "result = sampler.run(min_num_live_points=200)\n",
    "sampler.print_results()"
   ]
  },
  {
   "cell_type": "code",
   "execution_count": 46,
   "id": "d08c255b",
   "metadata": {},
   "outputs": [],
   "source": [
    "sigma = np.sqrt(0.3149*0.8241)*180/np.pi\n",
    "A = TDH(7)"
   ]
  },
  {
   "cell_type": "code",
   "execution_count": 47,
   "id": "c2f42401",
   "metadata": {},
   "outputs": [],
   "source": [
    "data = np.matrix(gain[0].T.flatten())\n",
    "coe = solve(A,data.T)"
   ]
  },
  {
   "cell_type": "code",
   "execution_count": 50,
   "id": "7aa80229",
   "metadata": {},
   "outputs": [],
   "source": [
    "maxind125 = []\n",
    "for i in range(10):\n",
    "    maxind125.append(np.where(abs(coe) == np.sort(abs(coe),axis = None).T[35-i])[0][0])"
   ]
  },
  {
   "cell_type": "code",
   "execution_count": 51,
   "id": "30b57468",
   "metadata": {},
   "outputs": [
    {
     "name": "stdout",
     "output_type": "stream",
     "text": [
      "cos00\n",
      "cos01\n",
      "cos20\n",
      "cos21\n",
      "cos03\n",
      "cos22\n",
      "cos02\n",
      "cos41\n",
      "cos10\n",
      "cos11\n"
     ]
    }
   ],
   "source": [
    "for i in range(10):\n",
    "    print(order[maxind125[i]])"
   ]
  },
  {
   "cell_type": "code",
   "execution_count": 54,
   "id": "5479759a",
   "metadata": {},
   "outputs": [
    {
     "data": {
      "text/plain": [
       "[0, 3, 4, 11, 21, 22, 10, 24, 1, 6]"
      ]
     },
     "execution_count": 54,
     "metadata": {},
     "output_type": "execute_result"
    }
   ],
   "source": [
    "maxind125"
   ]
  },
  {
   "cell_type": "code",
   "execution_count": 52,
   "id": "c04c7951",
   "metadata": {},
   "outputs": [
    {
     "name": "stdout",
     "output_type": "stream",
     "text": [
      "(0, matrix([[0.69992642]]))\n",
      "(1, matrix([[-3.00483321e-05]]))\n",
      "(2, matrix([[2.11929754e-06]]))\n",
      "(3, matrix([[0.09242058]]))\n",
      "(4, matrix([[-0.01757451]]))\n",
      "(5, matrix([[-2.22693128e-06]]))\n",
      "(6, matrix([[-1.601057e-05]]))\n",
      "(7, matrix([[3.86357867e-07]]))\n",
      "(8, matrix([[1.23667456e-07]]))\n",
      "(9, matrix([[-8.04114295e-08]]))\n",
      "(10, matrix([[0.0022873]]))\n",
      "(11, matrix([[0.01492401]]))\n",
      "(12, matrix([[4.28541196e-07]]))\n",
      "(13, matrix([[-7.77028004e-06]]))\n",
      "(14, matrix([[-9.59885445e-09]]))\n",
      "(15, matrix([[1.195796e-06]]))\n",
      "(16, matrix([[-3.0808603e-07]]))\n",
      "(17, matrix([[3.80910437e-08]]))\n",
      "(18, matrix([[1.54149991e-08]]))\n",
      "(19, matrix([[3.62232213e-10]]))\n",
      "(20, matrix([[7.55243813e-09]]))\n",
      "(21, matrix([[-0.01329041]]))\n",
      "(22, matrix([[0.006672]]))\n",
      "(23, matrix([[5.17244535e-07]]))\n",
      "(24, matrix([[-0.00018223]]))\n",
      "(25, matrix([[-2.08074459e-08]]))\n",
      "(26, matrix([[3.41475558e-07]]))\n",
      "(27, matrix([[2.17383182e-08]]))\n",
      "(28, matrix([[4.85708995e-06]]))\n",
      "(29, matrix([[-1.83124781e-07]]))\n",
      "(30, matrix([[-2.88688445e-08]]))\n",
      "(31, matrix([[4.15191159e-08]]))\n",
      "(32, matrix([[-3.14177431e-09]]))\n",
      "(33, matrix([[9.28750022e-09]]))\n",
      "(34, matrix([[-2.5426054e-08]]))\n",
      "(35, matrix([[-4.71295918e-09]]))\n"
     ]
    }
   ],
   "source": [
    "for i in enumerate(coe):\n",
    "    print(i)"
   ]
  },
  {
   "cell_type": "code",
   "execution_count": 53,
   "id": "9bc64565",
   "metadata": {},
   "outputs": [
    {
     "data": {
      "text/plain": [
       "matrix([[3.62232213e-10, 3.14177431e-09, 4.71295918e-09, 7.55243813e-09,\n",
       "         9.28750022e-09, 9.59885445e-09, 1.54149991e-08, 2.08074459e-08,\n",
       "         2.17383182e-08, 2.54260540e-08, 2.88688445e-08, 3.80910437e-08,\n",
       "         4.15191159e-08, 8.04114295e-08, 1.23667456e-07, 1.83124781e-07,\n",
       "         3.08086030e-07, 3.41475558e-07, 3.86357867e-07, 4.28541196e-07,\n",
       "         5.17244535e-07, 1.19579600e-06, 2.11929754e-06, 2.22693128e-06,\n",
       "         4.85708995e-06, 7.77028004e-06, 1.60105700e-05, 3.00483321e-05,\n",
       "         1.82234951e-04, 2.28730439e-03, 6.67199816e-03, 1.32904119e-02,\n",
       "         1.49240075e-02, 1.75745076e-02, 9.24205819e-02, 6.99926423e-01]])"
      ]
     },
     "execution_count": 53,
     "metadata": {},
     "output_type": "execute_result"
    }
   ],
   "source": [
    "np.sort(abs(coe),axis = None)"
   ]
  },
  {
   "cell_type": "markdown",
   "id": "58110126",
   "metadata": {},
   "source": [
    "Doesn't match up for 125MHz at all. For 25 MHz, match up for most of them."
   ]
  },
  {
   "cell_type": "code",
   "execution_count": null,
   "id": "3f1198de",
   "metadata": {},
   "outputs": [],
   "source": []
  }
 ],
 "metadata": {
  "kernelspec": {
   "display_name": "Python 3",
   "language": "python",
   "name": "python3"
  },
  "language_info": {
   "codemirror_mode": {
    "name": "ipython",
    "version": 3
   },
   "file_extension": ".py",
   "mimetype": "text/x-python",
   "name": "python",
   "nbconvert_exporter": "python",
   "pygments_lexer": "ipython3",
   "version": "3.8.8"
  }
 },
 "nbformat": 4,
 "nbformat_minor": 5
}
