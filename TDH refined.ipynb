{
 "cells": [
  {
   "cell_type": "code",
   "execution_count": 1,
   "id": "d736c1e1",
   "metadata": {},
   "outputs": [],
   "source": [
    "import numpy as np\n",
    "import matplotlib.pyplot as plt"
   ]
  },
  {
   "cell_type": "code",
   "execution_count": 2,
   "id": "42c530d3",
   "metadata": {},
   "outputs": [],
   "source": [
    "sigma = 90\n",
    "\n",
    "def Acos(R, theta, miu, nu):\n",
    "    part1 = np.cos(miu*theta*np.pi/180)*(R/sigma)**miu\n",
    "    part2 = P(miu,nu,R**2/sigma**2)\n",
    "    part3 = np.exp(-R**2/(4*sigma**2))\n",
    "    return part1*part2*part3\n",
    "\n",
    "def Asin(R, theta, miu, nu):\n",
    "    part1 = np.sin(miu*theta*np.pi/180)*(R/sigma)**miu\n",
    "    part2 = P(miu,nu,R**2/sigma**2)\n",
    "    part3 = np.exp(-R**2/(4*sigma**2))\n",
    "    return part1*part2*part3\n",
    "\n",
    "def P(miu,nu,u):\n",
    "    returnarray = np.ones([360,91])\n",
    "    for i in range(360):\n",
    "        for j in range(91):\n",
    "            terms = []\n",
    "            p = 0\n",
    "            while p <= nu:\n",
    "                up = np.math.factorial(miu + nu)*np.math.factorial(nu)\n",
    "                down = np.math.factorial(miu + p)*np.math.factorial(p)*np.math.factorial(nu-p)\n",
    "                term = (-2)**(nu-p)* up/down * u[i][j]**p\n",
    "                terms.append(term)\n",
    "                p += 1\n",
    "            returnarray[i][j] = np.sum(terms)\n",
    "    return returnarray"
   ]
  },
  {
   "cell_type": "code",
   "execution_count": 3,
   "id": "6fb8d554",
   "metadata": {},
   "outputs": [],
   "source": [
    "#Normalization\n",
    "def normalize(array):\n",
    "    q = 0\n",
    "    theta = 0\n",
    "    while theta <= 90:\n",
    "        for i in range(360):\n",
    "            q += (array[theta*360 + i])**2 * (np.pi/180)**2 * np.sin(theta*np.pi/180)\n",
    "        theta += 1\n",
    "    return array/q"
   ]
  },
  {
   "cell_type": "code",
   "execution_count": 4,
   "id": "85c0cf3b",
   "metadata": {},
   "outputs": [],
   "source": [
    "theta = np.linspace(0, 90, 91)\n",
    "phi = np.linspace(0, 359, 360)\n",
    "xx, yy = np.meshgrid(theta, phi)"
   ]
  },
  {
   "cell_type": "code",
   "execution_count": 5,
   "id": "c5ba29ba",
   "metadata": {},
   "outputs": [
    {
     "data": {
      "text/plain": [
       "(360, 91)"
      ]
     },
     "execution_count": 5,
     "metadata": {},
     "output_type": "execute_result"
    }
   ],
   "source": [
    "xx.shape"
   ]
  },
  {
   "cell_type": "code",
   "execution_count": 304,
   "id": "08f675f7",
   "metadata": {},
   "outputs": [],
   "source": [
    "def TDH(rank):\n",
    "    \"\"\"return matrix A = [f1, f2, f3, ...] for rank 0 to rank TDH functions\"\"\"\n",
    "    zz00c = Acos(xx, yy, 0, 0)\n",
    "    zz00c2d = zz00c.flatten()\n",
    "    array = normalize(zz00c2d)\n",
    "    r = 1\n",
    "    while r <= rank:\n",
    "        m = 0\n",
    "        while m <= r:\n",
    "            if (r - m)%2 == 0:\n",
    "                n = (r - m)/2\n",
    "                if m == 0:\n",
    "                    cosine = Acos(xx,yy,m,n).T\n",
    "                    cosine2d = cosine.flatten()\n",
    "                    ncos = normalize(cosine2d)\n",
    "                    array = np.vstack((array, ncos))\n",
    "                    m += 2\n",
    "                else:\n",
    "                    cosine = Acos(xx,yy,m,n).T\n",
    "                    cosine2d = cosine.flatten()\n",
    "                    ncos = normalize(cosine2d)\n",
    "                    sine = Asin(xx,yy,m,n).T\n",
    "                    sine2d = sine.flatten()\n",
    "                    nsin = normalize(sine2d)\n",
    "                    array = np.vstack((array, ncos))\n",
    "                    array = np.vstack((array, nsin))\n",
    "                    m += 2\n",
    "            else:\n",
    "                m += 1\n",
    "        r += 1\n",
    "    matrix = np.matrix(array).T\n",
    "    return matrix"
   ]
  },
  {
   "cell_type": "code",
   "execution_count": 305,
   "id": "525fd204",
   "metadata": {},
   "outputs": [],
   "source": [
    "def model(rank, coe):\n",
    "    A = TDH(rank)\n",
    "    a = np.matrix(coe).T\n",
    "    return np.matmul(A,a)"
   ]
  },
  {
   "cell_type": "code",
   "execution_count": 306,
   "id": "5849627c",
   "metadata": {},
   "outputs": [],
   "source": [
    "def simulation(coe, sigma):\n",
    "    rank = 0\n",
    "    count = 1\n",
    "    length = len(coe)\n",
    "    while length > count:\n",
    "        rank += 1\n",
    "        count += rank + 1\n",
    "    mo = model(rank,coe)\n",
    "    noise = np.random.default_rng().normal(0.0, sigma*np.max(mo),360*91)\n",
    "    noi = np.matrix(noise).T\n",
    "    data = mo + noi\n",
    "    return data"
   ]
  },
  {
   "cell_type": "code",
   "execution_count": 307,
   "id": "715776fb",
   "metadata": {},
   "outputs": [],
   "source": [
    "def solve(A, data):\n",
    "    AT = A.T\n",
    "    ATA = np.matmul(AT,A)\n",
    "    ATAinverse = np.linalg.inv(ATA)\n",
    "    half = np.matmul(ATAinverse,AT)\n",
    "    x = np.matmul(half,data)\n",
    "    return x"
   ]
  },
  {
   "cell_type": "code",
   "execution_count": 308,
   "id": "c5e964b3",
   "metadata": {},
   "outputs": [],
   "source": [
    "def residual(A,data):\n",
    "    x = solve(A, data)\n",
    "    AT = A.T\n",
    "    fittingmodel = np.matmul(A, x)\n",
    "    r = fittingmodel - data\n",
    "    return r"
   ]
  },
  {
   "cell_type": "code",
   "execution_count": 6,
   "id": "0617d452",
   "metadata": {},
   "outputs": [],
   "source": [
    "def residual2D(A,data):\n",
    "    x = solve(A, data)\n",
    "    AT = A.T\n",
    "    fittingmodel = np.matmul(A, x)\n",
    "    r = fittingmodel - data\n",
    "    r2D = r.reshape(360,91)\n",
    "    return r2D"
   ]
  },
  {
   "cell_type": "code",
   "execution_count": 309,
   "id": "27ef2220",
   "metadata": {},
   "outputs": [],
   "source": [
    "def covariance(A,data):\n",
    "    AT = A.T\n",
    "    ATA = np.matmul(AT,A)\n",
    "    ATAinverse = np.linalg.inv(ATA)\n",
    "    r = residual(A,data)\n",
    "    rT = r.T\n",
    "    rTr = np.matmul(rT,r)\n",
    "    s = rTr/((len(data))-10)\n",
    "    s2 = s.item(0)\n",
    "    covariance = s2*ATAinverse\n",
    "    return covariance"
   ]
  },
  {
   "cell_type": "code",
   "execution_count": 310,
   "id": "ebb2e8c2",
   "metadata": {},
   "outputs": [],
   "source": [
    "data = simulation(np.array([2,-3,1,4,2,6,3,1,-2,0]),0.1)"
   ]
  },
  {
   "cell_type": "code",
   "execution_count": 311,
   "id": "ea27fe33",
   "metadata": {},
   "outputs": [
    {
     "data": {
      "text/plain": [
       "[<matplotlib.lines.Line2D at 0x7f8248b72700>]"
      ]
     },
     "execution_count": 311,
     "metadata": {},
     "output_type": "execute_result"
    },
    {
     "data": {
      "image/png": "[encoded data removed]",
      "text/plain": [
       "<Figure size 432x288 with 1 Axes>"
      ]
     },
     "metadata": {
      "needs_background": "light"
     },
     "output_type": "display_data"
    }
   ],
   "source": [
    "plt.plot(data)"
   ]
  },
  {
   "cell_type": "code",
   "execution_count": 312,
   "id": "7f2d23df",
   "metadata": {},
   "outputs": [],
   "source": [
    "A = TDH(3)"
   ]
  },
  {
   "cell_type": "code",
   "execution_count": 317,
   "id": "07d71faa",
   "metadata": {},
   "outputs": [],
   "source": [
    "a = solve(A, data)"
   ]
  },
  {
   "cell_type": "code",
   "execution_count": 314,
   "id": "88850147",
   "metadata": {},
   "outputs": [],
   "source": [
    "cova = covariance(A,data)"
   ]
  },
  {
   "cell_type": "code",
   "execution_count": 315,
   "id": "f13b388b",
   "metadata": {},
   "outputs": [
    {
     "data": {
      "text/plain": [
       "<matplotlib.colorbar.Colorbar at 0x7f819c0a5640>"
      ]
     },
     "execution_count": 315,
     "metadata": {},
     "output_type": "execute_result"
    },
    {
     "data": {
      "image/png": "[encoded data removed]",
      "text/plain": [
       "<Figure size 432x288 with 2 Axes>"
      ]
     },
     "metadata": {
      "needs_background": "light"
     },
     "output_type": "display_data"
    }
   ],
   "source": [
    "plt.imshow(cova)\n",
    "plt.colorbar()"
   ]
  },
  {
   "cell_type": "code",
   "execution_count": 316,
   "id": "ecb98bbf",
   "metadata": {},
   "outputs": [
    {
     "data": {
      "text/plain": [
       "[<matplotlib.lines.Line2D at 0x7f819c963ee0>]"
      ]
     },
     "execution_count": 316,
     "metadata": {},
     "output_type": "execute_result"
    },
    {
     "data": {
      "image/png": "[encoded data removed]",
      "text/plain": [
       "<Figure size 432x288 with 1 Axes>"
      ]
     },
     "metadata": {
      "needs_background": "light"
     },
     "output_type": "display_data"
    }
   ],
   "source": [
    "res = residual(A,data)\n",
    "plt.plot(res)"
   ]
  },
  {
   "cell_type": "code",
   "execution_count": 327,
   "id": "84bdc4da",
   "metadata": {},
   "outputs": [
    {
     "data": {
      "text/plain": [
       "array([0, 1, 2, 3, 4, 5, 6, 7, 8, 9])"
      ]
     },
     "execution_count": 327,
     "metadata": {},
     "output_type": "execute_result"
    }
   ],
   "source": [
    "alim = np.arange(10)\n",
    "error = np.sqrt(np.diag(cova))"
   ]
  },
  {
   "cell_type": "code",
   "execution_count": 330,
   "id": "cc889cb4",
   "metadata": {},
   "outputs": [
    {
     "data": {
      "text/plain": [
       "<ErrorbarContainer object of 3 artists>"
      ]
     },
     "execution_count": 330,
     "metadata": {},
     "output_type": "execute_result"
    },
    {
     "data": {
      "image/png": "[encoded data removed]",
      "text/plain": [
       "<Figure size 432x288 with 1 Axes>"
      ]
     },
     "metadata": {
      "needs_background": "light"
     },
     "output_type": "display_data"
    }
   ],
   "source": [
    "plt.plot(alim,a, \"o\")\n",
    "plt.errorbar(alim, a, yerr = error, fmt = \"o\")"
   ]
  },
  {
   "cell_type": "code",
   "execution_count": 289,
   "id": "64f633de",
   "metadata": {},
   "outputs": [],
   "source": [
    "zz00c = Acos(xx, yy, 0, 0)\n",
    "zz00c2d = zz00c.flatten()\n",
    "array = normalize(zz00c2d)"
   ]
  },
  {
   "cell_type": "code",
   "execution_count": 293,
   "id": "c2cfcb2e",
   "metadata": {},
   "outputs": [
    {
     "name": "stderr",
     "output_type": "stream",
     "text": [
      "<ipython-input-293-8348fe53cad6>:2: MatplotlibDeprecationWarning: shading='flat' when X and Y have the same dimensions as C is deprecated since 3.3.  Either specify the corners of the quadrilaterals with X and Y, or pass shading='auto', 'nearest' or 'gouraud', or set rcParams['pcolor.shading'].  This will become an error two minor releases later.\n",
      "  axs.pcolormesh(yy*np.pi/180,xx,array.reshape([360,91]),cmap='coolwarm', label = \"model\")\n"
     ]
    },
    {
     "data": {
      "text/plain": [
       "<matplotlib.collections.QuadMesh at 0x7f823982eeb0>"
      ]
     },
     "execution_count": 293,
     "metadata": {},
     "output_type": "execute_result"
    },
    {
     "data": {
      "image/png": "[encoded data removed]",
      "text/plain": [
       "<Figure size 432x288 with 1 Axes>"
      ]
     },
     "metadata": {
      "needs_background": "light"
     },
     "output_type": "display_data"
    }
   ],
   "source": [
    "fig, axs = plt.subplots(1, 1, subplot_kw=dict(projection=\"polar\"))\n",
    "axs.pcolormesh(yy*np.pi/180,xx,array.reshape([360,91]),cmap='coolwarm', label = \"model\")"
   ]
  },
  {
   "cell_type": "code",
   "execution_count": null,
   "id": "35cec66e",
   "metadata": {},
   "outputs": [],
   "source": []
  }
 ],
 "metadata": {
  "kernelspec": {
   "display_name": "Python 3",
   "language": "python",
   "name": "python3"
  },
  "language_info": {
   "codemirror_mode": {
    "name": "ipython",
    "version": 3
   },
   "file_extension": ".py",
   "mimetype": "text/x-python",
   "name": "python",
   "nbconvert_exporter": "python",
   "pygments_lexer": "ipython3",
   "version": "3.8.8"
  }
 },
 "nbformat": 4,
 "nbformat_minor": 5
}
