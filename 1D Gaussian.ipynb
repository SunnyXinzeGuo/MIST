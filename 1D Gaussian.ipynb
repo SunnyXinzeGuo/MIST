{
 "cells": [
  {
   "cell_type": "code",
   "execution_count": 1,
   "id": "545ae45f",
   "metadata": {},
   "outputs": [],
   "source": [
    "#!/usr/bin/env python3\n",
    "# -*- coding: utf-8 -*-\n",
    "\"\"\"\n",
    "Created on Thu Apr  7 07:12:25 2022\n",
    "\n",
    "@author: sunnyguo\n",
    "\"\"\"\n",
    "\n",
    "import numpy as np\n",
    "\n",
    "def bc_generator(para):\n",
    "    #initial parameters: A, x0, sigx, longitude, latitudem frequency \n",
    "    #azimuth is longtitude; elevation is latitude\n",
    "    azimuth = np.array(range(0,360))\n",
    "    elevation = np.array(range(-90,91))\n",
    "    freq = np.array(range(50,101))\n",
    "    A, sigy = para[0]*(freq/75), para[1]\n",
    "    y0 = 90\n",
    "\n",
    "    elev = np.exp(-((elevation-y0)**2/(2*(sigy**2))))\n",
    "    surface = np.tile(elev, (360,1)).T\n",
    "    cube = np.tile(surface, (51,1,1))\n",
    "    A_ = np.tile(A, (360,181,1))\n",
    "    A_=A_.T\n",
    "    cube = cube*A_\n",
    "    return cube\n",
    "\n",
    "def bc_flat(bc):\n",
    "    return np.ndarray.flatten(bc)\n",
    "\n",
    "def new_pg_collector(A,sigy):\n",
    "    #parameters are in the form (A,sigx,sigy)\n",
    "    Anew = np.repeat(A,len(sigy))\n",
    "    sigynew = np.tile(sigy, len(A))\n",
    "    parameters = np.column_stack((Anew,sigynew))\n",
    "    freq = np.array(range(50,101))\n",
    "    frequency = np.repeat(freq,65160)\n",
    "    ele = np.array(range(-90,91))\n",
    "    elev = np.repeat(ele,360)\n",
    "    elevation = np.tile(elev,51)\n",
    "    azi = np.array(range(0,360))\n",
    "    azimuth = np.tile(azi, 9231)\n",
    "    coordinates = np.column_stack((frequency,elevation,azimuth))\n",
    "    for i in range(len(parameters)):\n",
    "        beamcube = bc_generator(parameters[i])\n",
    "        beamcube1D = bc_flat(beamcube)\n",
    "        if i == 0:\n",
    "            gains = beamcube1D\n",
    "        else:\n",
    "            gains = np.column_stack((gains, beamcube1D))\n",
    "    return parameters, gains, coordinates\n",
    "\n",
    "\n",
    "#_____________________________________________________________________________\n",
    "\n",
    "def vec2mat_nd(vec,dims,ind):\n",
    "    ndim=len(dims)\n",
    "    while ind<0:\n",
    "        ind+=ndim\n",
    "\n",
    "    mat=np.empty(dims)-1\n",
    "    if ind==0:\n",
    "        left=''\n",
    "    else:\n",
    "        left=':,'*(ind)    \n",
    "    if ind==ndim-1:\n",
    "        right=''\n",
    "    else:\n",
    "        right=',:'*(ndim-ind-1)\n",
    "    for i in range(len(vec)):\n",
    "        myslice=left+repr(i)+right\n",
    "        to_exec='mat['+myslice+']=vec['+repr(i)+']'\n",
    "        exec(to_exec)\n",
    "    return mat\n",
    "\n",
    "def grid2mat(x):\n",
    "    ndim=len(x)\n",
    "    dims=[None]*ndim\n",
    "    for i in range(ndim):\n",
    "        dims[i]=len(x[i])\n",
    "    n=np.product(dims)\n",
    "    mat=np.zeros([n,ndim])\n",
    "    for i in range(ndim):\n",
    "        mat[:,i]=np.ravel(vec2mat_nd(x[i],dims,i))\n",
    "    return mat\n",
    "\n",
    "def make_A(x,ord):\n",
    "    #print(x.shape)\n",
    "    n=x.shape[0]\n",
    "    # print('ord is ',ord)\n",
    "    ord=np.asarray(ord,dtype='int')\n",
    "    m=np.prod(ord+1)\n",
    "    \n",
    "    ndim=x.shape[1]\n",
    "    A=np.ones([n,m])\n",
    "    for i in range(m):\n",
    "        mypows=np.unravel_index(i,ord+1)\n",
    "        for j in range(ndim):\n",
    "            A[:,i]=A[:,i]*x[:,j]**mypows[j]\n",
    "    return A\n",
    "\n",
    "def polyfitnd(x,y,ord):\n",
    "\n",
    "    A=make_A(x,ord)\n",
    "    lhs=A.T@A\n",
    "    rhs=A.T@y\n",
    "    fitp=np.linalg.inv(lhs)@rhs\n",
    "    return fitp\n",
    "\n",
    "def polyfitnd_grid(x,y,ord=None):\n",
    "\n",
    "    if ord is None:\n",
    "        #ndim=len(x)\n",
    "        #dims=[None]*ndim\n",
    "        #for i in range(ndim):\n",
    "        #    ord[i]=len(x[i])-1\n",
    "        ord=[len(z)-1 for z in x]\n",
    "        print(ord)\n",
    "    xx=grid2mat(x)\n",
    "    return polyfitnd(xx,y,ord)\n",
    "\n",
    "    dims=y.shape\n",
    "    ndim=len(dims)\n",
    "    assert(len(x)==ndim)\n",
    "    for i in range(ndim):\n",
    "        assert(len(x[i])==dims[i])\n",
    "    #assert(len(y.shape)==ndim)\n",
    "    #assert(np.sum(np.abs(dims-y.shape))==0)  #fails if x and y are different dimensions\n",
    "             \n",
    "    if ord is None:\n",
    "        ord=dims\n",
    "    if isinstance(ord,int):\n",
    "        ord=np.asarray(np.ones(ndim)*ord,dtype='int')\n",
    "    assert(len(ord)==ndim)\n",
    "    print(ord)\n",
    "\n",
    "    vecs=[None]*ndim\n",
    "    for i in range(ndim):\n",
    "        vecs[i]=vec2mat_nd(x[i],dims,i)\n",
    "\n",
    "    return vecs\n",
    "                          \n",
    "def interp_weights(x,targ,ord):\n",
    "    xx=np.vstack([x,targ])\n",
    "    # print('xx shape is ',xx.shape)\n",
    "    allA=make_A(xx,ord)\n",
    "    # print('allA shape is ',allA.shape)\n",
    "    A=allA[:-1,:]\n",
    "    vec=allA[-1,:]\n",
    "    lhs=A.T@A\n",
    "    wts=vec@(np.linalg.inv(lhs)@(A.T))\n",
    "    return wts\n",
    "\n",
    "def interp_weights_grid(x,targ,ord=None):\n",
    "    if ord is None:\n",
    "        ord=[len(y)-1 for y in x]\n",
    "    xx=grid2mat(x)\n",
    "    wts=interp_weights(xx,targ,ord)\n",
    "    return np.reshape(wts,np.asarray(ord,dtype='int')+1)\n",
    "#return interp_weights(xx,targ,ord)\n",
    "\n",
    "#---------------------------------------------------------------------------\n",
    "def abm_interpolator(parameters, gains, interpolation_parameters, poly):\n",
    "    \n",
    "    # This function interpolates new beam models. As with pg_collector,\n",
    "    # see the README for more detailed information on its use, or to my report\n",
    "    # listed at the top. The current version (Version 3.0) does not rely upon the SVD method\n",
    "    # as detailed in the report, but rather on polynd as written above by\n",
    "    # Prof. Jon Sievers. This version simply calls the functions that he \n",
    "    # has written in polynd. The arguments of abm_interpolator are the same\n",
    "    # as in the report, with addition of a new argument, \"poly\", described here:\n",
    "        \n",
    "    # New argument: poly - a 1xD list containing the order of the polynomial\n",
    "    # used for interpolation for each dimension/parameter. Note that D follows\n",
    "    # that reference in the report listed at the top of the script.\n",
    "    \n",
    "    # Ex) If I have D = 3 (i.e. I have three distinct parameters, as in blade \n",
    "    # length, blade separation, and soil conductivity) and I want a linear \n",
    "    # interpolation, poly = [1,1,1]. If instead I wanted a second-order \n",
    "    # polynomial in each parameter, I would set poly = [2,2,2].\n",
    "    \n",
    "    #-----------------------------------------------------------------------    \n",
    "    # Version 3.0\n",
    "    \n",
    "    # This is the current version. It relies upon polynd as written by\n",
    "    # Prof. Jon Sievers above.\n",
    "    \n",
    "    wts = interp_weights(parameters, interpolation_parameters, poly)\n",
    "    interpolated_gains = gains @ wts\n",
    "    \n",
    "    return interpolated_gains\n",
    "\n",
    "def read_n_interp(A, sigy, all_interpolation_parameters, poly):\n",
    "    \n",
    "    # This function calls both pg_collector and abm_interpolator at the \n",
    "    # same time. \"all_interpolation_parameters\" is a 2D array of parameters, \n",
    "    # each row being a different set of parameters you'd like to interpolate.\n",
    "        \n",
    "    parameters, gains, coordinates = new_pg_collector(A,sigy)\n",
    "    \n",
    "    # all_interpolated_gains is an array whose rows will be filled with the\n",
    "    # interpolated gains corresponding to each row in all_interpolation_parameters. \n",
    "    # It has shape ((all_interpolation_parameters[0], len(gains))\n",
    "    \n",
    "    all_interpolated_gains = np.zeros((all_interpolation_parameters.shape[0], len(gains)))\n",
    "    \n",
    "    # for i in range(all_interpolation_parameters.shape[0]):\n",
    "    #     all_interpolated_gains[i] = abm_interpolator(parameters, gains, all_interpolation_parameters[i], poly)\n",
    "        \n",
    "    for i in range(all_interpolation_parameters.shape[0]):\n",
    "        wts = interp_weights(parameters, all_interpolation_parameters[i], poly)\n",
    "        all_interpolated_gains[i] = gains @ wts\n",
    "        \n",
    "    return parameters, gains, coordinates, all_interpolated_gains"
   ]
  },
  {
   "cell_type": "code",
   "execution_count": 2,
   "id": "96cb9a23",
   "metadata": {},
   "outputs": [],
   "source": [
    "A = np.array([8,9,10])\n",
    "sigy = np.array([35,45,55])\n",
    "freq = np.array(range(50,101))\n",
    "newpar = np.array([[9.5,40]])\n",
    "elevation = np.array(range(-90,91))\n",
    "poly11 = np.array([1,1])\n",
    "poly12 = np.array([1,2])\n",
    "poly21 = np.array([2,1])\n",
    "poly22 = np.array([2,2])\n",
    "poly33 = np.array([3,3])\n",
    "poly13 = np.array([1,3])\n",
    "poly23 = np.array([2,3])\n",
    "poly31 = np.array([3,1])\n",
    "poly32 = np.array([3,2])"
   ]
  },
  {
   "cell_type": "code",
   "execution_count": 3,
   "id": "ce4a12dd",
   "metadata": {},
   "outputs": [],
   "source": [
    "paras, gains, coords, bg11 = read_n_interp(A, sigy, newpar, poly11)\n",
    "paras, gains, coords, bg12 = read_n_interp(A, sigy, newpar, poly12)\n",
    "paras, gains, coords, bg21 = read_n_interp(A, sigy, newpar, poly21)\n",
    "paras, gains, coords, bg22 = read_n_interp(A, sigy, newpar, poly22)\n",
    "paras, gains, coords, bg33 = read_n_interp(A, sigy, newpar, poly33)\n",
    "paras, gains, coords, bg13 = read_n_interp(A, sigy, newpar, poly13)\n",
    "paras, gains, coords, bg23 = read_n_interp(A, sigy, newpar, poly23)\n",
    "paras, gains, coords, bg31 = read_n_interp(A, sigy, newpar, poly31)\n",
    "paras, gains, coords, bg32 = read_n_interp(A, sigy, newpar, poly32)\n",
    "reference_cube= bc_generator(newpar[0])"
   ]
  },
  {
   "cell_type": "code",
   "execution_count": 4,
   "id": "a82a4da7",
   "metadata": {},
   "outputs": [],
   "source": [
    "def table_cube(table):\n",
    "    bc = np.reshape(table, (51,181,360))\n",
    "    return bc"
   ]
  },
  {
   "cell_type": "code",
   "execution_count": 5,
   "id": "052cb407",
   "metadata": {},
   "outputs": [],
   "source": [
    "bc11 = table_cube(bg11[0])\n",
    "bc12 = table_cube(bg12[0])\n",
    "bc21 = table_cube(bg21[0])\n",
    "bc22 = table_cube(bg22[0])\n",
    "bc33 = table_cube(bg33[0])\n",
    "bc13 = table_cube(bg13[0])\n",
    "bc23 = table_cube(bg23[0])\n",
    "bc31 = table_cube(bg31[0])\n",
    "bc32 = table_cube(bg32[0])"
   ]
  },
  {
   "cell_type": "code",
   "execution_count": 6,
   "id": "6ee44598",
   "metadata": {},
   "outputs": [
    {
     "data": {
      "text/plain": [
       "<matplotlib.image.AxesImage at 0x7fbe6a685730>"
      ]
     },
     "execution_count": 6,
     "metadata": {},
     "output_type": "execute_result"
    },
    {
     "data": {
      "image/png": "[encoded data removed]",
      "text/plain": [
       "<Figure size 432x288 with 1 Axes>"
      ]
     },
     "metadata": {
      "needs_background": "light"
     },
     "output_type": "display_data"
    }
   ],
   "source": [
    "import matplotlib.pyplot as plt\n",
    "from matplotlib import colors\n",
    "plt.imshow(bc11[0])"
   ]
  },
  {
   "cell_type": "code",
   "execution_count": 7,
   "id": "947aa936",
   "metadata": {},
   "outputs": [],
   "source": [
    "def percentage(x,y):\n",
    "    return 100*abs(x-y)/y"
   ]
  },
  {
   "cell_type": "code",
   "execution_count": 8,
   "id": "e6f4a51e",
   "metadata": {},
   "outputs": [
    {
     "data": {
      "text/plain": [
       "array([0.00025375, 0.00025375, 0.00025375, 0.00025375, 0.00025375,\n",
       "       0.00025375, 0.00025375, 0.00025375, 0.00025375, 0.00025375,\n",
       "       0.00025375, 0.00025375, 0.00025375, 0.00025375, 0.00025375,\n",
       "       0.00025375, 0.00025375, 0.00025375, 0.00025375, 0.00025375,\n",
       "       0.00025375, 0.00025375, 0.00025375, 0.00025375, 0.00025375,\n",
       "       0.00025375, 0.00025375, 0.00025375, 0.00025375, 0.00025375,\n",
       "       0.00025375, 0.00025375, 0.00025375, 0.00025375, 0.00025375,\n",
       "       0.00025375, 0.00025375, 0.00025375, 0.00025375, 0.00025375,\n",
       "       0.00025375, 0.00025375, 0.00025375, 0.00025375, 0.00025375,\n",
       "       0.00025375, 0.00025375, 0.00025375, 0.00025375, 0.00025375,\n",
       "       0.00025375, 0.00025375, 0.00025375, 0.00025375, 0.00025375,\n",
       "       0.00025375, 0.00025375, 0.00025375, 0.00025375, 0.00025375,\n",
       "       0.00025375, 0.00025375, 0.00025375, 0.00025375, 0.00025375,\n",
       "       0.00025375, 0.00025375, 0.00025375, 0.00025375, 0.00025375,\n",
       "       0.00025375, 0.00025375, 0.00025375, 0.00025375, 0.00025375,\n",
       "       0.00025375, 0.00025375, 0.00025375, 0.00025375, 0.00025375,\n",
       "       0.00025375, 0.00025375, 0.00025375, 0.00025375, 0.00025375,\n",
       "       0.00025375, 0.00025375, 0.00025375, 0.00025375, 0.00025375,\n",
       "       0.00025375, 0.00025375, 0.00025375, 0.00025375, 0.00025375,\n",
       "       0.00025375, 0.00025375, 0.00025375, 0.00025375, 0.00025375,\n",
       "       0.00025375, 0.00025375, 0.00025375, 0.00025375, 0.00025375,\n",
       "       0.00025375, 0.00025375, 0.00025375, 0.00025375, 0.00025375,\n",
       "       0.00025375, 0.00025375, 0.00025375, 0.00025375, 0.00025375,\n",
       "       0.00025375, 0.00025375, 0.00025375, 0.00025375, 0.00025375,\n",
       "       0.00025375, 0.00025375, 0.00025375, 0.00025375, 0.00025375,\n",
       "       0.00025375, 0.00025375, 0.00025375, 0.00025375, 0.00025375,\n",
       "       0.00025375, 0.00025375, 0.00025375, 0.00025375, 0.00025375,\n",
       "       0.00025375, 0.00025375, 0.00025375, 0.00025375, 0.00025375,\n",
       "       0.00025375, 0.00025375, 0.00025375, 0.00025375, 0.00025375,\n",
       "       0.00025375, 0.00025375, 0.00025375, 0.00025375, 0.00025375,\n",
       "       0.00025375, 0.00025375, 0.00025375, 0.00025375, 0.00025375,\n",
       "       0.00025375, 0.00025375, 0.00025375, 0.00025375, 0.00025375,\n",
       "       0.00025375, 0.00025375, 0.00025375, 0.00025375, 0.00025375,\n",
       "       0.00025375, 0.00025375, 0.00025375, 0.00025375, 0.00025375,\n",
       "       0.00025375, 0.00025375, 0.00025375, 0.00025375, 0.00025375,\n",
       "       0.00025375, 0.00025375, 0.00025375, 0.00025375, 0.00025375,\n",
       "       0.00025375, 0.00025375, 0.00025375, 0.00025375, 0.00025375,\n",
       "       0.00025375, 0.00025375, 0.00025375, 0.00025375, 0.00025375,\n",
       "       0.00025375, 0.00025375, 0.00025375, 0.00025375, 0.00025375,\n",
       "       0.00025375, 0.00025375, 0.00025375, 0.00025375, 0.00025375,\n",
       "       0.00025375, 0.00025375, 0.00025375, 0.00025375, 0.00025375,\n",
       "       0.00025375, 0.00025375, 0.00025375, 0.00025375, 0.00025375,\n",
       "       0.00025375, 0.00025375, 0.00025375, 0.00025375, 0.00025375,\n",
       "       0.00025375, 0.00025375, 0.00025375, 0.00025375, 0.00025375,\n",
       "       0.00025375, 0.00025375, 0.00025375, 0.00025375, 0.00025375,\n",
       "       0.00025375, 0.00025375, 0.00025375, 0.00025375, 0.00025375,\n",
       "       0.00025375, 0.00025375, 0.00025375, 0.00025375, 0.00025375,\n",
       "       0.00025375, 0.00025375, 0.00025375, 0.00025375, 0.00025375,\n",
       "       0.00025375, 0.00025375, 0.00025375, 0.00025375, 0.00025375,\n",
       "       0.00025375, 0.00025375, 0.00025375, 0.00025375, 0.00025375,\n",
       "       0.00025375, 0.00025375, 0.00025375, 0.00025375, 0.00025375,\n",
       "       0.00025375, 0.00025375, 0.00025375, 0.00025375, 0.00025375,\n",
       "       0.00025375, 0.00025375, 0.00025375, 0.00025375, 0.00025375,\n",
       "       0.00025375, 0.00025375, 0.00025375, 0.00025375, 0.00025375,\n",
       "       0.00025375, 0.00025375, 0.00025375, 0.00025375, 0.00025375,\n",
       "       0.00025375, 0.00025375, 0.00025375, 0.00025375, 0.00025375,\n",
       "       0.00025375, 0.00025375, 0.00025375, 0.00025375, 0.00025375,\n",
       "       0.00025375, 0.00025375, 0.00025375, 0.00025375, 0.00025375,\n",
       "       0.00025375, 0.00025375, 0.00025375, 0.00025375, 0.00025375,\n",
       "       0.00025375, 0.00025375, 0.00025375, 0.00025375, 0.00025375,\n",
       "       0.00025375, 0.00025375, 0.00025375, 0.00025375, 0.00025375,\n",
       "       0.00025375, 0.00025375, 0.00025375, 0.00025375, 0.00025375,\n",
       "       0.00025375, 0.00025375, 0.00025375, 0.00025375, 0.00025375,\n",
       "       0.00025375, 0.00025375, 0.00025375, 0.00025375, 0.00025375,\n",
       "       0.00025375, 0.00025375, 0.00025375, 0.00025375, 0.00025375,\n",
       "       0.00025375, 0.00025375, 0.00025375, 0.00025375, 0.00025375,\n",
       "       0.00025375, 0.00025375, 0.00025375, 0.00025375, 0.00025375,\n",
       "       0.00025375, 0.00025375, 0.00025375, 0.00025375, 0.00025375,\n",
       "       0.00025375, 0.00025375, 0.00025375, 0.00025375, 0.00025375,\n",
       "       0.00025375, 0.00025375, 0.00025375, 0.00025375, 0.00025375,\n",
       "       0.00025375, 0.00025375, 0.00025375, 0.00025375, 0.00025375,\n",
       "       0.00025375, 0.00025375, 0.00025375, 0.00025375, 0.00025375])"
      ]
     },
     "execution_count": 8,
     "metadata": {},
     "output_type": "execute_result"
    }
   ],
   "source": [
    "reference_cube[0][0]"
   ]
  },
  {
   "cell_type": "code",
   "execution_count": 9,
   "id": "64807845",
   "metadata": {},
   "outputs": [],
   "source": [
    "dbc11 = percentage(bc11, reference_cube)\n",
    "dbc12 = percentage(bc12, reference_cube)\n",
    "dbc21 = percentage(bc21, reference_cube)\n",
    "dbc22 = percentage(bc22, reference_cube)\n",
    "dbc33 = percentage(bc33, reference_cube)\n",
    "dbc13 = percentage(bc13, reference_cube)\n",
    "dbc23 = percentage(bc23, reference_cube)\n",
    "dbc31 = percentage(bc31, reference_cube)\n",
    "dbc32 = percentage(bc32, reference_cube)"
   ]
  },
  {
   "cell_type": "code",
   "execution_count": 10,
   "id": "8846aca2",
   "metadata": {},
   "outputs": [],
   "source": [
    "wdbc11 = abs(bc11-reference_cube)\n",
    "wdbc12 = abs(bc12-reference_cube)\n",
    "wdbc21 = abs(bc21-reference_cube)\n",
    "wdbc22 = abs(bc22-reference_cube)\n",
    "wdbc33 = abs(bc33-reference_cube)\n",
    "wdbc13 = abs(bc13-reference_cube)\n",
    "wdbc23 = abs(bc23-reference_cube)\n",
    "wdbc31 = abs(bc31-reference_cube)\n",
    "wdbc32 = abs(bc32-reference_cube)"
   ]
  },
  {
   "cell_type": "code",
   "execution_count": 11,
   "id": "662c2277",
   "metadata": {},
   "outputs": [],
   "source": [
    "def max_dif(cube):\n",
    "    lst = []\n",
    "    for i in range(51):\n",
    "        lst.append(np.max(cube[i]))\n",
    "    return lst"
   ]
  },
  {
   "cell_type": "code",
   "execution_count": 12,
   "id": "26855fb9",
   "metadata": {},
   "outputs": [],
   "source": [
    "def mean_map(cube):\n",
    "    lst = []\n",
    "    for i in range(51):\n",
    "        lst.append(np.mean(cube[i]))\n",
    "    return lst"
   ]
  },
  {
   "cell_type": "code",
   "execution_count": 13,
   "id": "da232802",
   "metadata": {},
   "outputs": [],
   "source": [
    "def med_map(cube):\n",
    "    lst = []\n",
    "    for i in range(51):\n",
    "        lst.append(np.median(cube[i]))\n",
    "    return lst"
   ]
  },
  {
   "cell_type": "code",
   "execution_count": 14,
   "id": "f1bc4660",
   "metadata": {},
   "outputs": [],
   "source": [
    "# Mean Difference Cube\n",
    "meanwdbc11 = mean_map(wdbc11)\n",
    "meanwdbc12 = mean_map(wdbc12)\n",
    "meanwdbc21 = mean_map(wdbc21)\n",
    "meanwdbc22 = mean_map(wdbc22)\n",
    "meanwdbc33 = mean_map(wdbc33)\n",
    "meanwdbc13 = mean_map(wdbc13)\n",
    "meanwdbc23 = mean_map(wdbc23)\n",
    "meanwdbc31 = mean_map(wdbc31)\n",
    "meanwdbc32 = mean_map(wdbc32)"
   ]
  },
  {
   "cell_type": "code",
   "execution_count": 15,
   "id": "f61c7e72",
   "metadata": {},
   "outputs": [
    {
     "data": {
      "image/png": "[encoded data removed]",
      "text/plain": [
       "<Figure size 432x288 with 1 Axes>"
      ]
     },
     "metadata": {
      "needs_background": "light"
     },
     "output_type": "display_data"
    }
   ],
   "source": [
    "# Mean Difference Map\n",
    "plt.title(\"Mean Difference Map\")\n",
    "plt.plot(freq, meanwdbc11, color = \"red\", label = \"11\")\n",
    "plt.plot(freq, meanwdbc12, color = \"blue\", label = \"12\")\n",
    "plt.plot(freq, meanwdbc21, color = \"cyan\", label = \"21\")\n",
    "plt.plot(freq, meanwdbc22, color = \"green\", label = \"22\")\n",
    "plt.plot(freq, meanwdbc33, color = \"yellow\", label = \"33\")\n",
    "plt.plot(freq, meanwdbc13, color = \"black\", label = \"13\")\n",
    "plt.plot(freq, meanwdbc23, color = \"purple\", label = \"23\")\n",
    "plt.plot(freq, meanwdbc31, color = \"pink\", label = \"31\")\n",
    "plt.plot(freq, meanwdbc32, color = \"silver\", label = \"32\")\n",
    "plt.xlabel(\"Frequency (MHz)\")\n",
    "plt.ylabel(\"Beam Gain Difference\")\n",
    "plt.yscale(\"log\")\n",
    "plt.legend()\n",
    "plt.show()"
   ]
  },
  {
   "cell_type": "code",
   "execution_count": 16,
   "id": "e369050a",
   "metadata": {},
   "outputs": [],
   "source": [
    "# Median Difference Cube\n",
    "medwdbc11 = med_map(wdbc11)\n",
    "medwdbc12 = med_map(wdbc12)\n",
    "medwdbc21 = med_map(wdbc21)\n",
    "medwdbc22 = med_map(wdbc22)\n",
    "medwdbc33 = med_map(wdbc33)\n",
    "medwdbc13 = med_map(wdbc13)\n",
    "medwdbc23 = med_map(wdbc23)\n",
    "medwdbc31 = med_map(wdbc31)\n",
    "medwdbc32 = med_map(wdbc32)"
   ]
  },
  {
   "cell_type": "code",
   "execution_count": 17,
   "id": "3fe48479",
   "metadata": {},
   "outputs": [
    {
     "data": {
      "image/png": "[encoded data removed]",
      "text/plain": [
       "<Figure size 432x288 with 1 Axes>"
      ]
     },
     "metadata": {
      "needs_background": "light"
     },
     "output_type": "display_data"
    }
   ],
   "source": [
    "# Median Difference Map\n",
    "plt.title(\"Median Difference Map\")\n",
    "plt.plot(freq, medwdbc11, color = \"red\", label = \"11\")\n",
    "plt.plot(freq, medwdbc12, color = \"blue\", label = \"12\")\n",
    "plt.plot(freq, medwdbc21, color = \"cyan\", label = \"21\")\n",
    "plt.plot(freq, medwdbc22, color = \"green\", label = \"22\")\n",
    "plt.plot(freq, medwdbc33, color = \"yellow\", label = \"33\")\n",
    "plt.plot(freq, medwdbc13, color = \"black\", label = \"13\")\n",
    "plt.plot(freq, medwdbc23, color = \"purple\", label = \"23\")\n",
    "plt.plot(freq, medwdbc31, color = \"pink\", label = \"31\")\n",
    "plt.plot(freq, medwdbc32, color = \"silver\", label = \"32\")\n",
    "plt.xlabel(\"Frequency (MHz)\")\n",
    "plt.ylabel(\"Beam Gain Difference\")\n",
    "plt.yscale(\"log\")\n",
    "plt.legend()\n",
    "plt.show()"
   ]
  },
  {
   "cell_type": "code",
   "execution_count": 18,
   "id": "a395bb77",
   "metadata": {},
   "outputs": [],
   "source": [
    "# Maximum Difference Cube\n",
    "maxwdbc11 = max_dif(wdbc11)\n",
    "maxwdbc12 = max_dif(wdbc12)\n",
    "maxwdbc21 = max_dif(wdbc21)\n",
    "maxwdbc22 = max_dif(wdbc22)\n",
    "maxwdbc33 = max_dif(wdbc33)\n",
    "maxwdbc13 = max_dif(wdbc13)\n",
    "maxwdbc23 = max_dif(wdbc23)\n",
    "maxwdbc31 = max_dif(wdbc31)\n",
    "maxwdbc32 = max_dif(wdbc32)"
   ]
  },
  {
   "cell_type": "code",
   "execution_count": 50,
   "id": "505b5274",
   "metadata": {},
   "outputs": [
    {
     "data": {
      "image/png": "[encoded data removed]",
      "text/plain": [
       "<Figure size 432x288 with 1 Axes>"
      ]
     },
     "metadata": {
      "needs_background": "light"
     },
     "output_type": "display_data"
    }
   ],
   "source": [
    "# Max Difference Map\n",
    "plt.plot(freq, maxwdbc11, color = \"red\", label = \"11\")\n",
    "plt.plot(freq, maxwdbc12, color = \"blue\", label = \"12\")\n",
    "plt.plot(freq, maxwdbc13, color = \"black\", label = \"13\")\n",
    "plt.plot(freq, maxwdbc21, color = \"cyan\", label = \"21\")\n",
    "plt.plot(freq, maxwdbc22, color = \"green\", label = \"22\")\n",
    "plt.plot(freq, maxwdbc23, color = \"purple\", label = \"23\")\n",
    "plt.plot(freq, maxwdbc31, color = \"pink\", label = \"31\")\n",
    "plt.plot(freq, maxwdbc32, color = \"silver\", label = \"32\")\n",
    "plt.plot(freq, maxwdbc33, color = \"yellow\", label = \"33\")\n",
    "plt.xlabel(\"Frequency (MHz)\")\n",
    "plt.ylabel(\"Beam Gain Difference\")\n",
    "plt.yscale(\"log\")\n",
    "plt.legend()\n",
    "plt.show()"
   ]
  },
  {
   "cell_type": "code",
   "execution_count": 20,
   "id": "ea0f3df1",
   "metadata": {},
   "outputs": [
    {
     "data": {
      "image/png": "[encoded data removed]",
      "text/plain": [
       "<Figure size 432x288 with 2 Axes>"
      ]
     },
     "metadata": {
      "needs_background": "light"
     },
     "output_type": "display_data"
    }
   ],
   "source": [
    "plt.imshow(reference_cube[0],extent = [0,360,90,-90])\n",
    "plt.xlabel(\"Azimuth (degree)\")\n",
    "plt.ylabel(\"Elevation (degree)\")\n",
    "plt.xticks(np.arange(0, 370, step=60))\n",
    "plt.yticks(np.arange(-90, 90, step=45))\n",
    "plt.colorbar()\n",
    "plt.show()"
   ]
  },
  {
   "cell_type": "code",
   "execution_count": 21,
   "id": "5b44ecc6",
   "metadata": {},
   "outputs": [
    {
     "data": {
      "image/png": "[encoded data removed]",
      "text/plain": [
       "<Figure size 432x288 with 1 Axes>"
      ]
     },
     "metadata": {
      "needs_background": "light"
     },
     "output_type": "display_data"
    }
   ],
   "source": [
    "plt.plot(elevation,reference_cube[0,:,0])\n",
    "plt.xlabel(\"Elevation (degree)\")\n",
    "plt.ylabel(\"Beam Gain\")\n",
    "plt.xticks(np.arange(-90, 91, step=30))\n",
    "plt.show()"
   ]
  },
  {
   "cell_type": "code",
   "execution_count": 22,
   "id": "f0cac6ec",
   "metadata": {},
   "outputs": [
    {
     "data": {
      "text/plain": [
       "1.0841653437807894"
      ]
     },
     "execution_count": 22,
     "metadata": {},
     "output_type": "execute_result"
    }
   ],
   "source": [
    "np.mean(dbc11[0,136:,:])"
   ]
  },
  {
   "cell_type": "code",
   "execution_count": 23,
   "id": "3e8afb40",
   "metadata": {},
   "outputs": [
    {
     "data": {
      "text/plain": [
       "137.1131761486424"
      ]
     },
     "execution_count": 23,
     "metadata": {},
     "output_type": "execute_result"
    }
   ],
   "source": [
    "np.mean(dbc11[0])"
   ]
  },
  {
   "cell_type": "code",
   "execution_count": 24,
   "id": "c3a583ae",
   "metadata": {},
   "outputs": [],
   "source": [
    "# Cutting Blocks\n",
    "cdbc11 = dbc11[:,136:,:]\n",
    "cdbc12 = dbc12[:,136:,:]\n",
    "cdbc21 = dbc21[:,136:,:]\n",
    "cdbc22 = dbc22[:,136:,:]\n",
    "cdbc33 = dbc33[:,136:,:]\n",
    "cdbc13 = dbc13[:,136:,:]\n",
    "cdbc23 = dbc23[:,136:,:]\n",
    "cdbc31 = dbc31[:,136:,:]\n",
    "cdbc32 = dbc32[:,136:,:]\n",
    "\n",
    "cwdbc11 = wdbc11[:,136:,:]\n",
    "cwdbc12 = wdbc12[:,136:,:]\n",
    "cwdbc21 = wdbc21[:,136:,:]\n",
    "cwdbc22 = wdbc22[:,136:,:]\n",
    "cwdbc33 = wdbc33[:,136:,:]\n",
    "cwdbc13 = wdbc13[:,136:,:]\n",
    "cwdbc23 = wdbc23[:,136:,:]\n",
    "cwdbc31 = wdbc31[:,136:,:]\n",
    "cwdbc32 = wdbc32[:,136:,:]"
   ]
  },
  {
   "cell_type": "code",
   "execution_count": 25,
   "id": "b95cb761",
   "metadata": {},
   "outputs": [
    {
     "data": {
      "text/plain": [
       "(51, 45, 360)"
      ]
     },
     "execution_count": 25,
     "metadata": {},
     "output_type": "execute_result"
    }
   ],
   "source": [
    "cdbc11.shape"
   ]
  },
  {
   "cell_type": "code",
   "execution_count": 26,
   "id": "e477b4d9",
   "metadata": {},
   "outputs": [],
   "source": [
    "# Mean Difference Partial Cube\n",
    "meancwdbc11 = mean_map(cwdbc11)\n",
    "meancwdbc12 = mean_map(cwdbc12)\n",
    "meancwdbc21 = mean_map(cwdbc21)\n",
    "meancwdbc22 = mean_map(cwdbc22)\n",
    "meancwdbc33 = mean_map(cwdbc33)\n",
    "meancwdbc13 = mean_map(cwdbc13)\n",
    "meancwdbc23 = mean_map(cwdbc23)\n",
    "meancwdbc31 = mean_map(cwdbc31)\n",
    "meancwdbc32 = mean_map(cwdbc32)"
   ]
  },
  {
   "cell_type": "code",
   "execution_count": 27,
   "id": "a7e2459d",
   "metadata": {},
   "outputs": [
    {
     "data": {
      "image/png": "[encoded data removed]",
      "text/plain": [
       "<Figure size 432x288 with 1 Axes>"
      ]
     },
     "metadata": {
      "needs_background": "light"
     },
     "output_type": "display_data"
    }
   ],
   "source": [
    "# Mean Difference Partial Map\n",
    "plt.title(\"Mean Difference Partial Map\")\n",
    "plt.plot(freq, meancwdbc11, color = \"red\", label = \"11\")\n",
    "plt.plot(freq, meancwdbc12, color = \"blue\", label = \"12\")\n",
    "plt.plot(freq, meancwdbc21, color = \"cyan\", label = \"21\")\n",
    "plt.plot(freq, meancwdbc22, color = \"green\", label = \"22\")\n",
    "plt.plot(freq, meancwdbc33, color = \"yellow\", label = \"33\")\n",
    "plt.plot(freq, meancwdbc13, color = \"black\", label = \"13\")\n",
    "plt.plot(freq, meancwdbc23, color = \"purple\", label = \"23\")\n",
    "plt.plot(freq, meancwdbc31, color = \"pink\", label = \"31\")\n",
    "plt.plot(freq, meancwdbc32, color = \"silver\", label = \"32\")\n",
    "plt.yscale(\"log\")\n",
    "plt.xlabel(\"Frequency (MHz)\")\n",
    "plt.ylabel(\"Beam Gain Difference\")\n",
    "plt.legend()\n",
    "plt.show()"
   ]
  },
  {
   "cell_type": "code",
   "execution_count": 28,
   "id": "0b1138eb",
   "metadata": {},
   "outputs": [
    {
     "name": "stdout",
     "output_type": "stream",
     "text": [
      "[11:0.09812403049423202,12:0.01756750213545997,21:0.09812403122053623,22:0.017567451867245645,33:155015365879815.62,13:439165208757.1277,23:26864367429093.035,31:6.405131825962532,32:272.16034471112766]\n"
     ]
    }
   ],
   "source": [
    "print(f\"[11:{max(meancwdbc11)},12:{max(meancwdbc12)},21:{max(meancwdbc21)},22:{max(meancwdbc22)},33:{max(meancwdbc33)},13:{max(meancwdbc13)},23:{max(meancwdbc23)},31:{max(meancwdbc31)},32:{max(meancwdbc32)}]\")"
   ]
  },
  {
   "cell_type": "code",
   "execution_count": 29,
   "id": "a224d037",
   "metadata": {},
   "outputs": [],
   "source": [
    "# Median Difference Partial Cube\n",
    "medcwdbc11 = med_map(cwdbc11)\n",
    "medcwdbc12 = med_map(cwdbc12)\n",
    "medcwdbc21 = med_map(cwdbc21)\n",
    "medcwdbc22 = med_map(cwdbc22)\n",
    "medcwdbc33 = med_map(cwdbc33)\n",
    "medcwdbc13 = med_map(cwdbc13)\n",
    "medcwdbc23 = med_map(cwdbc23)\n",
    "medcwdbc31 = med_map(cwdbc31)\n",
    "medcwdbc32 = med_map(cwdbc32)"
   ]
  },
  {
   "cell_type": "code",
   "execution_count": 51,
   "id": "5d325bfa",
   "metadata": {},
   "outputs": [
    {
     "data": {
      "image/png": "[encoded data removed]",
      "text/plain": [
       "<Figure size 432x288 with 1 Axes>"
      ]
     },
     "metadata": {
      "needs_background": "light"
     },
     "output_type": "display_data"
    }
   ],
   "source": [
    "# Median Difference Partial Map\n",
    "plt.plot(freq, medcwdbc11, color = \"red\", label = \"11\")\n",
    "plt.plot(freq, medcwdbc12, color = \"blue\", label = \"12\")\n",
    "plt.plot(freq, medcwdbc13, color = \"black\", label = \"13\")\n",
    "plt.plot(freq, medcwdbc21, color = \"cyan\", label = \"21\")\n",
    "plt.plot(freq, medcwdbc22, color = \"green\", label = \"22\")\n",
    "plt.plot(freq, medcwdbc23, color = \"purple\", label = \"23\")\n",
    "plt.plot(freq, medcwdbc31, color = \"pink\", label = \"31\")\n",
    "plt.plot(freq, medcwdbc32, color = \"silver\", label = \"32\")\n",
    "plt.plot(freq, medcwdbc33, color = \"yellow\", label = \"33\")\n",
    "plt.xlabel(\"Frequency (MHz)\")\n",
    "plt.ylabel(\"Beam Gain Difference\")\n",
    "plt.yscale(\"log\")\n",
    "plt.legend()\n",
    "plt.show()"
   ]
  },
  {
   "cell_type": "code",
   "execution_count": 31,
   "id": "5e46065e",
   "metadata": {},
   "outputs": [
    {
     "name": "stdout",
     "output_type": "stream",
     "text": [
      "[11:0.10331233069186396,12:0.021290405530381307,21:0.1033123314235258,22:0.021290307885468707,33:159606629151336.9,13:453337069064.22766,23:27669678957920.91,31:6.620615885001973,32:280.9746745379359]\n"
     ]
    }
   ],
   "source": [
    "print(f\"[11:{max(medcwdbc11)},12:{max(medcwdbc12)},21:{max(medcwdbc21)},22:{max(medcwdbc22)},33:{max(medcwdbc33)},13:{max(medcwdbc13)},23:{max(medcwdbc23)},31:{max(medcwdbc31)},32:{max(medcwdbc32)}]\")\n",
    "\n",
    "\n"
   ]
  },
  {
   "cell_type": "code",
   "execution_count": 32,
   "id": "5faacacb",
   "metadata": {},
   "outputs": [],
   "source": [
    "# Maximum Difference Partial Cube\n",
    "maxcwdbc11 = max_dif(cwdbc11)\n",
    "maxcwdbc12 = max_dif(cwdbc12)\n",
    "maxcwdbc21 = max_dif(cwdbc21)\n",
    "maxcwdbc22 = max_dif(cwdbc22)\n",
    "maxcwdbc33 = max_dif(cwdbc33)\n",
    "maxcwdbc13 = max_dif(cwdbc13)\n",
    "maxcwdbc23 = max_dif(cwdbc23)\n",
    "maxcwdbc31 = max_dif(cwdbc31)\n",
    "maxcwdbc32 = max_dif(cwdbc32)"
   ]
  },
  {
   "cell_type": "code",
   "execution_count": 33,
   "id": "64e592fc",
   "metadata": {},
   "outputs": [
    {
     "data": {
      "image/png": "[encoded data removed]",
      "text/plain": [
       "<Figure size 432x288 with 1 Axes>"
      ]
     },
     "metadata": {
      "needs_background": "light"
     },
     "output_type": "display_data"
    }
   ],
   "source": [
    "# Max Difference Partial Map\n",
    "plt.title(\"Max Difference Partial Map\")\n",
    "plt.plot(freq, maxcwdbc11, color = \"red\", label = \"11\")\n",
    "plt.plot(freq, maxcwdbc12, color = \"blue\", label = \"12\")\n",
    "plt.plot(freq, maxcwdbc21, color = \"cyan\", label = \"21\")\n",
    "plt.plot(freq, maxcwdbc22, color = \"green\", label = \"22\")\n",
    "plt.plot(freq, maxcwdbc33, color = \"yellow\", label = \"33\")\n",
    "plt.plot(freq, maxcwdbc13, color = \"black\", label = \"13\")\n",
    "plt.plot(freq, maxcwdbc23, color = \"purple\", label = \"23\")\n",
    "plt.plot(freq, maxcwdbc31, color = \"pink\", label = \"31\")\n",
    "plt.plot(freq, maxcwdbc32, color = \"silver\", label = \"32\")\n",
    "plt.xlabel(\"Frequency (MHz)\")\n",
    "plt.ylabel(\"Beam Gain Difference\")\n",
    "plt.yscale(\"log\")\n",
    "plt.legend()\n",
    "plt.show()"
   ]
  },
  {
   "cell_type": "code",
   "execution_count": 34,
   "id": "5f423361",
   "metadata": {},
   "outputs": [
    {
     "name": "stdout",
     "output_type": "stream",
     "text": [
      "[11:0.18278601642774994,12:0.02981531041085539,21:0.18278601718751997,22:0.0298152366093003,33:179163669358646.9,13:517418129156.51135,23:31129520332267.207,31:7.798756917317709,32:321.2011632720629]\n"
     ]
    }
   ],
   "source": [
    "print(f\"[11:{max(maxcwdbc11)},12:{max(maxcwdbc12)},21:{max(maxcwdbc21)},22:{max(maxcwdbc22)},33:{max(maxcwdbc33)},13:{max(maxcwdbc13)},23:{max(maxcwdbc23)},31:{max(maxcwdbc31)},32:{max(maxcwdbc32)}]\")\n",
    "\n",
    "\n"
   ]
  },
  {
   "cell_type": "code",
   "execution_count": 35,
   "id": "da02c6d8",
   "metadata": {},
   "outputs": [
    {
     "data": {
      "image/png": "[encoded data removed]",
      "text/plain": [
       "<Figure size 432x288 with 1 Axes>"
      ]
     },
     "metadata": {
      "needs_background": "light"
     },
     "output_type": "display_data"
    }
   ],
   "source": [
    "# Mean Percentage Difference Cube\n",
    "meandbc11 = mean_map(dbc11)\n",
    "meandbc12 = mean_map(dbc12)\n",
    "meandbc21 = mean_map(dbc21)\n",
    "meandbc22 = mean_map(dbc22)\n",
    "meandbc33 = mean_map(dbc33)\n",
    "meandbc13 = mean_map(dbc13)\n",
    "meandbc23 = mean_map(dbc23)\n",
    "meandbc31 = mean_map(dbc31)\n",
    "meandbc32 = mean_map(dbc32)\n",
    "\n",
    "# Mean Percentage Difference Map\n",
    "plt.plot(freq, meandbc11, color = \"red\", label = \"11\")\n",
    "plt.plot(freq, meandbc12, color = \"blue\", label = \"12\")\n",
    "plt.plot(freq, meandbc13, color = \"black\", label = \"13\")\n",
    "plt.plot(freq, meandbc21, color = \"cyan\", label = \"21\")\n",
    "plt.plot(freq, meandbc22, color = \"green\", label = \"22\")\n",
    "plt.plot(freq, meandbc23, color = \"purple\", label = \"23\")\n",
    "plt.plot(freq, meandbc31, color = \"pink\", label = \"31\")\n",
    "plt.plot(freq, meandbc32, color = \"silver\", label = \"32\")\n",
    "plt.plot(freq, meandbc33, color = \"yellow\", label = \"33\")\n",
    "plt.xlabel(\"Frequency (MHz)\")\n",
    "plt.ylabel(\"Beam Gain Percentage Difference\")\n",
    "plt.yscale(\"log\")\n",
    "plt.legend()\n",
    "plt.show()"
   ]
  },
  {
   "cell_type": "code",
   "execution_count": 36,
   "id": "e378b22a",
   "metadata": {},
   "outputs": [
    {
     "data": {
      "image/png": "[encoded data removed]",
      "text/plain": [
       "<Figure size 432x288 with 1 Axes>"
      ]
     },
     "metadata": {
      "needs_background": "light"
     },
     "output_type": "display_data"
    }
   ],
   "source": [
    "# Median Difference Percentage Cube\n",
    "meddbc11 = med_map(dbc11)\n",
    "meddbc12 = med_map(dbc12)\n",
    "meddbc21 = med_map(dbc21)\n",
    "meddbc22 = med_map(dbc22)\n",
    "meddbc33 = med_map(dbc33)\n",
    "meddbc13 = med_map(dbc13)\n",
    "meddbc23 = med_map(dbc23)\n",
    "meddbc31 = med_map(dbc31)\n",
    "meddbc32 = med_map(dbc32)\n",
    "\n",
    "# Median Difference Percentage Map\n",
    "plt.plot(freq, meddbc11, color = \"red\", label = \"11\")\n",
    "plt.plot(freq, meddbc12, color = \"blue\", label = \"12\")\n",
    "plt.plot(freq, meddbc21, color = \"cyan\", label = \"21\")\n",
    "plt.plot(freq, meddbc22, color = \"green\", label = \"22\")\n",
    "plt.plot(freq, meddbc33, color = \"yellow\", label = \"33\")\n",
    "plt.plot(freq, meddbc13, color = \"black\", label = \"13\")\n",
    "plt.plot(freq, meddbc23, color = \"purple\", label = \"23\")\n",
    "plt.plot(freq, meddbc31, color = \"pink\", label = \"31\")\n",
    "plt.plot(freq, meddbc32, color = \"silver\", label = \"32\")\n",
    "plt.xlabel(\"Frequency (MHz)\")\n",
    "plt.ylabel(\"Beam Gain Percentage Difference\")\n",
    "plt.yscale(\"log\")\n",
    "plt.legend()\n",
    "plt.show()"
   ]
  },
  {
   "cell_type": "code",
   "execution_count": 37,
   "id": "841ff448",
   "metadata": {},
   "outputs": [
    {
     "data": {
      "image/png": "[encoded data removed]",
      "text/plain": [
       "<Figure size 432x288 with 1 Axes>"
      ]
     },
     "metadata": {
      "needs_background": "light"
     },
     "output_type": "display_data"
    }
   ],
   "source": [
    "# Maximum Percentage Difference Cube\n",
    "maxdbc11 = max_dif(dbc11)\n",
    "maxdbc12 = max_dif(dbc12)\n",
    "maxdbc21 = max_dif(dbc21)\n",
    "maxdbc22 = max_dif(dbc22)\n",
    "maxdbc33 = max_dif(dbc33)\n",
    "maxdbc13 = max_dif(dbc13)\n",
    "maxdbc23 = max_dif(dbc23)\n",
    "maxdbc31 = max_dif(dbc31)\n",
    "maxdbc32 = max_dif(dbc32)\n",
    "\n",
    "# Maximum Percentage Difference Map\n",
    "plt.title(\"Max Percentage Difference Map\")\n",
    "plt.plot(freq, maxdbc11, color = \"red\", label = \"11\")\n",
    "plt.plot(freq, maxdbc12, color = \"blue\", label = \"12\")\n",
    "plt.plot(freq, maxdbc21, color = \"cyan\", label = \"21\")\n",
    "plt.plot(freq, maxdbc22, color = \"green\", label = \"22\")\n",
    "plt.plot(freq, maxdbc33, color = \"yellow\", label = \"33\")\n",
    "plt.plot(freq, maxdbc13, color = \"black\", label = \"13\")\n",
    "plt.plot(freq, maxdbc23, color = \"purple\", label = \"23\")\n",
    "plt.plot(freq, maxdbc31, color = \"pink\", label = \"31\")\n",
    "plt.plot(freq, maxdbc32, color = \"silver\", label = \"32\")\n",
    "plt.xlabel(\"Frequency (MHz)\")\n",
    "plt.ylabel(\"Beam Gain Difference\")\n",
    "plt.yscale(\"log\")\n",
    "plt.legend()\n",
    "plt.show()"
   ]
  },
  {
   "cell_type": "code",
   "execution_count": 38,
   "id": "23fc1b3c",
   "metadata": {},
   "outputs": [
    {
     "data": {
      "image/png": "[encoded data removed]",
      "text/plain": [
       "<Figure size 432x288 with 1 Axes>"
      ]
     },
     "metadata": {
      "needs_background": "light"
     },
     "output_type": "display_data"
    }
   ],
   "source": [
    "# Mean Percentage Difference Partial Cube\n",
    "meancdbc11 = mean_map(cdbc11)\n",
    "meancdbc12 = mean_map(cdbc12)\n",
    "meancdbc21 = mean_map(cdbc21)\n",
    "meancdbc22 = mean_map(cdbc22)\n",
    "meancdbc33 = mean_map(cdbc33)\n",
    "meancdbc13 = mean_map(cdbc13)\n",
    "meancdbc23 = mean_map(cdbc23)\n",
    "meancdbc31 = mean_map(cdbc31)\n",
    "meancdbc32 = mean_map(cdbc32)\n",
    "\n",
    "# Mean Percentage Difference Partial Map\n",
    "plt.plot(freq, meancdbc11, color = \"red\", label = \"11\")\n",
    "plt.plot(freq, meancdbc12, color = \"blue\", label = \"12\")\n",
    "plt.plot(freq, meancdbc13, color = \"black\", label = \"13\")\n",
    "plt.plot(freq, meancdbc21, color = \"cyan\", label = \"21\")\n",
    "plt.plot(freq, meancdbc22, color = \"green\", label = \"22\")\n",
    "plt.plot(freq, meancdbc23, color = \"purple\", label = \"23\")\n",
    "plt.plot(freq, meancdbc31, color = \"pink\", label = \"31\")\n",
    "plt.plot(freq, meancdbc32, color = \"silver\", label = \"32\")\n",
    "plt.plot(freq, meancdbc33, color = \"yellow\", label = \"33\")\n",
    "plt.yscale(\"log\")\n",
    "plt.xlabel(\"Frequency (MHz)\")\n",
    "plt.ylabel(\"Beam Gain Percentage Difference\")\n",
    "plt.legend()\n",
    "plt.show()"
   ]
  },
  {
   "cell_type": "code",
   "execution_count": 39,
   "id": "a2de21e2",
   "metadata": {},
   "outputs": [
    {
     "name": "stdout",
     "output_type": "stream",
     "text": [
      "[11:1.0841653437807985,12:0.18835852980239692,21:1.0841653509880926,22:0.18835798417707575,33:1488444063939691.0,13:4202159976312.259,23:257829501242122.4,31:60.94786390460231,32:2603.4143083749364]\n"
     ]
    }
   ],
   "source": [
    "print(f\"[11:{max(meancdbc11)},12:{max(meancdbc12)},21:{max(meancdbc21)},22:{max(meancdbc22)},33:{max(meancdbc33)},13:{max(meancdbc13)},23:{max(meancdbc23)},31:{max(meancdbc31)},32:{max(meancdbc32)}]\")\n",
    "\n",
    "\n"
   ]
  },
  {
   "cell_type": "code",
   "execution_count": 40,
   "id": "35c8faae",
   "metadata": {},
   "outputs": [
    {
     "data": {
      "image/png": "[encoded data removed]",
      "text/plain": [
       "<Figure size 432x288 with 1 Axes>"
      ]
     },
     "metadata": {
      "needs_background": "light"
     },
     "output_type": "display_data"
    }
   ],
   "source": [
    "# Median Percentage Difference Partial Cube\n",
    "medcdbc11 = med_map(cdbc11)\n",
    "medcdbc12 = med_map(cdbc12)\n",
    "medcdbc21 = med_map(cdbc21)\n",
    "medcdbc22 = med_map(cdbc22)\n",
    "medcdbc33 = med_map(cdbc33)\n",
    "medcdbc13 = med_map(cdbc13)\n",
    "medcdbc23 = med_map(cdbc23)\n",
    "medcdbc31 = med_map(cdbc31)\n",
    "medcdbc32 = med_map(cdbc32)\n",
    "\n",
    "# Median Percentage Difference Partial Map\n",
    "plt.title(\"Median Percentage Partial Difference Map\")\n",
    "plt.plot(freq, medcdbc11, color = \"red\", label = \"11\")\n",
    "plt.plot(freq, medcdbc12, color = \"blue\", label = \"12\")\n",
    "plt.plot(freq, medcdbc21, color = \"cyan\", label = \"21\")\n",
    "plt.plot(freq, medcdbc22, color = \"green\", label = \"22\")\n",
    "plt.plot(freq, medcdbc33, color = \"yellow\", label = \"33\")\n",
    "plt.plot(freq, medcdbc13, color = \"black\", label = \"13\")\n",
    "plt.plot(freq, medcdbc23, color = \"purple\", label = \"23\")\n",
    "plt.plot(freq, medcdbc31, color = \"pink\", label = \"31\")\n",
    "plt.plot(freq, medcdbc32, color = \"silver\", label = \"32\")\n",
    "plt.xlabel(\"Frequency (MHz)\")\n",
    "plt.ylabel(\"Beam Gain Difference\")\n",
    "plt.yscale(\"log\")\n",
    "plt.legend()\n",
    "plt.show()"
   ]
  },
  {
   "cell_type": "code",
   "execution_count": 41,
   "id": "ea1ad34c",
   "metadata": {},
   "outputs": [
    {
     "name": "stdout",
     "output_type": "stream",
     "text": [
      "[11:0.9488047662803676,12:0.20084851991377956,21:0.9488047729998496,22:0.20084808637884877,33:1465803060047030.2,13:4163378843350.071,23:254114132368415.25,31:60.905929958057605,32:2580.4287699285396]\n"
     ]
    }
   ],
   "source": [
    "print(f\"[11:{max(medcdbc11)},12:{max(medcdbc12)},21:{max(medcdbc21)},22:{max(medcdbc22)},33:{max(medcdbc33)},13:{max(medcdbc13)},23:{max(medcdbc23)},31:{max(medcdbc31)},32:{max(medcdbc32)}]\")\n",
    "\n",
    "\n"
   ]
  },
  {
   "cell_type": "code",
   "execution_count": 42,
   "id": "75faf83c",
   "metadata": {},
   "outputs": [
    {
     "data": {
      "image/png": "[encoded data removed]",
      "text/plain": [
       "<Figure size 432x288 with 1 Axes>"
      ]
     },
     "metadata": {
      "needs_background": "light"
     },
     "output_type": "display_data"
    }
   ],
   "source": [
    "# Maximum Difference Partial Cube\n",
    "maxcdbc11 = max_dif(cdbc11)\n",
    "maxcdbc12 = max_dif(cdbc12)\n",
    "maxcdbc21 = max_dif(cdbc21)\n",
    "maxcdbc22 = max_dif(cdbc22)\n",
    "maxcdbc33 = max_dif(cdbc33)\n",
    "maxcdbc13 = max_dif(cdbc13)\n",
    "maxcdbc23 = max_dif(cdbc23)\n",
    "maxcdbc31 = max_dif(cdbc31)\n",
    "maxcdbc32 = max_dif(cdbc32)\n",
    "\n",
    "# Max Difference Partial Map\n",
    "plt.title(\"Max Difference Partial Map\")\n",
    "plt.plot(freq, maxcdbc11, color = \"red\", label = \"11\")\n",
    "plt.plot(freq, maxcdbc12, color = \"blue\", label = \"12\")\n",
    "plt.plot(freq, maxcdbc21, color = \"cyan\", label = \"21\")\n",
    "plt.plot(freq, maxcdbc22, color = \"green\", label = \"22\")\n",
    "plt.plot(freq, maxcdbc33, color = \"yellow\", label = \"33\")\n",
    "plt.plot(freq, maxcdbc13, color = \"black\", label = \"13\")\n",
    "plt.plot(freq, maxcdbc23, color = \"purple\", label = \"23\")\n",
    "plt.plot(freq, maxcdbc31, color = \"pink\", label = \"31\")\n",
    "plt.plot(freq, maxcdbc32, color = \"silver\", label = \"32\")\n",
    "plt.xlabel(\"Frequency (MHz)\")\n",
    "plt.ylabel(\"Beam Gain Difference\")\n",
    "plt.yscale(\"log\")\n",
    "plt.legend()\n",
    "plt.show()"
   ]
  },
  {
   "cell_type": "code",
   "execution_count": 43,
   "id": "fbd03b8a",
   "metadata": {},
   "outputs": [
    {
     "name": "stdout",
     "output_type": "stream",
     "text": [
      "[11:2.6011601919239133,12:0.34875771518337717,21:2.601160202823837,22:0.3487566559210097,33:1649311204485364.2,13:4469508124076.374,23:284164934017372.94,31:61.56913355777141,32:2760.248211815805]\n"
     ]
    }
   ],
   "source": [
    "print(f\"[11:{max(maxcdbc11)},12:{max(maxcdbc12)},21:{max(maxcdbc21)},22:{max(maxcdbc22)},33:{max(maxcdbc33)},13:{max(maxcdbc13)},23:{max(maxcdbc23)},31:{max(maxcdbc31)},32:{max(maxcdbc32)}]\")\n",
    "\n",
    "\n"
   ]
  },
  {
   "cell_type": "code",
   "execution_count": 44,
   "id": "46561862",
   "metadata": {},
   "outputs": [],
   "source": [
    "logdbc11 = 10*np.log10(dbc11)\n",
    "logdbc12 = 10*np.log10(dbc12)\n",
    "logdbc21 = 10*np.log10(dbc21)\n",
    "logdbc22 = 10*np.log10(dbc22)"
   ]
  },
  {
   "cell_type": "code",
   "execution_count": 45,
   "id": "a8d5a5ae",
   "metadata": {},
   "outputs": [
    {
     "data": {
      "image/png": "[encoded data removed]",
      "text/plain": [
       "<Figure size 432x288 with 5 Axes>"
      ]
     },
     "metadata": {
      "needs_background": "light"
     },
     "output_type": "display_data"
    }
   ],
   "source": [
    "#@75 degree Difference\n",
    "Nr = 2\n",
    "Nc = 2\n",
    "xticks = np.arange(0, 370, 90)\n",
    "yticks = np.arange(-90, 91,60)\n",
    "fig, axis = plt.subplots(Nr, Nc)\n",
    "images = []\n",
    "images.append(axis[0, 0].imshow(logdbc11[25], extent = [0,360,90,-90]))\n",
    "axis[0, 0].set_title(\"Difference 11\")\n",
    "axis[0, 0].set(ylabel='Elevation')\n",
    "images.append(axis[0, 1].imshow(logdbc12[25], extent = [0,360,90,-90]))\n",
    "axis[0, 1].set_title(\"Difference 12\")\n",
    "images.append(axis[1,0].imshow(logdbc21[25], extent = [0,360,90,-90]))\n",
    "axis[1, 0].set_title(\"Difference 21\")\n",
    "axis[1, 0].set(xlabel='Azimuth', ylabel='Elevation')\n",
    "images.append(axis[1, 1].imshow(logdbc22[25], extent = [0,360,90,-90]))\n",
    "axis[1, 1].set_title(\"Difference 22\")\n",
    "axis[1, 1].set(xlabel='Azimuth')\n",
    "vmin = min(image.get_array().min() for image in images)\n",
    "vmax = max(image.get_array().max() for image in images)\n",
    "norm = colors.Normalize(vmin=-20, vmax=vmax)\n",
    "for ax in axis.flat:\n",
    "    ax.set_xticks(xticks)\n",
    "    ax.set_yticks(yticks)\n",
    "for im in images:\n",
    "    im.set_norm(norm)\n",
    "fig.colorbar(images[0], ax=axis, fraction=.1)\n",
    "#fig.tight_layout()\n",
    "plt.show()"
   ]
  },
  {
   "cell_type": "code",
   "execution_count": 46,
   "id": "855acfc0",
   "metadata": {},
   "outputs": [
    {
     "data": {
      "image/png": "[encoded data removed]",
      "text/plain": [
       "<Figure size 432x288 with 5 Axes>"
      ]
     },
     "metadata": {
      "needs_background": "light"
     },
     "output_type": "display_data"
    }
   ],
   "source": [
    "#@75 degree Difference\n",
    "Nr = 2\n",
    "Nc = 2\n",
    "fig, axis = plt.subplots(Nr, Nc)\n",
    "fig.suptitle('Interpolation Difference')\n",
    "images = []\n",
    "images.append(axis[0, 0].imshow(dbc31[25]))\n",
    "axis[0, 0].set_title(\"Difference 31\")\n",
    "images.append(axis[0, 1].imshow(dbc32[25]))\n",
    "axis[0, 1].set_title(\"Difference 32\")\n",
    "images.append(axis[1,0].imshow(dbc13[25]))\n",
    "axis[1, 0].set_title(\"Difference 13\")\n",
    "images.append(axis[1, 1].imshow(dbc23[25]))\n",
    "axis[1, 1].set_title(\"Difference 23\")\n",
    "vmin = min(image.get_array().min() for image in images)\n",
    "vmax = max(image.get_array().max() for image in images)\n",
    "norm = colors.Normalize(vmin=vmin, vmax=vmax)\n",
    "for im in images:\n",
    "    im.set_norm(norm)\n",
    "fig.colorbar(images[0], ax=axis, orientation='horizontal', fraction=.15)\n",
    "plt.show()"
   ]
  },
  {
   "cell_type": "code",
   "execution_count": 47,
   "id": "3f43e2c4",
   "metadata": {},
   "outputs": [],
   "source": [
    "x = np.max(bc11[0])"
   ]
  },
  {
   "cell_type": "code",
   "execution_count": 48,
   "id": "da6beddd",
   "metadata": {},
   "outputs": [],
   "source": [
    "y = np.min(bc11[0][0])"
   ]
  },
  {
   "cell_type": "code",
   "execution_count": 49,
   "id": "d333ac70",
   "metadata": {},
   "outputs": [
    {
     "data": {
      "text/plain": [
       "1974.5922250463348"
      ]
     },
     "execution_count": 49,
     "metadata": {},
     "output_type": "execute_result"
    }
   ],
   "source": [
    "x/y"
   ]
  },
  {
   "cell_type": "code",
   "execution_count": null,
   "id": "a2b30139",
   "metadata": {},
   "outputs": [],
   "source": []
  },
  {
   "cell_type": "code",
   "execution_count": null,
   "id": "ab63376a",
   "metadata": {},
   "outputs": [],
   "source": []
  }
 ],
 "metadata": {
  "kernelspec": {
   "display_name": "Python 3",
   "language": "python",
   "name": "python3"
  },
  "language_info": {
   "codemirror_mode": {
    "name": "ipython",
    "version": 3
   },
   "file_extension": ".py",
   "mimetype": "text/x-python",
   "name": "python",
   "nbconvert_exporter": "python",
   "pygments_lexer": "ipython3",
   "version": "3.8.8"
  }
 },
 "nbformat": 4,
 "nbformat_minor": 5
}
