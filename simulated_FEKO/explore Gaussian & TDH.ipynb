{
 "cells": [
  {
   "cell_type": "code",
   "execution_count": 1,
   "id": "60752966",
   "metadata": {},
   "outputs": [],
   "source": [
    "import numpy as np\n",
    "import matplotlib.pyplot as plt\n",
    "import read_beam_FEKO as rf\n",
    "import ultranest\n"
   ]
  },
  {
   "cell_type": "code",
   "execution_count": 2,
   "id": "2826d94c",
   "metadata": {},
   "outputs": [
    {
     "name": "stdout",
     "output_type": "stream",
     "text": [
      " Frequency in Hz:               FREQ =    2.50000E+07\n",
      "\n",
      " Frequency in Hz:               FREQ =    2.60000E+07\n",
      "\n",
      " Frequency in Hz:               FREQ =    2.70000E+07\n",
      "\n",
      " Frequency in Hz:               FREQ =    2.80000E+07\n",
      "\n",
      " Frequency in Hz:               FREQ =    2.90000E+07\n",
      "\n",
      " Frequency in Hz:               FREQ =    3.00000E+07\n",
      "\n",
      " Frequency in Hz:               FREQ =    3.10000E+07\n",
      "\n",
      " Frequency in Hz:               FREQ =    3.20000E+07\n",
      "\n",
      " Frequency in Hz:               FREQ =    3.30000E+07\n",
      "\n",
      " Frequency in Hz:               FREQ =    3.40000E+07\n",
      "\n",
      " Frequency in Hz:               FREQ =    3.50000E+07\n",
      "\n",
      " Frequency in Hz:               FREQ =    3.60000E+07\n",
      "\n",
      " Frequency in Hz:               FREQ =    3.70000E+07\n",
      "\n",
      " Frequency in Hz:               FREQ =    3.80000E+07\n",
      "\n",
      " Frequency in Hz:               FREQ =    3.90000E+07\n",
      "\n",
      " Frequency in Hz:               FREQ =    4.00000E+07\n",
      "\n",
      " Frequency in Hz:               FREQ =    4.10000E+07\n",
      "\n",
      " Frequency in Hz:               FREQ =    4.20000E+07\n",
      "\n",
      " Frequency in Hz:               FREQ =    4.30000E+07\n",
      "\n",
      " Frequency in Hz:               FREQ =    4.40000E+07\n",
      "\n",
      " Frequency in Hz:               FREQ =    4.50000E+07\n",
      "\n",
      " Frequency in Hz:               FREQ =    4.60000E+07\n",
      "\n",
      " Frequency in Hz:               FREQ =    4.70000E+07\n",
      "\n",
      " Frequency in Hz:               FREQ =    4.80000E+07\n",
      "\n",
      " Frequency in Hz:               FREQ =    4.90000E+07\n",
      "\n",
      " Frequency in Hz:               FREQ =    5.00000E+07\n",
      "\n",
      " Frequency in Hz:               FREQ =    5.10000E+07\n",
      "\n",
      " Frequency in Hz:               FREQ =    5.20000E+07\n",
      "\n",
      " Frequency in Hz:               FREQ =    5.30000E+07\n",
      "\n",
      " Frequency in Hz:               FREQ =    5.40000E+07\n",
      "\n",
      " Frequency in Hz:               FREQ =    5.50000E+07\n",
      "\n",
      " Frequency in Hz:               FREQ =    5.60000E+07\n",
      "\n",
      " Frequency in Hz:               FREQ =    5.70000E+07\n",
      "\n",
      " Frequency in Hz:               FREQ =    5.80000E+07\n",
      "\n",
      " Frequency in Hz:               FREQ =    5.90000E+07\n",
      "\n",
      " Frequency in Hz:               FREQ =    6.00000E+07\n",
      "\n",
      " Frequency in Hz:               FREQ =    6.10000E+07\n",
      "\n",
      " Frequency in Hz:               FREQ =    6.20000E+07\n",
      "\n",
      " Frequency in Hz:               FREQ =    6.30000E+07\n",
      "\n",
      " Frequency in Hz:               FREQ =    6.40000E+07\n",
      "\n",
      " Frequency in Hz:               FREQ =    6.50000E+07\n",
      "\n",
      " Frequency in Hz:               FREQ =    6.60000E+07\n",
      "\n",
      " Frequency in Hz:               FREQ =    6.70000E+07\n",
      "\n",
      " Frequency in Hz:               FREQ =    6.80000E+07\n",
      "\n",
      " Frequency in Hz:               FREQ =    6.90000E+07\n",
      "\n",
      " Frequency in Hz:               FREQ =    7.00000E+07\n",
      "\n",
      " Frequency in Hz:               FREQ =    7.10000E+07\n",
      "\n",
      " Frequency in Hz:               FREQ =    7.20000E+07\n",
      "\n",
      " Frequency in Hz:               FREQ =    7.30000E+07\n",
      "\n",
      " Frequency in Hz:               FREQ =    7.40000E+07\n",
      "\n",
      " Frequency in Hz:               FREQ =    7.50000E+07\n",
      "\n",
      " Frequency in Hz:               FREQ =    7.60000E+07\n",
      "\n",
      " Frequency in Hz:               FREQ =    7.70000E+07\n",
      "\n",
      " Frequency in Hz:               FREQ =    7.80000E+07\n",
      "\n",
      " Frequency in Hz:               FREQ =    7.90000E+07\n",
      "\n",
      " Frequency in Hz:               FREQ =    8.00000E+07\n",
      "\n",
      " Frequency in Hz:               FREQ =    8.10000E+07\n",
      "\n",
      " Frequency in Hz:               FREQ =    8.20000E+07\n",
      "\n",
      " Frequency in Hz:               FREQ =    8.30000E+07\n",
      "\n",
      " Frequency in Hz:               FREQ =    8.40000E+07\n",
      "\n",
      " Frequency in Hz:               FREQ =    8.50000E+07\n",
      "\n",
      " Frequency in Hz:               FREQ =    8.60000E+07\n",
      "\n",
      " Frequency in Hz:               FREQ =    8.70000E+07\n",
      "\n",
      " Frequency in Hz:               FREQ =    8.80000E+07\n",
      "\n",
      " Frequency in Hz:               FREQ =    8.90000E+07\n",
      "\n",
      " Frequency in Hz:               FREQ =    9.00000E+07\n",
      "\n",
      " Frequency in Hz:               FREQ =    9.10000E+07\n",
      "\n",
      " Frequency in Hz:               FREQ =    9.20000E+07\n",
      "\n",
      " Frequency in Hz:               FREQ =    9.30000E+07\n",
      "\n",
      " Frequency in Hz:               FREQ =    9.40000E+07\n",
      "\n",
      " Frequency in Hz:               FREQ =    9.50000E+07\n",
      "\n",
      " Frequency in Hz:               FREQ =    9.60000E+07\n",
      "\n",
      " Frequency in Hz:               FREQ =    9.70000E+07\n",
      "\n",
      " Frequency in Hz:               FREQ =    9.80000E+07\n",
      "\n",
      " Frequency in Hz:               FREQ =    9.90000E+07\n",
      "\n",
      " Frequency in Hz:               FREQ =    1.00000E+08\n",
      "\n",
      " Frequency in Hz:               FREQ =    1.01000E+08\n",
      "\n",
      " Frequency in Hz:               FREQ =    1.02000E+08\n",
      "\n",
      " Frequency in Hz:               FREQ =    1.03000E+08\n",
      "\n",
      " Frequency in Hz:               FREQ =    1.04000E+08\n",
      "\n",
      " Frequency in Hz:               FREQ =    1.05000E+08\n",
      "\n",
      " Frequency in Hz:               FREQ =    1.06000E+08\n",
      "\n",
      " Frequency in Hz:               FREQ =    1.07000E+08\n",
      "\n",
      " Frequency in Hz:               FREQ =    1.08000E+08\n",
      "\n",
      " Frequency in Hz:               FREQ =    1.09000E+08\n",
      "\n",
      " Frequency in Hz:               FREQ =    1.10000E+08\n",
      "\n",
      " Frequency in Hz:               FREQ =    1.11000E+08\n",
      "\n",
      " Frequency in Hz:               FREQ =    1.12000E+08\n",
      "\n",
      " Frequency in Hz:               FREQ =    1.13000E+08\n",
      "\n",
      " Frequency in Hz:               FREQ =    1.14000E+08\n",
      "\n",
      " Frequency in Hz:               FREQ =    1.15000E+08\n",
      "\n",
      " Frequency in Hz:               FREQ =    1.16000E+08\n",
      "\n",
      " Frequency in Hz:               FREQ =    1.17000E+08\n",
      "\n",
      " Frequency in Hz:               FREQ =    1.18000E+08\n",
      "\n",
      " Frequency in Hz:               FREQ =    1.19000E+08\n",
      "\n",
      " Frequency in Hz:               FREQ =    1.20000E+08\n",
      "\n",
      " Frequency in Hz:               FREQ =    1.21000E+08\n",
      "\n",
      " Frequency in Hz:               FREQ =    1.22000E+08\n",
      "\n",
      " Frequency in Hz:               FREQ =    1.23000E+08\n",
      "\n",
      " Frequency in Hz:               FREQ =    1.24000E+08\n",
      "\n",
      " Frequency in Hz:               FREQ =    1.25000E+08\n",
      "\n",
      "AZ_antenna_axis = 0 deg\n"
     ]
    }
   ],
   "source": [
    "o = rf.read_beam_FEKO('nominal.out',0)"
   ]
  },
  {
   "cell_type": "code",
   "execution_count": 3,
   "id": "0ced2558",
   "metadata": {},
   "outputs": [],
   "source": [
    "theta = 90 - o[2]\n",
    "phi = o[1]\n",
    "freq = o[0]\n",
    "theta, phi = np.meshgrid(theta, phi)"
   ]
  },
  {
   "cell_type": "code",
   "execution_count": 4,
   "id": "3477f6fc",
   "metadata": {},
   "outputs": [],
   "source": [
    "xx = theta\n",
    "yy = phi\n",
    "sigma = 100\n",
    "def Acos(R, theta, miu, nu):\n",
    "    part1 = np.cos(miu*theta*np.pi/180)*(R/sigma)**miu\n",
    "    part2 = P(miu,nu,R**2/sigma**2)\n",
    "    part3 = np.exp(-R**2/(4*sigma**2))\n",
    "    return part1*part2*part3\n",
    "\n",
    "def Asin(R, theta, miu, nu):\n",
    "    part1 = np.sin(miu*theta*np.pi/180)*(R/sigma)**miu\n",
    "    part2 = P(miu,nu,R**2/sigma**2)\n",
    "    part3 = np.exp(-R**2/(4*sigma**2))\n",
    "    return part1*part2*part3\n",
    "\n",
    "def P(miu,nu,u):\n",
    "    returnarray = np.ones([360,91])\n",
    "    for i in range(360):\n",
    "        for j in range(91):\n",
    "            terms = []\n",
    "            p = 0\n",
    "            while p <= nu:\n",
    "                up = np.math.factorial(miu + nu)*np.math.factorial(nu)\n",
    "                down = np.math.factorial(miu + p)*np.math.factorial(p)*np.math.factorial(nu-p)\n",
    "                term = (-2)**(nu-p)* up/down * u[i][j]**p\n",
    "                terms.append(term)\n",
    "                p += 1\n",
    "            returnarray[i][j] = np.sum(terms)\n",
    "    return returnarray\n",
    "\n",
    "#Normalization\n",
    "def normalize(array):\n",
    "    q = 0\n",
    "    theta = 0\n",
    "    while theta <= 90:\n",
    "        for i in range(360):\n",
    "            q += (array[theta*360 + i])**2 * (np.pi/180)**2 * np.sin(theta*np.pi/180)\n",
    "        theta += 1\n",
    "    return array/q\n",
    "\n",
    "def TDH(rank):\n",
    "    \"\"\"return matrix A = [f1, f2, f3, ...] for rank 0 to rank TDH functions\"\"\"\n",
    "    zz00c = Acos(xx, yy, 0, 0)\n",
    "    zz00c2d = zz00c.flatten()\n",
    "    array = normalize(zz00c2d)\n",
    "    r = 1\n",
    "    while r <= rank:\n",
    "        m = 0\n",
    "        while m <= r:\n",
    "            if (r - m)%2 == 0:\n",
    "                n = (r - m)/2\n",
    "                if m == 0:\n",
    "                    cosine = Acos(xx,yy,m,n).T\n",
    "                    cosine2d = cosine.flatten()\n",
    "                    ncos = normalize(cosine2d)\n",
    "                    array = np.vstack((array, ncos))\n",
    "                    m += 2\n",
    "                else:\n",
    "                    cosine = Acos(xx,yy,m,n).T\n",
    "                    cosine2d = cosine.flatten()\n",
    "                    ncos = normalize(cosine2d)\n",
    "                    sine = Asin(xx,yy,m,n).T\n",
    "                    sine2d = sine.flatten()\n",
    "                    nsin = normalize(sine2d)\n",
    "                    array = np.vstack((array, ncos))\n",
    "                    array = np.vstack((array, nsin))\n",
    "                    m += 2\n",
    "            else:\n",
    "                m += 1\n",
    "        r += 1\n",
    "    matrix = np.matrix(array).T\n",
    "    return matrix\n",
    "\n",
    "def model(rank, coe):\n",
    "    A = TDH(rank)\n",
    "    a = np.matrix(coe).T\n",
    "    return np.matmul(A,a)\n",
    "\n",
    "def simulation(coe, sigma):\n",
    "    rank = 0\n",
    "    count = 1\n",
    "    length = len(coe) - 1\n",
    "    while length > count:\n",
    "        rank += 1\n",
    "        count += rank + 1\n",
    "    mo = model(rank,coe)\n",
    "    noise = np.random.default_rng().normal(0.0, sigma*np.max(mo),360*91)\n",
    "    noi = np.matrix(noise).T\n",
    "    data = mo + noi\n",
    "    return data\n",
    "\n",
    "def solve(A, data):\n",
    "    AT = A.T\n",
    "    ATA = np.matmul(AT,A)\n",
    "    ATAinverse = np.linalg.inv(ATA)\n",
    "    half = np.matmul(ATAinverse,AT)\n",
    "    x = np.matmul(half,data)\n",
    "    return x\n",
    "\n",
    "def residual(A,data):\n",
    "    x = solve(A, data)\n",
    "    AT = A.T\n",
    "    fittingmodel = np.matmul(A, x)\n",
    "    r = fittingmodel - data\n",
    "    return r\n",
    "\n",
    "def residual2D(A,data):\n",
    "    x = solve(A, data)\n",
    "    AT = A.T\n",
    "    fittingmodel = np.matmul(A, x)\n",
    "    r = fittingmodel - data\n",
    "    r2D = r.reshape(360,91)\n",
    "    return r2D\n",
    "\n",
    "def covariance(A,data):\n",
    "    AT = A.T\n",
    "    ATA = np.matmul(AT,A)\n",
    "    ATAinverse = np.linalg.inv(ATA)\n",
    "    r = residual(A,data)\n",
    "    rT = r.T\n",
    "    rTr = np.matmul(rT,r)\n",
    "    s = rTr/((len(data))-10)\n",
    "    s2 = s.item(0)\n",
    "    covariance = s2*ATAinverse\n",
    "    return covariance"
   ]
  },
  {
   "cell_type": "code",
   "execution_count": 5,
   "id": "7248a5ca",
   "metadata": {},
   "outputs": [],
   "source": [
    "rank0 = TDH(0)"
   ]
  },
  {
   "cell_type": "code",
   "execution_count": 6,
   "id": "bb76fed6",
   "metadata": {},
   "outputs": [],
   "source": [
    "rank02d = rank0.reshape(360,91)"
   ]
  },
  {
   "cell_type": "code",
   "execution_count": 7,
   "id": "59a12642",
   "metadata": {},
   "outputs": [],
   "source": [
    "slice1 = rank02d[0]\n",
    "slice1 = np.array(slice1)\n",
    "slice1 = slice1[0]"
   ]
  },
  {
   "cell_type": "code",
   "execution_count": 8,
   "id": "17433390",
   "metadata": {},
   "outputs": [],
   "source": [
    "x = np.arange(0,91,1)"
   ]
  },
  {
   "cell_type": "code",
   "execution_count": 9,
   "id": "8dbd9c05",
   "metadata": {},
   "outputs": [],
   "source": [
    "def Gaussian(A, sigx):\n",
    "    return A * np.exp(-(x-90)**2/2/sigx**2) "
   ]
  },
  {
   "cell_type": "code",
   "execution_count": 10,
   "id": "aaeae7c5",
   "metadata": {},
   "outputs": [],
   "source": [
    "# Define model to simulate data\n",
    "def model1(paras):\n",
    "    A, sigx = paras\n",
    "    return Gaussian(A,sigx)"
   ]
  },
  {
   "cell_type": "code",
   "execution_count": 11,
   "id": "5c06eb72",
   "metadata": {},
   "outputs": [],
   "source": [
    "sigma1 = np.std(slice1)\n",
    "param_names = ['A', 'sigx']\n",
    "def my_prior_transform(cube):\n",
    "    params = cube.copy()\n",
    "\n",
    "    # transform location parameter: uniform prior\n",
    "    lo = 0\n",
    "    hi = 20\n",
    "    params[0] = cube[0] * (hi - lo) + lo\n",
    "\n",
    "    lo = 1\n",
    "    hi = 200\n",
    "    params[1] = cube[1] * (hi - lo) + lo\n",
    "\n",
    "    return params\n",
    "def my_likelihood(params):\n",
    "    mo = model1(params)\n",
    "    diff = mo - slice1\n",
    "    return -0.5 * np.sum((diff/sigma1)**2)"
   ]
  },
  {
   "cell_type": "code",
   "execution_count": 12,
   "id": "40b9fdb5",
   "metadata": {},
   "outputs": [],
   "source": [
    "sampler = ultranest.ReactiveNestedSampler(param_names, my_likelihood, my_prior_transform)"
   ]
  },
  {
   "cell_type": "code",
   "execution_count": 13,
   "id": "3874948f",
   "metadata": {},
   "outputs": [
    {
     "name": "stdout",
     "output_type": "stream",
     "text": [
      "[ultranest] Sampling 200 live points from prior ...\n"
     ]
    },
    {
     "data": {
      "application/vnd.jupyter.widget-view+json": {
       "model_id": "b01009757aed499f8f12801220d9da51",
       "version_major": 2,
       "version_minor": 0
      },
      "text/plain": [
       "VBox(children=(HTML(value=''), GridspecLayout(children=(HTML(value=\"<div style='background-color:#6E6BF4;'>&nb…"
      ]
     },
     "metadata": {},
     "output_type": "display_data"
    },
    {
     "name": "stdout",
     "output_type": "stream",
     "text": [
      "[ultranest] Explored until L=-5e-05  -0.0114..-0.0113]*| it/evals=3195/4914 eff=67.7768% N=200        0  0  0 0   0 0  0 \n",
      "[ultranest] Likelihood function evaluations: 4916\n",
      "[ultranest]   logZ = -11.42 +- 0.135\n",
      "[ultranest] Effective samples strategy satisfied (ESS = 796.7, need >400)\n",
      "[ultranest] Posterior uncertainty strategy is satisfied (KL: 0.47+-0.10 nat, need <0.50 nat)\n",
      "[ultranest] Evidency uncertainty strategy is satisfied (dlogz=0.14, need <0.5)\n",
      "[ultranest]   logZ error budget: single: 0.23 bs:0.13 tail:0.01 total:0.14 required:<0.50\n",
      "[ultranest] done iterating.\n",
      "\n",
      "logZ = -11.384 +- 0.323\n",
      "  single instance: logZ = -11.384 +- 0.228\n",
      "  bootstrapped   : logZ = -11.419 +- 0.322\n",
      "  tail           : logZ = +- 0.010\n",
      "insert order U test : converged: True correlation: inf iterations\n",
      "\n",
      "    A                   : 0.1722│ ▁ ▁ ▁▁▁▁▁▁▁▁▂▃▅▄▅▆▆▇▇▇▆▆▅▃▃▃▂▂▁▁▁▁▁▁▁ │0.1850    0.1792 +- 0.0016\n",
      "    sigx                : 115.4 │ ▁▁▁▁▁▁▁▂▃▄▅▅▅▅▅▇▅▄▃▂▂▂▁▁▁▁▁▁▁▁▁▁▁ ▁ ▁ │185.7     143.2 +- 7.9\n",
      "\n"
     ]
    }
   ],
   "source": [
    "result = sampler.run(min_num_live_points=200)\n",
    "sampler.print_results()"
   ]
  },
  {
   "cell_type": "code",
   "execution_count": 14,
   "id": "5955da9d",
   "metadata": {},
   "outputs": [
    {
     "ename": "TypeError",
     "evalue": "model() missing 1 required positional argument: 'coe'",
     "output_type": "error",
     "traceback": [
      "\u001b[0;31m---------------------------------------------------------------------------\u001b[0m",
      "\u001b[0;31mTypeError\u001b[0m                                 Traceback (most recent call last)",
      "\u001b[0;32m<ipython-input-14-3f091567060e>\u001b[0m in \u001b[0;36m<module>\u001b[0;34m\u001b[0m\n\u001b[1;32m      1\u001b[0m \u001b[0mplt\u001b[0m\u001b[0;34m.\u001b[0m\u001b[0mplot\u001b[0m\u001b[0;34m(\u001b[0m\u001b[0mslice1\u001b[0m\u001b[0;34m)\u001b[0m\u001b[0;34m\u001b[0m\u001b[0;34m\u001b[0m\u001b[0m\n\u001b[0;32m----> 2\u001b[0;31m \u001b[0mplt\u001b[0m\u001b[0;34m.\u001b[0m\u001b[0mplot\u001b[0m\u001b[0;34m(\u001b[0m\u001b[0mmodel\u001b[0m\u001b[0;34m(\u001b[0m\u001b[0;34m[\u001b[0m\u001b[0;36m8.06\u001b[0m\u001b[0;34m,\u001b[0m\u001b[0;36m1.47\u001b[0m\u001b[0;34m]\u001b[0m\u001b[0;34m)\u001b[0m\u001b[0;34m)\u001b[0m\u001b[0;34m\u001b[0m\u001b[0;34m\u001b[0m\u001b[0m\n\u001b[0m",
      "\u001b[0;31mTypeError\u001b[0m: model() missing 1 required positional argument: 'coe'"
     ]
    },
    {
     "data": {
      "image/png": "[encoded data removed]",
      "text/plain": [
       "<Figure size 432x288 with 1 Axes>"
      ]
     },
     "metadata": {
      "needs_background": "light"
     },
     "output_type": "display_data"
    }
   ],
   "source": [
    "plt.plot(slice1)\n",
    "plt.plot(model([8.06,1.47]))"
   ]
  },
  {
   "cell_type": "code",
   "execution_count": 186,
   "id": "8a8e649b",
   "metadata": {},
   "outputs": [
    {
     "data": {
      "text/plain": [
       "[<matplotlib.lines.Line2D at 0x7f9e199f48e0>]"
      ]
     },
     "execution_count": 186,
     "metadata": {},
     "output_type": "execute_result"
    },
    {
     "data": {
      "image/png": "[encoded data removed]",
      "text/plain": [
       "<Figure size 432x288 with 1 Axes>"
      ]
     },
     "metadata": {
      "needs_background": "light"
     },
     "output_type": "display_data"
    }
   ],
   "source": [
    "residual = slice1 - model([0.1871,143,102])\n",
    "plt.plot(slice1)\n",
    "plt.plot(model([0.1871,143,102]))\n",
    "plt.plot(residual)"
   ]
  },
  {
   "cell_type": "code",
   "execution_count": 15,
   "id": "b3af30d0",
   "metadata": {},
   "outputs": [
    {
     "name": "stdout",
     "output_type": "stream",
     "text": [
      "[ultranest] Sampling 200 live points from prior ...\n"
     ]
    },
    {
     "data": {
      "application/vnd.jupyter.widget-view+json": {
       "model_id": "b37099a529cd407998405336cd51d986",
       "version_major": 2,
       "version_minor": 0
      },
      "text/plain": [
       "VBox(children=(HTML(value=''), GridspecLayout(children=(HTML(value=\"<div style='background-color:#6E6BF4;'>&nb…"
      ]
     },
     "metadata": {},
     "output_type": "display_data"
    },
    {
     "name": "stdout",
     "output_type": "stream",
     "text": [
      "[ultranest] Explored until L=-2e-06  0.0091..-0.0091]*| it/evals=2565/4853 eff=55.1257% N=200        0 0 \n",
      "[ultranest] Likelihood function evaluations: 4860\n",
      "[ultranest]   logZ = -8.221 +- 0.119\n",
      "[ultranest] Effective samples strategy satisfied (ESS = 800.2, need >400)\n",
      "[ultranest] Posterior uncertainty strategy is satisfied (KL: 0.45+-0.10 nat, need <0.50 nat)\n",
      "[ultranest] Evidency uncertainty strategy is satisfied (dlogz=0.12, need <0.5)\n",
      "[ultranest]   logZ error budget: single: 0.19 bs:0.12 tail:0.01 total:0.12 required:<0.50\n",
      "[ultranest] done iterating.\n",
      "[ultranest] Sampling 200 live points from prior ...\n"
     ]
    },
    {
     "data": {
      "application/vnd.jupyter.widget-view+json": {
       "model_id": "26bd36e8456743f6a96bca57152cca3b",
       "version_major": 2,
       "version_minor": 0
      },
      "text/plain": [
       "VBox(children=(HTML(value=''), GridspecLayout(children=(HTML(value=\"<div style='background-color:#6E6BF4;'>&nb…"
      ]
     },
     "metadata": {},
     "output_type": "display_data"
    },
    {
     "name": "stdout",
     "output_type": "stream",
     "text": [
      "[ultranest] Explored until L=-3e-05  0.0117..-0.0117]*| it/evals=2520/4377 eff=60.3304% N=200       0 0  \n",
      "[ultranest] Likelihood function evaluations: 4380\n",
      "[ultranest]   logZ = -7.978 +- 0.1123\n",
      "[ultranest] Effective samples strategy satisfied (ESS = 814.7, need >400)\n",
      "[ultranest] Posterior uncertainty strategy is satisfied (KL: 0.46+-0.14 nat, need <0.50 nat)\n",
      "[ultranest] Evidency uncertainty strategy is satisfied (dlogz=0.11, need <0.5)\n",
      "[ultranest]   logZ error budget: single: 0.19 bs:0.11 tail:0.01 total:0.11 required:<0.50\n",
      "[ultranest] done iterating.\n",
      "[ultranest] Sampling 200 live points from prior ...\n"
     ]
    },
    {
     "data": {
      "application/vnd.jupyter.widget-view+json": {
       "model_id": "fdc67f8d80e741248ea5390aab67e7da",
       "version_major": 2,
       "version_minor": 0
      },
      "text/plain": [
       "VBox(children=(HTML(value=''), GridspecLayout(children=(HTML(value=\"<div style='background-color:#6E6BF4;'>&nb…"
      ]
     },
     "metadata": {},
     "output_type": "display_data"
    },
    {
     "name": "stdout",
     "output_type": "stream",
     "text": [
      "[ultranest] Explored until L=-8e-05  0.0090..-0.0090]*| it/evals=2500/4143 eff=63.4035% N=200       0 0  \n",
      "[ultranest] Likelihood function evaluations: 4164\n",
      "[ultranest]   logZ = -7.949 +- 0.1434\n",
      "[ultranest] Effective samples strategy satisfied (ESS = 810.0, need >400)\n",
      "[ultranest] Posterior uncertainty strategy is satisfied (KL: 0.45+-0.07 nat, need <0.50 nat)\n",
      "[ultranest] Evidency uncertainty strategy is satisfied (dlogz=0.14, need <0.5)\n",
      "[ultranest]   logZ error budget: single: 0.19 bs:0.14 tail:0.01 total:0.14 required:<0.50\n",
      "[ultranest] done iterating.\n",
      "[ultranest] Sampling 200 live points from prior ...\n"
     ]
    },
    {
     "data": {
      "application/vnd.jupyter.widget-view+json": {
       "model_id": "d6c09dd04eca4ac4b229383e9010b96f",
       "version_major": 2,
       "version_minor": 0
      },
      "text/plain": [
       "VBox(children=(HTML(value=''), GridspecLayout(children=(HTML(value=\"<div style='background-color:#6E6BF4;'>&nb…"
      ]
     },
     "metadata": {},
     "output_type": "display_data"
    },
    {
     "name": "stdout",
     "output_type": "stream",
     "text": [
      "[ultranest] Explored until L=-2e-05  0.0096..-0.0096]*| it/evals=2480/4298 eff=60.5173% N=200    0  0 0  0 \n",
      "[ultranest] Likelihood function evaluations: 4316\n",
      "[ultranest]   logZ = -7.859 +- 0.1389\n",
      "[ultranest] Effective samples strategy satisfied (ESS = 800.6, need >400)\n",
      "[ultranest] Posterior uncertainty strategy is satisfied (KL: 0.46+-0.12 nat, need <0.50 nat)\n",
      "[ultranest] Evidency uncertainty strategy is satisfied (dlogz=0.14, need <0.5)\n",
      "[ultranest]   logZ error budget: single: 0.19 bs:0.14 tail:0.01 total:0.14 required:<0.50\n",
      "[ultranest] done iterating.\n",
      "[ultranest] Sampling 200 live points from prior ...\n"
     ]
    },
    {
     "data": {
      "application/vnd.jupyter.widget-view+json": {
       "model_id": "629bb5b3838f4da9b5bcb1721a238c72",
       "version_major": 2,
       "version_minor": 0
      },
      "text/plain": [
       "VBox(children=(HTML(value=''), GridspecLayout(children=(HTML(value=\"<div style='background-color:#6E6BF4;'>&nb…"
      ]
     },
     "metadata": {},
     "output_type": "display_data"
    },
    {
     "name": "stdout",
     "output_type": "stream",
     "text": [
      "[ultranest] Explored until L=-1e-05  0.0075..-0.0075]*| it/evals=2480/4310 eff=60.3406% N=200  0    0   0 \n",
      "[ultranest] Likelihood function evaluations: 4332\n",
      "[ultranest]   logZ = -7.915 +- 0.1552\n",
      "[ultranest] Effective samples strategy satisfied (ESS = 785.4, need >400)\n",
      "[ultranest] Posterior uncertainty strategy is satisfied (KL: 0.45+-0.11 nat, need <0.50 nat)\n",
      "[ultranest] Evidency uncertainty strategy is satisfied (dlogz=0.16, need <0.5)\n",
      "[ultranest]   logZ error budget: single: 0.19 bs:0.16 tail:0.01 total:0.16 required:<0.50\n",
      "[ultranest] done iterating.\n",
      "[ultranest] Sampling 200 live points from prior ...\n"
     ]
    },
    {
     "data": {
      "application/vnd.jupyter.widget-view+json": {
       "model_id": "2d66c05b56d64eda8b8413b941c72d1e",
       "version_major": 2,
       "version_minor": 0
      },
      "text/plain": [
       "VBox(children=(HTML(value=''), GridspecLayout(children=(HTML(value=\"<div style='background-color:#6E6BF4;'>&nb…"
      ]
     },
     "metadata": {},
     "output_type": "display_data"
    },
    {
     "name": "stdout",
     "output_type": "stream",
     "text": [
      "[ultranest] Explored until L=-1e-05  0.0085..-0.0085]*| it/evals=2520/4192 eff=63.1263% N=200  0 0  0 0 0  \n",
      "[ultranest] Likelihood function evaluations: 4197\n",
      "[ultranest]   logZ = -8.002 +- 0.1258\n",
      "[ultranest] Effective samples strategy satisfied (ESS = 790.8, need >400)\n",
      "[ultranest] Posterior uncertainty strategy is satisfied (KL: 0.46+-0.13 nat, need <0.50 nat)\n",
      "[ultranest] Evidency uncertainty strategy is satisfied (dlogz=0.13, need <0.5)\n",
      "[ultranest]   logZ error budget: single: 0.19 bs:0.13 tail:0.01 total:0.13 required:<0.50\n",
      "[ultranest] done iterating.\n",
      "[ultranest] Sampling 200 live points from prior ...\n"
     ]
    },
    {
     "data": {
      "application/vnd.jupyter.widget-view+json": {
       "model_id": "aece74cbd46d493cb429236550ef6c21",
       "version_major": 2,
       "version_minor": 0
      },
      "text/plain": [
       "VBox(children=(HTML(value=''), GridspecLayout(children=(HTML(value=\"<div style='background-color:#6E6BF4;'>&nb…"
      ]
     },
     "metadata": {},
     "output_type": "display_data"
    },
    {
     "name": "stdout",
     "output_type": "stream",
     "text": [
      "[ultranest] Explored until L=-5e-06  0.0062..-0.0062]*| it/evals=2565/4540 eff=59.1014% N=200    0  0 0 0  \n",
      "[ultranest] Likelihood function evaluations: 4558\n",
      "[ultranest]   logZ = -8.3 +- 0.1391\n",
      "[ultranest] Effective samples strategy satisfied (ESS = 811.7, need >400)\n",
      "[ultranest] Posterior uncertainty strategy is satisfied (KL: 0.47+-0.08 nat, need <0.50 nat)\n",
      "[ultranest] Evidency uncertainty strategy is satisfied (dlogz=0.14, need <0.5)\n",
      "[ultranest]   logZ error budget: single: 0.19 bs:0.14 tail:0.01 total:0.14 required:<0.50\n",
      "[ultranest] done iterating.\n",
      "[ultranest] Sampling 200 live points from prior ...\n"
     ]
    },
    {
     "data": {
      "application/vnd.jupyter.widget-view+json": {
       "model_id": "0ccf68b2cdb94c0dbce733c11a76195d",
       "version_major": 2,
       "version_minor": 0
      },
      "text/plain": [
       "VBox(children=(HTML(value=''), GridspecLayout(children=(HTML(value=\"<div style='background-color:#6E6BF4;'>&nb…"
      ]
     },
     "metadata": {},
     "output_type": "display_data"
    },
    {
     "name": "stdout",
     "output_type": "stream",
     "text": [
      "[ultranest] Explored until L=-3e-05  0.0079..-0.0079]*| it/evals=2560/4083 eff=65.9284% N=200    0  0 0 0  \n",
      "[ultranest] Likelihood function evaluations: 4089\n",
      "[ultranest]   logZ = -8.218 +- 0.1237\n",
      "[ultranest] Effective samples strategy satisfied (ESS = 782.7, need >400)\n",
      "[ultranest] Posterior uncertainty strategy is satisfied (KL: 0.45+-0.07 nat, need <0.50 nat)\n",
      "[ultranest] Evidency uncertainty strategy is satisfied (dlogz=0.12, need <0.5)\n",
      "[ultranest]   logZ error budget: single: 0.19 bs:0.12 tail:0.01 total:0.12 required:<0.50\n",
      "[ultranest] done iterating.\n",
      "[ultranest] Sampling 200 live points from prior ...\n"
     ]
    },
    {
     "data": {
      "application/vnd.jupyter.widget-view+json": {
       "model_id": "e7435ce68ef94f57a7ba41d08980d89a",
       "version_major": 2,
       "version_minor": 0
      },
      "text/plain": [
       "VBox(children=(HTML(value=''), GridspecLayout(children=(HTML(value=\"<div style='background-color:#6E6BF4;'>&nb…"
      ]
     },
     "metadata": {},
     "output_type": "display_data"
    },
    {
     "name": "stdout",
     "output_type": "stream",
     "text": [
      "[ultranest] Explored until L=-2e-05  0.0127..-0.0127]*| it/evals=2500/4065 eff=64.6831% N=200    0  0 0 0 0 \n",
      "[ultranest] Likelihood function evaluations: 4082\n",
      "[ultranest]   logZ = -7.892 +- 0.1321\n",
      "[ultranest] Effective samples strategy satisfied (ESS = 801.6, need >400)\n",
      "[ultranest] Posterior uncertainty strategy is satisfied (KL: 0.48+-0.10 nat, need <0.50 nat)\n",
      "[ultranest] Evidency uncertainty strategy is satisfied (dlogz=0.13, need <0.5)\n",
      "[ultranest]   logZ error budget: single: 0.19 bs:0.13 tail:0.01 total:0.13 required:<0.50\n",
      "[ultranest] done iterating.\n",
      "[ultranest] Sampling 200 live points from prior ...\n"
     ]
    },
    {
     "data": {
      "application/vnd.jupyter.widget-view+json": {
       "model_id": "5f1380c56d8d4a73b8dabd2417a7c699",
       "version_major": 2,
       "version_minor": 0
      },
      "text/plain": [
       "VBox(children=(HTML(value=''), GridspecLayout(children=(HTML(value=\"<div style='background-color:#6E6BF4;'>&nb…"
      ]
     },
     "metadata": {},
     "output_type": "display_data"
    },
    {
     "name": "stdout",
     "output_type": "stream",
     "text": [
      "[ultranest] Explored until L=-0.0001  .0142..-0.0141]*| it/evals=2540/4177 eff=63.8672% N=200       0 0 0 0 \n",
      "[ultranest] Likelihood function evaluations: 4196\n",
      "[ultranest]   logZ = -8.119 +- 0.1502\n",
      "[ultranest] Effective samples strategy satisfied (ESS = 815.8, need >400)\n",
      "[ultranest] Posterior uncertainty strategy is satisfied (KL: 0.45+-0.09 nat, need <0.50 nat)\n",
      "[ultranest] Evidency uncertainty strategy is satisfied (dlogz=0.15, need <0.5)\n",
      "[ultranest]   logZ error budget: single: 0.19 bs:0.15 tail:0.01 total:0.15 required:<0.50\n",
      "[ultranest] done iterating.\n",
      "[ultranest] Sampling 200 live points from prior ...\n"
     ]
    },
    {
     "data": {
      "application/vnd.jupyter.widget-view+json": {
       "model_id": "85c5e43fd504437187f4ca46d53c144a",
       "version_major": 2,
       "version_minor": 0
      },
      "text/plain": [
       "VBox(children=(HTML(value=''), GridspecLayout(children=(HTML(value=\"<div style='background-color:#6E6BF4;'>&nb…"
      ]
     },
     "metadata": {},
     "output_type": "display_data"
    },
    {
     "name": "stdout",
     "output_type": "stream",
     "text": [
      "[ultranest] Explored until L=-0.0002  .0091..-0.0090]*| it/evals=2600/4351 eff=62.6355% N=200      0     0 0 \n",
      "[ultranest] Likelihood function evaluations: 4353\n",
      "[ultranest]   logZ = -8.374 +- 0.1341\n",
      "[ultranest] Effective samples strategy satisfied (ESS = 806.9, need >400)\n",
      "[ultranest] Posterior uncertainty strategy is satisfied (KL: 0.44+-0.09 nat, need <0.50 nat)\n",
      "[ultranest] Evidency uncertainty strategy is satisfied (dlogz=0.13, need <0.5)\n",
      "[ultranest]   logZ error budget: single: 0.19 bs:0.13 tail:0.01 total:0.13 required:<0.50\n",
      "[ultranest] done iterating.\n",
      "[ultranest] Sampling 200 live points from prior ...\n"
     ]
    },
    {
     "data": {
      "application/vnd.jupyter.widget-view+json": {
       "model_id": "1f2cbe3bb98d44aebc94c74f24211cac",
       "version_major": 2,
       "version_minor": 0
      },
      "text/plain": [
       "VBox(children=(HTML(value=''), GridspecLayout(children=(HTML(value=\"<div style='background-color:#6E6BF4;'>&nb…"
      ]
     },
     "metadata": {},
     "output_type": "display_data"
    },
    {
     "name": "stdout",
     "output_type": "stream",
     "text": [
      "[ultranest] Explored until L=-4e-05  0.0106..-0.0105]*| it/evals=2565/4204 eff=64.0609% N=200    0 0    0 0 0 \n",
      "[ultranest] Likelihood function evaluations: 4206\n",
      "[ultranest]   logZ = -8.255 +- 0.1405\n",
      "[ultranest] Effective samples strategy satisfied (ESS = 816.6, need >400)\n",
      "[ultranest] Posterior uncertainty strategy is satisfied (KL: 0.47+-0.11 nat, need <0.50 nat)\n",
      "[ultranest] Evidency uncertainty strategy is satisfied (dlogz=0.14, need <0.5)\n",
      "[ultranest]   logZ error budget: single: 0.19 bs:0.14 tail:0.01 total:0.14 required:<0.50\n",
      "[ultranest] done iterating.\n",
      "[ultranest] Sampling 200 live points from prior ...\n"
     ]
    },
    {
     "data": {
      "application/vnd.jupyter.widget-view+json": {
       "model_id": "3a77cc9a50d84fa78cce1f42b317313e",
       "version_major": 2,
       "version_minor": 0
      },
      "text/plain": [
       "VBox(children=(HTML(value=''), GridspecLayout(children=(HTML(value=\"<div style='background-color:#6E6BF4;'>&nb…"
      ]
     },
     "metadata": {},
     "output_type": "display_data"
    },
    {
     "name": "stdout",
     "output_type": "stream",
     "text": [
      "[ultranest] Explored until L=-9e-05  0.0121..-0.0121]*| it/evals=2610/4290 eff=63.8142% N=200    0 0    0 0  \n",
      "[ultranest] Likelihood function evaluations: 4296\n",
      "[ultranest]   logZ = -8.48 +- 0.1626\n",
      "[ultranest] Effective samples strategy satisfied (ESS = 804.8, need >400)\n",
      "[ultranest] Posterior uncertainty strategy is satisfied (KL: 0.46+-0.11 nat, need <0.50 nat)\n",
      "[ultranest] Evidency uncertainty strategy is satisfied (dlogz=0.16, need <0.5)\n",
      "[ultranest]   logZ error budget: single: 0.19 bs:0.16 tail:0.01 total:0.16 required:<0.50\n",
      "[ultranest] done iterating.\n",
      "[ultranest] Sampling 200 live points from prior ...\n"
     ]
    },
    {
     "data": {
      "application/vnd.jupyter.widget-view+json": {
       "model_id": "a1b644bef17a4e37bddead231e02d051",
       "version_major": 2,
       "version_minor": 0
      },
      "text/plain": [
       "VBox(children=(HTML(value=''), GridspecLayout(children=(HTML(value=\"<div style='background-color:#6E6BF4;'>&nb…"
      ]
     },
     "metadata": {},
     "output_type": "display_data"
    },
    {
     "name": "stdout",
     "output_type": "stream",
     "text": [
      "[ultranest] Explored until L=-3e-06  0.0073..-0.0073]*| it/evals=2610/4195 eff=65.3317% N=200     0 0   0 0  \n",
      "[ultranest] Likelihood function evaluations: 4196\n",
      "[ultranest]   logZ = -8.433 +- 0.159\n",
      "[ultranest] Effective samples strategy satisfied (ESS = 824.7, need >400)\n",
      "[ultranest] Posterior uncertainty strategy is satisfied (KL: 0.47+-0.09 nat, need <0.50 nat)\n",
      "[ultranest] Evidency uncertainty strategy is satisfied (dlogz=0.16, need <0.5)\n",
      "[ultranest]   logZ error budget: single: 0.19 bs:0.16 tail:0.01 total:0.16 required:<0.50\n",
      "[ultranest] done iterating.\n",
      "[ultranest] Sampling 200 live points from prior ...\n"
     ]
    },
    {
     "data": {
      "application/vnd.jupyter.widget-view+json": {
       "model_id": "90d7b2e66ce2410ebea06f4874bf265a",
       "version_major": 2,
       "version_minor": 0
      },
      "text/plain": [
       "VBox(children=(HTML(value=''), GridspecLayout(children=(HTML(value=\"<div style='background-color:#6E6BF4;'>&nb…"
      ]
     },
     "metadata": {},
     "output_type": "display_data"
    },
    {
     "name": "stdout",
     "output_type": "stream",
     "text": [
      "[ultranest] Explored until L=-0.0003  .0137..-0.0137]*| it/evals=2640/4416 eff=62.6186% N=200  0 0 0   00 0  \n",
      "[ultranest] Likelihood function evaluations: 4424\n",
      "[ultranest]   logZ = -8.622 +- 0.1733\n",
      "[ultranest] Effective samples strategy satisfied (ESS = 792.7, need >400)\n",
      "[ultranest] Posterior uncertainty strategy is satisfied (KL: 0.47+-0.10 nat, need <0.50 nat)\n",
      "[ultranest] Evidency uncertainty strategy is satisfied (dlogz=0.17, need <0.5)\n",
      "[ultranest]   logZ error budget: single: 0.19 bs:0.17 tail:0.01 total:0.17 required:<0.50\n",
      "[ultranest] done iterating.\n",
      "[ultranest] Sampling 200 live points from prior ...\n"
     ]
    },
    {
     "data": {
      "application/vnd.jupyter.widget-view+json": {
       "model_id": "0609eb22f9f84c2ba06a94a7c80726d0",
       "version_major": 2,
       "version_minor": 0
      },
      "text/plain": [
       "VBox(children=(HTML(value=''), GridspecLayout(children=(HTML(value=\"<div style='background-color:#6E6BF4;'>&nb…"
      ]
     },
     "metadata": {},
     "output_type": "display_data"
    },
    {
     "name": "stdout",
     "output_type": "stream",
     "text": [
      "[ultranest] Explored until L=-4e-05  0.0083..-0.0083]*| it/evals=2565/4223 eff=63.7584% N=200      0    0 0  \n",
      "[ultranest] Likelihood function evaluations: 4242\n",
      "[ultranest]   logZ = -8.269 +- 0.1273\n",
      "[ultranest] Effective samples strategy satisfied (ESS = 818.4, need >400)\n",
      "[ultranest] Posterior uncertainty strategy is satisfied (KL: 0.46+-0.11 nat, need <0.50 nat)\n",
      "[ultranest] Evidency uncertainty strategy is satisfied (dlogz=0.13, need <0.5)\n",
      "[ultranest]   logZ error budget: single: 0.19 bs:0.13 tail:0.01 total:0.13 required:<0.50\n",
      "[ultranest] done iterating.\n",
      "[ultranest] Sampling 200 live points from prior ...\n"
     ]
    },
    {
     "data": {
      "application/vnd.jupyter.widget-view+json": {
       "model_id": "440ce473ebb04bf1ba942fc2f600e741",
       "version_major": 2,
       "version_minor": 0
      },
      "text/plain": [
       "VBox(children=(HTML(value=''), GridspecLayout(children=(HTML(value=\"<div style='background-color:#6E6BF4;'>&nb…"
      ]
     },
     "metadata": {},
     "output_type": "display_data"
    },
    {
     "name": "stdout",
     "output_type": "stream",
     "text": [
      "[ultranest] Explored until L=-5e-05  0.0103..-0.0103]*| it/evals=2640/4205 eff=65.9176% N=200  0   0  0  00   \n",
      "[ultranest] Likelihood function evaluations: 4226\n",
      "[ultranest]   logZ = -8.653 +- 0.1394\n",
      "[ultranest] Effective samples strategy satisfied (ESS = 815.3, need >400)\n",
      "[ultranest] Posterior uncertainty strategy is satisfied (KL: 0.46+-0.11 nat, need <0.50 nat)\n",
      "[ultranest] Evidency uncertainty strategy is satisfied (dlogz=0.14, need <0.5)\n",
      "[ultranest]   logZ error budget: single: 0.20 bs:0.14 tail:0.01 total:0.14 required:<0.50\n",
      "[ultranest] done iterating.\n",
      "[ultranest] Sampling 200 live points from prior ...\n"
     ]
    },
    {
     "data": {
      "application/vnd.jupyter.widget-view+json": {
       "model_id": "45807f6a17bf439498f54d4ba5ad55f9",
       "version_major": 2,
       "version_minor": 0
      },
      "text/plain": [
       "VBox(children=(HTML(value=''), GridspecLayout(children=(HTML(value=\"<div style='background-color:#6E6BF4;'>&nb…"
      ]
     },
     "metadata": {},
     "output_type": "display_data"
    },
    {
     "name": "stdout",
     "output_type": "stream",
     "text": [
      "[ultranest] Explored until L=-9e-06  0.0086..-0.0085]*| it/evals=2600/4255 eff=64.1184% N=200    0 0  0 00   \n",
      "[ultranest] Likelihood function evaluations: 4257\n",
      "[ultranest]   logZ = -8.423 +- 0.1413\n",
      "[ultranest] Effective samples strategy satisfied (ESS = 816.6, need >400)\n",
      "[ultranest] Posterior uncertainty strategy is satisfied (KL: 0.45+-0.12 nat, need <0.50 nat)\n",
      "[ultranest] Evidency uncertainty strategy is satisfied (dlogz=0.14, need <0.5)\n",
      "[ultranest]   logZ error budget: single: 0.19 bs:0.14 tail:0.01 total:0.14 required:<0.50\n",
      "[ultranest] done iterating.\n",
      "[ultranest] Sampling 200 live points from prior ...\n"
     ]
    },
    {
     "data": {
      "application/vnd.jupyter.widget-view+json": {
       "model_id": "4aef8376e9e547c0b15e898ed5488f12",
       "version_major": 2,
       "version_minor": 0
      },
      "text/plain": [
       "VBox(children=(HTML(value=''), GridspecLayout(children=(HTML(value=\"<div style='background-color:#6E6BF4;'>&nb…"
      ]
     },
     "metadata": {},
     "output_type": "display_data"
    },
    {
     "name": "stdout",
     "output_type": "stream",
     "text": [
      "[ultranest] Explored until L=-8e-07  0.0081..-0.0081]*| it/evals=2640/4233 eff=65.4600% N=200      0  0 0    \n",
      "[ultranest] Likelihood function evaluations: 4246\n",
      "[ultranest]   logZ = -8.662 +- 0.1376\n",
      "[ultranest] Effective samples strategy satisfied (ESS = 825.9, need >400)\n",
      "[ultranest] Posterior uncertainty strategy is satisfied (KL: 0.46+-0.08 nat, need <0.50 nat)\n",
      "[ultranest] Evidency uncertainty strategy is satisfied (dlogz=0.14, need <0.5)\n",
      "[ultranest]   logZ error budget: single: 0.20 bs:0.14 tail:0.01 total:0.14 required:<0.50\n",
      "[ultranest] done iterating.\n",
      "[ultranest] Sampling 200 live points from prior ...\n"
     ]
    },
    {
     "data": {
      "application/vnd.jupyter.widget-view+json": {
       "model_id": "782cff937d134b59a08dfc2b2b42b0c3",
       "version_major": 2,
       "version_minor": 0
      },
      "text/plain": [
       "VBox(children=(HTML(value=''), GridspecLayout(children=(HTML(value=\"<div style='background-color:#6E6BF4;'>&nb…"
      ]
     },
     "metadata": {},
     "output_type": "display_data"
    },
    {
     "name": "stdout",
     "output_type": "stream",
     "text": [
      "[ultranest] Explored until L=-1e-05  0.0087..-0.0086]*| it/evals=2640/4384 eff=63.0975% N=200  0   0   0 00   \n",
      "[ultranest] Likelihood function evaluations: 4389\n",
      "[ultranest]   logZ = -8.603 +- 0.1198\n",
      "[ultranest] Effective samples strategy satisfied (ESS = 787.8, need >400)\n",
      "[ultranest] Posterior uncertainty strategy is satisfied (KL: 0.46+-0.15 nat, need <0.50 nat)\n",
      "[ultranest] Evidency uncertainty strategy is satisfied (dlogz=0.12, need <0.5)\n",
      "[ultranest]   logZ error budget: single: 0.20 bs:0.12 tail:0.01 total:0.12 required:<0.50\n",
      "[ultranest] done iterating.\n",
      "[ultranest] Sampling 200 live points from prior ...\n"
     ]
    },
    {
     "data": {
      "application/vnd.jupyter.widget-view+json": {
       "model_id": "95061f0bb60f4bbc8b8520b3c0562a91",
       "version_major": 2,
       "version_minor": 0
      },
      "text/plain": [
       "VBox(children=(HTML(value=''), GridspecLayout(children=(HTML(value=\"<div style='background-color:#6E6BF4;'>&nb…"
      ]
     },
     "metadata": {},
     "output_type": "display_data"
    },
    {
     "name": "stdout",
     "output_type": "stream",
     "text": [
      "[ultranest] Explored until L=-0.0001  .0123..-0.0123]*| it/evals=2740/4449 eff=64.4858% N=200       00  0   0 \n",
      "[ultranest] Likelihood function evaluations: 4461\n",
      "[ultranest]   logZ = -9.112 +- 0.1469\n",
      "[ultranest] Effective samples strategy satisfied (ESS = 817.3, need >400)\n",
      "[ultranest] Posterior uncertainty strategy is satisfied (KL: 0.46+-0.12 nat, need <0.50 nat)\n",
      "[ultranest] Evidency uncertainty strategy is satisfied (dlogz=0.15, need <0.5)\n",
      "[ultranest]   logZ error budget: single: 0.20 bs:0.15 tail:0.01 total:0.15 required:<0.50\n",
      "[ultranest] done iterating.\n",
      "[ultranest] Sampling 200 live points from prior ...\n"
     ]
    },
    {
     "data": {
      "application/vnd.jupyter.widget-view+json": {
       "model_id": "c45f3e24d0e34654bb44b31a805d5817",
       "version_major": 2,
       "version_minor": 0
      },
      "text/plain": [
       "VBox(children=(HTML(value=''), GridspecLayout(children=(HTML(value=\"<div style='background-color:#6E6BF4;'>&nb…"
      ]
     },
     "metadata": {},
     "output_type": "display_data"
    },
    {
     "name": "stdout",
     "output_type": "stream",
     "text": [
      "[ultranest] Explored until L=-1e-05  0.0125..-0.0125]*| it/evals=2720/4405 eff=64.6849% N=200       0 0 00   0 \n",
      "[ultranest] Likelihood function evaluations: 4410\n",
      "[ultranest]   logZ = -9.009 +- 0.1542\n",
      "[ultranest] Effective samples strategy satisfied (ESS = 808.9, need >400)\n",
      "[ultranest] Posterior uncertainty strategy is satisfied (KL: 0.45+-0.10 nat, need <0.50 nat)\n",
      "[ultranest] Evidency uncertainty strategy is satisfied (dlogz=0.15, need <0.5)\n",
      "[ultranest]   logZ error budget: single: 0.20 bs:0.15 tail:0.01 total:0.15 required:<0.50\n",
      "[ultranest] done iterating.\n",
      "[ultranest] Sampling 200 live points from prior ...\n"
     ]
    },
    {
     "data": {
      "application/vnd.jupyter.widget-view+json": {
       "model_id": "4d900156542f44ee8a02aa2e6d06cd8e",
       "version_major": 2,
       "version_minor": 0
      },
      "text/plain": [
       "VBox(children=(HTML(value=''), GridspecLayout(children=(HTML(value=\"<div style='background-color:#6E6BF4;'>&nb…"
      ]
     },
     "metadata": {},
     "output_type": "display_data"
    },
    {
     "name": "stdout",
     "output_type": "stream",
     "text": [
      "[ultranest] Explored until L=-1e-05  0.0118..-0.0118]*| it/evals=2720/4398 eff=64.7928% N=200    0    0 0   00 \n",
      "[ultranest] Likelihood function evaluations: 4399\n",
      "[ultranest]   logZ = -8.989 +- 0.1654\n",
      "[ultranest] Effective samples strategy satisfied (ESS = 812.9, need >400)\n",
      "[ultranest] Posterior uncertainty strategy is satisfied (KL: 0.47+-0.12 nat, need <0.50 nat)\n",
      "[ultranest] Evidency uncertainty strategy is satisfied (dlogz=0.17, need <0.5)\n",
      "[ultranest]   logZ error budget: single: 0.20 bs:0.17 tail:0.01 total:0.17 required:<0.50\n",
      "[ultranest] done iterating.\n",
      "[ultranest] Sampling 200 live points from prior ...\n"
     ]
    },
    {
     "data": {
      "application/vnd.jupyter.widget-view+json": {
       "model_id": "8fb5a760269d46aa9a4631115dae3660",
       "version_major": 2,
       "version_minor": 0
      },
      "text/plain": [
       "VBox(children=(HTML(value=''), GridspecLayout(children=(HTML(value=\"<div style='background-color:#6E6BF4;'>&nb…"
      ]
     },
     "metadata": {},
     "output_type": "display_data"
    },
    {
     "name": "stdout",
     "output_type": "stream",
     "text": [
      "[ultranest] Explored until L=-3e-05  0.0084..-0.0084]*| it/evals=2640/4235 eff=65.4275% N=200  0   0  0 0   00 \n",
      "[ultranest] Likelihood function evaluations: 4259\n",
      "[ultranest]   logZ = -8.72 +- 0.1431\n",
      "[ultranest] Effective samples strategy satisfied (ESS = 819.4, need >400)\n",
      "[ultranest] Posterior uncertainty strategy is satisfied (KL: 0.46+-0.05 nat, need <0.50 nat)\n",
      "[ultranest] Evidency uncertainty strategy is satisfied (dlogz=0.14, need <0.5)\n",
      "[ultranest]   logZ error budget: single: 0.20 bs:0.14 tail:0.01 total:0.14 required:<0.50\n",
      "[ultranest] done iterating.\n",
      "[ultranest] Sampling 200 live points from prior ...\n"
     ]
    },
    {
     "data": {
      "application/vnd.jupyter.widget-view+json": {
       "model_id": "266796d796e14ad7935a9dbd7859a363",
       "version_major": 2,
       "version_minor": 0
      },
      "text/plain": [
       "VBox(children=(HTML(value=''), GridspecLayout(children=(HTML(value=\"<div style='background-color:#6E6BF4;'>&nb…"
      ]
     },
     "metadata": {},
     "output_type": "display_data"
    },
    {
     "name": "stdout",
     "output_type": "stream",
     "text": [
      "[ultranest] Explored until L=-9e-06  0.0131..-0.0130]*| it/evals=2720/4323 eff=65.9714% N=200         0 0  0 0  \n",
      "[ultranest] Likelihood function evaluations: 4342\n",
      "[ultranest]   logZ = -9.056 +- 0.1562\n",
      "[ultranest] Effective samples strategy satisfied (ESS = 800.4, need >400)\n",
      "[ultranest] Posterior uncertainty strategy is satisfied (KL: 0.47+-0.11 nat, need <0.50 nat)\n",
      "[ultranest] Evidency uncertainty strategy is satisfied (dlogz=0.16, need <0.5)\n",
      "[ultranest]   logZ error budget: single: 0.20 bs:0.16 tail:0.01 total:0.16 required:<0.50\n",
      "[ultranest] done iterating.\n",
      "[ultranest] Sampling 200 live points from prior ...\n"
     ]
    },
    {
     "data": {
      "application/vnd.jupyter.widget-view+json": {
       "model_id": "32c3dbc458de4470a5649e1c93008238",
       "version_major": 2,
       "version_minor": 0
      },
      "text/plain": [
       "VBox(children=(HTML(value=''), GridspecLayout(children=(HTML(value=\"<div style='background-color:#6E6BF4;'>&nb…"
      ]
     },
     "metadata": {},
     "output_type": "display_data"
    },
    {
     "name": "stdout",
     "output_type": "stream",
     "text": [
      "[ultranest] Explored until L=-7e-05  0.0120..-0.0119]*| it/evals=2790/4628 eff=63.0081% N=200      0 00  0 0    \n",
      "[ultranest] Likelihood function evaluations: 4633\n",
      "[ultranest]   logZ = -9.422 +- 0.1659\n",
      "[ultranest] Effective samples strategy satisfied (ESS = 822.9, need >400)\n",
      "[ultranest] Posterior uncertainty strategy is satisfied (KL: 0.45+-0.07 nat, need <0.50 nat)\n",
      "[ultranest] Evidency uncertainty strategy is satisfied (dlogz=0.17, need <0.5)\n",
      "[ultranest]   logZ error budget: single: 0.20 bs:0.17 tail:0.01 total:0.17 required:<0.50\n",
      "[ultranest] done iterating.\n",
      "[ultranest] Sampling 200 live points from prior ...\n"
     ]
    },
    {
     "data": {
      "application/vnd.jupyter.widget-view+json": {
       "model_id": "d641dfccfc5642618e119943137de7e6",
       "version_major": 2,
       "version_minor": 0
      },
      "text/plain": [
       "VBox(children=(HTML(value=''), GridspecLayout(children=(HTML(value=\"<div style='background-color:#6E6BF4;'>&nb…"
      ]
     },
     "metadata": {},
     "output_type": "display_data"
    },
    {
     "name": "stdout",
     "output_type": "stream",
     "text": [
      "[ultranest] Explored until L=-6e-05  0.0111..-0.0110]*| it/evals=2740/4525 eff=63.3526% N=200        0  0   00 \n",
      "[ultranest] Likelihood function evaluations: 4527\n",
      "[ultranest]   logZ = -9.098 +- 0.1834\n",
      "[ultranest] Effective samples strategy satisfied (ESS = 798.3, need >400)\n",
      "[ultranest] Posterior uncertainty strategy is satisfied (KL: 0.46+-0.10 nat, need <0.50 nat)\n",
      "[ultranest] Evidency uncertainty strategy is satisfied (dlogz=0.18, need <0.5)\n",
      "[ultranest]   logZ error budget: single: 0.20 bs:0.18 tail:0.01 total:0.18 required:<0.50\n",
      "[ultranest] done iterating.\n",
      "[ultranest] Sampling 200 live points from prior ...\n"
     ]
    },
    {
     "data": {
      "application/vnd.jupyter.widget-view+json": {
       "model_id": "050c17b69fa840e0aecab715e438399a",
       "version_major": 2,
       "version_minor": 0
      },
      "text/plain": [
       "VBox(children=(HTML(value=''), GridspecLayout(children=(HTML(value=\"<div style='background-color:#6E6BF4;'>&nb…"
      ]
     },
     "metadata": {},
     "output_type": "display_data"
    },
    {
     "name": "stdout",
     "output_type": "stream",
     "text": [
      "[ultranest] Explored until L=-1e-06  0.0101..-0.0100]*| it/evals=2720/4395 eff=64.8391% N=200      0 0  0  0 0  \n",
      "[ultranest] Likelihood function evaluations: 4402\n",
      "[ultranest]   logZ = -9.096 +- 0.16\n",
      "[ultranest] Effective samples strategy satisfied (ESS = 791.9, need >400)\n",
      "[ultranest] Posterior uncertainty strategy is satisfied (KL: 0.46+-0.07 nat, need <0.50 nat)\n",
      "[ultranest] Evidency uncertainty strategy is satisfied (dlogz=0.16, need <0.5)\n",
      "[ultranest]   logZ error budget: single: 0.20 bs:0.16 tail:0.01 total:0.16 required:<0.50\n",
      "[ultranest] done iterating.\n",
      "[ultranest] Sampling 200 live points from prior ...\n"
     ]
    },
    {
     "data": {
      "application/vnd.jupyter.widget-view+json": {
       "model_id": "519bdacaee0d4a37b0b129a3adcf7464",
       "version_major": 2,
       "version_minor": 0
      },
      "text/plain": [
       "VBox(children=(HTML(value=''), GridspecLayout(children=(HTML(value=\"<div style='background-color:#6E6BF4;'>&nb…"
      ]
     },
     "metadata": {},
     "output_type": "display_data"
    },
    {
     "name": "stdout",
     "output_type": "stream",
     "text": [
      "[ultranest] Explored until L=-5e-06  0.0103..-0.0102]*| it/evals=2745/4634 eff=61.9080% N=200      0 0  0  0 0 0 \n",
      "[ultranest] Likelihood function evaluations: 4640\n",
      "[ultranest]   logZ = -9.151 +- 0.1512\n",
      "[ultranest] Effective samples strategy satisfied (ESS = 790.3, need >400)\n",
      "[ultranest] Posterior uncertainty strategy is satisfied (KL: 0.46+-0.09 nat, need <0.50 nat)\n",
      "[ultranest] Evidency uncertainty strategy is satisfied (dlogz=0.15, need <0.5)\n",
      "[ultranest]   logZ error budget: single: 0.20 bs:0.15 tail:0.01 total:0.15 required:<0.50\n",
      "[ultranest] done iterating.\n",
      "[ultranest] Sampling 200 live points from prior ...\n"
     ]
    },
    {
     "data": {
      "application/vnd.jupyter.widget-view+json": {
       "model_id": "042cd40d86c74f98b3d3910ead3a97cc",
       "version_major": 2,
       "version_minor": 0
      },
      "text/plain": [
       "VBox(children=(HTML(value=''), GridspecLayout(children=(HTML(value=\"<div style='background-color:#6E6BF4;'>&nb…"
      ]
     },
     "metadata": {},
     "output_type": "display_data"
    },
    {
     "name": "stdout",
     "output_type": "stream",
     "text": [
      "[ultranest] Explored until L=-2e-05  0.0091..-0.0091]*| it/evals=2800/4789 eff=61.0155% N=200        0  00 0 0 0 \n",
      "[ultranest] Likelihood function evaluations: 4797\n",
      "[ultranest]   logZ = -9.44 +- 0.1518\n",
      "[ultranest] Effective samples strategy satisfied (ESS = 783.4, need >400)\n",
      "[ultranest] Posterior uncertainty strategy is satisfied (KL: 0.46+-0.10 nat, need <0.50 nat)\n",
      "[ultranest] Evidency uncertainty strategy is satisfied (dlogz=0.15, need <0.5)\n",
      "[ultranest]   logZ error budget: single: 0.21 bs:0.15 tail:0.01 total:0.15 required:<0.50\n",
      "[ultranest] done iterating.\n",
      "[ultranest] Sampling 200 live points from prior ...\n"
     ]
    },
    {
     "data": {
      "application/vnd.jupyter.widget-view+json": {
       "model_id": "1fa0bd404bee418aa28e8fe04e710357",
       "version_major": 2,
       "version_minor": 0
      },
      "text/plain": [
       "VBox(children=(HTML(value=''), GridspecLayout(children=(HTML(value=\"<div style='background-color:#6E6BF4;'>&nb…"
      ]
     },
     "metadata": {},
     "output_type": "display_data"
    },
    {
     "name": "stdout",
     "output_type": "stream",
     "text": [
      "[ultranest] Explored until L=-6e-05  0.0136..-0.0135]*| it/evals=2680/4356 eff=64.4851% N=200        0  00 0 0 0 \n",
      "[ultranest] Likelihood function evaluations: 4385\n",
      "[ultranest]   logZ = -8.836 +- 0.1398\n",
      "[ultranest] Effective samples strategy satisfied (ESS = 808.6, need >400)\n",
      "[ultranest] Posterior uncertainty strategy is satisfied (KL: 0.46+-0.12 nat, need <0.50 nat)\n",
      "[ultranest] Evidency uncertainty strategy is satisfied (dlogz=0.14, need <0.5)\n",
      "[ultranest]   logZ error budget: single: 0.20 bs:0.14 tail:0.01 total:0.14 required:<0.50\n",
      "[ultranest] done iterating.\n",
      "[ultranest] Sampling 200 live points from prior ...\n"
     ]
    },
    {
     "data": {
      "application/vnd.jupyter.widget-view+json": {
       "model_id": "b530a191c2164b2290744e97b2c6255b",
       "version_major": 2,
       "version_minor": 0
      },
      "text/plain": [
       "VBox(children=(HTML(value=''), GridspecLayout(children=(HTML(value=\"<div style='background-color:#6E6BF4;'>&nb…"
      ]
     },
     "metadata": {},
     "output_type": "display_data"
    },
    {
     "name": "stdout",
     "output_type": "stream",
     "text": [
      "[ultranest] Explored until L=-0.0002  .0092..-0.0092]*| it/evals=2760/4506 eff=64.0966% N=200        0  0 0  0 0 \n",
      "[ultranest] Likelihood function evaluations: 4508\n",
      "[ultranest]   logZ = -9.159 +- 0.1442\n",
      "[ultranest] Effective samples strategy satisfied (ESS = 806.6, need >400)\n",
      "[ultranest] Posterior uncertainty strategy is satisfied (KL: 0.46+-0.09 nat, need <0.50 nat)\n",
      "[ultranest] Evidency uncertainty strategy is satisfied (dlogz=0.14, need <0.5)\n",
      "[ultranest]   logZ error budget: single: 0.20 bs:0.14 tail:0.01 total:0.14 required:<0.50\n",
      "[ultranest] done iterating.\n",
      "[ultranest] Sampling 200 live points from prior ...\n"
     ]
    },
    {
     "data": {
      "application/vnd.jupyter.widget-view+json": {
       "model_id": "c3788776665a4cfc9f4fd1041359c438",
       "version_major": 2,
       "version_minor": 0
      },
      "text/plain": [
       "VBox(children=(HTML(value=''), GridspecLayout(children=(HTML(value=\"<div style='background-color:#6E6BF4;'>&nb…"
      ]
     },
     "metadata": {},
     "output_type": "display_data"
    },
    {
     "name": "stdout",
     "output_type": "stream",
     "text": [
      "[ultranest] Explored until L=-3e-05  0.0099..-0.0098]*| it/evals=2800/4690 eff=62.3608% N=200    0   0 0 0   0 0  \n",
      "[ultranest] Likelihood function evaluations: 4704\n",
      "[ultranest]   logZ = -9.45 +- 0.1542\n",
      "[ultranest] Effective samples strategy satisfied (ESS = 804.7, need >400)\n",
      "[ultranest] Posterior uncertainty strategy is satisfied (KL: 0.46+-0.06 nat, need <0.50 nat)\n",
      "[ultranest] Evidency uncertainty strategy is satisfied (dlogz=0.15, need <0.5)\n",
      "[ultranest]   logZ error budget: single: 0.21 bs:0.15 tail:0.01 total:0.15 required:<0.50\n",
      "[ultranest] done iterating.\n",
      "[ultranest] Sampling 200 live points from prior ...\n"
     ]
    },
    {
     "data": {
      "application/vnd.jupyter.widget-view+json": {
       "model_id": "e6f30d8855a2484682a92b9e15364ce5",
       "version_major": 2,
       "version_minor": 0
      },
      "text/plain": [
       "VBox(children=(HTML(value=''), GridspecLayout(children=(HTML(value=\"<div style='background-color:#6E6BF4;'>&nb…"
      ]
     },
     "metadata": {},
     "output_type": "display_data"
    },
    {
     "name": "stdout",
     "output_type": "stream",
     "text": [
      "[ultranest] Explored until L=-4e-05  0.0084..-0.0084]*| it/evals=2790/4403 eff=66.3812% N=200        0 0    0 0  \n",
      "[ultranest] Likelihood function evaluations: 4406\n",
      "[ultranest]   logZ = -9.364 +- 0.1495\n",
      "[ultranest] Effective samples strategy satisfied (ESS = 770.0, need >400)\n",
      "[ultranest] Posterior uncertainty strategy is satisfied (KL: 0.45+-0.08 nat, need <0.50 nat)\n",
      "[ultranest] Evidency uncertainty strategy is satisfied (dlogz=0.15, need <0.5)\n",
      "[ultranest]   logZ error budget: single: 0.21 bs:0.15 tail:0.01 total:0.15 required:<0.50\n",
      "[ultranest] done iterating.\n",
      "[ultranest] Sampling 200 live points from prior ...\n"
     ]
    },
    {
     "data": {
      "application/vnd.jupyter.widget-view+json": {
       "model_id": "0900aad78cb94445af0b652b3fbb4d07",
       "version_major": 2,
       "version_minor": 0
      },
      "text/plain": [
       "VBox(children=(HTML(value=''), GridspecLayout(children=(HTML(value=\"<div style='background-color:#6E6BF4;'>&nb…"
      ]
     },
     "metadata": {},
     "output_type": "display_data"
    },
    {
     "name": "stdout",
     "output_type": "stream",
     "text": [
      "[ultranest] Explored until L=-2e-05  0.0105..-0.0105]*| it/evals=2800/4480 eff=65.4206% N=200    0   0 0 0   0 0  \n",
      "[ultranest] Likelihood function evaluations: 4507\n",
      "[ultranest]   logZ = -9.501 +- 0.1469\n",
      "[ultranest] Effective samples strategy satisfied (ESS = 776.3, need >400)\n",
      "[ultranest] Posterior uncertainty strategy is satisfied (KL: 0.46+-0.11 nat, need <0.50 nat)\n",
      "[ultranest] Evidency uncertainty strategy is satisfied (dlogz=0.15, need <0.5)\n",
      "[ultranest]   logZ error budget: single: 0.21 bs:0.15 tail:0.01 total:0.15 required:<0.50\n",
      "[ultranest] done iterating.\n",
      "[ultranest] Sampling 200 live points from prior ...\n"
     ]
    },
    {
     "data": {
      "application/vnd.jupyter.widget-view+json": {
       "model_id": "91356de7ee754797957482a99d92f0d2",
       "version_major": 2,
       "version_minor": 0
      },
      "text/plain": [
       "VBox(children=(HTML(value=''), GridspecLayout(children=(HTML(value=\"<div style='background-color:#6E6BF4;'>&nb…"
      ]
     },
     "metadata": {},
     "output_type": "display_data"
    },
    {
     "name": "stdout",
     "output_type": "stream",
     "text": [
      "[ultranest] Explored until L=-0.0001  .0100..-0.0099]*| it/evals=2820/4518 eff=65.3080% N=200        0 0     0 0  \n",
      "[ultranest] Likelihood function evaluations: 4528\n",
      "[ultranest]   logZ = -9.489 +- 0.1429\n",
      "[ultranest] Effective samples strategy satisfied (ESS = 821.2, need >400)\n",
      "[ultranest] Posterior uncertainty strategy is satisfied (KL: 0.46+-0.09 nat, need <0.50 nat)\n",
      "[ultranest] Evidency uncertainty strategy is satisfied (dlogz=0.14, need <0.5)\n",
      "[ultranest]   logZ error budget: single: 0.21 bs:0.14 tail:0.01 total:0.14 required:<0.50\n",
      "[ultranest] done iterating.\n",
      "[ultranest] Sampling 200 live points from prior ...\n"
     ]
    },
    {
     "data": {
      "application/vnd.jupyter.widget-view+json": {
       "model_id": "9bba2ee7b72d49eead5e702d2b9b7851",
       "version_major": 2,
       "version_minor": 0
      },
      "text/plain": [
       "VBox(children=(HTML(value=''), GridspecLayout(children=(HTML(value=\"<div style='background-color:#6E6BF4;'>&nb…"
      ]
     },
     "metadata": {},
     "output_type": "display_data"
    },
    {
     "name": "stdout",
     "output_type": "stream",
     "text": [
      "[ultranest] Explored until L=-6e-05  0.0112..-0.0112]*| it/evals=2840/4498 eff=66.0772% N=200    0     0    0  0  \n",
      "[ultranest] Likelihood function evaluations: 4507\n",
      "[ultranest]   logZ = -9.621 +- 0.1593\n",
      "[ultranest] Effective samples strategy satisfied (ESS = 814.3, need >400)\n",
      "[ultranest] Posterior uncertainty strategy is satisfied (KL: 0.45+-0.14 nat, need <0.50 nat)\n",
      "[ultranest] Evidency uncertainty strategy is satisfied (dlogz=0.16, need <0.5)\n",
      "[ultranest]   logZ error budget: single: 0.21 bs:0.16 tail:0.01 total:0.16 required:<0.50\n",
      "[ultranest] done iterating.\n",
      "[ultranest] Sampling 200 live points from prior ...\n"
     ]
    },
    {
     "data": {
      "application/vnd.jupyter.widget-view+json": {
       "model_id": "afed738ad83242d3b715916420bebdd1",
       "version_major": 2,
       "version_minor": 0
      },
      "text/plain": [
       "VBox(children=(HTML(value=''), GridspecLayout(children=(HTML(value=\"<div style='background-color:#6E6BF4;'>&nb…"
      ]
     },
     "metadata": {},
     "output_type": "display_data"
    },
    {
     "name": "stdout",
     "output_type": "stream",
     "text": [
      "[ultranest] Explored until L=-3e-05  -0.0126..-0.0126]*| it/evals=2920/5003 eff=60.7953% N=200       0 0  0  0    \n",
      "[ultranest] Likelihood function evaluations: 5006\n",
      "[ultranest]   logZ = -10.02 +- 0.1584\n",
      "[ultranest] Effective samples strategy satisfied (ESS = 799.4, need >400)\n",
      "[ultranest] Posterior uncertainty strategy is satisfied (KL: 0.46+-0.09 nat, need <0.50 nat)\n",
      "[ultranest] Evidency uncertainty strategy is satisfied (dlogz=0.16, need <0.5)\n",
      "[ultranest]   logZ error budget: single: 0.21 bs:0.16 tail:0.01 total:0.16 required:<0.50\n",
      "[ultranest] done iterating.\n",
      "[ultranest] Sampling 200 live points from prior ...\n"
     ]
    },
    {
     "data": {
      "application/vnd.jupyter.widget-view+json": {
       "model_id": "087fcb9029524ed08fcc62fc1b7f34e0",
       "version_major": 2,
       "version_minor": 0
      },
      "text/plain": [
       "VBox(children=(HTML(value=''), GridspecLayout(children=(HTML(value=\"<div style='background-color:#6E6BF4;'>&nb…"
      ]
     },
     "metadata": {},
     "output_type": "display_data"
    },
    {
     "name": "stdout",
     "output_type": "stream",
     "text": [
      "[ultranest] Explored until L=-4e-05  0.0155..-0.0154]*| it/evals=2860/4884 eff=61.0589% N=200    0   0 0    0  0  \n",
      "[ultranest] Likelihood function evaluations: 4900\n",
      "[ultranest]   logZ = -9.788 +- 0.187\n",
      "[ultranest] Effective samples strategy satisfied (ESS = 818.0, need >400)\n",
      "[ultranest] Posterior uncertainty strategy is satisfied (KL: 0.47+-0.13 nat, need <0.50 nat)\n",
      "[ultranest] Evidency uncertainty strategy is satisfied (dlogz=0.19, need <0.5)\n",
      "[ultranest]   logZ error budget: single: 0.21 bs:0.19 tail:0.01 total:0.19 required:<0.50\n",
      "[ultranest] done iterating.\n",
      "[ultranest] Sampling 200 live points from prior ...\n"
     ]
    },
    {
     "data": {
      "application/vnd.jupyter.widget-view+json": {
       "model_id": "ec1f7e0ea10645a3b4666a85081d885a",
       "version_major": 2,
       "version_minor": 0
      },
      "text/plain": [
       "VBox(children=(HTML(value=''), GridspecLayout(children=(HTML(value=\"<div style='background-color:#6E6BF4;'>&nb…"
      ]
     },
     "metadata": {},
     "output_type": "display_data"
    },
    {
     "name": "stdout",
     "output_type": "stream",
     "text": [
      "[ultranest] Explored until L=-8e-05  0.0110..-0.0109]*| it/evals=2880/4867 eff=61.7099% N=200     0  0   0  0    \n",
      "[ultranest] Likelihood function evaluations: 4879\n",
      "[ultranest]   logZ = -9.901 +- 0.13\n",
      "[ultranest] Effective samples strategy satisfied (ESS = 770.9, need >400)\n",
      "[ultranest] Posterior uncertainty strategy is satisfied (KL: 0.46+-0.08 nat, need <0.50 nat)\n",
      "[ultranest] Evidency uncertainty strategy is satisfied (dlogz=0.13, need <0.5)\n",
      "[ultranest]   logZ error budget: single: 0.21 bs:0.13 tail:0.01 total:0.13 required:<0.50\n",
      "[ultranest] done iterating.\n",
      "[ultranest] Sampling 200 live points from prior ...\n"
     ]
    },
    {
     "data": {
      "application/vnd.jupyter.widget-view+json": {
       "model_id": "c55dfad50b844ca7bdd94a54045293fb",
       "version_major": 2,
       "version_minor": 0
      },
      "text/plain": [
       "VBox(children=(HTML(value=''), GridspecLayout(children=(HTML(value=\"<div style='background-color:#6E6BF4;'>&nb…"
      ]
     },
     "metadata": {},
     "output_type": "display_data"
    },
    {
     "name": "stdout",
     "output_type": "stream",
     "text": [
      "[ultranest] Explored until L=-7e-06  -0.0106..-0.0104]*| it/evals=2900/4609 eff=65.7746% N=200       0   0   0 0  \n",
      "[ultranest] Likelihood function evaluations: 4620\n",
      "[ultranest]   logZ = -9.916 +- 0.1383\n",
      "[ultranest] Effective samples strategy satisfied (ESS = 818.2, need >400)\n",
      "[ultranest] Posterior uncertainty strategy is satisfied (KL: 0.46+-0.08 nat, need <0.50 nat)\n",
      "[ultranest] Evidency uncertainty strategy is satisfied (dlogz=0.14, need <0.5)\n",
      "[ultranest]   logZ error budget: single: 0.21 bs:0.14 tail:0.01 total:0.14 required:<0.50\n",
      "[ultranest] done iterating.\n",
      "[ultranest] Sampling 200 live points from prior ...\n"
     ]
    },
    {
     "data": {
      "application/vnd.jupyter.widget-view+json": {
       "model_id": "bf209de3cb954efcac78785ce5a2ebfd",
       "version_major": 2,
       "version_minor": 0
      },
      "text/plain": [
       "VBox(children=(HTML(value=''), GridspecLayout(children=(HTML(value=\"<div style='background-color:#6E6BF4;'>&nb…"
      ]
     },
     "metadata": {},
     "output_type": "display_data"
    },
    {
     "name": "stdout",
     "output_type": "stream",
     "text": [
      "[ultranest] Explored until L=-2e-06  -0.0110..-0.0110]*| it/evals=2940/4766 eff=64.3890% N=200   0 0 00     00 0  \n",
      "[ultranest] Likelihood function evaluations: 4771\n",
      "[ultranest]   logZ = -10.17 +- 0.1344\n",
      "[ultranest] Effective samples strategy satisfied (ESS = 815.8, need >400)\n",
      "[ultranest] Posterior uncertainty strategy is satisfied (KL: 0.46+-0.15 nat, need <0.50 nat)\n",
      "[ultranest] Evidency uncertainty strategy is satisfied (dlogz=0.13, need <0.5)\n",
      "[ultranest]   logZ error budget: single: 0.21 bs:0.13 tail:0.01 total:0.13 required:<0.50\n",
      "[ultranest] done iterating.\n",
      "[ultranest] Sampling 200 live points from prior ...\n"
     ]
    },
    {
     "data": {
      "application/vnd.jupyter.widget-view+json": {
       "model_id": "8530c577725a4b5b89f4ee47a97fd372",
       "version_major": 2,
       "version_minor": 0
      },
      "text/plain": [
       "VBox(children=(HTML(value=''), GridspecLayout(children=(HTML(value=\"<div style='background-color:#6E6BF4;'>&nb…"
      ]
     },
     "metadata": {},
     "output_type": "display_data"
    },
    {
     "name": "stdout",
     "output_type": "stream",
     "text": [
      "[ultranest] Explored until L=-0.0001  .0076..-0.0076]*| it/evals=2860/4921 eff=60.5804% N=200       00 0   0 0   0 \n",
      "[ultranest] Likelihood function evaluations: 4928\n",
      "[ultranest]   logZ = -9.667 +- 0.1443\n",
      "[ultranest] Effective samples strategy satisfied (ESS = 769.5, need >400)\n",
      "[ultranest] Posterior uncertainty strategy is satisfied (KL: 0.46+-0.10 nat, need <0.50 nat)\n",
      "[ultranest] Evidency uncertainty strategy is satisfied (dlogz=0.14, need <0.5)\n",
      "[ultranest]   logZ error budget: single: 0.21 bs:0.14 tail:0.01 total:0.14 required:<0.50\n",
      "[ultranest] done iterating.\n",
      "[ultranest] Sampling 200 live points from prior ...\n"
     ]
    },
    {
     "data": {
      "application/vnd.jupyter.widget-view+json": {
       "model_id": "c0dba6caca6b4df6a3772d501cf37df2",
       "version_major": 2,
       "version_minor": 0
      },
      "text/plain": [
       "VBox(children=(HTML(value=''), GridspecLayout(children=(HTML(value=\"<div style='background-color:#6E6BF4;'>&nb…"
      ]
     },
     "metadata": {},
     "output_type": "display_data"
    },
    {
     "name": "stdout",
     "output_type": "stream",
     "text": [
      "[ultranest] Explored until L=-3e-06  -0.0120..-0.0120]*| it/evals=2940/4831 eff=63.4852% N=200       0  00   0   0 \n",
      "[ultranest] Likelihood function evaluations: 4841\n",
      "[ultranest]   logZ = -10.12 +- 0.1623\n",
      "[ultranest] Effective samples strategy satisfied (ESS = 836.6, need >400)\n",
      "[ultranest] Posterior uncertainty strategy is satisfied (KL: 0.44+-0.10 nat, need <0.50 nat)\n",
      "[ultranest] Evidency uncertainty strategy is satisfied (dlogz=0.16, need <0.5)\n",
      "[ultranest]   logZ error budget: single: 0.21 bs:0.16 tail:0.01 total:0.16 required:<0.50\n",
      "[ultranest] done iterating.\n",
      "[ultranest] Sampling 200 live points from prior ...\n"
     ]
    },
    {
     "data": {
      "application/vnd.jupyter.widget-view+json": {
       "model_id": "4f95758a114a47f8ba7bdd3716473f0d",
       "version_major": 2,
       "version_minor": 0
      },
      "text/plain": [
       "VBox(children=(HTML(value=''), GridspecLayout(children=(HTML(value=\"<div style='background-color:#6E6BF4;'>&nb…"
      ]
     },
     "metadata": {},
     "output_type": "display_data"
    },
    {
     "name": "stdout",
     "output_type": "stream",
     "text": [
      "[ultranest] Explored until L=-1e-05  0.0072..-0.0072]*| it/evals=2900/4802 eff=63.0161% N=200        0 0  00 00  0 \n",
      "[ultranest] Likelihood function evaluations: 4803\n",
      "[ultranest]   logZ = -9.938 +- 0.181\n",
      "[ultranest] Effective samples strategy satisfied (ESS = 851.4, need >400)\n",
      "[ultranest] Posterior uncertainty strategy is satisfied (KL: 0.47+-0.13 nat, need <0.50 nat)\n",
      "[ultranest] Evidency uncertainty strategy is satisfied (dlogz=0.18, need <0.5)\n",
      "[ultranest]   logZ error budget: single: 0.21 bs:0.18 tail:0.01 total:0.18 required:<0.50\n",
      "[ultranest] done iterating.\n",
      "[ultranest] Sampling 200 live points from prior ...\n"
     ]
    },
    {
     "data": {
      "application/vnd.jupyter.widget-view+json": {
       "model_id": "c80dc0b6599b4b52a97fa09cbd13baea",
       "version_major": 2,
       "version_minor": 0
      },
      "text/plain": [
       "VBox(children=(HTML(value=''), GridspecLayout(children=(HTML(value=\"<div style='background-color:#6E6BF4;'>&nb…"
      ]
     },
     "metadata": {},
     "output_type": "display_data"
    },
    {
     "name": "stdout",
     "output_type": "stream",
     "text": [
      "[ultranest] Explored until L=-7e-05  0.0102..-0.0102]*| it/evals=2880/4731 eff=63.5621% N=200        0 0   0 0   0 \n",
      "[ultranest] Likelihood function evaluations: 4757\n",
      "[ultranest]   logZ = -9.884 +- 0.1601\n",
      "[ultranest] Effective samples strategy satisfied (ESS = 838.0, need >400)\n",
      "[ultranest] Posterior uncertainty strategy is satisfied (KL: 0.45+-0.10 nat, need <0.50 nat)\n",
      "[ultranest] Evidency uncertainty strategy is satisfied (dlogz=0.16, need <0.5)\n",
      "[ultranest]   logZ error budget: single: 0.21 bs:0.16 tail:0.01 total:0.16 required:<0.50\n",
      "[ultranest] done iterating.\n",
      "[ultranest] Sampling 200 live points from prior ...\n"
     ]
    },
    {
     "data": {
      "application/vnd.jupyter.widget-view+json": {
       "model_id": "d51bf7b079284dbaac198b4f397707a7",
       "version_major": 2,
       "version_minor": 0
      },
      "text/plain": [
       "VBox(children=(HTML(value=''), GridspecLayout(children=(HTML(value=\"<div style='background-color:#6E6BF4;'>&nb…"
      ]
     },
     "metadata": {},
     "output_type": "display_data"
    },
    {
     "name": "stdout",
     "output_type": "stream",
     "text": [
      "[ultranest] Explored until L=-5e-06  -0.0112..-0.0112]*| it/evals=2980/4679 eff=66.5327% N=200       0 0 0  0   0 \n",
      "[ultranest] Likelihood function evaluations: 4685\n",
      "[ultranest]   logZ = -10.37 +- 0.1699\n",
      "[ultranest] Effective samples strategy satisfied (ESS = 814.4, need >400)\n",
      "[ultranest] Posterior uncertainty strategy is satisfied (KL: 0.46+-0.07 nat, need <0.50 nat)\n",
      "[ultranest] Evidency uncertainty strategy is satisfied (dlogz=0.17, need <0.5)\n",
      "[ultranest]   logZ error budget: single: 0.22 bs:0.17 tail:0.01 total:0.17 required:<0.50\n",
      "[ultranest] done iterating.\n",
      "[ultranest] Sampling 200 live points from prior ...\n"
     ]
    },
    {
     "data": {
      "application/vnd.jupyter.widget-view+json": {
       "model_id": "94fc7bc7073f4e12bcd9f2da2ad8ee80",
       "version_major": 2,
       "version_minor": 0
      },
      "text/plain": [
       "VBox(children=(HTML(value=''), GridspecLayout(children=(HTML(value=\"<div style='background-color:#6E6BF4;'>&nb…"
      ]
     },
     "metadata": {},
     "output_type": "display_data"
    },
    {
     "name": "stdout",
     "output_type": "stream",
     "text": [
      "[ultranest] Explored until L=-3e-05  -0.0132..-0.0131]*| it/evals=2920/4650 eff=65.6180% N=200       0 0 00  0 0 0  \n",
      "[ultranest] Likelihood function evaluations: 4655\n",
      "[ultranest]   logZ = -10.02 +- 0.1498\n",
      "[ultranest] Effective samples strategy satisfied (ESS = 809.8, need >400)\n",
      "[ultranest] Posterior uncertainty strategy is satisfied (KL: 0.46+-0.10 nat, need <0.50 nat)\n",
      "[ultranest] Evidency uncertainty strategy is satisfied (dlogz=0.15, need <0.5)\n",
      "[ultranest]   logZ error budget: single: 0.21 bs:0.15 tail:0.01 total:0.15 required:<0.50\n",
      "[ultranest] done iterating.\n",
      "[ultranest] Sampling 200 live points from prior ...\n"
     ]
    },
    {
     "data": {
      "application/vnd.jupyter.widget-view+json": {
       "model_id": "ecf6f9a4381f45a7884da449037d0c4a",
       "version_major": 2,
       "version_minor": 0
      },
      "text/plain": [
       "VBox(children=(HTML(value=''), GridspecLayout(children=(HTML(value=\"<div style='background-color:#6E6BF4;'>&nb…"
      ]
     },
     "metadata": {},
     "output_type": "display_data"
    },
    {
     "name": "stdout",
     "output_type": "stream",
     "text": [
      "[ultranest] Explored until L=-3e-05  -0.0100..-0.0100]*| it/evals=2925/4878 eff=62.5267% N=200    0  0 0 0   0 0 0   \n",
      "[ultranest] Likelihood function evaluations: 4890\n",
      "[ultranest]   logZ = -10.1 +- 0.1578\n",
      "[ultranest] Effective samples strategy satisfied (ESS = 826.7, need >400)\n",
      "[ultranest] Posterior uncertainty strategy is satisfied (KL: 0.46+-0.10 nat, need <0.50 nat)\n",
      "[ultranest] Evidency uncertainty strategy is satisfied (dlogz=0.16, need <0.5)\n",
      "[ultranest]   logZ error budget: single: 0.21 bs:0.16 tail:0.01 total:0.16 required:<0.50\n",
      "[ultranest] done iterating.\n",
      "[ultranest] Sampling 200 live points from prior ...\n"
     ]
    },
    {
     "data": {
      "application/vnd.jupyter.widget-view+json": {
       "model_id": "a719da24389b4290971218c0a2668462",
       "version_major": 2,
       "version_minor": 0
      },
      "text/plain": [
       "VBox(children=(HTML(value=''), GridspecLayout(children=(HTML(value=\"<div style='background-color:#6E6BF4;'>&nb…"
      ]
     },
     "metadata": {},
     "output_type": "display_data"
    },
    {
     "name": "stdout",
     "output_type": "stream",
     "text": [
      "[ultranest] Explored until L=-4e-05  0.0107..-0.0107]*| it/evals=2840/4651 eff=63.8059% N=200    00  0 0 0   0   0 \n",
      "[ultranest] Likelihood function evaluations: 4675\n",
      "[ultranest]   logZ = -9.699 +- 0.1493\n",
      "[ultranest] Effective samples strategy satisfied (ESS = 793.0, need >400)\n",
      "[ultranest] Posterior uncertainty strategy is satisfied (KL: 0.45+-0.10 nat, need <0.50 nat)\n",
      "[ultranest] Evidency uncertainty strategy is satisfied (dlogz=0.15, need <0.5)\n",
      "[ultranest]   logZ error budget: single: 0.21 bs:0.15 tail:0.01 total:0.15 required:<0.50\n",
      "[ultranest] done iterating.\n",
      "[ultranest] Sampling 200 live points from prior ...\n"
     ]
    },
    {
     "data": {
      "application/vnd.jupyter.widget-view+json": {
       "model_id": "ebcac30988e4432b9e4b02062cb87b9b",
       "version_major": 2,
       "version_minor": 0
      },
      "text/plain": [
       "VBox(children=(HTML(value=''), GridspecLayout(children=(HTML(value=\"<div style='background-color:#6E6BF4;'>&nb…"
      ]
     },
     "metadata": {},
     "output_type": "display_data"
    },
    {
     "name": "stdout",
     "output_type": "stream",
     "text": [
      "[ultranest] Explored until L=-8e-05  -0.0104..-0.0103]*| it/evals=3000/5064 eff=61.6776% N=200       0 0 0  0 0 0  \n",
      "[ultranest] Likelihood function evaluations: 5065\n",
      "[ultranest]   logZ = -10.42 +- 0.1428\n",
      "[ultranest] Effective samples strategy satisfied (ESS = 805.6, need >400)\n",
      "[ultranest] Posterior uncertainty strategy is satisfied (KL: 0.45+-0.14 nat, need <0.50 nat)\n",
      "[ultranest] Evidency uncertainty strategy is satisfied (dlogz=0.14, need <0.5)\n",
      "[ultranest]   logZ error budget: single: 0.22 bs:0.14 tail:0.01 total:0.14 required:<0.50\n",
      "[ultranest] done iterating.\n",
      "[ultranest] Sampling 200 live points from prior ...\n"
     ]
    },
    {
     "data": {
      "application/vnd.jupyter.widget-view+json": {
       "model_id": "b60b034950134bbab7b5f3ad8f360b53",
       "version_major": 2,
       "version_minor": 0
      },
      "text/plain": [
       "VBox(children=(HTML(value=''), GridspecLayout(children=(HTML(value=\"<div style='background-color:#6E6BF4;'>&nb…"
      ]
     },
     "metadata": {},
     "output_type": "display_data"
    },
    {
     "name": "stdout",
     "output_type": "stream",
     "text": [
      "[ultranest] Explored until L=-6e-05  0.0107..-0.0105]*| it/evals=2880/4659 eff=64.5885% N=200        0 0 0  0 0 0 0 \n",
      "[ultranest] Likelihood function evaluations: 4666\n",
      "[ultranest]   logZ = -9.84 +- 0.1592\n",
      "[ultranest] Effective samples strategy satisfied (ESS = 809.0, need >400)\n",
      "[ultranest] Posterior uncertainty strategy is satisfied (KL: 0.46+-0.10 nat, need <0.50 nat)\n",
      "[ultranest] Evidency uncertainty strategy is satisfied (dlogz=0.16, need <0.5)\n",
      "[ultranest]   logZ error budget: single: 0.21 bs:0.16 tail:0.01 total:0.16 required:<0.50\n",
      "[ultranest] done iterating.\n",
      "[ultranest] Sampling 200 live points from prior ...\n"
     ]
    },
    {
     "data": {
      "application/vnd.jupyter.widget-view+json": {
       "model_id": "fbe4e427543b4ee89cd247044d17fa19",
       "version_major": 2,
       "version_minor": 0
      },
      "text/plain": [
       "VBox(children=(HTML(value=''), GridspecLayout(children=(HTML(value=\"<div style='background-color:#6E6BF4;'>&nb…"
      ]
     },
     "metadata": {},
     "output_type": "display_data"
    },
    {
     "name": "stdout",
     "output_type": "stream",
     "text": [
      "[ultranest] Explored until L=-0.0001  0.0116..-0.0115]*| it/evals=2900/4826 eff=62.6891% N=200       0 0 0  0 0 00 0 \n",
      "[ultranest] Likelihood function evaluations: 4839\n",
      "[ultranest]   logZ = -9.934 +- 0.1336\n",
      "[ultranest] Effective samples strategy satisfied (ESS = 762.1, need >400)\n",
      "[ultranest] Posterior uncertainty strategy is satisfied (KL: 0.47+-0.12 nat, need <0.50 nat)\n",
      "[ultranest] Evidency uncertainty strategy is satisfied (dlogz=0.13, need <0.5)\n",
      "[ultranest]   logZ error budget: single: 0.21 bs:0.13 tail:0.01 total:0.13 required:<0.50\n",
      "[ultranest] done iterating.\n",
      "[ultranest] Sampling 200 live points from prior ...\n"
     ]
    },
    {
     "data": {
      "application/vnd.jupyter.widget-view+json": {
       "model_id": "2f4a75642ea346b794d211a83728e31a",
       "version_major": 2,
       "version_minor": 0
      },
      "text/plain": [
       "VBox(children=(HTML(value=''), GridspecLayout(children=(HTML(value=\"<div style='background-color:#6E6BF4;'>&nb…"
      ]
     },
     "metadata": {},
     "output_type": "display_data"
    },
    {
     "name": "stdout",
     "output_type": "stream",
     "text": [
      "[ultranest] Explored until L=-3e-05  -0.0096..-0.0096]*| it/evals=3020/4903 eff=64.2143% N=200   0   0 0 00 0  0 0 0 \n",
      "[ultranest] Likelihood function evaluations: 4913\n",
      "[ultranest]   logZ = -10.55 +- 0.152\n",
      "[ultranest] Effective samples strategy satisfied (ESS = 817.3, need >400)\n",
      "[ultranest] Posterior uncertainty strategy is satisfied (KL: 0.47+-0.08 nat, need <0.50 nat)\n",
      "[ultranest] Evidency uncertainty strategy is satisfied (dlogz=0.15, need <0.5)\n",
      "[ultranest]   logZ error budget: single: 0.22 bs:0.15 tail:0.01 total:0.15 required:<0.50\n",
      "[ultranest] done iterating.\n",
      "[ultranest] Sampling 200 live points from prior ...\n"
     ]
    },
    {
     "data": {
      "application/vnd.jupyter.widget-view+json": {
       "model_id": "6692a342e5b54ca8b5a9ef57be8d8315",
       "version_major": 2,
       "version_minor": 0
      },
      "text/plain": [
       "VBox(children=(HTML(value=''), GridspecLayout(children=(HTML(value=\"<div style='background-color:#6E6BF4;'>&nb…"
      ]
     },
     "metadata": {},
     "output_type": "display_data"
    },
    {
     "name": "stdout",
     "output_type": "stream",
     "text": [
      "[ultranest] Explored until L=-3e-05  0.0106..-0.0105]*| it/evals=2840/4689 eff=63.2658% N=200        0   0  0 0 0 0 \n",
      "[ultranest] Likelihood function evaluations: 4704\n",
      "[ultranest]   logZ = -9.691 +- 0.1416\n",
      "[ultranest] Effective samples strategy satisfied (ESS = 798.8, need >400)\n",
      "[ultranest] Posterior uncertainty strategy is satisfied (KL: 0.45+-0.08 nat, need <0.50 nat)\n",
      "[ultranest] Evidency uncertainty strategy is satisfied (dlogz=0.14, need <0.5)\n",
      "[ultranest]   logZ error budget: single: 0.21 bs:0.14 tail:0.01 total:0.14 required:<0.50\n",
      "[ultranest] done iterating.\n",
      "[ultranest] Sampling 200 live points from prior ...\n"
     ]
    },
    {
     "data": {
      "application/vnd.jupyter.widget-view+json": {
       "model_id": "75075adfdc554b37a974c4c1ea8d6222",
       "version_major": 2,
       "version_minor": 0
      },
      "text/plain": [
       "VBox(children=(HTML(value=''), GridspecLayout(children=(HTML(value=\"<div style='background-color:#6E6BF4;'>&nb…"
      ]
     },
     "metadata": {},
     "output_type": "display_data"
    },
    {
     "name": "stdout",
     "output_type": "stream",
     "text": [
      "[ultranest] Explored until L=-0.0002  0.0129..-0.0128]*| it/evals=3000/4874 eff=64.1849% N=200    0    0  0 0    0 0 0 \n",
      "[ultranest] Likelihood function evaluations: 4902\n",
      "[ultranest]   logZ = -10.48 +- 0.1506\n",
      "[ultranest] Effective samples strategy satisfied (ESS = 797.3, need >400)\n",
      "[ultranest] Posterior uncertainty strategy is satisfied (KL: 0.46+-0.09 nat, need <0.50 nat)\n",
      "[ultranest] Evidency uncertainty strategy is satisfied (dlogz=0.15, need <0.5)\n",
      "[ultranest]   logZ error budget: single: 0.22 bs:0.15 tail:0.01 total:0.15 required:<0.50\n",
      "[ultranest] done iterating.\n",
      "[ultranest] Sampling 200 live points from prior ...\n"
     ]
    },
    {
     "data": {
      "application/vnd.jupyter.widget-view+json": {
       "model_id": "49a54b32dac14a02b9609156a3aff5ba",
       "version_major": 2,
       "version_minor": 0
      },
      "text/plain": [
       "VBox(children=(HTML(value=''), GridspecLayout(children=(HTML(value=\"<div style='background-color:#6E6BF4;'>&nb…"
      ]
     },
     "metadata": {},
     "output_type": "display_data"
    },
    {
     "name": "stdout",
     "output_type": "stream",
     "text": [
      "[ultranest] Explored until L=-1e-05  -0.0102..-0.0101]*| it/evals=2970/5173 eff=59.7225% N=200     0 0 0 0  0  0 0 0 \n",
      "[ultranest] Likelihood function evaluations: 5176\n",
      "[ultranest]   logZ = -10.23 +- 0.17\n",
      "[ultranest] Effective samples strategy satisfied (ESS = 782.7, need >400)\n",
      "[ultranest] Posterior uncertainty strategy is satisfied (KL: 0.46+-0.12 nat, need <0.50 nat)\n",
      "[ultranest] Evidency uncertainty strategy is satisfied (dlogz=0.17, need <0.5)\n",
      "[ultranest]   logZ error budget: single: 0.22 bs:0.17 tail:0.01 total:0.17 required:<0.50\n",
      "[ultranest] done iterating.\n",
      "[ultranest] Sampling 200 live points from prior ...\n"
     ]
    },
    {
     "data": {
      "application/vnd.jupyter.widget-view+json": {
       "model_id": "b519b81903ba40ea89e874899d6f7f09",
       "version_major": 2,
       "version_minor": 0
      },
      "text/plain": [
       "VBox(children=(HTML(value=''), GridspecLayout(children=(HTML(value=\"<div style='background-color:#6E6BF4;'>&nb…"
      ]
     },
     "metadata": {},
     "output_type": "display_data"
    },
    {
     "name": "stdout",
     "output_type": "stream",
     "text": [
      "[ultranest] Explored until L=-6e-06  -0.0085..-0.0084]*| it/evals=2925/5149 eff=59.1028% N=200           0  0  0 0 0  \n",
      "[ultranest] Likelihood function evaluations: 5160\n",
      "[ultranest]   logZ = -10.04 +- 0.1427\n",
      "[ultranest] Effective samples strategy satisfied (ESS = 811.9, need >400)\n",
      "[ultranest] Posterior uncertainty strategy is satisfied (KL: 0.46+-0.11 nat, need <0.50 nat)\n",
      "[ultranest] Evidency uncertainty strategy is satisfied (dlogz=0.14, need <0.5)\n",
      "[ultranest]   logZ error budget: single: 0.21 bs:0.14 tail:0.01 total:0.14 required:<0.50\n",
      "[ultranest] done iterating.\n",
      "[ultranest] Sampling 200 live points from prior ...\n"
     ]
    },
    {
     "data": {
      "application/vnd.jupyter.widget-view+json": {
       "model_id": "8c7b4e08319e40b587c8d0e1ca113344",
       "version_major": 2,
       "version_minor": 0
      },
      "text/plain": [
       "VBox(children=(HTML(value=''), GridspecLayout(children=(HTML(value=\"<div style='background-color:#6E6BF4;'>&nb…"
      ]
     },
     "metadata": {},
     "output_type": "display_data"
    },
    {
     "name": "stdout",
     "output_type": "stream",
     "text": [
      "[ultranest] Explored until L=-2e-05  -0.0118..-0.0117]*| it/evals=3000/4821 eff=64.9210% N=200       0    0 0   00 0  \n",
      "[ultranest] Likelihood function evaluations: 4834\n",
      "[ultranest]   logZ = -10.45 +- 0.1698\n",
      "[ultranest] Effective samples strategy satisfied (ESS = 808.4, need >400)\n",
      "[ultranest] Posterior uncertainty strategy is satisfied (KL: 0.46+-0.11 nat, need <0.50 nat)\n",
      "[ultranest] Evidency uncertainty strategy is satisfied (dlogz=0.17, need <0.5)\n",
      "[ultranest]   logZ error budget: single: 0.22 bs:0.17 tail:0.01 total:0.17 required:<0.50\n",
      "[ultranest] done iterating.\n",
      "[ultranest] Sampling 200 live points from prior ...\n"
     ]
    },
    {
     "data": {
      "application/vnd.jupyter.widget-view+json": {
       "model_id": "faba482d00d44f9195e2e0de3c73c368",
       "version_major": 2,
       "version_minor": 0
      },
      "text/plain": [
       "VBox(children=(HTML(value=''), GridspecLayout(children=(HTML(value=\"<div style='background-color:#6E6BF4;'>&nb…"
      ]
     },
     "metadata": {},
     "output_type": "display_data"
    },
    {
     "name": "stdout",
     "output_type": "stream",
     "text": [
      "[ultranest] Explored until L=-4e-05  -0.0102..-0.0101]*| it/evals=3040/5009 eff=63.2148% N=200       0    0  0 0 0 0  \n",
      "[ultranest] Likelihood function evaluations: 5010\n",
      "[ultranest]   logZ = -10.6 +- 0.1752\n",
      "[ultranest] Effective samples strategy satisfied (ESS = 810.4, need >400)\n",
      "[ultranest] Posterior uncertainty strategy is satisfied (KL: 0.47+-0.10 nat, need <0.50 nat)\n",
      "[ultranest] Evidency uncertainty strategy is satisfied (dlogz=0.18, need <0.5)\n",
      "[ultranest]   logZ error budget: single: 0.22 bs:0.18 tail:0.01 total:0.18 required:<0.50\n",
      "[ultranest] done iterating.\n",
      "[ultranest] Sampling 200 live points from prior ...\n"
     ]
    },
    {
     "data": {
      "application/vnd.jupyter.widget-view+json": {
       "model_id": "1adcf74bc8be4deaaafc0aadb2cc1aff",
       "version_major": 2,
       "version_minor": 0
      },
      "text/plain": [
       "VBox(children=(HTML(value=''), GridspecLayout(children=(HTML(value=\"<div style='background-color:#6E6BF4;'>&nb…"
      ]
     },
     "metadata": {},
     "output_type": "display_data"
    },
    {
     "name": "stdout",
     "output_type": "stream",
     "text": [
      "[ultranest] Explored until L=-2e-05  -0.0099..-0.0098]*| it/evals=3060/5008 eff=63.6439% N=200   0  0 0   0  0   0 0  \n",
      "[ultranest] Likelihood function evaluations: 5027\n",
      "[ultranest]   logZ = -10.79 +- 0.1868\n",
      "[ultranest] Effective samples strategy satisfied (ESS = 832.7, need >400)\n",
      "[ultranest] Posterior uncertainty strategy is satisfied (KL: 0.46+-0.09 nat, need <0.50 nat)\n",
      "[ultranest] Evidency uncertainty strategy is satisfied (dlogz=0.19, need <0.5)\n",
      "[ultranest]   logZ error budget: single: 0.22 bs:0.19 tail:0.01 total:0.19 required:<0.50\n",
      "[ultranest] done iterating.\n",
      "[ultranest] Sampling 200 live points from prior ...\n"
     ]
    },
    {
     "data": {
      "application/vnd.jupyter.widget-view+json": {
       "model_id": "1686c5b676ac4c659571fac3be2a5da6",
       "version_major": 2,
       "version_minor": 0
      },
      "text/plain": [
       "VBox(children=(HTML(value=''), GridspecLayout(children=(HTML(value=\"<div style='background-color:#6E6BF4;'>&nb…"
      ]
     },
     "metadata": {},
     "output_type": "display_data"
    },
    {
     "name": "stdout",
     "output_type": "stream",
     "text": [
      "[ultranest] Explored until L=-1e-05  -0.0083..-0.0083]*| it/evals=3040/5049 eff=62.6933% N=200       0   0 0    0  0  \n",
      "[ultranest] Likelihood function evaluations: 5070\n",
      "[ultranest]   logZ = -10.65 +- 0.2018\n",
      "[ultranest] Effective samples strategy satisfied (ESS = 817.3, need >400)\n",
      "[ultranest] Posterior uncertainty strategy is satisfied (KL: 0.45+-0.08 nat, need <0.50 nat)\n",
      "[ultranest] Evidency uncertainty strategy is satisfied (dlogz=0.20, need <0.5)\n",
      "[ultranest]   logZ error budget: single: 0.22 bs:0.20 tail:0.01 total:0.20 required:<0.50\n",
      "[ultranest] done iterating.\n",
      "[ultranest] Sampling 200 live points from prior ...\n"
     ]
    },
    {
     "data": {
      "application/vnd.jupyter.widget-view+json": {
       "model_id": "47922c4b9510471f89a022144bd28d3b",
       "version_major": 2,
       "version_minor": 0
      },
      "text/plain": [
       "VBox(children=(HTML(value=''), GridspecLayout(children=(HTML(value=\"<div style='background-color:#6E6BF4;'>&nb…"
      ]
     },
     "metadata": {},
     "output_type": "display_data"
    },
    {
     "name": "stdout",
     "output_type": "stream",
     "text": [
      "[ultranest] Explored until L=-7e-06  -0.0098..-0.0097]*| it/evals=3020/5083 eff=61.8472% N=200            0 0    0 00  \n",
      "[ultranest] Likelihood function evaluations: 5091\n",
      "[ultranest]   logZ = -10.52 +- 0.1521\n",
      "[ultranest] Effective samples strategy satisfied (ESS = 818.3, need >400)\n",
      "[ultranest] Posterior uncertainty strategy is satisfied (KL: 0.46+-0.12 nat, need <0.50 nat)\n",
      "[ultranest] Evidency uncertainty strategy is satisfied (dlogz=0.15, need <0.5)\n",
      "[ultranest]   logZ error budget: single: 0.22 bs:0.15 tail:0.01 total:0.15 required:<0.50\n",
      "[ultranest] done iterating.\n",
      "[ultranest] Sampling 200 live points from prior ...\n"
     ]
    },
    {
     "data": {
      "application/vnd.jupyter.widget-view+json": {
       "model_id": "ab09af8cdfc9404599a737bc16d635c2",
       "version_major": 2,
       "version_minor": 0
      },
      "text/plain": [
       "VBox(children=(HTML(value=''), GridspecLayout(children=(HTML(value=\"<div style='background-color:#6E6BF4;'>&nb…"
      ]
     },
     "metadata": {},
     "output_type": "display_data"
    },
    {
     "name": "stdout",
     "output_type": "stream",
     "text": [
      "[ultranest] Explored until L=-0.0001  0.0117..-0.0116]*| it/evals=3040/5299 eff=59.6195% N=200       00   0 0    0  0  \n",
      "[ultranest] Likelihood function evaluations: 5319\n",
      "[ultranest]   logZ = -10.66 +- 0.1842\n",
      "[ultranest] Effective samples strategy satisfied (ESS = 799.0, need >400)\n",
      "[ultranest] Posterior uncertainty strategy is satisfied (KL: 0.45+-0.11 nat, need <0.50 nat)\n",
      "[ultranest] Evidency uncertainty strategy is satisfied (dlogz=0.18, need <0.5)\n",
      "[ultranest]   logZ error budget: single: 0.22 bs:0.18 tail:0.01 total:0.18 required:<0.50\n",
      "[ultranest] done iterating.\n",
      "[ultranest] Sampling 200 live points from prior ...\n"
     ]
    },
    {
     "data": {
      "application/vnd.jupyter.widget-view+json": {
       "model_id": "42f199c26b1348a8a7d7c594bd37b16a",
       "version_major": 2,
       "version_minor": 0
      },
      "text/plain": [
       "VBox(children=(HTML(value=''), GridspecLayout(children=(HTML(value=\"<div style='background-color:#6E6BF4;'>&nb…"
      ]
     },
     "metadata": {},
     "output_type": "display_data"
    },
    {
     "name": "stdout",
     "output_type": "stream",
     "text": [
      "[ultranest] Explored until L=-4e-05  -0.0095..-0.0094]*| it/evals=3040/5153 eff=61.3769% N=200 0     0   0 0   00  0   \n",
      "[ultranest] Likelihood function evaluations: 5167\n",
      "[ultranest]   logZ = -10.65 +- 0.1379\n",
      "[ultranest] Effective samples strategy satisfied (ESS = 787.9, need >400)\n",
      "[ultranest] Posterior uncertainty strategy is satisfied (KL: 0.46+-0.09 nat, need <0.50 nat)\n",
      "[ultranest] Evidency uncertainty strategy is satisfied (dlogz=0.14, need <0.5)\n",
      "[ultranest]   logZ error budget: single: 0.22 bs:0.14 tail:0.01 total:0.14 required:<0.50\n",
      "[ultranest] done iterating.\n",
      "[ultranest] Sampling 200 live points from prior ...\n"
     ]
    },
    {
     "data": {
      "application/vnd.jupyter.widget-view+json": {
       "model_id": "c9b80d1fa40d482988a15fe167d03297",
       "version_major": 2,
       "version_minor": 0
      },
      "text/plain": [
       "VBox(children=(HTML(value=''), GridspecLayout(children=(HTML(value=\"<div style='background-color:#6E6BF4;'>&nb…"
      ]
     },
     "metadata": {},
     "output_type": "display_data"
    },
    {
     "name": "stdout",
     "output_type": "stream",
     "text": [
      "[ultranest] Explored until L=-0.0001  0.0117..-0.0116]*| it/evals=3040/4914 eff=64.4888% N=200    0  0 0 00    0 0     \n",
      "[ultranest] Likelihood function evaluations: 4931\n",
      "[ultranest]   logZ = -10.67 +- 0.1634\n",
      "[ultranest] Effective samples strategy satisfied (ESS = 795.4, need >400)\n",
      "[ultranest] Posterior uncertainty strategy is satisfied (KL: 0.46+-0.08 nat, need <0.50 nat)\n",
      "[ultranest] Evidency uncertainty strategy is satisfied (dlogz=0.16, need <0.5)\n",
      "[ultranest]   logZ error budget: single: 0.22 bs:0.16 tail:0.01 total:0.16 required:<0.50\n",
      "[ultranest] done iterating.\n",
      "[ultranest] Sampling 200 live points from prior ...\n"
     ]
    },
    {
     "data": {
      "application/vnd.jupyter.widget-view+json": {
       "model_id": "a48aa56392b44f93b1351e0eec35494a",
       "version_major": 2,
       "version_minor": 0
      },
      "text/plain": [
       "VBox(children=(HTML(value=''), GridspecLayout(children=(HTML(value=\"<div style='background-color:#6E6BF4;'>&nb…"
      ]
     },
     "metadata": {},
     "output_type": "display_data"
    },
    {
     "name": "stdout",
     "output_type": "stream",
     "text": [
      "[ultranest] Explored until L=-7e-05  -0.0090..-0.0089]*| it/evals=3080/5174 eff=61.9220% N=200   0   0   0  0        0  \n",
      "[ultranest] Likelihood function evaluations: 5182\n",
      "[ultranest]   logZ = -10.86 +- 0.1528\n",
      "[ultranest] Effective samples strategy satisfied (ESS = 801.6, need >400)\n",
      "[ultranest] Posterior uncertainty strategy is satisfied (KL: 0.46+-0.08 nat, need <0.50 nat)\n",
      "[ultranest] Evidency uncertainty strategy is satisfied (dlogz=0.15, need <0.5)\n",
      "[ultranest]   logZ error budget: single: 0.22 bs:0.15 tail:0.01 total:0.15 required:<0.50\n",
      "[ultranest] done iterating.\n",
      "[ultranest] Sampling 200 live points from prior ...\n"
     ]
    },
    {
     "data": {
      "application/vnd.jupyter.widget-view+json": {
       "model_id": "994eba44a22b4372935a8264eaa0e6b0",
       "version_major": 2,
       "version_minor": 0
      },
      "text/plain": [
       "VBox(children=(HTML(value=''), GridspecLayout(children=(HTML(value=\"<div style='background-color:#6E6BF4;'>&nb…"
      ]
     },
     "metadata": {},
     "output_type": "display_data"
    },
    {
     "name": "stdout",
     "output_type": "stream",
     "text": [
      "[ultranest] Explored until L=-3e-05  -0.0109..-0.0109]*| it/evals=3100/5361 eff=60.0659% N=200            0   0 200 0  \n",
      "[ultranest] Likelihood function evaluations: 5369\n",
      "[ultranest]   logZ = -10.91 +- 0.1772\n",
      "[ultranest] Effective samples strategy satisfied (ESS = 799.5, need >400)\n",
      "[ultranest] Posterior uncertainty strategy is satisfied (KL: 0.45+-0.14 nat, need <0.50 nat)\n",
      "[ultranest] Evidency uncertainty strategy is satisfied (dlogz=0.18, need <0.5)\n",
      "[ultranest]   logZ error budget: single: 0.22 bs:0.18 tail:0.01 total:0.18 required:<0.50\n",
      "[ultranest] done iterating.\n",
      "[ultranest] Sampling 200 live points from prior ...\n"
     ]
    },
    {
     "data": {
      "application/vnd.jupyter.widget-view+json": {
       "model_id": "69359c21a6d645baa03e6d3790baf764",
       "version_major": 2,
       "version_minor": 0
      },
      "text/plain": [
       "VBox(children=(HTML(value=''), GridspecLayout(children=(HTML(value=\"<div style='background-color:#6E6BF4;'>&nb…"
      ]
     },
     "metadata": {},
     "output_type": "display_data"
    },
    {
     "name": "stdout",
     "output_type": "stream",
     "text": [
      "[ultranest] Explored until L=-6e-05  -0.0105..-0.0105]*| it/evals=3020/4720 eff=66.8142% N=200           0  0    0 0 0  \n",
      "[ultranest] Likelihood function evaluations: 4737\n",
      "[ultranest]   logZ = -10.57 +- 0.1633\n",
      "[ultranest] Effective samples strategy satisfied (ESS = 805.3, need >400)\n",
      "[ultranest] Posterior uncertainty strategy is satisfied (KL: 0.45+-0.12 nat, need <0.50 nat)\n",
      "[ultranest] Evidency uncertainty strategy is satisfied (dlogz=0.16, need <0.5)\n",
      "[ultranest]   logZ error budget: single: 0.22 bs:0.16 tail:0.01 total:0.16 required:<0.50\n",
      "[ultranest] done iterating.\n",
      "[ultranest] Sampling 200 live points from prior ...\n"
     ]
    },
    {
     "data": {
      "application/vnd.jupyter.widget-view+json": {
       "model_id": "081d6ffbcfaa4bf5a35771c2f36bf952",
       "version_major": 2,
       "version_minor": 0
      },
      "text/plain": [
       "VBox(children=(HTML(value=''), GridspecLayout(children=(HTML(value=\"<div style='background-color:#6E6BF4;'>&nb…"
      ]
     },
     "metadata": {},
     "output_type": "display_data"
    },
    {
     "name": "stdout",
     "output_type": "stream",
     "text": [
      "[ultranest] Explored until L=-2e-05  -0.0132..-0.0130]*| it/evals=3120/5007 eff=64.9053% N=200            0 0 0  0    0 \n",
      "[ultranest] Likelihood function evaluations: 5033\n",
      "[ultranest]   logZ = -11.08 +- 0.125\n",
      "[ultranest] Effective samples strategy satisfied (ESS = 845.2, need >400)\n",
      "[ultranest] Posterior uncertainty strategy is satisfied (KL: 0.46+-0.11 nat, need <0.50 nat)\n",
      "[ultranest] Evidency uncertainty strategy is satisfied (dlogz=0.13, need <0.5)\n",
      "[ultranest]   logZ error budget: single: 0.22 bs:0.13 tail:0.01 total:0.13 required:<0.50\n",
      "[ultranest] done iterating.\n",
      "[ultranest] Sampling 200 live points from prior ...\n"
     ]
    },
    {
     "data": {
      "application/vnd.jupyter.widget-view+json": {
       "model_id": "c2eff2327e8a4fe3b7f4afdb306dd8ad",
       "version_major": 2,
       "version_minor": 0
      },
      "text/plain": [
       "VBox(children=(HTML(value=''), GridspecLayout(children=(HTML(value=\"<div style='background-color:#6E6BF4;'>&nb…"
      ]
     },
     "metadata": {},
     "output_type": "display_data"
    },
    {
     "name": "stdout",
     "output_type": "stream",
     "text": [
      "[ultranest] Explored until L=-1e-05  -0.0120..-0.0120]*| it/evals=3080/5070 eff=63.2444% N=200           0 0    0 0  \n",
      "[ultranest] Likelihood function evaluations: 5089\n",
      "[ultranest]   logZ = -10.87 +- 0.2139\n",
      "[ultranest] Effective samples strategy satisfied (ESS = 822.3, need >400)\n",
      "[ultranest] Posterior uncertainty strategy is satisfied (KL: 0.45+-0.12 nat, need <0.50 nat)\n",
      "[ultranest] Evidency uncertainty strategy is satisfied (dlogz=0.21, need <0.5)\n",
      "[ultranest]   logZ error budget: single: 0.22 bs:0.21 tail:0.01 total:0.21 required:<0.50\n",
      "[ultranest] done iterating.\n",
      "[ultranest] Sampling 200 live points from prior ...\n"
     ]
    },
    {
     "data": {
      "application/vnd.jupyter.widget-view+json": {
       "model_id": "82cd9fcb2ddd425fb7c09f9ec93b7434",
       "version_major": 2,
       "version_minor": 0
      },
      "text/plain": [
       "VBox(children=(HTML(value=''), GridspecLayout(children=(HTML(value=\"<div style='background-color:#6E6BF4;'>&nb…"
      ]
     },
     "metadata": {},
     "output_type": "display_data"
    },
    {
     "name": "stdout",
     "output_type": "stream",
     "text": [
      "[ultranest] Explored until L=-0.0001  0.0132..-0.0131]*| it/evals=3100/4819 eff=67.1141% N=200 0   0 0   0 0  0 00   \n",
      "[ultranest] Likelihood function evaluations: 4819\n",
      "[ultranest]   logZ = -10.92 +- 0.1793\n",
      "[ultranest] Effective samples strategy satisfied (ESS = 827.1, need >400)\n",
      "[ultranest] Posterior uncertainty strategy is satisfied (KL: 0.46+-0.10 nat, need <0.50 nat)\n",
      "[ultranest] Evidency uncertainty strategy is satisfied (dlogz=0.18, need <0.5)\n",
      "[ultranest]   logZ error budget: single: 0.22 bs:0.18 tail:0.01 total:0.18 required:<0.50\n",
      "[ultranest] done iterating.\n",
      "[ultranest] Sampling 200 live points from prior ...\n"
     ]
    },
    {
     "data": {
      "application/vnd.jupyter.widget-view+json": {
       "model_id": "65b0a5741fdb4143940698531c8afb0d",
       "version_major": 2,
       "version_minor": 0
      },
      "text/plain": [
       "VBox(children=(HTML(value=''), GridspecLayout(children=(HTML(value=\"<div style='background-color:#6E6BF4;'>&nb…"
      ]
     },
     "metadata": {},
     "output_type": "display_data"
    },
    {
     "name": "stdout",
     "output_type": "stream",
     "text": [
      "[ultranest] Explored until L=-2e-05  -0.0118..-0.0118]*| it/evals=3060/4928 eff=64.7208% N=200        0  0 0   00 0   00 \n",
      "[ultranest] Likelihood function evaluations: 4957\n",
      "[ultranest]   logZ = -10.82 +- 0.1588\n",
      "[ultranest] Effective samples strategy satisfied (ESS = 796.4, need >400)\n",
      "[ultranest] Posterior uncertainty strategy is satisfied (KL: 0.46+-0.08 nat, need <0.50 nat)\n",
      "[ultranest] Evidency uncertainty strategy is satisfied (dlogz=0.16, need <0.5)\n",
      "[ultranest]   logZ error budget: single: 0.22 bs:0.16 tail:0.01 total:0.16 required:<0.50\n",
      "[ultranest] done iterating.\n",
      "[ultranest] Sampling 200 live points from prior ...\n"
     ]
    },
    {
     "data": {
      "application/vnd.jupyter.widget-view+json": {
       "model_id": "c7679454ef28400785c8690f5761833b",
       "version_major": 2,
       "version_minor": 0
      },
      "text/plain": [
       "VBox(children=(HTML(value=''), GridspecLayout(children=(HTML(value=\"<div style='background-color:#6E6BF4;'>&nb…"
      ]
     },
     "metadata": {},
     "output_type": "display_data"
    },
    {
     "name": "stdout",
     "output_type": "stream",
     "text": [
      "[ultranest] Explored until L=-4e-05  -0.0102..-0.0102]*| it/evals=3060/4815 eff=66.3055% N=200       0   00 0  0 00  0 \n",
      "[ultranest] Likelihood function evaluations: 4824\n",
      "[ultranest]   logZ = -10.78 +- 0.1541\n",
      "[ultranest] Effective samples strategy satisfied (ESS = 796.8, need >400)\n",
      "[ultranest] Posterior uncertainty strategy is satisfied (KL: 0.45+-0.09 nat, need <0.50 nat)\n",
      "[ultranest] Evidency uncertainty strategy is satisfied (dlogz=0.15, need <0.5)\n",
      "[ultranest]   logZ error budget: single: 0.22 bs:0.15 tail:0.01 total:0.15 required:<0.50\n",
      "[ultranest] done iterating.\n",
      "[ultranest] Sampling 200 live points from prior ...\n"
     ]
    },
    {
     "data": {
      "application/vnd.jupyter.widget-view+json": {
       "model_id": "fd559d9dc9b54cb2bd66f1e3cd7dd134",
       "version_major": 2,
       "version_minor": 0
      },
      "text/plain": [
       "VBox(children=(HTML(value=''), GridspecLayout(children=(HTML(value=\"<div style='background-color:#6E6BF4;'>&nb…"
      ]
     },
     "metadata": {},
     "output_type": "display_data"
    },
    {
     "name": "stdout",
     "output_type": "stream",
     "text": [
      "[ultranest] Explored until L=-8e-06  -0.0116..-0.0116]*| it/evals=3080/5336 eff=59.9688% N=200           0 0 00 0 0  00 \n",
      "[ultranest] Likelihood function evaluations: 5352\n",
      "[ultranest]   logZ = -10.83 +- 0.1442\n",
      "[ultranest] Effective samples strategy satisfied (ESS = 805.9, need >400)\n",
      "[ultranest] Posterior uncertainty strategy is satisfied (KL: 0.45+-0.10 nat, need <0.50 nat)\n",
      "[ultranest] Evidency uncertainty strategy is satisfied (dlogz=0.14, need <0.5)\n",
      "[ultranest]   logZ error budget: single: 0.22 bs:0.14 tail:0.01 total:0.14 required:<0.50\n",
      "[ultranest] done iterating.\n",
      "[ultranest] Sampling 200 live points from prior ...\n"
     ]
    },
    {
     "data": {
      "application/vnd.jupyter.widget-view+json": {
       "model_id": "b7ff8f4026f143f7b57d3e63c42c6879",
       "version_major": 2,
       "version_minor": 0
      },
      "text/plain": [
       "VBox(children=(HTML(value=''), GridspecLayout(children=(HTML(value=\"<div style='background-color:#6E6BF4;'>&nb…"
      ]
     },
     "metadata": {},
     "output_type": "display_data"
    },
    {
     "name": "stdout",
     "output_type": "stream",
     "text": [
      "[ultranest] Explored until L=-9e-06  -0.0111..-0.0110]*| it/evals=3105/4819 eff=67.2223% N=200    0   0   0   0  0   0 \n",
      "[ultranest] Likelihood function evaluations: 4819\n",
      "[ultranest]   logZ = -10.88 +- 0.1495\n",
      "[ultranest] Effective samples strategy satisfied (ESS = 789.2, need >400)\n",
      "[ultranest] Posterior uncertainty strategy is satisfied (KL: 0.47+-0.08 nat, need <0.50 nat)\n",
      "[ultranest] Evidency uncertainty strategy is satisfied (dlogz=0.15, need <0.5)\n",
      "[ultranest]   logZ error budget: single: 0.22 bs:0.15 tail:0.01 total:0.15 required:<0.50\n",
      "[ultranest] done iterating.\n",
      "[ultranest] Sampling 200 live points from prior ...\n"
     ]
    },
    {
     "data": {
      "application/vnd.jupyter.widget-view+json": {
       "model_id": "04703d25398045a6bbd8b970c4a2bba5",
       "version_major": 2,
       "version_minor": 0
      },
      "text/plain": [
       "VBox(children=(HTML(value=''), GridspecLayout(children=(HTML(value=\"<div style='background-color:#6E6BF4;'>&nb…"
      ]
     },
     "metadata": {},
     "output_type": "display_data"
    },
    {
     "name": "stdout",
     "output_type": "stream",
     "text": [
      "[ultranest] Explored until L=-1e-05  -0.0151..-0.0150]*| it/evals=3060/4910 eff=64.9682% N=200     0 0  00 0 0   0    0 \n",
      "[ultranest] Likelihood function evaluations: 4926\n",
      "[ultranest]   logZ = -10.83 +- 0.2071\n",
      "[ultranest] Effective samples strategy satisfied (ESS = 827.2, need >400)\n",
      "[ultranest] Posterior uncertainty strategy is satisfied (KL: 0.47+-0.13 nat, need <0.50 nat)\n",
      "[ultranest] Evidency uncertainty strategy is satisfied (dlogz=0.21, need <0.5)\n",
      "[ultranest]   logZ error budget: single: 0.22 bs:0.21 tail:0.01 total:0.21 required:<0.50\n",
      "[ultranest] done iterating.\n",
      "[ultranest] Sampling 200 live points from prior ...\n"
     ]
    },
    {
     "data": {
      "application/vnd.jupyter.widget-view+json": {
       "model_id": "3cda4b0931bd4ef8bdf23a9a9628d300",
       "version_major": 2,
       "version_minor": 0
      },
      "text/plain": [
       "VBox(children=(HTML(value=''), GridspecLayout(children=(HTML(value=\"<div style='background-color:#6E6BF4;'>&nb…"
      ]
     },
     "metadata": {},
     "output_type": "display_data"
    },
    {
     "name": "stdout",
     "output_type": "stream",
     "text": [
      "[ultranest] Explored until L=-4e-05  -0.0090..-0.0089]*| it/evals=3160/5134 eff=64.0454% N=200        0    0 00  0  00 \n",
      "[ultranest] Likelihood function evaluations: 5149\n",
      "[ultranest]   logZ = -11.23 +- 0.1868\n",
      "[ultranest] Effective samples strategy satisfied (ESS = 816.7, need >400)\n",
      "[ultranest] Posterior uncertainty strategy is satisfied (KL: 0.46+-0.07 nat, need <0.50 nat)\n",
      "[ultranest] Evidency uncertainty strategy is satisfied (dlogz=0.19, need <0.5)\n",
      "[ultranest]   logZ error budget: single: 0.23 bs:0.19 tail:0.01 total:0.19 required:<0.50\n",
      "[ultranest] done iterating.\n",
      "[ultranest] Sampling 200 live points from prior ...\n"
     ]
    },
    {
     "data": {
      "application/vnd.jupyter.widget-view+json": {
       "model_id": "46337ccd6cd540498939d490fe311c0b",
       "version_major": 2,
       "version_minor": 0
      },
      "text/plain": [
       "VBox(children=(HTML(value=''), GridspecLayout(children=(HTML(value=\"<div style='background-color:#6E6BF4;'>&nb…"
      ]
     },
     "metadata": {},
     "output_type": "display_data"
    },
    {
     "name": "stdout",
     "output_type": "stream",
     "text": [
      "[ultranest] Explored until L=-0.0002  0.0112..-0.0110]*| it/evals=3080/4883 eff=65.7698% N=200     0      0 0  0  0   0 \n",
      "[ultranest] Likelihood function evaluations: 4883\n",
      "[ultranest]   logZ = -10.81 +- 0.1327\n",
      "[ultranest] Effective samples strategy satisfied (ESS = 859.8, need >400)\n",
      "[ultranest] Posterior uncertainty strategy is satisfied (KL: 0.45+-0.08 nat, need <0.50 nat)\n",
      "[ultranest] Evidency uncertainty strategy is satisfied (dlogz=0.13, need <0.5)\n",
      "[ultranest]   logZ error budget: single: 0.22 bs:0.13 tail:0.01 total:0.13 required:<0.50\n",
      "[ultranest] done iterating.\n",
      "[ultranest] Sampling 200 live points from prior ...\n"
     ]
    },
    {
     "data": {
      "application/vnd.jupyter.widget-view+json": {
       "model_id": "23563a761a2c497caf41b27a1715c5cc",
       "version_major": 2,
       "version_minor": 0
      },
      "text/plain": [
       "VBox(children=(HTML(value=''), GridspecLayout(children=(HTML(value=\"<div style='background-color:#6E6BF4;'>&nb…"
      ]
     },
     "metadata": {},
     "output_type": "display_data"
    },
    {
     "name": "stdout",
     "output_type": "stream",
     "text": [
      "[ultranest] Explored until L=-3e-06  -0.0091..-0.0090]*| it/evals=3040/4834 eff=65.6021% N=200   0   0 0 0   00  0   200 \n",
      "[ultranest] Likelihood function evaluations: 4837\n",
      "[ultranest]   logZ = -10.6 +- 0.1411\n",
      "[ultranest] Effective samples strategy satisfied (ESS = 790.7, need >400)\n",
      "[ultranest] Posterior uncertainty strategy is satisfied (KL: 0.44+-0.12 nat, need <0.50 nat)\n",
      "[ultranest] Evidency uncertainty strategy is satisfied (dlogz=0.14, need <0.5)\n",
      "[ultranest]   logZ error budget: single: 0.22 bs:0.14 tail:0.01 total:0.14 required:<0.50\n",
      "[ultranest] done iterating.\n",
      "[ultranest] Sampling 200 live points from prior ...\n"
     ]
    },
    {
     "data": {
      "application/vnd.jupyter.widget-view+json": {
       "model_id": "c829720da12f4379ae5f876c829394ea",
       "version_major": 2,
       "version_minor": 0
      },
      "text/plain": [
       "VBox(children=(HTML(value=''), GridspecLayout(children=(HTML(value=\"<div style='background-color:#6E6BF4;'>&nb…"
      ]
     },
     "metadata": {},
     "output_type": "display_data"
    },
    {
     "name": "stdout",
     "output_type": "stream",
     "text": [
      "[ultranest] Explored until L=-1e-05  -0.0102..-0.0102]*| it/evals=3160/4991 eff=65.9570% N=200        0  0  0 00 0   0 \n",
      "[ultranest] Likelihood function evaluations: 5013\n",
      "[ultranest]   logZ = -11.23 +- 0.1658\n",
      "[ultranest] Effective samples strategy satisfied (ESS = 812.8, need >400)\n",
      "[ultranest] Posterior uncertainty strategy is satisfied (KL: 0.47+-0.08 nat, need <0.50 nat)\n",
      "[ultranest] Evidency uncertainty strategy wants 198 minimum live points (dlogz from 0.14 to 0.50, need <0.5)\n",
      "[ultranest]   logZ error budget: single: 0.23 bs:0.17 tail:0.01 total:0.17 required:<0.50\n",
      "[ultranest] done iterating.\n",
      "[ultranest] Sampling 200 live points from prior ...\n"
     ]
    },
    {
     "data": {
      "application/vnd.jupyter.widget-view+json": {
       "model_id": "5821967152d04b0c9001e411e97a57df",
       "version_major": 2,
       "version_minor": 0
      },
      "text/plain": [
       "VBox(children=(HTML(value=''), GridspecLayout(children=(HTML(value=\"<div style='background-color:#6E6BF4;'>&nb…"
      ]
     },
     "metadata": {},
     "output_type": "display_data"
    },
    {
     "name": "stdout",
     "output_type": "stream",
     "text": [
      "[ultranest] Explored until L=-6e-05  -0.0109..-0.0109]*| it/evals=3100/4871 eff=66.3669% N=200        0  0  00 0 0   0 \n",
      "[ultranest] Likelihood function evaluations: 4897\n",
      "[ultranest]   logZ = -10.93 +- 0.1431\n",
      "[ultranest] Effective samples strategy satisfied (ESS = 801.1, need >400)\n",
      "[ultranest] Posterior uncertainty strategy is satisfied (KL: 0.44+-0.09 nat, need <0.50 nat)\n",
      "[ultranest] Evidency uncertainty strategy is satisfied (dlogz=0.14, need <0.5)\n",
      "[ultranest]   logZ error budget: single: 0.22 bs:0.14 tail:0.01 total:0.14 required:<0.50\n",
      "[ultranest] done iterating.\n",
      "[ultranest] Sampling 200 live points from prior ...\n"
     ]
    },
    {
     "data": {
      "application/vnd.jupyter.widget-view+json": {
       "model_id": "26c68e65de884bb1a366628dc693cc32",
       "version_major": 2,
       "version_minor": 0
      },
      "text/plain": [
       "VBox(children=(HTML(value=''), GridspecLayout(children=(HTML(value=\"<div style='background-color:#6E6BF4;'>&nb…"
      ]
     },
     "metadata": {},
     "output_type": "display_data"
    },
    {
     "name": "stdout",
     "output_type": "stream",
     "text": [
      "[ultranest] Explored until L=-0.0002  0.0110..-0.0110]*| it/evals=3105/4954 eff=65.3134% N=200        0  0 0  0   0  00 \n",
      "[ultranest] Likelihood function evaluations: 4972\n",
      "[ultranest]   logZ = -11.01 +- 0.1732\n",
      "[ultranest] Effective samples strategy satisfied (ESS = 809.1, need >400)\n",
      "[ultranest] Posterior uncertainty strategy is satisfied (KL: 0.44+-0.10 nat, need <0.50 nat)\n",
      "[ultranest] Evidency uncertainty strategy is satisfied (dlogz=0.17, need <0.5)\n",
      "[ultranest]   logZ error budget: single: 0.22 bs:0.17 tail:0.01 total:0.17 required:<0.50\n",
      "[ultranest] done iterating.\n",
      "[ultranest] Sampling 200 live points from prior ...\n"
     ]
    },
    {
     "data": {
      "application/vnd.jupyter.widget-view+json": {
       "model_id": "ccab9efc674d404481747d234e240bc3",
       "version_major": 2,
       "version_minor": 0
      },
      "text/plain": [
       "VBox(children=(HTML(value=''), GridspecLayout(children=(HTML(value=\"<div style='background-color:#6E6BF4;'>&nb…"
      ]
     },
     "metadata": {},
     "output_type": "display_data"
    },
    {
     "name": "stdout",
     "output_type": "stream",
     "text": [
      "[ultranest] Explored until L=-6e-06  -0.0106..-0.0106]*| it/evals=3100/4986 eff=64.7723% N=200   00   0  0 0 0  0 0 0 0  \n",
      "[ultranest] Likelihood function evaluations: 4987\n",
      "[ultranest]   logZ = -10.92 +- 0.1342\n",
      "[ultranest] Effective samples strategy satisfied (ESS = 782.1, need >400)\n",
      "[ultranest] Posterior uncertainty strategy is satisfied (KL: 0.47+-0.11 nat, need <0.50 nat)\n",
      "[ultranest] Evidency uncertainty strategy is satisfied (dlogz=0.13, need <0.5)\n",
      "[ultranest]   logZ error budget: single: 0.22 bs:0.13 tail:0.01 total:0.13 required:<0.50\n",
      "[ultranest] done iterating.\n",
      "[ultranest] Sampling 200 live points from prior ...\n"
     ]
    },
    {
     "data": {
      "application/vnd.jupyter.widget-view+json": {
       "model_id": "1981d3586521453c8194b99906054a33",
       "version_major": 2,
       "version_minor": 0
      },
      "text/plain": [
       "VBox(children=(HTML(value=''), GridspecLayout(children=(HTML(value=\"<div style='background-color:#6E6BF4;'>&nb…"
      ]
     },
     "metadata": {},
     "output_type": "display_data"
    },
    {
     "name": "stdout",
     "output_type": "stream",
     "text": [
      "[ultranest] Explored until L=-5e-05  -0.0094..-0.0094]*| it/evals=3080/4788 eff=67.1316% N=200           0 0 200  0 0 0 0 \n",
      "[ultranest] Likelihood function evaluations: 4791\n",
      "[ultranest]   logZ = -10.82 +- 0.1614\n",
      "[ultranest] Effective samples strategy satisfied (ESS = 809.6, need >400)\n",
      "[ultranest] Posterior uncertainty strategy is satisfied (KL: 0.45+-0.08 nat, need <0.50 nat)\n",
      "[ultranest] Evidency uncertainty strategy is satisfied (dlogz=0.16, need <0.5)\n",
      "[ultranest]   logZ error budget: single: 0.22 bs:0.16 tail:0.01 total:0.16 required:<0.50\n",
      "[ultranest] done iterating.\n",
      "[ultranest] Sampling 200 live points from prior ...\n"
     ]
    },
    {
     "data": {
      "application/vnd.jupyter.widget-view+json": {
       "model_id": "d684d0ebfa774d25b9cc101a589781dd",
       "version_major": 2,
       "version_minor": 0
      },
      "text/plain": [
       "VBox(children=(HTML(value=''), GridspecLayout(children=(HTML(value=\"<div style='background-color:#6E6BF4;'>&nb…"
      ]
     },
     "metadata": {},
     "output_type": "display_data"
    },
    {
     "name": "stdout",
     "output_type": "stream",
     "text": [
      "[ultranest] Explored until L=-1e-05  -0.0109..-0.0108]*| it/evals=3080/5018 eff=63.9269% N=200    0   0   0 0 0  0 0 00 \n",
      "[ultranest] Likelihood function evaluations: 5049\n",
      "[ultranest]   logZ = -10.88 +- 0.1771\n",
      "[ultranest] Effective samples strategy satisfied (ESS = 805.4, need >400)\n",
      "[ultranest] Posterior uncertainty strategy is satisfied (KL: 0.45+-0.09 nat, need <0.50 nat)\n",
      "[ultranest] Evidency uncertainty strategy is satisfied (dlogz=0.18, need <0.5)\n",
      "[ultranest]   logZ error budget: single: 0.22 bs:0.18 tail:0.01 total:0.18 required:<0.50\n",
      "[ultranest] done iterating.\n",
      "[ultranest] Sampling 200 live points from prior ...\n"
     ]
    },
    {
     "data": {
      "application/vnd.jupyter.widget-view+json": {
       "model_id": "78599b7824914216a6ef8a9d9c447713",
       "version_major": 2,
       "version_minor": 0
      },
      "text/plain": [
       "VBox(children=(HTML(value=''), GridspecLayout(children=(HTML(value=\"<div style='background-color:#6E6BF4;'>&nb…"
      ]
     },
     "metadata": {},
     "output_type": "display_data"
    },
    {
     "name": "stdout",
     "output_type": "stream",
     "text": [
      "[ultranest] Explored until L=-0.0001  0.0100..-0.0100]*| it/evals=3020/4853 eff=64.9044% N=200          00 0 0  0 0  00 \n",
      "[ultranest] Likelihood function evaluations: 4863\n",
      "[ultranest]   logZ = -10.53 +- 0.1256\n",
      "[ultranest] Effective samples strategy satisfied (ESS = 766.7, need >400)\n",
      "[ultranest] Posterior uncertainty strategy is satisfied (KL: 0.47+-0.06 nat, need <0.50 nat)\n",
      "[ultranest] Evidency uncertainty strategy is satisfied (dlogz=0.13, need <0.5)\n",
      "[ultranest]   logZ error budget: single: 0.22 bs:0.13 tail:0.01 total:0.13 required:<0.50\n",
      "[ultranest] done iterating.\n",
      "[ultranest] Sampling 200 live points from prior ...\n"
     ]
    },
    {
     "data": {
      "application/vnd.jupyter.widget-view+json": {
       "model_id": "c525bb961dc247349de1feadfa28a94b",
       "version_major": 2,
       "version_minor": 0
      },
      "text/plain": [
       "VBox(children=(HTML(value=''), GridspecLayout(children=(HTML(value=\"<div style='background-color:#6E6BF4;'>&nb…"
      ]
     },
     "metadata": {},
     "output_type": "display_data"
    },
    {
     "name": "stdout",
     "output_type": "stream",
     "text": [
      "[ultranest] Explored until L=-8e-06  -0.0125..-0.0123]*| it/evals=3100/4966 eff=65.0441% N=200        0   0 0 0  0  0 00 \n",
      "[ultranest] Likelihood function evaluations: 4987\n",
      "[ultranest]   logZ = -10.98 +- 0.1842\n",
      "[ultranest] Effective samples strategy satisfied (ESS = 803.9, need >400)\n",
      "[ultranest] Posterior uncertainty strategy is satisfied (KL: 0.47+-0.08 nat, need <0.50 nat)\n",
      "[ultranest] Evidency uncertainty strategy is satisfied (dlogz=0.18, need <0.5)\n",
      "[ultranest]   logZ error budget: single: 0.22 bs:0.18 tail:0.01 total:0.18 required:<0.50\n",
      "[ultranest] done iterating.\n",
      "[ultranest] Sampling 200 live points from prior ...\n"
     ]
    },
    {
     "data": {
      "application/vnd.jupyter.widget-view+json": {
       "model_id": "93e60ede899746bd9fb7d5e52034dec8",
       "version_major": 2,
       "version_minor": 0
      },
      "text/plain": [
       "VBox(children=(HTML(value=''), GridspecLayout(children=(HTML(value=\"<div style='background-color:#6E6BF4;'>&nb…"
      ]
     },
     "metadata": {},
     "output_type": "display_data"
    },
    {
     "name": "stdout",
     "output_type": "stream",
     "text": [
      "[ultranest] Explored until L=-9e-06  -0.0107..-0.0106]*| it/evals=3180/5171 eff=63.9710% N=200         0 0    0  0  0  0  \n",
      "[ultranest] Likelihood function evaluations: 5178\n",
      "[ultranest]   logZ = -11.34 +- 0.187\n",
      "[ultranest] Effective samples strategy satisfied (ESS = 806.5, need >400)\n",
      "[ultranest] Posterior uncertainty strategy is satisfied (KL: 0.45+-0.10 nat, need <0.50 nat)\n",
      "[ultranest] Evidency uncertainty strategy is satisfied (dlogz=0.19, need <0.5)\n",
      "[ultranest]   logZ error budget: single: 0.23 bs:0.19 tail:0.01 total:0.19 required:<0.50\n",
      "[ultranest] done iterating.\n"
     ]
    }
   ],
   "source": [
    "sigmatotal = range(1,90)\n",
    "sigxtotal = []\n",
    "residualtotal = []\n",
    "for i in sigmatotal:\n",
    "    sigma = i\n",
    "    A = TDH(0).reshape(360,91)\n",
    "    slice1 = A[0]\n",
    "    slice1 = np.array(slice1)\n",
    "    sigma1 = np.std(slice1)\n",
    "    param_names = ['A', 'sigx']\n",
    "    def my_prior_transform(cube):\n",
    "        params = cube.copy()\n",
    "\n",
    "        # transform location parameter: uniform prior\n",
    "        lo = 0\n",
    "        hi = 20\n",
    "        params[0] = cube[0] * (hi - lo) + lo\n",
    "\n",
    "        lo = 1\n",
    "        hi = 200\n",
    "        params[1] = cube[1] * (hi - lo) + lo\n",
    "\n",
    "        return params\n",
    "    def my_likelihood(params):\n",
    "        mo = model1(params)\n",
    "        diff = mo - slice1\n",
    "        return -0.5 * np.sum((diff/sigma1)**2)\n",
    "    sampler = ultranest.ReactiveNestedSampler(param_names, my_likelihood, my_prior_transform)\n",
    "    result = sampler.run(min_num_live_points=200)\n",
    "    sigx = np.average((result[\"samples\"].T)[1])\n",
    "    sigxtotal.append(sigx)\n",
    "    a = np.average((result[\"samples\"].T)[0])\n",
    "    residual = slice1 - model1([a,sigx])\n",
    "    residualtotal.append(residual)"
   ]
  },
  {
   "cell_type": "code",
   "execution_count": 290,
   "id": "48594de3",
   "metadata": {},
   "outputs": [
    {
     "data": {
      "text/plain": [
       "[<matplotlib.lines.Line2D at 0x7f9e395b5970>]"
      ]
     },
     "execution_count": 290,
     "metadata": {},
     "output_type": "execute_result"
    },
    {
     "data": {
      "image/png": "[encoded data removed]",
      "text/plain": [
       "<Figure size 432x288 with 1 Axes>"
      ]
     },
     "metadata": {
      "needs_background": "light"
     },
     "output_type": "display_data"
    }
   ],
   "source": [
    "plt.plot(sigmatotal)"
   ]
  },
  {
   "cell_type": "code",
   "execution_count": 24,
   "id": "872409ce",
   "metadata": {},
   "outputs": [
    {
     "data": {
      "image/png": "[encoded data removed]",
      "text/plain": [
       "<Figure size 576x576 with 1 Axes>"
      ]
     },
     "metadata": {
      "needs_background": "light"
     },
     "output_type": "display_data"
    }
   ],
   "source": [
    "plt.figure(figsize = (8,8))\n",
    "plt.plot(sigmatotal, sigxtotal, label = \"True data\")\n",
    "plt.plot(sigmatotal, 1.43*np.array(sigmatotal), label = 'y = 1.43x', linestyle = 'dashed')\n",
    "plt.xlabel(\"TDH sigma\")\n",
    "plt.ylabel(\"1D Gaussian sigma\")\n",
    "plt.legend()\n",
    "plt.axis('scaled')\n",
    "plt.savefig(\"sigma relation\")"
   ]
  },
  {
   "cell_type": "code",
   "execution_count": 294,
   "id": "70bffe50",
   "metadata": {},
   "outputs": [
    {
     "data": {
      "text/plain": [
       "[<matplotlib.lines.Line2D at 0x7f9df24d9f40>]"
      ]
     },
     "execution_count": 294,
     "metadata": {},
     "output_type": "execute_result"
    },
    {
     "data": {
      "image/png": "[encoded data removed]",
      "text/plain": [
       "<Figure size 432x288 with 1 Axes>"
      ]
     },
     "metadata": {
      "needs_background": "light"
     },
     "output_type": "display_data"
    }
   ],
   "source": [
    "plt.plot(np.array(sigxtotal)/np.array(sigmatotal))"
   ]
  },
  {
   "cell_type": "code",
   "execution_count": 295,
   "id": "5583554a",
   "metadata": {},
   "outputs": [
    {
     "data": {
      "text/plain": [
       "1.4325556634750685"
      ]
     },
     "execution_count": 295,
     "metadata": {},
     "output_type": "execute_result"
    }
   ],
   "source": [
    "np.average(np.array(sigxtotal)/np.array(sigmatotal))"
   ]
  },
  {
   "cell_type": "code",
   "execution_count": null,
   "id": "06566d2b",
   "metadata": {},
   "outputs": [],
   "source": []
  }
 ],
 "metadata": {
  "kernelspec": {
   "display_name": "Python 3",
   "language": "python",
   "name": "python3"
  },
  "language_info": {
   "codemirror_mode": {
    "name": "ipython",
    "version": 3
   },
   "file_extension": ".py",
   "mimetype": "text/x-python",
   "name": "python",
   "nbconvert_exporter": "python",
   "pygments_lexer": "ipython3",
   "version": "3.8.8"
  }
 },
 "nbformat": 4,
 "nbformat_minor": 5
}
