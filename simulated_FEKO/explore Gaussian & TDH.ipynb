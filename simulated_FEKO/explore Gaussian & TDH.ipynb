{
 "cells": [
  {
   "cell_type": "code",
   "execution_count": 1,
   "id": "60752966",
   "metadata": {},
   "outputs": [],
   "source": [
    "import numpy as np\n",
    "import matplotlib.pyplot as plt\n",
    "import read_beam_FEKO as rf\n",
    "import ultranest\n"
   ]
  },
  {
   "cell_type": "code",
   "execution_count": 2,
   "id": "2826d94c",
   "metadata": {},
   "outputs": [
    {
     "name": "stdout",
     "output_type": "stream",
     "text": [
      " Frequency in Hz:               FREQ =    2.50000E+07\n",
      "\n",
      " Frequency in Hz:               FREQ =    2.60000E+07\n",
      "\n",
      " Frequency in Hz:               FREQ =    2.70000E+07\n",
      "\n",
      " Frequency in Hz:               FREQ =    2.80000E+07\n",
      "\n",
      " Frequency in Hz:               FREQ =    2.90000E+07\n",
      "\n",
      " Frequency in Hz:               FREQ =    3.00000E+07\n",
      "\n",
      " Frequency in Hz:               FREQ =    3.10000E+07\n",
      "\n",
      " Frequency in Hz:               FREQ =    3.20000E+07\n",
      "\n",
      " Frequency in Hz:               FREQ =    3.30000E+07\n",
      "\n",
      " Frequency in Hz:               FREQ =    3.40000E+07\n",
      "\n",
      " Frequency in Hz:               FREQ =    3.50000E+07\n",
      "\n",
      " Frequency in Hz:               FREQ =    3.60000E+07\n",
      "\n",
      " Frequency in Hz:               FREQ =    3.70000E+07\n",
      "\n",
      " Frequency in Hz:               FREQ =    3.80000E+07\n",
      "\n",
      " Frequency in Hz:               FREQ =    3.90000E+07\n",
      "\n",
      " Frequency in Hz:               FREQ =    4.00000E+07\n",
      "\n",
      " Frequency in Hz:               FREQ =    4.10000E+07\n",
      "\n",
      " Frequency in Hz:               FREQ =    4.20000E+07\n",
      "\n",
      " Frequency in Hz:               FREQ =    4.30000E+07\n",
      "\n",
      " Frequency in Hz:               FREQ =    4.40000E+07\n",
      "\n",
      " Frequency in Hz:               FREQ =    4.50000E+07\n",
      "\n",
      " Frequency in Hz:               FREQ =    4.60000E+07\n",
      "\n",
      " Frequency in Hz:               FREQ =    4.70000E+07\n",
      "\n",
      " Frequency in Hz:               FREQ =    4.80000E+07\n",
      "\n",
      " Frequency in Hz:               FREQ =    4.90000E+07\n",
      "\n",
      " Frequency in Hz:               FREQ =    5.00000E+07\n",
      "\n",
      " Frequency in Hz:               FREQ =    5.10000E+07\n",
      "\n",
      " Frequency in Hz:               FREQ =    5.20000E+07\n",
      "\n",
      " Frequency in Hz:               FREQ =    5.30000E+07\n",
      "\n",
      " Frequency in Hz:               FREQ =    5.40000E+07\n",
      "\n",
      " Frequency in Hz:               FREQ =    5.50000E+07\n",
      "\n",
      " Frequency in Hz:               FREQ =    5.60000E+07\n",
      "\n",
      " Frequency in Hz:               FREQ =    5.70000E+07\n",
      "\n",
      " Frequency in Hz:               FREQ =    5.80000E+07\n",
      "\n",
      " Frequency in Hz:               FREQ =    5.90000E+07\n",
      "\n",
      " Frequency in Hz:               FREQ =    6.00000E+07\n",
      "\n",
      " Frequency in Hz:               FREQ =    6.10000E+07\n",
      "\n",
      " Frequency in Hz:               FREQ =    6.20000E+07\n",
      "\n",
      " Frequency in Hz:               FREQ =    6.30000E+07\n",
      "\n",
      " Frequency in Hz:               FREQ =    6.40000E+07\n",
      "\n",
      " Frequency in Hz:               FREQ =    6.50000E+07\n",
      "\n",
      " Frequency in Hz:               FREQ =    6.60000E+07\n",
      "\n",
      " Frequency in Hz:               FREQ =    6.70000E+07\n",
      "\n",
      " Frequency in Hz:               FREQ =    6.80000E+07\n",
      "\n",
      " Frequency in Hz:               FREQ =    6.90000E+07\n",
      "\n",
      " Frequency in Hz:               FREQ =    7.00000E+07\n",
      "\n",
      " Frequency in Hz:               FREQ =    7.10000E+07\n",
      "\n",
      " Frequency in Hz:               FREQ =    7.20000E+07\n",
      "\n",
      " Frequency in Hz:               FREQ =    7.30000E+07\n",
      "\n",
      " Frequency in Hz:               FREQ =    7.40000E+07\n",
      "\n",
      " Frequency in Hz:               FREQ =    7.50000E+07\n",
      "\n",
      " Frequency in Hz:               FREQ =    7.60000E+07\n",
      "\n",
      " Frequency in Hz:               FREQ =    7.70000E+07\n",
      "\n",
      " Frequency in Hz:               FREQ =    7.80000E+07\n",
      "\n",
      " Frequency in Hz:               FREQ =    7.90000E+07\n",
      "\n",
      " Frequency in Hz:               FREQ =    8.00000E+07\n",
      "\n",
      " Frequency in Hz:               FREQ =    8.10000E+07\n",
      "\n",
      " Frequency in Hz:               FREQ =    8.20000E+07\n",
      "\n",
      " Frequency in Hz:               FREQ =    8.30000E+07\n",
      "\n",
      " Frequency in Hz:               FREQ =    8.40000E+07\n",
      "\n",
      " Frequency in Hz:               FREQ =    8.50000E+07\n",
      "\n",
      " Frequency in Hz:               FREQ =    8.60000E+07\n",
      "\n",
      " Frequency in Hz:               FREQ =    8.70000E+07\n",
      "\n",
      " Frequency in Hz:               FREQ =    8.80000E+07\n",
      "\n",
      " Frequency in Hz:               FREQ =    8.90000E+07\n",
      "\n",
      " Frequency in Hz:               FREQ =    9.00000E+07\n",
      "\n",
      " Frequency in Hz:               FREQ =    9.10000E+07\n",
      "\n",
      " Frequency in Hz:               FREQ =    9.20000E+07\n",
      "\n",
      " Frequency in Hz:               FREQ =    9.30000E+07\n",
      "\n",
      " Frequency in Hz:               FREQ =    9.40000E+07\n",
      "\n",
      " Frequency in Hz:               FREQ =    9.50000E+07\n",
      "\n",
      " Frequency in Hz:               FREQ =    9.60000E+07\n",
      "\n",
      " Frequency in Hz:               FREQ =    9.70000E+07\n",
      "\n",
      " Frequency in Hz:               FREQ =    9.80000E+07\n",
      "\n",
      " Frequency in Hz:               FREQ =    9.90000E+07\n",
      "\n",
      " Frequency in Hz:               FREQ =    1.00000E+08\n",
      "\n",
      " Frequency in Hz:               FREQ =    1.01000E+08\n",
      "\n",
      " Frequency in Hz:               FREQ =    1.02000E+08\n",
      "\n",
      " Frequency in Hz:               FREQ =    1.03000E+08\n",
      "\n",
      " Frequency in Hz:               FREQ =    1.04000E+08\n",
      "\n",
      " Frequency in Hz:               FREQ =    1.05000E+08\n",
      "\n",
      " Frequency in Hz:               FREQ =    1.06000E+08\n",
      "\n",
      " Frequency in Hz:               FREQ =    1.07000E+08\n",
      "\n",
      " Frequency in Hz:               FREQ =    1.08000E+08\n",
      "\n",
      " Frequency in Hz:               FREQ =    1.09000E+08\n",
      "\n",
      " Frequency in Hz:               FREQ =    1.10000E+08\n",
      "\n",
      " Frequency in Hz:               FREQ =    1.11000E+08\n",
      "\n",
      " Frequency in Hz:               FREQ =    1.12000E+08\n",
      "\n",
      " Frequency in Hz:               FREQ =    1.13000E+08\n",
      "\n",
      " Frequency in Hz:               FREQ =    1.14000E+08\n",
      "\n",
      " Frequency in Hz:               FREQ =    1.15000E+08\n",
      "\n",
      " Frequency in Hz:               FREQ =    1.16000E+08\n",
      "\n",
      " Frequency in Hz:               FREQ =    1.17000E+08\n",
      "\n",
      " Frequency in Hz:               FREQ =    1.18000E+08\n",
      "\n",
      " Frequency in Hz:               FREQ =    1.19000E+08\n",
      "\n",
      " Frequency in Hz:               FREQ =    1.20000E+08\n",
      "\n",
      " Frequency in Hz:               FREQ =    1.21000E+08\n",
      "\n",
      " Frequency in Hz:               FREQ =    1.22000E+08\n",
      "\n",
      " Frequency in Hz:               FREQ =    1.23000E+08\n",
      "\n",
      " Frequency in Hz:               FREQ =    1.24000E+08\n",
      "\n",
      " Frequency in Hz:               FREQ =    1.25000E+08\n",
      "\n",
      "AZ_antenna_axis = 0 deg\n"
     ]
    }
   ],
   "source": [
    "o = rf.read_beam_FEKO('nominal.out',0)"
   ]
  },
  {
   "cell_type": "code",
   "execution_count": 3,
   "id": "0ced2558",
   "metadata": {},
   "outputs": [],
   "source": [
    "theta = 90 - o[2]\n",
    "phi = o[1]\n",
    "freq = o[0]\n",
    "theta, phi = np.meshgrid(theta, phi)"
   ]
  },
  {
   "cell_type": "code",
   "execution_count": 4,
   "id": "3477f6fc",
   "metadata": {},
   "outputs": [],
   "source": [
    "xx = theta\n",
    "yy = phi\n",
    "sigma = 100\n",
    "def Acos(R, theta, miu, nu):\n",
    "    part1 = np.cos(miu*theta*np.pi/180)*(R/sigma)**miu\n",
    "    part2 = P(miu,nu,R**2/sigma**2)\n",
    "    part3 = np.exp(-R**2/(4*sigma**2))\n",
    "    return part1*part2*part3\n",
    "\n",
    "def Asin(R, theta, miu, nu):\n",
    "    part1 = np.sin(miu*theta*np.pi/180)*(R/sigma)**miu\n",
    "    part2 = P(miu,nu,R**2/sigma**2)\n",
    "    part3 = np.exp(-R**2/(4*sigma**2))\n",
    "    return part1*part2*part3\n",
    "\n",
    "def P(miu,nu,u):\n",
    "    returnarray = np.ones([360,91])\n",
    "    for i in range(360):\n",
    "        for j in range(91):\n",
    "            terms = []\n",
    "            p = 0\n",
    "            while p <= nu:\n",
    "                up = np.math.factorial(miu + nu)*np.math.factorial(nu)\n",
    "                down = np.math.factorial(miu + p)*np.math.factorial(p)*np.math.factorial(nu-p)\n",
    "                term = (-2)**(nu-p)* up/down * u[i][j]**p\n",
    "                terms.append(term)\n",
    "                p += 1\n",
    "            returnarray[i][j] = np.sum(terms)\n",
    "    return returnarray\n",
    "\n",
    "#Normalization\n",
    "def normalize(array):\n",
    "    q = 0\n",
    "    theta = 0\n",
    "    while theta <= 90:\n",
    "        for i in range(360):\n",
    "            q += (array[theta*360 + i])**2 * (np.pi/180)**2 * np.sin(theta*np.pi/180)\n",
    "        theta += 1\n",
    "    return array/q\n",
    "\n",
    "def TDH(rank):\n",
    "    \"\"\"return matrix A = [f1, f2, f3, ...] for rank 0 to rank TDH functions\"\"\"\n",
    "    zz00c = Acos(xx, yy, 0, 0)\n",
    "    zz00c2d = zz00c.flatten()\n",
    "    array = normalize(zz00c2d)\n",
    "    r = 1\n",
    "    while r <= rank:\n",
    "        m = 0\n",
    "        while m <= r:\n",
    "            if (r - m)%2 == 0:\n",
    "                n = (r - m)/2\n",
    "                if m == 0:\n",
    "                    cosine = Acos(xx,yy,m,n).T\n",
    "                    cosine2d = cosine.flatten()\n",
    "                    ncos = normalize(cosine2d)\n",
    "                    array = np.vstack((array, ncos))\n",
    "                    m += 2\n",
    "                else:\n",
    "                    cosine = Acos(xx,yy,m,n).T\n",
    "                    cosine2d = cosine.flatten()\n",
    "                    ncos = normalize(cosine2d)\n",
    "                    sine = Asin(xx,yy,m,n).T\n",
    "                    sine2d = sine.flatten()\n",
    "                    nsin = normalize(sine2d)\n",
    "                    array = np.vstack((array, ncos))\n",
    "                    array = np.vstack((array, nsin))\n",
    "                    m += 2\n",
    "            else:\n",
    "                m += 1\n",
    "        r += 1\n",
    "    matrix = np.matrix(array).T\n",
    "    return matrix\n",
    "\n",
    "def model(rank, coe):\n",
    "    A = TDH(rank)\n",
    "    a = np.matrix(coe).T\n",
    "    return np.matmul(A,a)\n",
    "\n",
    "def simulation(coe, sigma):\n",
    "    rank = 0\n",
    "    count = 1\n",
    "    length = len(coe) - 1\n",
    "    while length > count:\n",
    "        rank += 1\n",
    "        count += rank + 1\n",
    "    mo = model(rank,coe)\n",
    "    noise = np.random.default_rng().normal(0.0, sigma*np.max(mo),360*91)\n",
    "    noi = np.matrix(noise).T\n",
    "    data = mo + noi\n",
    "    return data\n",
    "\n",
    "def solve(A, data):\n",
    "    AT = A.T\n",
    "    ATA = np.matmul(AT,A)\n",
    "    ATAinverse = np.linalg.inv(ATA)\n",
    "    half = np.matmul(ATAinverse,AT)\n",
    "    x = np.matmul(half,data)\n",
    "    return x\n",
    "\n",
    "def residual(A,data):\n",
    "    x = solve(A, data)\n",
    "    AT = A.T\n",
    "    fittingmodel = np.matmul(A, x)\n",
    "    r = fittingmodel - data\n",
    "    return r\n",
    "\n",
    "def residual2D(A,data):\n",
    "    x = solve(A, data)\n",
    "    AT = A.T\n",
    "    fittingmodel = np.matmul(A, x)\n",
    "    r = fittingmodel - data\n",
    "    r2D = r.reshape(360,91)\n",
    "    return r2D\n",
    "\n",
    "def covariance(A,data):\n",
    "    AT = A.T\n",
    "    ATA = np.matmul(AT,A)\n",
    "    ATAinverse = np.linalg.inv(ATA)\n",
    "    r = residual(A,data)\n",
    "    rT = r.T\n",
    "    rTr = np.matmul(rT,r)\n",
    "    s = rTr/((len(data))-10)\n",
    "    s2 = s.item(0)\n",
    "    covariance = s2*ATAinverse\n",
    "    return covariance"
   ]
  },
  {
   "cell_type": "code",
   "execution_count": 5,
   "id": "7248a5ca",
   "metadata": {},
   "outputs": [],
   "source": [
    "rank0 = TDH(0)"
   ]
  },
  {
   "cell_type": "code",
   "execution_count": 6,
   "id": "bb76fed6",
   "metadata": {},
   "outputs": [],
   "source": [
    "rank02d = rank0.reshape(360,91)"
   ]
  },
  {
   "cell_type": "code",
   "execution_count": 7,
   "id": "59a12642",
   "metadata": {},
   "outputs": [],
   "source": [
    "slice1 = rank02d[0]\n",
    "slice1 = np.array(slice1)\n",
    "slice1 = slice1[0]"
   ]
  },
  {
   "cell_type": "code",
   "execution_count": 8,
   "id": "17433390",
   "metadata": {},
   "outputs": [],
   "source": [
    "x = np.arange(0,91,1)"
   ]
  },
  {
   "cell_type": "code",
   "execution_count": 9,
   "id": "8dbd9c05",
   "metadata": {},
   "outputs": [],
   "source": [
    "def Gaussian(A, sigx):\n",
    "    return A * np.exp(-(x-90)**2/2/sigx**2) "
   ]
  },
  {
   "cell_type": "code",
   "execution_count": 10,
   "id": "aaeae7c5",
   "metadata": {},
   "outputs": [],
   "source": [
    "# Define model to simulate data\n",
    "def model1(paras):\n",
    "    A, sigx = paras\n",
    "    return Gaussian(A,sigx)"
   ]
  },
  {
   "cell_type": "code",
   "execution_count": 11,
   "id": "5c06eb72",
   "metadata": {},
   "outputs": [],
   "source": [
    "sigma1 = np.std(slice1)\n",
    "param_names = ['A', 'sigx']\n",
    "def my_prior_transform(cube):\n",
    "    params = cube.copy()\n",
    "\n",
    "    # transform location parameter: uniform prior\n",
    "    lo = 0\n",
    "    hi = 20\n",
    "    params[0] = cube[0] * (hi - lo) + lo\n",
    "\n",
    "    lo = 1\n",
    "    hi = 200\n",
    "    params[1] = cube[1] * (hi - lo) + lo\n",
    "\n",
    "    return params\n",
    "def my_likelihood(params):\n",
    "    mo = model1(params)\n",
    "    diff = mo - slice1\n",
    "    return -0.5 * np.sum((diff/sigma1)**2)"
   ]
  },
  {
   "cell_type": "code",
   "execution_count": 12,
   "id": "40b9fdb5",
   "metadata": {},
   "outputs": [],
   "source": [
    "sampler = ultranest.ReactiveNestedSampler(param_names, my_likelihood, my_prior_transform)"
   ]
  },
  {
   "cell_type": "code",
   "execution_count": 13,
   "id": "3874948f",
   "metadata": {},
   "outputs": [
    {
     "name": "stdout",
     "output_type": "stream",
     "text": [
      "[ultranest] Sampling 200 live points from prior ...\n"
     ]
    },
    {
     "data": {
      "application/vnd.jupyter.widget-view+json": {
       "model_id": "a7f40515e6b946f1b3e8113fb5f0a937",
       "version_major": 2,
       "version_minor": 0
      },
      "text/plain": [
       "VBox(children=(HTML(value=''), GridspecLayout(children=(HTML(value=\"<div style='background-color:#6E6BF4;'>&nb…"
      ]
     },
     "metadata": {},
     "output_type": "display_data"
    },
    {
     "name": "stdout",
     "output_type": "stream",
     "text": [
      "[ultranest] Explored until L=-0.0002  0.0132..-0.0131]*| it/evals=3100/4894 eff=66.0418% N=200    0   0  0 0 0  0 00  0  \n",
      "[ultranest] Likelihood function evaluations: 4895\n",
      "[ultranest]   logZ = -10.86 +- 0.203\n",
      "[ultranest] Effective samples strategy satisfied (ESS = 766.6, need >400)\n",
      "[ultranest] Posterior uncertainty strategy is satisfied (KL: 0.46+-0.09 nat, need <0.50 nat)\n",
      "[ultranest] Evidency uncertainty strategy is satisfied (dlogz=0.20, need <0.5)\n",
      "[ultranest]   logZ error budget: single: 0.22 bs:0.20 tail:0.01 total:0.20 required:<0.50\n",
      "[ultranest] done iterating.\n",
      "\n",
      "logZ = -10.909 +- 0.399\n",
      "  single instance: logZ = -10.909 +- 0.223\n",
      "  bootstrapped   : logZ = -10.865 +- 0.399\n",
      "  tail           : logZ = +- 0.010\n",
      "insert order U test : converged: True correlation: inf iterations\n",
      "\n",
      "    A                   : 0.1727│ ▁   ▁▁▁▁▁▁▂▂▃▂▃▅▆▆▇▆▆▇▇▆▅▅▃▃▂▁▁▁▁▁▁▁▁ │0.1849    0.1793 +- 0.0015\n",
      "    sigx                : 117.4 │ ▁▁▁▁▁▁▂▃▄▅▇▇▇▇▆▇▆▅▅▃▃▃▁▁▁▁▁▁▁▁▁ ▁▁▁ ▁ │180.7     142.5 +- 7.7\n",
      "\n"
     ]
    }
   ],
   "source": [
    "result = sampler.run(min_num_live_points=200)\n",
    "sampler.print_results()"
   ]
  },
  {
   "cell_type": "code",
   "execution_count": 14,
   "id": "5955da9d",
   "metadata": {},
   "outputs": [
    {
     "ename": "TypeError",
     "evalue": "model() missing 1 required positional argument: 'coe'",
     "output_type": "error",
     "traceback": [
      "\u001b[0;31m---------------------------------------------------------------------------\u001b[0m",
      "\u001b[0;31mTypeError\u001b[0m                                 Traceback (most recent call last)",
      "\u001b[0;32m<ipython-input-14-3f091567060e>\u001b[0m in \u001b[0;36m<module>\u001b[0;34m\u001b[0m\n\u001b[1;32m      1\u001b[0m \u001b[0mplt\u001b[0m\u001b[0;34m.\u001b[0m\u001b[0mplot\u001b[0m\u001b[0;34m(\u001b[0m\u001b[0mslice1\u001b[0m\u001b[0;34m)\u001b[0m\u001b[0;34m\u001b[0m\u001b[0;34m\u001b[0m\u001b[0m\n\u001b[0;32m----> 2\u001b[0;31m \u001b[0mplt\u001b[0m\u001b[0;34m.\u001b[0m\u001b[0mplot\u001b[0m\u001b[0;34m(\u001b[0m\u001b[0mmodel\u001b[0m\u001b[0;34m(\u001b[0m\u001b[0;34m[\u001b[0m\u001b[0;36m8.06\u001b[0m\u001b[0;34m,\u001b[0m\u001b[0;36m1.47\u001b[0m\u001b[0;34m]\u001b[0m\u001b[0;34m)\u001b[0m\u001b[0;34m)\u001b[0m\u001b[0;34m\u001b[0m\u001b[0;34m\u001b[0m\u001b[0m\n\u001b[0m",
      "\u001b[0;31mTypeError\u001b[0m: model() missing 1 required positional argument: 'coe'"
     ]
    },
    {
     "data": {
      "image/png": "[encoded data removed]",
      "text/plain": [
       "<Figure size 432x288 with 1 Axes>"
      ]
     },
     "metadata": {
      "needs_background": "light"
     },
     "output_type": "display_data"
    }
   ],
   "source": [
    "plt.plot(slice1)\n",
    "plt.plot(model([8.06,1.47]))"
   ]
  },
  {
   "cell_type": "code",
   "execution_count": 186,
   "id": "8a8e649b",
   "metadata": {},
   "outputs": [
    {
     "data": {
      "text/plain": [
       "[<matplotlib.lines.Line2D at 0x7f9e199f48e0>]"
      ]
     },
     "execution_count": 186,
     "metadata": {},
     "output_type": "execute_result"
    },
    {
     "data": {
      "image/png": "[encoded data removed]",
      "text/plain": [
       "<Figure size 432x288 with 1 Axes>"
      ]
     },
     "metadata": {
      "needs_background": "light"
     },
     "output_type": "display_data"
    }
   ],
   "source": [
    "residual = slice1 - model([0.1871,143,102])\n",
    "plt.plot(slice1)\n",
    "plt.plot(model([0.1871,143,102]))\n",
    "plt.plot(residual)"
   ]
  },
  {
   "cell_type": "code",
   "execution_count": 14,
   "id": "b3af30d0",
   "metadata": {},
   "outputs": [
    {
     "name": "stdout",
     "output_type": "stream",
     "text": [
      "[ultranest] Sampling 200 live points from prior ...\n"
     ]
    },
    {
     "data": {
      "application/vnd.jupyter.widget-view+json": {
       "model_id": "3d77a206ad894fbfbfcfacad18e34109",
       "version_major": 2,
       "version_minor": 0
      },
      "text/plain": [
       "VBox(children=(HTML(value=''), GridspecLayout(children=(HTML(value=\"<div style='background-color:#6E6BF4;'>&nb…"
      ]
     },
     "metadata": {},
     "output_type": "display_data"
    },
    {
     "name": "stdout",
     "output_type": "stream",
     "text": [
      "[ultranest] Explored until L=-0.0002  .0107..-0.0106]*| it/evals=2480/5131 eff=50.2941% N=200    0  0 0  \n",
      "[ultranest] Likelihood function evaluations: 5158\n",
      "[ultranest]   logZ = -7.943 +- 0.1269\n",
      "[ultranest] Effective samples strategy satisfied (ESS = 790.3, need >400)\n",
      "[ultranest] Posterior uncertainty strategy is satisfied (KL: 0.44+-0.09 nat, need <0.50 nat)\n",
      "[ultranest] Evidency uncertainty strategy is satisfied (dlogz=0.13, need <0.5)\n",
      "[ultranest]   logZ error budget: single: 0.19 bs:0.13 tail:0.01 total:0.13 required:<0.50\n",
      "[ultranest] done iterating.\n",
      "[ultranest] Sampling 200 live points from prior ...\n"
     ]
    },
    {
     "data": {
      "application/vnd.jupyter.widget-view+json": {
       "model_id": "6e4cf76004704e91880102245630a743",
       "version_major": 2,
       "version_minor": 0
      },
      "text/plain": [
       "VBox(children=(HTML(value=''), GridspecLayout(children=(HTML(value=\"<div style='background-color:#6E6BF4;'>&nb…"
      ]
     },
     "metadata": {},
     "output_type": "display_data"
    },
    {
     "name": "stdout",
     "output_type": "stream",
     "text": [
      "[ultranest] Explored until L=-3e-05  0.0090..-0.0089]*| it/evals=2540/4122 eff=64.7629% N=200       0  0  \n",
      "[ultranest] Likelihood function evaluations: 4131\n",
      "[ultranest]   logZ = -8.079 +- 0.1401\n",
      "[ultranest] Effective samples strategy satisfied (ESS = 794.1, need >400)\n",
      "[ultranest] Posterior uncertainty strategy is satisfied (KL: 0.46+-0.10 nat, need <0.50 nat)\n",
      "[ultranest] Evidency uncertainty strategy is satisfied (dlogz=0.14, need <0.5)\n",
      "[ultranest]   logZ error budget: single: 0.19 bs:0.14 tail:0.01 total:0.14 required:<0.50\n",
      "[ultranest] done iterating.\n",
      "[ultranest] Sampling 200 live points from prior ...\n"
     ]
    },
    {
     "data": {
      "application/vnd.jupyter.widget-view+json": {
       "model_id": "52724aa2906748b0b7049720b5447cb1",
       "version_major": 2,
       "version_minor": 0
      },
      "text/plain": [
       "VBox(children=(HTML(value=''), GridspecLayout(children=(HTML(value=\"<div style='background-color:#6E6BF4;'>&nb…"
      ]
     },
     "metadata": {},
     "output_type": "display_data"
    },
    {
     "name": "stdout",
     "output_type": "stream",
     "text": [
      "[ultranest] Explored until L=-3e-05  0.0098..-0.0097]*| it/evals=2520/4335 eff=60.9432% N=200     0 0    \n",
      "[ultranest] Likelihood function evaluations: 4353\n",
      "[ultranest]   logZ = -8.08 +- 0.1704\n",
      "[ultranest] Effective samples strategy satisfied (ESS = 818.9, need >400)\n",
      "[ultranest] Posterior uncertainty strategy is satisfied (KL: 0.46+-0.11 nat, need <0.50 nat)\n",
      "[ultranest] Evidency uncertainty strategy is satisfied (dlogz=0.17, need <0.5)\n",
      "[ultranest]   logZ error budget: single: 0.19 bs:0.17 tail:0.01 total:0.17 required:<0.50\n",
      "[ultranest] done iterating.\n",
      "[ultranest] Sampling 200 live points from prior ...\n"
     ]
    },
    {
     "data": {
      "application/vnd.jupyter.widget-view+json": {
       "model_id": "313ed4496d3b4cfd8836dedb8d12bd0a",
       "version_major": 2,
       "version_minor": 0
      },
      "text/plain": [
       "VBox(children=(HTML(value=''), GridspecLayout(children=(HTML(value=\"<div style='background-color:#6E6BF4;'>&nb…"
      ]
     },
     "metadata": {},
     "output_type": "display_data"
    },
    {
     "name": "stdout",
     "output_type": "stream",
     "text": [
      "[ultranest] Explored until L=-4e-05  0.0099..-0.0098]*| it/evals=2480/4275 eff=60.8589% N=200        0 0  \n",
      "[ultranest] Likelihood function evaluations: 4286\n",
      "[ultranest]   logZ = -7.855 +- 0.1348\n",
      "[ultranest] Effective samples strategy satisfied (ESS = 800.4, need >400)\n",
      "[ultranest] Posterior uncertainty strategy is satisfied (KL: 0.47+-0.10 nat, need <0.50 nat)\n",
      "[ultranest] Evidency uncertainty strategy is satisfied (dlogz=0.14, need <0.5)\n",
      "[ultranest]   logZ error budget: single: 0.19 bs:0.13 tail:0.01 total:0.14 required:<0.50\n",
      "[ultranest] done iterating.\n",
      "[ultranest] Sampling 200 live points from prior ...\n"
     ]
    },
    {
     "data": {
      "application/vnd.jupyter.widget-view+json": {
       "model_id": "f2d43dc7002e4981aa6a9f1b8788f7bc",
       "version_major": 2,
       "version_minor": 0
      },
      "text/plain": [
       "VBox(children=(HTML(value=''), GridspecLayout(children=(HTML(value=\"<div style='background-color:#6E6BF4;'>&nb…"
      ]
     },
     "metadata": {},
     "output_type": "display_data"
    },
    {
     "name": "stdout",
     "output_type": "stream",
     "text": [
      "[ultranest] Explored until L=-2e-05  0.0117..-0.0117]*| it/evals=2540/4304 eff=61.8908% N=200       0    0 \n",
      "[ultranest] Likelihood function evaluations: 4318\n",
      "[ultranest]   logZ = -8.18 +- 0.1142\n",
      "[ultranest] Effective samples strategy satisfied (ESS = 809.2, need >400)\n",
      "[ultranest] Posterior uncertainty strategy is satisfied (KL: 0.46+-0.08 nat, need <0.50 nat)\n",
      "[ultranest] Evidency uncertainty strategy is satisfied (dlogz=0.11, need <0.5)\n",
      "[ultranest]   logZ error budget: single: 0.19 bs:0.11 tail:0.01 total:0.11 required:<0.50\n",
      "[ultranest] done iterating.\n",
      "[ultranest] Sampling 200 live points from prior ...\n"
     ]
    },
    {
     "data": {
      "application/vnd.jupyter.widget-view+json": {
       "model_id": "374fa5547d7d455495bd34c2c5e41509",
       "version_major": 2,
       "version_minor": 0
      },
      "text/plain": [
       "VBox(children=(HTML(value=''), GridspecLayout(children=(HTML(value=\"<div style='background-color:#6E6BF4;'>&nb…"
      ]
     },
     "metadata": {},
     "output_type": "display_data"
    },
    {
     "name": "stdout",
     "output_type": "stream",
     "text": [
      "[ultranest] Explored until L=-8e-05  0.0100..-0.0100]*| it/evals=2500/4013 eff=65.5652% N=200  0  0 0   0 \n",
      "[ultranest] Likelihood function evaluations: 4034\n",
      "[ultranest]   logZ = -7.981 +- 0.1401\n",
      "[ultranest] Effective samples strategy satisfied (ESS = 820.6, need >400)\n",
      "[ultranest] Posterior uncertainty strategy is satisfied (KL: 0.46+-0.10 nat, need <0.50 nat)\n",
      "[ultranest] Evidency uncertainty strategy is satisfied (dlogz=0.14, need <0.5)\n",
      "[ultranest]   logZ error budget: single: 0.19 bs:0.14 tail:0.01 total:0.14 required:<0.50\n",
      "[ultranest] done iterating.\n",
      "[ultranest] Sampling 200 live points from prior ...\n"
     ]
    },
    {
     "data": {
      "application/vnd.jupyter.widget-view+json": {
       "model_id": "df2b629e716441eea51a38dd22acc620",
       "version_major": 2,
       "version_minor": 0
      },
      "text/plain": [
       "VBox(children=(HTML(value=''), GridspecLayout(children=(HTML(value=\"<div style='background-color:#6E6BF4;'>&nb…"
      ]
     },
     "metadata": {},
     "output_type": "display_data"
    },
    {
     "name": "stdout",
     "output_type": "stream",
     "text": [
      "[ultranest] Explored until L=-3e-05  0.0106..-0.0106]*| it/evals=2420/4114 eff=61.8293% N=200   00  0  00 \n",
      "[ultranest] Likelihood function evaluations: 4124\n",
      "[ultranest]   logZ = -7.524 +- 0.1177\n",
      "[ultranest] Effective samples strategy satisfied (ESS = 780.5, need >400)\n",
      "[ultranest] Posterior uncertainty strategy is satisfied (KL: 0.46+-0.10 nat, need <0.50 nat)\n",
      "[ultranest] Evidency uncertainty strategy is satisfied (dlogz=0.12, need <0.5)\n",
      "[ultranest]   logZ error budget: single: 0.18 bs:0.12 tail:0.01 total:0.12 required:<0.50\n",
      "[ultranest] done iterating.\n",
      "[ultranest] Sampling 200 live points from prior ...\n"
     ]
    },
    {
     "data": {
      "application/vnd.jupyter.widget-view+json": {
       "model_id": "388eca9f119f4cae8f3eee0b51fb8d58",
       "version_major": 2,
       "version_minor": 0
      },
      "text/plain": [
       "VBox(children=(HTML(value=''), GridspecLayout(children=(HTML(value=\"<div style='background-color:#6E6BF4;'>&nb…"
      ]
     },
     "metadata": {},
     "output_type": "display_data"
    },
    {
     "name": "stdout",
     "output_type": "stream",
     "text": [
      "[ultranest] Explored until L=-7e-05  0.0099..-0.0099]*| it/evals=2475/4044 eff=64.3861% N=200  0    0 0 0   \n",
      "[ultranest] Likelihood function evaluations: 4045\n",
      "[ultranest]   logZ = -7.763 +- 0.1261\n",
      "[ultranest] Effective samples strategy satisfied (ESS = 785.8, need >400)\n",
      "[ultranest] Posterior uncertainty strategy is satisfied (KL: 0.45+-0.11 nat, need <0.50 nat)\n",
      "[ultranest] Evidency uncertainty strategy is satisfied (dlogz=0.13, need <0.5)\n",
      "[ultranest]   logZ error budget: single: 0.18 bs:0.13 tail:0.01 total:0.13 required:<0.50\n",
      "[ultranest] done iterating.\n",
      "[ultranest] Sampling 200 live points from prior ...\n"
     ]
    },
    {
     "data": {
      "application/vnd.jupyter.widget-view+json": {
       "model_id": "914b18972d7e47509d5fd746bc982c7a",
       "version_major": 2,
       "version_minor": 0
      },
      "text/plain": [
       "VBox(children=(HTML(value=''), GridspecLayout(children=(HTML(value=\"<div style='background-color:#6E6BF4;'>&nb…"
      ]
     },
     "metadata": {},
     "output_type": "display_data"
    },
    {
     "name": "stdout",
     "output_type": "stream",
     "text": [
      "[ultranest] Explored until L=-2e-06  0.0083..-0.0082]*| it/evals=2565/4212 eff=63.9332% N=200    0  0 0 0 0 \n",
      "[ultranest] Likelihood function evaluations: 4222\n",
      "[ultranest]   logZ = -8.279 +- 0.1322\n",
      "[ultranest] Effective samples strategy satisfied (ESS = 825.7, need >400)\n",
      "[ultranest] Posterior uncertainty strategy is satisfied (KL: 0.47+-0.10 nat, need <0.50 nat)\n",
      "[ultranest] Evidency uncertainty strategy is satisfied (dlogz=0.13, need <0.5)\n",
      "[ultranest]   logZ error budget: single: 0.19 bs:0.13 tail:0.01 total:0.13 required:<0.50\n",
      "[ultranest] done iterating.\n",
      "[ultranest] Sampling 200 live points from prior ...\n"
     ]
    },
    {
     "data": {
      "application/vnd.jupyter.widget-view+json": {
       "model_id": "fc8a6a1313a5466fb07d1900b750c0a1",
       "version_major": 2,
       "version_minor": 0
      },
      "text/plain": [
       "VBox(children=(HTML(value=''), GridspecLayout(children=(HTML(value=\"<div style='background-color:#6E6BF4;'>&nb…"
      ]
     },
     "metadata": {},
     "output_type": "display_data"
    },
    {
     "name": "stdout",
     "output_type": "stream",
     "text": [
      "[ultranest] Explored until L=-3e-06  0.0090..-0.0090]*| it/evals=2565/4200 eff=64.1250% N=200       0 0  0 0 \n",
      "[ultranest] Likelihood function evaluations: 4216\n",
      "[ultranest]   logZ = -8.282 +- 0.1122\n",
      "[ultranest] Effective samples strategy satisfied (ESS = 781.9, need >400)\n",
      "[ultranest] Posterior uncertainty strategy is satisfied (KL: 0.47+-0.08 nat, need <0.50 nat)\n",
      "[ultranest] Evidency uncertainty strategy is satisfied (dlogz=0.11, need <0.5)\n",
      "[ultranest]   logZ error budget: single: 0.19 bs:0.11 tail:0.01 total:0.11 required:<0.50\n",
      "[ultranest] done iterating.\n",
      "[ultranest] Sampling 200 live points from prior ...\n"
     ]
    },
    {
     "data": {
      "application/vnd.jupyter.widget-view+json": {
       "model_id": "239b2c8f8ed948a889481412cd4f61dd",
       "version_major": 2,
       "version_minor": 0
      },
      "text/plain": [
       "VBox(children=(HTML(value=''), GridspecLayout(children=(HTML(value=\"<div style='background-color:#6E6BF4;'>&nb…"
      ]
     },
     "metadata": {},
     "output_type": "display_data"
    },
    {
     "name": "stdout",
     "output_type": "stream",
     "text": [
      "[ultranest] Explored until L=-6e-05  0.0123..-0.0123]*| it/evals=2520/4211 eff=62.8272% N=200       0 0 0 0 \n",
      "[ultranest] Likelihood function evaluations: 4232\n",
      "[ultranest]   logZ = -8.08 +- 0.1583\n",
      "[ultranest] Effective samples strategy satisfied (ESS = 811.3, need >400)\n",
      "[ultranest] Posterior uncertainty strategy is satisfied (KL: 0.46+-0.11 nat, need <0.50 nat)\n",
      "[ultranest] Evidency uncertainty strategy is satisfied (dlogz=0.16, need <0.5)\n",
      "[ultranest]   logZ error budget: single: 0.19 bs:0.16 tail:0.01 total:0.16 required:<0.50\n",
      "[ultranest] done iterating.\n",
      "[ultranest] Sampling 200 live points from prior ...\n"
     ]
    },
    {
     "data": {
      "application/vnd.jupyter.widget-view+json": {
       "model_id": "27b8c86cf7d442108b687c6798d0fb34",
       "version_major": 2,
       "version_minor": 0
      },
      "text/plain": [
       "VBox(children=(HTML(value=''), GridspecLayout(children=(HTML(value=\"<div style='background-color:#6E6BF4;'>&nb…"
      ]
     },
     "metadata": {},
     "output_type": "display_data"
    },
    {
     "name": "stdout",
     "output_type": "stream",
     "text": [
      "[ultranest] Explored until L=-4e-05  0.0120..-0.0120]*| it/evals=2580/4304 eff=62.8655% N=200    0 0    0 0  \n",
      "[ultranest] Likelihood function evaluations: 4323\n",
      "[ultranest]   logZ = -8.389 +- 0.1398\n",
      "[ultranest] Effective samples strategy satisfied (ESS = 813.7, need >400)\n",
      "[ultranest] Posterior uncertainty strategy is satisfied (KL: 0.46+-0.07 nat, need <0.50 nat)\n",
      "[ultranest] Evidency uncertainty strategy is satisfied (dlogz=0.14, need <0.5)\n",
      "[ultranest]   logZ error budget: single: 0.19 bs:0.14 tail:0.01 total:0.14 required:<0.50\n",
      "[ultranest] done iterating.\n",
      "[ultranest] Sampling 200 live points from prior ...\n"
     ]
    },
    {
     "data": {
      "application/vnd.jupyter.widget-view+json": {
       "model_id": "391004e37efe462aa7cf49f22380b7ea",
       "version_major": 2,
       "version_minor": 0
      },
      "text/plain": [
       "VBox(children=(HTML(value=''), GridspecLayout(children=(HTML(value=\"<div style='background-color:#6E6BF4;'>&nb…"
      ]
     },
     "metadata": {},
     "output_type": "display_data"
    },
    {
     "name": "stdout",
     "output_type": "stream",
     "text": [
      "[ultranest] Explored until L=-6e-05  0.0092..-0.0091]*| it/evals=2580/4236 eff=63.9247% N=200    0  0 0 0  0  \n",
      "[ultranest] Likelihood function evaluations: 4247\n",
      "[ultranest]   logZ = -8.345 +- 0.1235\n",
      "[ultranest] Effective samples strategy satisfied (ESS = 807.4, need >400)\n",
      "[ultranest] Posterior uncertainty strategy is satisfied (KL: 0.46+-0.09 nat, need <0.50 nat)\n",
      "[ultranest] Evidency uncertainty strategy is satisfied (dlogz=0.12, need <0.5)\n",
      "[ultranest]   logZ error budget: single: 0.19 bs:0.12 tail:0.01 total:0.12 required:<0.50\n",
      "[ultranest] done iterating.\n",
      "[ultranest] Sampling 200 live points from prior ...\n"
     ]
    },
    {
     "data": {
      "application/vnd.jupyter.widget-view+json": {
       "model_id": "a03f9f33a9c148508a2569c037305e67",
       "version_major": 2,
       "version_minor": 0
      },
      "text/plain": [
       "VBox(children=(HTML(value=''), GridspecLayout(children=(HTML(value=\"<div style='background-color:#6E6BF4;'>&nb…"
      ]
     },
     "metadata": {},
     "output_type": "display_data"
    },
    {
     "name": "stdout",
     "output_type": "stream",
     "text": [
      "[ultranest] Explored until L=-1e-05  0.0100..-0.0099]*| it/evals=2520/4155 eff=63.7168% N=200     0 0 0 0 0  \n",
      "[ultranest] Likelihood function evaluations: 4172\n",
      "[ultranest]   logZ = -8.059 +- 0.1447\n",
      "[ultranest] Effective samples strategy satisfied (ESS = 813.9, need >400)\n",
      "[ultranest] Posterior uncertainty strategy is satisfied (KL: 0.46+-0.08 nat, need <0.50 nat)\n",
      "[ultranest] Evidency uncertainty strategy is satisfied (dlogz=0.15, need <0.5)\n",
      "[ultranest]   logZ error budget: single: 0.19 bs:0.14 tail:0.01 total:0.15 required:<0.50\n",
      "[ultranest] done iterating.\n",
      "[ultranest] Sampling 200 live points from prior ...\n"
     ]
    },
    {
     "data": {
      "application/vnd.jupyter.widget-view+json": {
       "model_id": "721fbb74fe1b49b09ac95200549e4c60",
       "version_major": 2,
       "version_minor": 0
      },
      "text/plain": [
       "VBox(children=(HTML(value=''), GridspecLayout(children=(HTML(value=\"<div style='background-color:#6E6BF4;'>&nb…"
      ]
     },
     "metadata": {},
     "output_type": "display_data"
    },
    {
     "name": "stdout",
     "output_type": "stream",
     "text": [
      "[ultranest] Explored until L=-2e-05  0.0094..-0.0092]*| it/evals=2610/4321 eff=63.3341% N=200  0   0   00 0  \n",
      "[ultranest] Likelihood function evaluations: 4333\n",
      "[ultranest]   logZ = -8.482 +- 0.1389\n",
      "[ultranest] Effective samples strategy satisfied (ESS = 803.4, need >400)\n",
      "[ultranest] Posterior uncertainty strategy is satisfied (KL: 0.46+-0.13 nat, need <0.50 nat)\n",
      "[ultranest] Evidency uncertainty strategy is satisfied (dlogz=0.14, need <0.5)\n",
      "[ultranest]   logZ error budget: single: 0.19 bs:0.14 tail:0.01 total:0.14 required:<0.50\n",
      "[ultranest] done iterating.\n",
      "[ultranest] Sampling 200 live points from prior ...\n"
     ]
    },
    {
     "data": {
      "application/vnd.jupyter.widget-view+json": {
       "model_id": "38c457995d014a9792e9f8c3b466fe05",
       "version_major": 2,
       "version_minor": 0
      },
      "text/plain": [
       "VBox(children=(HTML(value=''), GridspecLayout(children=(HTML(value=\"<div style='background-color:#6E6BF4;'>&nb…"
      ]
     },
     "metadata": {},
     "output_type": "display_data"
    },
    {
     "name": "stdout",
     "output_type": "stream",
     "text": [
      "[ultranest] Explored until L=-8e-06  0.0081..-0.0080]*| it/evals=2580/4221 eff=64.1631% N=200      0    00 0  \n",
      "[ultranest] Likelihood function evaluations: 4231\n",
      "[ultranest]   logZ = -8.31 +- 0.1087\n",
      "[ultranest] Effective samples strategy satisfied (ESS = 788.3, need >400)\n",
      "[ultranest] Posterior uncertainty strategy is satisfied (KL: 0.46+-0.10 nat, need <0.50 nat)\n",
      "[ultranest] Evidency uncertainty strategy is satisfied (dlogz=0.11, need <0.5)\n",
      "[ultranest]   logZ error budget: single: 0.19 bs:0.11 tail:0.01 total:0.11 required:<0.50\n",
      "[ultranest] done iterating.\n",
      "[ultranest] Sampling 200 live points from prior ...\n"
     ]
    },
    {
     "data": {
      "application/vnd.jupyter.widget-view+json": {
       "model_id": "a65fe1b0687f4b7cac3fba5c74d48957",
       "version_major": 2,
       "version_minor": 0
      },
      "text/plain": [
       "VBox(children=(HTML(value=''), GridspecLayout(children=(HTML(value=\"<div style='background-color:#6E6BF4;'>&nb…"
      ]
     },
     "metadata": {},
     "output_type": "display_data"
    },
    {
     "name": "stdout",
     "output_type": "stream",
     "text": [
      "[ultranest] Explored until L=-2e-05  0.0094..-0.0094]*| it/evals=2565/4121 eff=65.4170% N=200    0 0   00 0   \n",
      "[ultranest] Likelihood function evaluations: 4124\n",
      "[ultranest]   logZ = -8.22 +- 0.1298\n",
      "[ultranest] Effective samples strategy satisfied (ESS = 783.3, need >400)\n",
      "[ultranest] Posterior uncertainty strategy is satisfied (KL: 0.46+-0.08 nat, need <0.50 nat)\n",
      "[ultranest] Evidency uncertainty strategy is satisfied (dlogz=0.13, need <0.5)\n",
      "[ultranest]   logZ error budget: single: 0.19 bs:0.13 tail:0.01 total:0.13 required:<0.50\n",
      "[ultranest] done iterating.\n",
      "[ultranest] Sampling 200 live points from prior ...\n"
     ]
    },
    {
     "data": {
      "application/vnd.jupyter.widget-view+json": {
       "model_id": "60e45ee35dfd44e69b9953378d204381",
       "version_major": 2,
       "version_minor": 0
      },
      "text/plain": [
       "VBox(children=(HTML(value=''), GridspecLayout(children=(HTML(value=\"<div style='background-color:#6E6BF4;'>&nb…"
      ]
     },
     "metadata": {},
     "output_type": "display_data"
    },
    {
     "name": "stdout",
     "output_type": "stream",
     "text": [
      "[ultranest] Explored until L=-1e-05  0.0108..-0.0107]*| it/evals=2655/4570 eff=60.7551% N=200      0 0  0     \n",
      "[ultranest] Likelihood function evaluations: 4570\n",
      "[ultranest]   logZ = -8.669 +- 0.1507\n",
      "[ultranest] Effective samples strategy satisfied (ESS = 780.5, need >400)\n",
      "[ultranest] Posterior uncertainty strategy is satisfied (KL: 0.47+-0.14 nat, need <0.50 nat)\n",
      "[ultranest] Evidency uncertainty strategy is satisfied (dlogz=0.15, need <0.5)\n",
      "[ultranest]   logZ error budget: single: 0.20 bs:0.15 tail:0.01 total:0.15 required:<0.50\n",
      "[ultranest] done iterating.\n",
      "[ultranest] Sampling 200 live points from prior ...\n"
     ]
    },
    {
     "data": {
      "application/vnd.jupyter.widget-view+json": {
       "model_id": "b663801595454f469cd43510426d13be",
       "version_major": 2,
       "version_minor": 0
      },
      "text/plain": [
       "VBox(children=(HTML(value=''), GridspecLayout(children=(HTML(value=\"<div style='background-color:#6E6BF4;'>&nb…"
      ]
     },
     "metadata": {},
     "output_type": "display_data"
    },
    {
     "name": "stdout",
     "output_type": "stream",
     "text": [
      "[ultranest] Explored until L=-2e-05  0.0117..-0.0117]*| it/evals=2600/4287 eff=63.6163% N=200      0  0 00   \n",
      "[ultranest] Likelihood function evaluations: 4317\n",
      "[ultranest]   logZ = -8.48 +- 0.1485\n",
      "[ultranest] Effective samples strategy satisfied (ESS = 788.3, need >400)\n",
      "[ultranest] Posterior uncertainty strategy is satisfied (KL: 0.44+-0.10 nat, need <0.50 nat)\n",
      "[ultranest] Evidency uncertainty strategy is satisfied (dlogz=0.15, need <0.5)\n",
      "[ultranest]   logZ error budget: single: 0.19 bs:0.15 tail:0.01 total:0.15 required:<0.50\n",
      "[ultranest] done iterating.\n",
      "[ultranest] Sampling 200 live points from prior ...\n"
     ]
    },
    {
     "data": {
      "application/vnd.jupyter.widget-view+json": {
       "model_id": "df478be3f5444ffb9ad4e696f97b4a28",
       "version_major": 2,
       "version_minor": 0
      },
      "text/plain": [
       "VBox(children=(HTML(value=''), GridspecLayout(children=(HTML(value=\"<div style='background-color:#6E6BF4;'>&nb…"
      ]
     },
     "metadata": {},
     "output_type": "display_data"
    },
    {
     "name": "stdout",
     "output_type": "stream",
     "text": [
      "[ultranest] Explored until L=-9e-06  0.0099..-0.0098]*| it/evals=2640/4256 eff=65.0888% N=200    0  0 0 0    \n",
      "[ultranest] Likelihood function evaluations: 4277\n",
      "[ultranest]   logZ = -8.67 +- 0.1479\n",
      "[ultranest] Effective samples strategy satisfied (ESS = 788.5, need >400)\n",
      "[ultranest] Posterior uncertainty strategy is satisfied (KL: 0.46+-0.11 nat, need <0.50 nat)\n",
      "[ultranest] Evidency uncertainty strategy is satisfied (dlogz=0.15, need <0.5)\n",
      "[ultranest]   logZ error budget: single: 0.20 bs:0.15 tail:0.01 total:0.15 required:<0.50\n",
      "[ultranest] done iterating.\n",
      "[ultranest] Sampling 200 live points from prior ...\n"
     ]
    },
    {
     "data": {
      "application/vnd.jupyter.widget-view+json": {
       "model_id": "52e5bf3fdfb94842b336397d330a807c",
       "version_major": 2,
       "version_minor": 0
      },
      "text/plain": [
       "VBox(children=(HTML(value=''), GridspecLayout(children=(HTML(value=\"<div style='background-color:#6E6BF4;'>&nb…"
      ]
     },
     "metadata": {},
     "output_type": "display_data"
    },
    {
     "name": "stdout",
     "output_type": "stream",
     "text": [
      "[ultranest] Explored until L=-4e-05  0.0118..-0.0118]*| it/evals=2610/4140 eff=66.2437% N=200    0 0  0 0 0  0 \n",
      "[ultranest] Likelihood function evaluations: 4148\n",
      "[ultranest]   logZ = -8.459 +- 0.1302\n",
      "[ultranest] Effective samples strategy satisfied (ESS = 807.6, need >400)\n",
      "[ultranest] Posterior uncertainty strategy is satisfied (KL: 0.47+-0.11 nat, need <0.50 nat)\n",
      "[ultranest] Evidency uncertainty strategy is satisfied (dlogz=0.13, need <0.5)\n",
      "[ultranest]   logZ error budget: single: 0.19 bs:0.13 tail:0.01 total:0.13 required:<0.50\n",
      "[ultranest] done iterating.\n",
      "[ultranest] Sampling 200 live points from prior ...\n"
     ]
    },
    {
     "data": {
      "application/vnd.jupyter.widget-view+json": {
       "model_id": "531e7522d72f4d1085eed61df2551db6",
       "version_major": 2,
       "version_minor": 0
      },
      "text/plain": [
       "VBox(children=(HTML(value=''), GridspecLayout(children=(HTML(value=\"<div style='background-color:#6E6BF4;'>&nb…"
      ]
     },
     "metadata": {},
     "output_type": "display_data"
    },
    {
     "name": "stdout",
     "output_type": "stream",
     "text": [
      "[ultranest] Explored until L=-2e-05  0.0119..-0.0118]*| it/evals=2655/4192 eff=66.5080% N=200       00  0    \n",
      "[ultranest] Likelihood function evaluations: 4196\n",
      "[ultranest]   logZ = -8.648 +- 0.2089\n",
      "[ultranest] Effective samples strategy satisfied (ESS = 825.4, need >400)\n",
      "[ultranest] Posterior uncertainty strategy is satisfied (KL: 0.46+-0.10 nat, need <0.50 nat)\n",
      "[ultranest] Evidency uncertainty strategy is satisfied (dlogz=0.21, need <0.5)\n",
      "[ultranest]   logZ error budget: single: 0.20 bs:0.21 tail:0.01 total:0.21 required:<0.50\n",
      "[ultranest] done iterating.\n",
      "[ultranest] Sampling 200 live points from prior ...\n"
     ]
    },
    {
     "data": {
      "application/vnd.jupyter.widget-view+json": {
       "model_id": "71bc2468e9684829a347da199c200098",
       "version_major": 2,
       "version_minor": 0
      },
      "text/plain": [
       "VBox(children=(HTML(value=''), GridspecLayout(children=(HTML(value=\"<div style='background-color:#6E6BF4;'>&nb…"
      ]
     },
     "metadata": {},
     "output_type": "display_data"
    },
    {
     "name": "stdout",
     "output_type": "stream",
     "text": [
      "[ultranest] Explored until L=-2e-05  0.0084..-0.0083]*| it/evals=2680/4357 eff=64.4696% N=200    0 0 0  0    0 \n",
      "[ultranest] Likelihood function evaluations: 4359\n",
      "[ultranest]   logZ = -8.84 +- 0.1426\n",
      "[ultranest] Effective samples strategy satisfied (ESS = 836.7, need >400)\n",
      "[ultranest] Posterior uncertainty strategy is satisfied (KL: 0.44+-0.14 nat, need <0.50 nat)\n",
      "[ultranest] Evidency uncertainty strategy is satisfied (dlogz=0.14, need <0.5)\n",
      "[ultranest]   logZ error budget: single: 0.20 bs:0.14 tail:0.01 total:0.14 required:<0.50\n",
      "[ultranest] done iterating.\n",
      "[ultranest] Sampling 200 live points from prior ...\n"
     ]
    },
    {
     "data": {
      "application/vnd.jupyter.widget-view+json": {
       "model_id": "8cd81b23a2584c5faab07a472986fa79",
       "version_major": 2,
       "version_minor": 0
      },
      "text/plain": [
       "VBox(children=(HTML(value=''), GridspecLayout(children=(HTML(value=\"<div style='background-color:#6E6BF4;'>&nb…"
      ]
     },
     "metadata": {},
     "output_type": "display_data"
    },
    {
     "name": "stdout",
     "output_type": "stream",
     "text": [
      "[ultranest] Explored until L=-7e-05  0.0126..-0.0126]*| it/evals=2680/4343 eff=64.6874% N=200     0    0 0   0 \n",
      "[ultranest] Likelihood function evaluations: 4362\n",
      "[ultranest]   logZ = -8.878 +- 0.1385\n",
      "[ultranest] Effective samples strategy satisfied (ESS = 798.0, need >400)\n",
      "[ultranest] Posterior uncertainty strategy is satisfied (KL: 0.45+-0.10 nat, need <0.50 nat)\n",
      "[ultranest] Evidency uncertainty strategy is satisfied (dlogz=0.14, need <0.5)\n",
      "[ultranest]   logZ error budget: single: 0.20 bs:0.14 tail:0.01 total:0.14 required:<0.50\n",
      "[ultranest] done iterating.\n",
      "[ultranest] Sampling 200 live points from prior ...\n"
     ]
    },
    {
     "data": {
      "application/vnd.jupyter.widget-view+json": {
       "model_id": "002c1251317e4e8b9c1608c7bef6783d",
       "version_major": 2,
       "version_minor": 0
      },
      "text/plain": [
       "VBox(children=(HTML(value=''), GridspecLayout(children=(HTML(value=\"<div style='background-color:#6E6BF4;'>&nb…"
      ]
     },
     "metadata": {},
     "output_type": "display_data"
    },
    {
     "name": "stdout",
     "output_type": "stream",
     "text": [
      "[ultranest] Explored until L=-3e-05  0.0103..-0.0102]*| it/evals=2740/4437 eff=64.6684% N=200    0  0 0 0   00 \n",
      "[ultranest] Likelihood function evaluations: 4441\n",
      "[ultranest]   logZ = -9.127 +- 0.1524\n",
      "[ultranest] Effective samples strategy satisfied (ESS = 779.3, need >400)\n",
      "[ultranest] Posterior uncertainty strategy is satisfied (KL: 0.47+-0.08 nat, need <0.50 nat)\n",
      "[ultranest] Evidency uncertainty strategy is satisfied (dlogz=0.15, need <0.5)\n",
      "[ultranest]   logZ error budget: single: 0.20 bs:0.15 tail:0.01 total:0.15 required:<0.50\n",
      "[ultranest] done iterating.\n",
      "[ultranest] Sampling 200 live points from prior ...\n"
     ]
    },
    {
     "data": {
      "application/vnd.jupyter.widget-view+json": {
       "model_id": "e2a908a8b8664854b37ba3f16c6f0742",
       "version_major": 2,
       "version_minor": 0
      },
      "text/plain": [
       "VBox(children=(HTML(value=''), GridspecLayout(children=(HTML(value=\"<div style='background-color:#6E6BF4;'>&nb…"
      ]
     },
     "metadata": {},
     "output_type": "display_data"
    },
    {
     "name": "stdout",
     "output_type": "stream",
     "text": [
      "[ultranest] Explored until L=-5e-05  0.0119..-0.0119]*| it/evals=2680/4319 eff=65.0643% N=200    0 0 0   0 0 0  \n",
      "[ultranest] Likelihood function evaluations: 4347\n",
      "[ultranest]   logZ = -8.892 +- 0.1427\n",
      "[ultranest] Effective samples strategy satisfied (ESS = 809.4, need >400)\n",
      "[ultranest] Posterior uncertainty strategy is satisfied (KL: 0.46+-0.08 nat, need <0.50 nat)\n",
      "[ultranest] Evidency uncertainty strategy is satisfied (dlogz=0.14, need <0.5)\n",
      "[ultranest]   logZ error budget: single: 0.20 bs:0.14 tail:0.01 total:0.14 required:<0.50\n",
      "[ultranest] done iterating.\n",
      "[ultranest] Sampling 200 live points from prior ...\n"
     ]
    },
    {
     "data": {
      "application/vnd.jupyter.widget-view+json": {
       "model_id": "02bb210f74cd4231903f2776ed7e57bc",
       "version_major": 2,
       "version_minor": 0
      },
      "text/plain": [
       "VBox(children=(HTML(value=''), GridspecLayout(children=(HTML(value=\"<div style='background-color:#6E6BF4;'>&nb…"
      ]
     },
     "metadata": {},
     "output_type": "display_data"
    },
    {
     "name": "stdout",
     "output_type": "stream",
     "text": [
      "[ultranest] Explored until L=-7e-06  0.0126..-0.0126]*| it/evals=2720/4582 eff=62.0721% N=200        0  0 0 0   \n",
      "[ultranest] Likelihood function evaluations: 4591\n",
      "[ultranest]   logZ = -9.005 +- 0.145\n",
      "[ultranest] Effective samples strategy satisfied (ESS = 838.3, need >400)\n",
      "[ultranest] Posterior uncertainty strategy is satisfied (KL: 0.46+-0.11 nat, need <0.50 nat)\n",
      "[ultranest] Evidency uncertainty strategy is satisfied (dlogz=0.15, need <0.5)\n",
      "[ultranest]   logZ error budget: single: 0.20 bs:0.14 tail:0.01 total:0.15 required:<0.50\n",
      "[ultranest] done iterating.\n",
      "[ultranest] Sampling 200 live points from prior ...\n"
     ]
    },
    {
     "data": {
      "application/vnd.jupyter.widget-view+json": {
       "model_id": "35e2e34db7204b6fbec09df94c4a0781",
       "version_major": 2,
       "version_minor": 0
      },
      "text/plain": [
       "VBox(children=(HTML(value=''), GridspecLayout(children=(HTML(value=\"<div style='background-color:#6E6BF4;'>&nb…"
      ]
     },
     "metadata": {},
     "output_type": "display_data"
    },
    {
     "name": "stdout",
     "output_type": "stream",
     "text": [
      "[ultranest] Explored until L=-0.0001  .0103..-0.0103]*| it/evals=2680/4475 eff=62.6901% N=200    0   0  0 0 0  \n",
      "[ultranest] Likelihood function evaluations: 4493\n",
      "[ultranest]   logZ = -8.872 +- 0.1301\n",
      "[ultranest] Effective samples strategy satisfied (ESS = 798.1, need >400)\n",
      "[ultranest] Posterior uncertainty strategy is satisfied (KL: 0.47+-0.11 nat, need <0.50 nat)\n",
      "[ultranest] Evidency uncertainty strategy is satisfied (dlogz=0.13, need <0.5)\n",
      "[ultranest]   logZ error budget: single: 0.20 bs:0.13 tail:0.01 total:0.13 required:<0.50\n",
      "[ultranest] done iterating.\n",
      "[ultranest] Sampling 200 live points from prior ...\n"
     ]
    },
    {
     "data": {
      "application/vnd.jupyter.widget-view+json": {
       "model_id": "3e42c45f46f74fa2a422077af20ac57a",
       "version_major": 2,
       "version_minor": 0
      },
      "text/plain": [
       "VBox(children=(HTML(value=''), GridspecLayout(children=(HTML(value=\"<div style='background-color:#6E6BF4;'>&nb…"
      ]
     },
     "metadata": {},
     "output_type": "display_data"
    },
    {
     "name": "stdout",
     "output_type": "stream",
     "text": [
      "[ultranest] Explored until L=-3e-07  0.0116..-0.0116]*| it/evals=2800/4689 eff=62.3747% N=200      0 0  0 0 0 0  \n",
      "[ultranest] Likelihood function evaluations: 4710\n",
      "[ultranest]   logZ = -9.463 +- 0.1546\n",
      "[ultranest] Effective samples strategy satisfied (ESS = 780.1, need >400)\n",
      "[ultranest] Posterior uncertainty strategy is satisfied (KL: 0.48+-0.13 nat, need <0.50 nat)\n",
      "[ultranest] Evidency uncertainty strategy is satisfied (dlogz=0.15, need <0.5)\n",
      "[ultranest]   logZ error budget: single: 0.21 bs:0.15 tail:0.01 total:0.15 required:<0.50\n",
      "[ultranest] done iterating.\n",
      "[ultranest] Sampling 200 live points from prior ...\n"
     ]
    },
    {
     "data": {
      "application/vnd.jupyter.widget-view+json": {
       "model_id": "efef7b571b1442a9a42ae35820564b2e",
       "version_major": 2,
       "version_minor": 0
      },
      "text/plain": [
       "VBox(children=(HTML(value=''), GridspecLayout(children=(HTML(value=\"<div style='background-color:#6E6BF4;'>&nb…"
      ]
     },
     "metadata": {},
     "output_type": "display_data"
    },
    {
     "name": "stdout",
     "output_type": "stream",
     "text": [
      "[ultranest] Explored until L=-3e-05  0.0086..-0.0086]*| it/evals=2760/4587 eff=62.9132% N=200        0 0 00  0 0 \n",
      "[ultranest] Likelihood function evaluations: 4594\n",
      "[ultranest]   logZ = -9.176 +- 0.1403\n",
      "[ultranest] Effective samples strategy satisfied (ESS = 804.5, need >400)\n",
      "[ultranest] Posterior uncertainty strategy is satisfied (KL: 0.46+-0.10 nat, need <0.50 nat)\n",
      "[ultranest] Evidency uncertainty strategy is satisfied (dlogz=0.14, need <0.5)\n",
      "[ultranest]   logZ error budget: single: 0.20 bs:0.14 tail:0.01 total:0.14 required:<0.50\n",
      "[ultranest] done iterating.\n",
      "[ultranest] Sampling 200 live points from prior ...\n"
     ]
    },
    {
     "data": {
      "application/vnd.jupyter.widget-view+json": {
       "model_id": "dae7ed64345845a5967c02ab0e58b9ae",
       "version_major": 2,
       "version_minor": 0
      },
      "text/plain": [
       "VBox(children=(HTML(value=''), GridspecLayout(children=(HTML(value=\"<div style='background-color:#6E6BF4;'>&nb…"
      ]
     },
     "metadata": {},
     "output_type": "display_data"
    },
    {
     "name": "stdout",
     "output_type": "stream",
     "text": [
      "[ultranest] Explored until L=-6e-05  0.0111..-0.0111]*| it/evals=2840/4562 eff=65.1077% N=200        0 0     0 0 \n",
      "[ultranest] Likelihood function evaluations: 4588\n",
      "[ultranest]   logZ = -9.635 +- 0.1489\n",
      "[ultranest] Effective samples strategy satisfied (ESS = 792.0, need >400)\n",
      "[ultranest] Posterior uncertainty strategy is satisfied (KL: 0.48+-0.09 nat, need <0.50 nat)\n",
      "[ultranest] Evidency uncertainty strategy is satisfied (dlogz=0.15, need <0.5)\n",
      "[ultranest]   logZ error budget: single: 0.21 bs:0.15 tail:0.01 total:0.15 required:<0.50\n",
      "[ultranest] done iterating.\n",
      "[ultranest] Sampling 200 live points from prior ...\n"
     ]
    },
    {
     "data": {
      "application/vnd.jupyter.widget-view+json": {
       "model_id": "593554a22ef842d581377f38bcba01b7",
       "version_major": 2,
       "version_minor": 0
      },
      "text/plain": [
       "VBox(children=(HTML(value=''), GridspecLayout(children=(HTML(value=\"<div style='background-color:#6E6BF4;'>&nb…"
      ]
     },
     "metadata": {},
     "output_type": "display_data"
    },
    {
     "name": "stdout",
     "output_type": "stream",
     "text": [
      "[ultranest] Explored until L=-0.0001  .0150..-0.0150]*| it/evals=2790/4656 eff=62.6122% N=200    0 0 0  0 0 0 0 \n",
      "[ultranest] Likelihood function evaluations: 4667\n",
      "[ultranest]   logZ = -9.403 +- 0.1482\n",
      "[ultranest] Effective samples strategy satisfied (ESS = 782.5, need >400)\n",
      "[ultranest] Posterior uncertainty strategy is satisfied (KL: 0.46+-0.07 nat, need <0.50 nat)\n",
      "[ultranest] Evidency uncertainty strategy is satisfied (dlogz=0.15, need <0.5)\n",
      "[ultranest]   logZ error budget: single: 0.21 bs:0.15 tail:0.01 total:0.15 required:<0.50\n",
      "[ultranest] done iterating.\n",
      "[ultranest] Sampling 200 live points from prior ...\n"
     ]
    },
    {
     "data": {
      "application/vnd.jupyter.widget-view+json": {
       "model_id": "b29eb74bbeae4769b6e46178ab6f6e75",
       "version_major": 2,
       "version_minor": 0
      },
      "text/plain": [
       "VBox(children=(HTML(value=''), GridspecLayout(children=(HTML(value=\"<div style='background-color:#6E6BF4;'>&nb…"
      ]
     },
     "metadata": {},
     "output_type": "display_data"
    },
    {
     "name": "stdout",
     "output_type": "stream",
     "text": [
      "[ultranest] Explored until L=-5e-05  0.0119..-0.0118]*| it/evals=2726/4297 eff=66.5365% N=200      0 0  00 0 0 0  \n",
      "[ultranest] Likelihood function evaluations: 4300\n",
      "[ultranest]   logZ = -9.054 +- 0.1599\n",
      "[ultranest] Effective samples strategy satisfied (ESS = 781.4, need >400)\n",
      "[ultranest] Posterior uncertainty strategy is satisfied (KL: 0.47+-0.09 nat, need <0.50 nat)\n",
      "[ultranest] Evidency uncertainty strategy is satisfied (dlogz=0.16, need <0.5)\n",
      "[ultranest]   logZ error budget: single: 0.20 bs:0.16 tail:0.01 total:0.16 required:<0.50\n",
      "[ultranest] done iterating.\n",
      "[ultranest] Sampling 200 live points from prior ...\n"
     ]
    },
    {
     "data": {
      "application/vnd.jupyter.widget-view+json": {
       "model_id": "d7211c3c230849b88e7b622b8ae827aa",
       "version_major": 2,
       "version_minor": 0
      },
      "text/plain": [
       "VBox(children=(HTML(value=''), GridspecLayout(children=(HTML(value=\"<div style='background-color:#6E6BF4;'>&nb…"
      ]
     },
     "metadata": {},
     "output_type": "display_data"
    },
    {
     "name": "stdout",
     "output_type": "stream",
     "text": [
      "[ultranest] Explored until L=-1e-06  0.0118..-0.0118]*| it/evals=2860/4786 eff=62.3637% N=200        0 0 0   0 0  \n",
      "[ultranest] Likelihood function evaluations: 4797\n",
      "[ultranest]   logZ = -9.75 +- 0.1668\n",
      "[ultranest] Effective samples strategy satisfied (ESS = 809.3, need >400)\n",
      "[ultranest] Posterior uncertainty strategy is satisfied (KL: 0.46+-0.11 nat, need <0.50 nat)\n",
      "[ultranest] Evidency uncertainty strategy is satisfied (dlogz=0.17, need <0.5)\n",
      "[ultranest]   logZ error budget: single: 0.21 bs:0.17 tail:0.01 total:0.17 required:<0.50\n",
      "[ultranest] done iterating.\n",
      "[ultranest] Sampling 200 live points from prior ...\n"
     ]
    },
    {
     "data": {
      "application/vnd.jupyter.widget-view+json": {
       "model_id": "439f14dc1f9d40408155924eec598716",
       "version_major": 2,
       "version_minor": 0
      },
      "text/plain": [
       "VBox(children=(HTML(value=''), GridspecLayout(children=(HTML(value=\"<div style='background-color:#6E6BF4;'>&nb…"
      ]
     },
     "metadata": {},
     "output_type": "display_data"
    },
    {
     "name": "stdout",
     "output_type": "stream",
     "text": [
      "[ultranest] Explored until L=-4e-05  0.0126..-0.0126]*| it/evals=2790/4547 eff=64.1822% N=200        0 0    0 0 0 \n",
      "[ultranest] Likelihood function evaluations: 4556\n",
      "[ultranest]   logZ = -9.372 +- 0.1906\n",
      "[ultranest] Effective samples strategy satisfied (ESS = 768.3, need >400)\n",
      "[ultranest] Posterior uncertainty strategy is satisfied (KL: 0.46+-0.10 nat, need <0.50 nat)\n",
      "[ultranest] Evidency uncertainty strategy is satisfied (dlogz=0.19, need <0.5)\n",
      "[ultranest]   logZ error budget: single: 0.21 bs:0.19 tail:0.01 total:0.19 required:<0.50\n",
      "[ultranest] done iterating.\n",
      "[ultranest] Sampling 200 live points from prior ...\n"
     ]
    },
    {
     "data": {
      "application/vnd.jupyter.widget-view+json": {
       "model_id": "1086c2dbb1864f089bde082999812b67",
       "version_major": 2,
       "version_minor": 0
      },
      "text/plain": [
       "VBox(children=(HTML(value=''), GridspecLayout(children=(HTML(value=\"<div style='background-color:#6E6BF4;'>&nb…"
      ]
     },
     "metadata": {},
     "output_type": "display_data"
    },
    {
     "name": "stdout",
     "output_type": "stream",
     "text": [
      "[ultranest] Explored until L=-5e-06  0.0121..-0.0121]*| it/evals=2860/5071 eff=58.7148% N=200    0   0  0    0 0  \n",
      "[ultranest] Likelihood function evaluations: 5076\n",
      "[ultranest]   logZ = -9.741 +- 0.1451\n",
      "[ultranest] Effective samples strategy satisfied (ESS = 822.3, need >400)\n",
      "[ultranest] Posterior uncertainty strategy is satisfied (KL: 0.46+-0.06 nat, need <0.50 nat)\n",
      "[ultranest] Evidency uncertainty strategy is satisfied (dlogz=0.15, need <0.5)\n",
      "[ultranest]   logZ error budget: single: 0.21 bs:0.15 tail:0.01 total:0.15 required:<0.50\n",
      "[ultranest] done iterating.\n",
      "[ultranest] Sampling 200 live points from prior ...\n"
     ]
    },
    {
     "data": {
      "application/vnd.jupyter.widget-view+json": {
       "model_id": "4f7ecd284cc642cfab93bbb5344d8bfe",
       "version_major": 2,
       "version_minor": 0
      },
      "text/plain": [
       "VBox(children=(HTML(value=''), GridspecLayout(children=(HTML(value=\"<div style='background-color:#6E6BF4;'>&nb…"
      ]
     },
     "metadata": {},
     "output_type": "display_data"
    },
    {
     "name": "stdout",
     "output_type": "stream",
     "text": [
      "[ultranest] Explored until L=-3e-05  0.0093..-0.0092]*| it/evals=2860/4709 eff=63.4287% N=200          0     0 0  \n",
      "[ultranest] Likelihood function evaluations: 4729\n",
      "[ultranest]   logZ = -9.808 +- 0.1431\n",
      "[ultranest] Effective samples strategy satisfied (ESS = 813.5, need >400)\n",
      "[ultranest] Posterior uncertainty strategy is satisfied (KL: 0.45+-0.08 nat, need <0.50 nat)\n",
      "[ultranest] Evidency uncertainty strategy is satisfied (dlogz=0.14, need <0.5)\n",
      "[ultranest]   logZ error budget: single: 0.21 bs:0.14 tail:0.01 total:0.14 required:<0.50\n",
      "[ultranest] done iterating.\n",
      "[ultranest] Sampling 200 live points from prior ...\n"
     ]
    },
    {
     "data": {
      "application/vnd.jupyter.widget-view+json": {
       "model_id": "cf2d6f82100745e1a4b1d85ea04082e0",
       "version_major": 2,
       "version_minor": 0
      },
      "text/plain": [
       "VBox(children=(HTML(value=''), GridspecLayout(children=(HTML(value=\"<div style='background-color:#6E6BF4;'>&nb…"
      ]
     },
     "metadata": {},
     "output_type": "display_data"
    },
    {
     "name": "stdout",
     "output_type": "stream",
     "text": [
      "[ultranest] Explored until L=-5e-05  -0.0113..-0.0112]*| it/evals=2900/4678 eff=64.7611% N=200      00   0 0 0    \n",
      "[ultranest] Likelihood function evaluations: 4687\n",
      "[ultranest]   logZ = -9.92 +- 0.1912\n",
      "[ultranest] Effective samples strategy satisfied (ESS = 824.9, need >400)\n",
      "[ultranest] Posterior uncertainty strategy is satisfied (KL: 0.46+-0.08 nat, need <0.50 nat)\n",
      "[ultranest] Evidency uncertainty strategy is satisfied (dlogz=0.19, need <0.5)\n",
      "[ultranest]   logZ error budget: single: 0.21 bs:0.19 tail:0.01 total:0.19 required:<0.50\n",
      "[ultranest] done iterating.\n",
      "[ultranest] Sampling 200 live points from prior ...\n"
     ]
    },
    {
     "data": {
      "application/vnd.jupyter.widget-view+json": {
       "model_id": "23fa6eac9a58443da03f65e569cb529f",
       "version_major": 2,
       "version_minor": 0
      },
      "text/plain": [
       "VBox(children=(HTML(value=''), GridspecLayout(children=(HTML(value=\"<div style='background-color:#6E6BF4;'>&nb…"
      ]
     },
     "metadata": {},
     "output_type": "display_data"
    },
    {
     "name": "stdout",
     "output_type": "stream",
     "text": [
      "[ultranest] Explored until L=-1e-05  0.0078..-0.0077]*| it/evals=2820/4527 eff=65.1722% N=200    0   0 0  0 0 0  0 \n",
      "[ultranest] Likelihood function evaluations: 4539\n",
      "[ultranest]   logZ = -9.577 +- 0.1616\n",
      "[ultranest] Effective samples strategy satisfied (ESS = 774.5, need >400)\n",
      "[ultranest] Posterior uncertainty strategy is satisfied (KL: 0.46+-0.14 nat, need <0.50 nat)\n",
      "[ultranest] Evidency uncertainty strategy is satisfied (dlogz=0.16, need <0.5)\n",
      "[ultranest]   logZ error budget: single: 0.21 bs:0.16 tail:0.01 total:0.16 required:<0.50\n",
      "[ultranest] done iterating.\n",
      "[ultranest] Sampling 200 live points from prior ...\n"
     ]
    },
    {
     "data": {
      "application/vnd.jupyter.widget-view+json": {
       "model_id": "1e2780f5e0ed44019ecb4d7cca283421",
       "version_major": 2,
       "version_minor": 0
      },
      "text/plain": [
       "VBox(children=(HTML(value=''), GridspecLayout(children=(HTML(value=\"<div style='background-color:#6E6BF4;'>&nb…"
      ]
     },
     "metadata": {},
     "output_type": "display_data"
    },
    {
     "name": "stdout",
     "output_type": "stream",
     "text": [
      "[ultranest] Explored until L=-3e-05  0.0135..-0.0134]*| it/evals=2840/4746 eff=62.4725% N=200        0 0    00 0   \n",
      "[ultranest] Likelihood function evaluations: 4762\n",
      "[ultranest]   logZ = -9.644 +- 0.1861\n",
      "[ultranest] Effective samples strategy satisfied (ESS = 791.3, need >400)\n",
      "[ultranest] Posterior uncertainty strategy is satisfied (KL: 0.47+-0.14 nat, need <0.50 nat)\n",
      "[ultranest] Evidency uncertainty strategy is satisfied (dlogz=0.19, need <0.5)\n",
      "[ultranest]   logZ error budget: single: 0.21 bs:0.19 tail:0.01 total:0.19 required:<0.50\n",
      "[ultranest] done iterating.\n",
      "[ultranest] Sampling 200 live points from prior ...\n"
     ]
    },
    {
     "data": {
      "application/vnd.jupyter.widget-view+json": {
       "model_id": "8ae5eb2ddf584ff197ee17d27a537e58",
       "version_major": 2,
       "version_minor": 0
      },
      "text/plain": [
       "VBox(children=(HTML(value=''), GridspecLayout(children=(HTML(value=\"<div style='background-color:#6E6BF4;'>&nb…"
      ]
     },
     "metadata": {},
     "output_type": "display_data"
    },
    {
     "name": "stdout",
     "output_type": "stream",
     "text": [
      "[ultranest] Explored until L=-4e-06  0.0101..-0.0100]*| it/evals=2760/4551 eff=63.4337% N=200        0 0     0 0  \n",
      "[ultranest] Likelihood function evaluations: 4553\n",
      "[ultranest]   logZ = -9.233 +- 0.1347\n",
      "[ultranest] Effective samples strategy satisfied (ESS = 774.9, need >400)\n",
      "[ultranest] Posterior uncertainty strategy is satisfied (KL: 0.44+-0.11 nat, need <0.50 nat)\n",
      "[ultranest] Evidency uncertainty strategy is satisfied (dlogz=0.14, need <0.5)\n",
      "[ultranest]   logZ error budget: single: 0.20 bs:0.13 tail:0.01 total:0.14 required:<0.50\n",
      "[ultranest] done iterating.\n",
      "[ultranest] Sampling 200 live points from prior ...\n"
     ]
    },
    {
     "data": {
      "application/vnd.jupyter.widget-view+json": {
       "model_id": "7e1c93a16b254d7aa1618b17ba0f321c",
       "version_major": 2,
       "version_minor": 0
      },
      "text/plain": [
       "VBox(children=(HTML(value=''), GridspecLayout(children=(HTML(value=\"<div style='background-color:#6E6BF4;'>&nb…"
      ]
     },
     "metadata": {},
     "output_type": "display_data"
    },
    {
     "name": "stdout",
     "output_type": "stream",
     "text": [
      "[ultranest] Explored until L=-3e-06  -0.0129..-0.0129]*| it/evals=2940/4807 eff=63.8159% N=200      00 0    0    \n",
      "[ultranest] Likelihood function evaluations: 4808\n",
      "[ultranest]   logZ = -10.09 +- 0.1776\n",
      "[ultranest] Effective samples strategy satisfied (ESS = 845.5, need >400)\n",
      "[ultranest] Posterior uncertainty strategy is satisfied (KL: 0.46+-0.09 nat, need <0.50 nat)\n",
      "[ultranest] Evidency uncertainty strategy is satisfied (dlogz=0.18, need <0.5)\n",
      "[ultranest]   logZ error budget: single: 0.21 bs:0.18 tail:0.01 total:0.18 required:<0.50\n",
      "[ultranest] done iterating.\n",
      "[ultranest] Sampling 200 live points from prior ...\n"
     ]
    },
    {
     "data": {
      "application/vnd.jupyter.widget-view+json": {
       "model_id": "df46c8b9b4b741c8b9e66c387091a13e",
       "version_major": 2,
       "version_minor": 0
      },
      "text/plain": [
       "VBox(children=(HTML(value=''), GridspecLayout(children=(HTML(value=\"<div style='background-color:#6E6BF4;'>&nb…"
      ]
     },
     "metadata": {},
     "output_type": "display_data"
    },
    {
     "name": "stdout",
     "output_type": "stream",
     "text": [
      "[ultranest] Explored until L=-2e-05  -0.0094..-0.0094]*| it/evals=2940/4753 eff=64.5728% N=200 0  0  0   0   0   0 \n",
      "[ultranest] Likelihood function evaluations: 4766\n",
      "[ultranest]   logZ = -10.18 +- 0.14\n",
      "[ultranest] Effective samples strategy satisfied (ESS = 783.6, need >400)\n",
      "[ultranest] Posterior uncertainty strategy is satisfied (KL: 0.47+-0.08 nat, need <0.50 nat)\n",
      "[ultranest] Evidency uncertainty strategy is satisfied (dlogz=0.14, need <0.5)\n",
      "[ultranest]   logZ error budget: single: 0.21 bs:0.14 tail:0.01 total:0.14 required:<0.50\n",
      "[ultranest] done iterating.\n",
      "[ultranest] Sampling 200 live points from prior ...\n"
     ]
    },
    {
     "data": {
      "application/vnd.jupyter.widget-view+json": {
       "model_id": "b92855affd3f4519985558ca307dad99",
       "version_major": 2,
       "version_minor": 0
      },
      "text/plain": [
       "VBox(children=(HTML(value=''), GridspecLayout(children=(HTML(value=\"<div style='background-color:#6E6BF4;'>&nb…"
      ]
     },
     "metadata": {},
     "output_type": "display_data"
    },
    {
     "name": "stdout",
     "output_type": "stream",
     "text": [
      "[ultranest] Explored until L=-3e-05  0.0106..-0.0105]*| it/evals=2860/4689 eff=63.7113% N=200      0 0   0 0 0  00 \n",
      "[ultranest] Likelihood function evaluations: 4713\n",
      "[ultranest]   logZ = -9.762 +- 0.1533\n",
      "[ultranest] Effective samples strategy satisfied (ESS = 812.3, need >400)\n",
      "[ultranest] Posterior uncertainty strategy is satisfied (KL: 0.45+-0.15 nat, need <0.50 nat)\n",
      "[ultranest] Evidency uncertainty strategy wants 198 minimum live points (dlogz from 0.12 to 0.52, need <0.5)\n",
      "[ultranest]   logZ error budget: single: 0.21 bs:0.15 tail:0.01 total:0.15 required:<0.50\n",
      "[ultranest] done iterating.\n",
      "[ultranest] Sampling 200 live points from prior ...\n"
     ]
    },
    {
     "data": {
      "application/vnd.jupyter.widget-view+json": {
       "model_id": "1566713889754a988112a6570fc238a1",
       "version_major": 2,
       "version_minor": 0
      },
      "text/plain": [
       "VBox(children=(HTML(value=''), GridspecLayout(children=(HTML(value=\"<div style='background-color:#6E6BF4;'>&nb…"
      ]
     },
     "metadata": {},
     "output_type": "display_data"
    },
    {
     "name": "stdout",
     "output_type": "stream",
     "text": [
      "[ultranest] Explored until L=-6e-05  -0.0106..-0.0106]*| it/evals=2925/5037 eff=60.4714% N=200       0    0  0   0 \n",
      "[ultranest] Likelihood function evaluations: 5049\n",
      "[ultranest]   logZ = -10.06 +- 0.1696\n",
      "[ultranest] Effective samples strategy satisfied (ESS = 793.9, need >400)\n",
      "[ultranest] Posterior uncertainty strategy is satisfied (KL: 0.46+-0.09 nat, need <0.50 nat)\n",
      "[ultranest] Evidency uncertainty strategy is satisfied (dlogz=0.17, need <0.5)\n",
      "[ultranest]   logZ error budget: single: 0.21 bs:0.17 tail:0.01 total:0.17 required:<0.50\n",
      "[ultranest] done iterating.\n",
      "[ultranest] Sampling 200 live points from prior ...\n"
     ]
    },
    {
     "data": {
      "application/vnd.jupyter.widget-view+json": {
       "model_id": "e8d0a22218674f7391211402eb3fbc66",
       "version_major": 2,
       "version_minor": 0
      },
      "text/plain": [
       "VBox(children=(HTML(value=''), GridspecLayout(children=(HTML(value=\"<div style='background-color:#6E6BF4;'>&nb…"
      ]
     },
     "metadata": {},
     "output_type": "display_data"
    },
    {
     "name": "stdout",
     "output_type": "stream",
     "text": [
      "[ultranest] Explored until L=-3e-07  -0.0121..-0.0121]*| it/evals=2920/4553 eff=67.0802% N=200       0 0 0   0   0 \n",
      "[ultranest] Likelihood function evaluations: 4578\n",
      "[ultranest]   logZ = -10.09 +- 0.1189\n",
      "[ultranest] Effective samples strategy satisfied (ESS = 828.1, need >400)\n",
      "[ultranest] Posterior uncertainty strategy is satisfied (KL: 0.46+-0.09 nat, need <0.50 nat)\n",
      "[ultranest] Evidency uncertainty strategy is satisfied (dlogz=0.12, need <0.5)\n",
      "[ultranest]   logZ error budget: single: 0.21 bs:0.12 tail:0.01 total:0.12 required:<0.50\n",
      "[ultranest] done iterating.\n",
      "[ultranest] Sampling 200 live points from prior ...\n"
     ]
    },
    {
     "data": {
      "application/vnd.jupyter.widget-view+json": {
       "model_id": "70f1a5c87edc491cac3a222251374402",
       "version_major": 2,
       "version_minor": 0
      },
      "text/plain": [
       "VBox(children=(HTML(value=''), GridspecLayout(children=(HTML(value=\"<div style='background-color:#6E6BF4;'>&nb…"
      ]
     },
     "metadata": {},
     "output_type": "display_data"
    },
    {
     "name": "stdout",
     "output_type": "stream",
     "text": [
      "[ultranest] Explored until L=-6e-06  0.0095..-0.0094]*| it/evals=2880/5191 eff=57.7039% N=200        0 0 0   0   0 \n",
      "[ultranest] Likelihood function evaluations: 5213\n",
      "[ultranest]   logZ = -9.854 +- 0.1454\n",
      "[ultranest] Effective samples strategy satisfied (ESS = 786.2, need >400)\n",
      "[ultranest] Posterior uncertainty strategy is satisfied (KL: 0.45+-0.10 nat, need <0.50 nat)\n",
      "[ultranest] Evidency uncertainty strategy is satisfied (dlogz=0.15, need <0.5)\n",
      "[ultranest]   logZ error budget: single: 0.21 bs:0.15 tail:0.01 total:0.15 required:<0.50\n",
      "[ultranest] done iterating.\n",
      "[ultranest] Sampling 200 live points from prior ...\n"
     ]
    },
    {
     "data": {
      "application/vnd.jupyter.widget-view+json": {
       "model_id": "e6a03d2a3cdd4ecfb67adb120605b7ce",
       "version_major": 2,
       "version_minor": 0
      },
      "text/plain": [
       "VBox(children=(HTML(value=''), GridspecLayout(children=(HTML(value=\"<div style='background-color:#6E6BF4;'>&nb…"
      ]
     },
     "metadata": {},
     "output_type": "display_data"
    },
    {
     "name": "stdout",
     "output_type": "stream",
     "text": [
      "[ultranest] Explored until L=-2e-05  -0.0098..-0.0097]*| it/evals=2925/4612 eff=66.2965% N=200       0  00  0  00  \n",
      "[ultranest] Likelihood function evaluations: 4615\n",
      "[ultranest]   logZ = -10.03 +- 0.1458\n",
      "[ultranest] Effective samples strategy satisfied (ESS = 830.3, need >400)\n",
      "[ultranest] Posterior uncertainty strategy is satisfied (KL: 0.46+-0.07 nat, need <0.50 nat)\n",
      "[ultranest] Evidency uncertainty strategy is satisfied (dlogz=0.15, need <0.5)\n",
      "[ultranest]   logZ error budget: single: 0.21 bs:0.15 tail:0.01 total:0.15 required:<0.50\n",
      "[ultranest] done iterating.\n",
      "[ultranest] Sampling 200 live points from prior ...\n"
     ]
    },
    {
     "data": {
      "application/vnd.jupyter.widget-view+json": {
       "model_id": "45bd3c553fd24c85ab0430639cc2e1d5",
       "version_major": 2,
       "version_minor": 0
      },
      "text/plain": [
       "VBox(children=(HTML(value=''), GridspecLayout(children=(HTML(value=\"<div style='background-color:#6E6BF4;'>&nb…"
      ]
     },
     "metadata": {},
     "output_type": "display_data"
    },
    {
     "name": "stdout",
     "output_type": "stream",
     "text": [
      "[ultranest] Explored until L=-5e-05  -0.0121..-0.0121]*| it/evals=2960/4768 eff=64.7986% N=200       0   0 0 0   0 \n",
      "[ultranest] Likelihood function evaluations: 4768\n",
      "[ultranest]   logZ = -10.21 +- 0.1471\n",
      "[ultranest] Effective samples strategy satisfied (ESS = 780.4, need >400)\n",
      "[ultranest] Posterior uncertainty strategy is satisfied (KL: 0.45+-0.12 nat, need <0.50 nat)\n",
      "[ultranest] Evidency uncertainty strategy is satisfied (dlogz=0.15, need <0.5)\n",
      "[ultranest]   logZ error budget: single: 0.21 bs:0.15 tail:0.01 total:0.15 required:<0.50\n",
      "[ultranest] done iterating.\n",
      "[ultranest] Sampling 200 live points from prior ...\n"
     ]
    },
    {
     "data": {
      "application/vnd.jupyter.widget-view+json": {
       "model_id": "2590ee6992234de0b06c035f042429df",
       "version_major": 2,
       "version_minor": 0
      },
      "text/plain": [
       "VBox(children=(HTML(value=''), GridspecLayout(children=(HTML(value=\"<div style='background-color:#6E6BF4;'>&nb…"
      ]
     },
     "metadata": {},
     "output_type": "display_data"
    },
    {
     "name": "stdout",
     "output_type": "stream",
     "text": [
      "[ultranest] Explored until L=-5e-06  -0.0124..-0.0122]*| it/evals=2925/4678 eff=65.3193% N=200       0 0  0 0  0 0  \n",
      "[ultranest] Likelihood function evaluations: 4678\n",
      "[ultranest]   logZ = -10 +- 0.1623\n",
      "[ultranest] Effective samples strategy satisfied (ESS = 794.5, need >400)\n",
      "[ultranest] Posterior uncertainty strategy is satisfied (KL: 0.46+-0.15 nat, need <0.50 nat)\n",
      "[ultranest] Evidency uncertainty strategy is satisfied (dlogz=0.16, need <0.5)\n",
      "[ultranest]   logZ error budget: single: 0.21 bs:0.16 tail:0.01 total:0.16 required:<0.50\n",
      "[ultranest] done iterating.\n",
      "[ultranest] Sampling 200 live points from prior ...\n"
     ]
    },
    {
     "data": {
      "application/vnd.jupyter.widget-view+json": {
       "model_id": "8a792dba3c7d404685bbfd64d858d72e",
       "version_major": 2,
       "version_minor": 0
      },
      "text/plain": [
       "VBox(children=(HTML(value=''), GridspecLayout(children=(HTML(value=\"<div style='background-color:#6E6BF4;'>&nb…"
      ]
     },
     "metadata": {},
     "output_type": "display_data"
    },
    {
     "name": "stdout",
     "output_type": "stream",
     "text": [
      "[ultranest] Explored until L=-0.0002  0.0109..-0.0109]*| it/evals=2920/5137 eff=59.1452% N=200       0 0 00  0 0 0  \n",
      "[ultranest] Likelihood function evaluations: 5139\n",
      "[ultranest]   logZ = -10.03 +- 0.1412\n",
      "[ultranest] Effective samples strategy satisfied (ESS = 786.1, need >400)\n",
      "[ultranest] Posterior uncertainty strategy is satisfied (KL: 0.48+-0.09 nat, need <0.50 nat)\n",
      "[ultranest] Evidency uncertainty strategy is satisfied (dlogz=0.14, need <0.5)\n",
      "[ultranest]   logZ error budget: single: 0.21 bs:0.14 tail:0.01 total:0.14 required:<0.50\n",
      "[ultranest] done iterating.\n",
      "[ultranest] Sampling 200 live points from prior ...\n"
     ]
    },
    {
     "data": {
      "application/vnd.jupyter.widget-view+json": {
       "model_id": "58bd8a819a7d4841bb8441c4f924409e",
       "version_major": 2,
       "version_minor": 0
      },
      "text/plain": [
       "VBox(children=(HTML(value=''), GridspecLayout(children=(HTML(value=\"<div style='background-color:#6E6BF4;'>&nb…"
      ]
     },
     "metadata": {},
     "output_type": "display_data"
    },
    {
     "name": "stdout",
     "output_type": "stream",
     "text": [
      "[ultranest] Explored until L=-2e-05  -0.0105..-0.0104]*| it/evals=2940/4521 eff=68.0398% N=200       0  00 0 0 0 0 0 \n",
      "[ultranest] Likelihood function evaluations: 4541\n",
      "[ultranest]   logZ = -10.15 +- 0.1473\n",
      "[ultranest] Effective samples strategy satisfied (ESS = 820.6, need >400)\n",
      "[ultranest] Posterior uncertainty strategy is satisfied (KL: 0.45+-0.09 nat, need <0.50 nat)\n",
      "[ultranest] Evidency uncertainty strategy is satisfied (dlogz=0.15, need <0.5)\n",
      "[ultranest]   logZ error budget: single: 0.21 bs:0.15 tail:0.01 total:0.15 required:<0.50\n",
      "[ultranest] done iterating.\n",
      "[ultranest] Sampling 200 live points from prior ...\n"
     ]
    },
    {
     "data": {
      "application/vnd.jupyter.widget-view+json": {
       "model_id": "f4d9c68196514112a155ef6be0461465",
       "version_major": 2,
       "version_minor": 0
      },
      "text/plain": [
       "VBox(children=(HTML(value=''), GridspecLayout(children=(HTML(value=\"<div style='background-color:#6E6BF4;'>&nb…"
      ]
     },
     "metadata": {},
     "output_type": "display_data"
    },
    {
     "name": "stdout",
     "output_type": "stream",
     "text": [
      "[ultranest] Explored until L=-2e-05  -0.0133..-0.0133]*| it/evals=2920/4714 eff=64.6876% N=200    0  0 0 0  0 0 0  0 \n",
      "[ultranest] Likelihood function evaluations: 4739\n",
      "[ultranest]   logZ = -10.06 +- 0.1585\n",
      "[ultranest] Effective samples strategy satisfied (ESS = 820.5, need >400)\n",
      "[ultranest] Posterior uncertainty strategy is satisfied (KL: 0.46+-0.20 nat, need <0.50 nat)\n",
      "[ultranest] Evidency uncertainty strategy is satisfied (dlogz=0.16, need <0.5)\n",
      "[ultranest]   logZ error budget: single: 0.21 bs:0.16 tail:0.01 total:0.16 required:<0.50\n",
      "[ultranest] done iterating.\n",
      "[ultranest] Sampling 200 live points from prior ...\n"
     ]
    },
    {
     "data": {
      "application/vnd.jupyter.widget-view+json": {
       "model_id": "281f6add2fbc410bb3ede8d4bb5d555f",
       "version_major": 2,
       "version_minor": 0
      },
      "text/plain": [
       "VBox(children=(HTML(value=''), GridspecLayout(children=(HTML(value=\"<div style='background-color:#6E6BF4;'>&nb…"
      ]
     },
     "metadata": {},
     "output_type": "display_data"
    },
    {
     "name": "stdout",
     "output_type": "stream",
     "text": [
      "[ultranest] Explored until L=-3e-06  -0.0130..-0.0128]*| it/evals=2960/4673 eff=66.1748% N=200       0   0  0 0  0 0 \n",
      "[ultranest] Likelihood function evaluations: 4673\n",
      "[ultranest]   logZ = -10.17 +- 0.1388\n",
      "[ultranest] Effective samples strategy satisfied (ESS = 794.8, need >400)\n",
      "[ultranest] Posterior uncertainty strategy is satisfied (KL: 0.47+-0.11 nat, need <0.50 nat)\n",
      "[ultranest] Evidency uncertainty strategy is satisfied (dlogz=0.14, need <0.5)\n",
      "[ultranest]   logZ error budget: single: 0.21 bs:0.14 tail:0.01 total:0.14 required:<0.50\n",
      "[ultranest] done iterating.\n",
      "[ultranest] Sampling 200 live points from prior ...\n"
     ]
    },
    {
     "data": {
      "application/vnd.jupyter.widget-view+json": {
       "model_id": "0d9b42cb460b4de3ab91d49d682fe89e",
       "version_major": 2,
       "version_minor": 0
      },
      "text/plain": [
       "VBox(children=(HTML(value=''), GridspecLayout(children=(HTML(value=\"<div style='background-color:#6E6BF4;'>&nb…"
      ]
     },
     "metadata": {},
     "output_type": "display_data"
    },
    {
     "name": "stdout",
     "output_type": "stream",
     "text": [
      "[ultranest] Explored until L=-2e-05  -0.0119..-0.0118]*| it/evals=3000/4955 eff=63.0915% N=200      00 0 0 0 0   0 0 \n",
      "[ultranest] Likelihood function evaluations: 4964\n",
      "[ultranest]   logZ = -10.4 +- 0.1659\n",
      "[ultranest] Effective samples strategy satisfied (ESS = 835.3, need >400)\n",
      "[ultranest] Posterior uncertainty strategy is satisfied (KL: 0.46+-0.09 nat, need <0.50 nat)\n",
      "[ultranest] Evidency uncertainty strategy is satisfied (dlogz=0.17, need <0.5)\n",
      "[ultranest]   logZ error budget: single: 0.22 bs:0.17 tail:0.01 total:0.17 required:<0.50\n",
      "[ultranest] done iterating.\n",
      "[ultranest] Sampling 200 live points from prior ...\n"
     ]
    },
    {
     "data": {
      "application/vnd.jupyter.widget-view+json": {
       "model_id": "27525b0626c549e8a66690b29987677f",
       "version_major": 2,
       "version_minor": 0
      },
      "text/plain": [
       "VBox(children=(HTML(value=''), GridspecLayout(children=(HTML(value=\"<div style='background-color:#6E6BF4;'>&nb…"
      ]
     },
     "metadata": {},
     "output_type": "display_data"
    },
    {
     "name": "stdout",
     "output_type": "stream",
     "text": [
      "[ultranest] Explored until L=-0.0001  .0094..-0.0093]*| it/evals=2880/4451 eff=67.7488% N=200  0     0 0 0  0 0  0 0 \n",
      "[ultranest] Likelihood function evaluations: 4453\n",
      "[ultranest]   logZ = -9.863 +- 0.2014\n",
      "[ultranest] Effective samples strategy satisfied (ESS = 805.9, need >400)\n",
      "[ultranest] Posterior uncertainty strategy is satisfied (KL: 0.46+-0.12 nat, need <0.50 nat)\n",
      "[ultranest] Evidency uncertainty strategy wants 198 minimum live points (dlogz from 0.16 to 0.63, need <0.5)\n",
      "[ultranest]   logZ error budget: single: 0.21 bs:0.20 tail:0.01 total:0.20 required:<0.50\n",
      "[ultranest] done iterating.\n",
      "[ultranest] Sampling 200 live points from prior ...\n"
     ]
    },
    {
     "data": {
      "application/vnd.jupyter.widget-view+json": {
       "model_id": "519287f8d9b6405ba186e715cbb4ed5b",
       "version_major": 2,
       "version_minor": 0
      },
      "text/plain": [
       "VBox(children=(HTML(value=''), GridspecLayout(children=(HTML(value=\"<div style='background-color:#6E6BF4;'>&nb…"
      ]
     },
     "metadata": {},
     "output_type": "display_data"
    },
    {
     "name": "stdout",
     "output_type": "stream",
     "text": [
      "[ultranest] Explored until L=-1e-05  -0.0112..-0.0112]*| it/evals=2920/5012 eff=60.6816% N=200       0    0 0    00 0  \n",
      "[ultranest] Likelihood function evaluations: 5012\n",
      "[ultranest]   logZ = -9.926 +- 0.1347\n",
      "[ultranest] Effective samples strategy satisfied (ESS = 811.6, need >400)\n",
      "[ultranest] Posterior uncertainty strategy is satisfied (KL: 0.45+-0.08 nat, need <0.50 nat)\n",
      "[ultranest] Evidency uncertainty strategy is satisfied (dlogz=0.14, need <0.5)\n",
      "[ultranest]   logZ error budget: single: 0.21 bs:0.13 tail:0.01 total:0.14 required:<0.50\n",
      "[ultranest] done iterating.\n",
      "[ultranest] Sampling 200 live points from prior ...\n"
     ]
    },
    {
     "data": {
      "application/vnd.jupyter.widget-view+json": {
       "model_id": "fd9f684027394b5e8f264112ea5ebf55",
       "version_major": 2,
       "version_minor": 0
      },
      "text/plain": [
       "VBox(children=(HTML(value=''), GridspecLayout(children=(HTML(value=\"<div style='background-color:#6E6BF4;'>&nb…"
      ]
     },
     "metadata": {},
     "output_type": "display_data"
    },
    {
     "name": "stdout",
     "output_type": "stream",
     "text": [
      "[ultranest] Explored until L=-0.0002  0.0099..-0.0098]*| it/evals=3060/4780 eff=66.8122% N=200       0    0 0      0  \n",
      "[ultranest] Likelihood function evaluations: 4802\n",
      "[ultranest]   logZ = -10.76 +- 0.164\n",
      "[ultranest] Effective samples strategy satisfied (ESS = 830.0, need >400)\n",
      "[ultranest] Posterior uncertainty strategy is satisfied (KL: 0.46+-0.12 nat, need <0.50 nat)\n",
      "[ultranest] Evidency uncertainty strategy is satisfied (dlogz=0.16, need <0.5)\n",
      "[ultranest]   logZ error budget: single: 0.22 bs:0.16 tail:0.01 total:0.16 required:<0.50\n",
      "[ultranest] done iterating.\n",
      "[ultranest] Sampling 200 live points from prior ...\n"
     ]
    },
    {
     "data": {
      "application/vnd.jupyter.widget-view+json": {
       "model_id": "0890cb4f7130457b9dc8f184ebf452e1",
       "version_major": 2,
       "version_minor": 0
      },
      "text/plain": [
       "VBox(children=(HTML(value=''), GridspecLayout(children=(HTML(value=\"<div style='background-color:#6E6BF4;'>&nb…"
      ]
     },
     "metadata": {},
     "output_type": "display_data"
    },
    {
     "name": "stdout",
     "output_type": "stream",
     "text": [
      "[ultranest] Explored until L=-2e-05  -0.0087..-0.0087]*| it/evals=2960/4720 eff=65.4867% N=200       0    0  00  0 0 0 \n",
      "[ultranest] Likelihood function evaluations: 4730\n",
      "[ultranest]   logZ = -10.26 +- 0.15\n",
      "[ultranest] Effective samples strategy satisfied (ESS = 813.9, need >400)\n",
      "[ultranest] Posterior uncertainty strategy is satisfied (KL: 0.45+-0.09 nat, need <0.50 nat)\n",
      "[ultranest] Evidency uncertainty strategy is satisfied (dlogz=0.15, need <0.5)\n",
      "[ultranest]   logZ error budget: single: 0.21 bs:0.15 tail:0.01 total:0.15 required:<0.50\n",
      "[ultranest] done iterating.\n",
      "[ultranest] Sampling 200 live points from prior ...\n"
     ]
    },
    {
     "data": {
      "application/vnd.jupyter.widget-view+json": {
       "model_id": "5e23e81d31e24ef0a61e4eda62272c0a",
       "version_major": 2,
       "version_minor": 0
      },
      "text/plain": [
       "VBox(children=(HTML(value=''), GridspecLayout(children=(HTML(value=\"<div style='background-color:#6E6BF4;'>&nb…"
      ]
     },
     "metadata": {},
     "output_type": "display_data"
    },
    {
     "name": "stdout",
     "output_type": "stream",
     "text": [
      "[ultranest] Explored until L=-3e-05  -0.0099..-0.0099]*| it/evals=3060/5102 eff=62.4235% N=200       0    0 0    00 0  \n",
      "[ultranest] Likelihood function evaluations: 5118\n",
      "[ultranest]   logZ = -10.77 +- 0.1401\n",
      "[ultranest] Effective samples strategy satisfied (ESS = 842.1, need >400)\n",
      "[ultranest] Posterior uncertainty strategy is satisfied (KL: 0.46+-0.08 nat, need <0.50 nat)\n",
      "[ultranest] Evidency uncertainty strategy is satisfied (dlogz=0.14, need <0.5)\n",
      "[ultranest]   logZ error budget: single: 0.22 bs:0.14 tail:0.01 total:0.14 required:<0.50\n",
      "[ultranest] done iterating.\n",
      "[ultranest] Sampling 200 live points from prior ...\n"
     ]
    },
    {
     "data": {
      "application/vnd.jupyter.widget-view+json": {
       "model_id": "31275d228ca5434f86200e48a038d9cd",
       "version_major": 2,
       "version_minor": 0
      },
      "text/plain": [
       "VBox(children=(HTML(value=''), GridspecLayout(children=(HTML(value=\"<div style='background-color:#6E6BF4;'>&nb…"
      ]
     },
     "metadata": {},
     "output_type": "display_data"
    },
    {
     "name": "stdout",
     "output_type": "stream",
     "text": [
      "[ultranest] Explored until L=-7e-06  -0.0076..-0.0076]*| it/evals=3080/5150 eff=62.2222% N=200    0  0   0 0 0   0 00  \n",
      "[ultranest] Likelihood function evaluations: 5157\n",
      "[ultranest]   logZ = -10.8 +- 0.1739\n",
      "[ultranest] Effective samples strategy satisfied (ESS = 786.6, need >400)\n",
      "[ultranest] Posterior uncertainty strategy is satisfied (KL: 0.45+-0.13 nat, need <0.50 nat)\n",
      "[ultranest] Evidency uncertainty strategy is satisfied (dlogz=0.17, need <0.5)\n",
      "[ultranest]   logZ error budget: single: 0.22 bs:0.17 tail:0.01 total:0.17 required:<0.50\n",
      "[ultranest] done iterating.\n",
      "[ultranest] Sampling 200 live points from prior ...\n"
     ]
    },
    {
     "data": {
      "application/vnd.jupyter.widget-view+json": {
       "model_id": "243ac96ac95a40858e6548f4280e305a",
       "version_major": 2,
       "version_minor": 0
      },
      "text/plain": [
       "VBox(children=(HTML(value=''), GridspecLayout(children=(HTML(value=\"<div style='background-color:#6E6BF4;'>&nb…"
      ]
     },
     "metadata": {},
     "output_type": "display_data"
    },
    {
     "name": "stdout",
     "output_type": "stream",
     "text": [
      "[ultranest] Explored until L=-1e-06  -0.0138..-0.0138]*| it/evals=3000/4964 eff=62.9723% N=200       0   0 0     0 0  \n",
      "[ultranest] Likelihood function evaluations: 4972\n",
      "[ultranest]   logZ = -10.46 +- 0.1821\n",
      "[ultranest] Effective samples strategy satisfied (ESS = 813.0, need >400)\n",
      "[ultranest] Posterior uncertainty strategy is satisfied (KL: 0.46+-0.10 nat, need <0.50 nat)\n",
      "[ultranest] Evidency uncertainty strategy is satisfied (dlogz=0.18, need <0.5)\n",
      "[ultranest]   logZ error budget: single: 0.22 bs:0.18 tail:0.01 total:0.18 required:<0.50\n",
      "[ultranest] done iterating.\n",
      "[ultranest] Sampling 200 live points from prior ...\n"
     ]
    },
    {
     "data": {
      "application/vnd.jupyter.widget-view+json": {
       "model_id": "da0bcfb7159d458c9b2d34b7254c64b0",
       "version_major": 2,
       "version_minor": 0
      },
      "text/plain": [
       "VBox(children=(HTML(value=''), GridspecLayout(children=(HTML(value=\"<div style='background-color:#6E6BF4;'>&nb…"
      ]
     },
     "metadata": {},
     "output_type": "display_data"
    },
    {
     "name": "stdout",
     "output_type": "stream",
     "text": [
      "[ultranest] Explored until L=-2e-05  -0.0108..-0.0107]*| it/evals=2960/4892 eff=63.0861% N=200    0  0 0 0  00 0 0 0  \n",
      "[ultranest] Likelihood function evaluations: 4892\n",
      "[ultranest]   logZ = -10.25 +- 0.2261\n",
      "[ultranest] Effective samples strategy satisfied (ESS = 817.8, need >400)\n",
      "[ultranest] Posterior uncertainty strategy is satisfied (KL: 0.47+-0.09 nat, need <0.50 nat)\n",
      "[ultranest] Evidency uncertainty strategy is satisfied (dlogz=0.23, need <0.5)\n",
      "[ultranest]   logZ error budget: single: 0.21 bs:0.23 tail:0.01 total:0.23 required:<0.50\n",
      "[ultranest] done iterating.\n",
      "[ultranest] Sampling 200 live points from prior ...\n"
     ]
    },
    {
     "data": {
      "application/vnd.jupyter.widget-view+json": {
       "model_id": "2af9992caf5247959622321f47ae14ec",
       "version_major": 2,
       "version_minor": 0
      },
      "text/plain": [
       "VBox(children=(HTML(value=''), GridspecLayout(children=(HTML(value=\"<div style='background-color:#6E6BF4;'>&nb…"
      ]
     },
     "metadata": {},
     "output_type": "display_data"
    },
    {
     "name": "stdout",
     "output_type": "stream",
     "text": [
      "[ultranest] Explored until L=-1e-05  -0.0121..-0.0121]*| it/evals=3000/4635 eff=67.6437% N=200       0   0  0  00  0  \n",
      "[ultranest] Likelihood function evaluations: 4668\n",
      "[ultranest]   logZ = -10.51 +- 0.1349\n",
      "[ultranest] Effective samples strategy satisfied (ESS = 809.8, need >400)\n",
      "[ultranest] Posterior uncertainty strategy is satisfied (KL: 0.45+-0.08 nat, need <0.50 nat)\n",
      "[ultranest] Evidency uncertainty strategy is satisfied (dlogz=0.14, need <0.5)\n",
      "[ultranest]   logZ error budget: single: 0.22 bs:0.13 tail:0.01 total:0.14 required:<0.50\n",
      "[ultranest] done iterating.\n",
      "[ultranest] Sampling 200 live points from prior ...\n"
     ]
    },
    {
     "data": {
      "application/vnd.jupyter.widget-view+json": {
       "model_id": "2e9a5284bfe643a198b0c08d65962bd6",
       "version_major": 2,
       "version_minor": 0
      },
      "text/plain": [
       "VBox(children=(HTML(value=''), GridspecLayout(children=(HTML(value=\"<div style='background-color:#6E6BF4;'>&nb…"
      ]
     },
     "metadata": {},
     "output_type": "display_data"
    },
    {
     "name": "stdout",
     "output_type": "stream",
     "text": [
      "[ultranest] Explored until L=-2e-06  -0.0133..-0.0132]*| it/evals=3100/4710 eff=68.7361% N=200   0   0  0  0 0  00  0  \n",
      "[ultranest] Likelihood function evaluations: 4730\n",
      "[ultranest]   logZ = -10.98 +- 0.1473\n",
      "[ultranest] Effective samples strategy satisfied (ESS = 847.7, need >400)\n",
      "[ultranest] Posterior uncertainty strategy is satisfied (KL: 0.45+-0.08 nat, need <0.50 nat)\n",
      "[ultranest] Evidency uncertainty strategy is satisfied (dlogz=0.15, need <0.5)\n",
      "[ultranest]   logZ error budget: single: 0.22 bs:0.15 tail:0.01 total:0.15 required:<0.50\n",
      "[ultranest] done iterating.\n",
      "[ultranest] Sampling 200 live points from prior ...\n"
     ]
    },
    {
     "data": {
      "application/vnd.jupyter.widget-view+json": {
       "model_id": "ab3cc5eaeed94edbbdd48953ba1ba24c",
       "version_major": 2,
       "version_minor": 0
      },
      "text/plain": [
       "VBox(children=(HTML(value=''), GridspecLayout(children=(HTML(value=\"<div style='background-color:#6E6BF4;'>&nb…"
      ]
     },
     "metadata": {},
     "output_type": "display_data"
    },
    {
     "name": "stdout",
     "output_type": "stream",
     "text": [
      "[ultranest] Explored until L=-9e-05  -0.0082..-0.0082]*| it/evals=3105/4946 eff=65.4235% N=200   00      00 0  0 0     \n",
      "[ultranest] Likelihood function evaluations: 4947\n",
      "[ultranest]   logZ = -10.96 +- 0.1803\n",
      "[ultranest] Effective samples strategy satisfied (ESS = 775.9, need >400)\n",
      "[ultranest] Posterior uncertainty strategy is satisfied (KL: 0.44+-0.09 nat, need <0.50 nat)\n",
      "[ultranest] Evidency uncertainty strategy is satisfied (dlogz=0.18, need <0.5)\n",
      "[ultranest]   logZ error budget: single: 0.22 bs:0.18 tail:0.01 total:0.18 required:<0.50\n",
      "[ultranest] done iterating.\n",
      "[ultranest] Sampling 200 live points from prior ...\n"
     ]
    },
    {
     "data": {
      "application/vnd.jupyter.widget-view+json": {
       "model_id": "20186015bf8c47e0987c59e2a1c50879",
       "version_major": 2,
       "version_minor": 0
      },
      "text/plain": [
       "VBox(children=(HTML(value=''), GridspecLayout(children=(HTML(value=\"<div style='background-color:#6E6BF4;'>&nb…"
      ]
     },
     "metadata": {},
     "output_type": "display_data"
    },
    {
     "name": "stdout",
     "output_type": "stream",
     "text": [
      "[ultranest] Explored until L=-7e-05  -0.0109..-0.0108]*| it/evals=3160/4847 eff=68.0009% N=200           0   0  0 0    \n",
      "[ultranest] Likelihood function evaluations: 4854\n",
      "[ultranest]   logZ = -11.27 +- 0.1531\n",
      "[ultranest] Effective samples strategy satisfied (ESS = 787.9, need >400)\n",
      "[ultranest] Posterior uncertainty strategy is satisfied (KL: 0.45+-0.12 nat, need <0.50 nat)\n",
      "[ultranest] Evidency uncertainty strategy is satisfied (dlogz=0.15, need <0.5)\n",
      "[ultranest]   logZ error budget: single: 0.23 bs:0.15 tail:0.01 total:0.15 required:<0.50\n",
      "[ultranest] done iterating.\n",
      "[ultranest] Sampling 200 live points from prior ...\n"
     ]
    },
    {
     "data": {
      "application/vnd.jupyter.widget-view+json": {
       "model_id": "de58945ab4dd405da7dd47a157f684cd",
       "version_major": 2,
       "version_minor": 0
      },
      "text/plain": [
       "VBox(children=(HTML(value=''), GridspecLayout(children=(HTML(value=\"<div style='background-color:#6E6BF4;'>&nb…"
      ]
     },
     "metadata": {},
     "output_type": "display_data"
    },
    {
     "name": "stdout",
     "output_type": "stream",
     "text": [
      "[ultranest] Explored until L=-0.0002  0.0128..-0.0128]*| it/evals=3080/4567 eff=70.5290% N=200   0   0   0  0 0  0    \n",
      "[ultranest] Likelihood function evaluations: 4569\n",
      "[ultranest]   logZ = -10.78 +- 0.174\n",
      "[ultranest] Effective samples strategy satisfied (ESS = 849.2, need >400)\n",
      "[ultranest] Posterior uncertainty strategy is satisfied (KL: 0.45+-0.11 nat, need <0.50 nat)\n",
      "[ultranest] Evidency uncertainty strategy wants 198 minimum live points (dlogz from 0.13 to 0.50, need <0.5)\n",
      "[ultranest]   logZ error budget: single: 0.22 bs:0.17 tail:0.01 total:0.17 required:<0.50\n",
      "[ultranest] done iterating.\n",
      "[ultranest] Sampling 200 live points from prior ...\n"
     ]
    },
    {
     "data": {
      "application/vnd.jupyter.widget-view+json": {
       "model_id": "6eac8b3dba974a1aa608a426eb020964",
       "version_major": 2,
       "version_minor": 0
      },
      "text/plain": [
       "VBox(children=(HTML(value=''), GridspecLayout(children=(HTML(value=\"<div style='background-color:#6E6BF4;'>&nb…"
      ]
     },
     "metadata": {},
     "output_type": "display_data"
    },
    {
     "name": "stdout",
     "output_type": "stream",
     "text": [
      "[ultranest] Explored until L=-2e-06  -0.0165..-0.0163]*| it/evals=2980/4773 eff=65.1651% N=200       0  0 0 0   00 0  \n",
      "[ultranest] Likelihood function evaluations: 4786\n",
      "[ultranest]   logZ = -10.32 +- 0.1511\n",
      "[ultranest] Effective samples strategy satisfied (ESS = 808.0, need >400)\n",
      "[ultranest] Posterior uncertainty strategy is satisfied (KL: 0.46+-0.14 nat, need <0.50 nat)\n",
      "[ultranest] Evidency uncertainty strategy is satisfied (dlogz=0.15, need <0.5)\n",
      "[ultranest]   logZ error budget: single: 0.22 bs:0.15 tail:0.01 total:0.15 required:<0.50\n",
      "[ultranest] done iterating.\n",
      "[ultranest] Sampling 200 live points from prior ...\n"
     ]
    },
    {
     "data": {
      "application/vnd.jupyter.widget-view+json": {
       "model_id": "7dc0251c36e54eeaa1db2f6c2ab7781b",
       "version_major": 2,
       "version_minor": 0
      },
      "text/plain": [
       "VBox(children=(HTML(value=''), GridspecLayout(children=(HTML(value=\"<div style='background-color:#6E6BF4;'>&nb…"
      ]
     },
     "metadata": {},
     "output_type": "display_data"
    },
    {
     "name": "stdout",
     "output_type": "stream",
     "text": [
      "[ultranest] Explored until L=-2e-05  -0.0097..-0.0096]*| it/evals=3120/4999 eff=65.0135% N=200      0 0  0   0  0 0    \n",
      "[ultranest] Likelihood function evaluations: 5022\n",
      "[ultranest]   logZ = -11.07 +- 0.1573\n",
      "[ultranest] Effective samples strategy satisfied (ESS = 849.8, need >400)\n",
      "[ultranest] Posterior uncertainty strategy is satisfied (KL: 0.45+-0.11 nat, need <0.50 nat)\n",
      "[ultranest] Evidency uncertainty strategy is satisfied (dlogz=0.16, need <0.5)\n",
      "[ultranest]   logZ error budget: single: 0.22 bs:0.16 tail:0.01 total:0.16 required:<0.50\n",
      "[ultranest] done iterating.\n",
      "[ultranest] Sampling 200 live points from prior ...\n"
     ]
    },
    {
     "data": {
      "application/vnd.jupyter.widget-view+json": {
       "model_id": "3f429b79502b4d17800e9820f4aebf6a",
       "version_major": 2,
       "version_minor": 0
      },
      "text/plain": [
       "VBox(children=(HTML(value=''), GridspecLayout(children=(HTML(value=\"<div style='background-color:#6E6BF4;'>&nb…"
      ]
     },
     "metadata": {},
     "output_type": "display_data"
    },
    {
     "name": "stdout",
     "output_type": "stream",
     "text": [
      "[ultranest] Explored until L=-6e-05  -0.0127..-0.0127]*| it/evals=3100/4974 eff=64.9351% N=200    0      0 0  0 0  0   \n",
      "[ultranest] Likelihood function evaluations: 4978\n",
      "[ultranest]   logZ = -10.95 +- 0.1754\n",
      "[ultranest] Effective samples strategy satisfied (ESS = 832.2, need >400)\n",
      "[ultranest] Posterior uncertainty strategy is satisfied (KL: 0.47+-0.13 nat, need <0.50 nat)\n",
      "[ultranest] Evidency uncertainty strategy wants 198 minimum live points (dlogz from 0.14 to 0.53, need <0.5)\n",
      "[ultranest]   logZ error budget: single: 0.22 bs:0.18 tail:0.01 total:0.18 required:<0.50\n",
      "[ultranest] done iterating.\n",
      "[ultranest] Sampling 200 live points from prior ...\n"
     ]
    },
    {
     "data": {
      "application/vnd.jupyter.widget-view+json": {
       "model_id": "74925831a01542c1a82ca733d8613214",
       "version_major": 2,
       "version_minor": 0
      },
      "text/plain": [
       "VBox(children=(HTML(value=''), GridspecLayout(children=(HTML(value=\"<div style='background-color:#6E6BF4;'>&nb…"
      ]
     },
     "metadata": {},
     "output_type": "display_data"
    },
    {
     "name": "stdout",
     "output_type": "stream",
     "text": [
      "[ultranest] Explored until L=-0.0001  0.0094..-0.0094]*| it/evals=3060/5013 eff=63.5778% N=200 0     0   0  0 0   0    \n",
      "[ultranest] Likelihood function evaluations: 5029\n",
      "[ultranest]   logZ = -10.76 +- 0.1676\n",
      "[ultranest] Effective samples strategy satisfied (ESS = 798.3, need >400)\n",
      "[ultranest] Posterior uncertainty strategy is satisfied (KL: 0.45+-0.11 nat, need <0.50 nat)\n",
      "[ultranest] Evidency uncertainty strategy is satisfied (dlogz=0.17, need <0.5)\n",
      "[ultranest]   logZ error budget: single: 0.22 bs:0.17 tail:0.01 total:0.17 required:<0.50\n",
      "[ultranest] done iterating.\n",
      "[ultranest] Sampling 200 live points from prior ...\n"
     ]
    },
    {
     "data": {
      "application/vnd.jupyter.widget-view+json": {
       "model_id": "53ba98f9f4c44116a22270f3961bea28",
       "version_major": 2,
       "version_minor": 0
      },
      "text/plain": [
       "VBox(children=(HTML(value=''), GridspecLayout(children=(HTML(value=\"<div style='background-color:#6E6BF4;'>&nb…"
      ]
     },
     "metadata": {},
     "output_type": "display_data"
    },
    {
     "name": "stdout",
     "output_type": "stream",
     "text": [
      "[ultranest] Explored until L=-8e-05  -0.0125..-0.0124]*| it/evals=3040/5030 eff=62.9400% N=200        0  0    0  0   0 \n",
      "[ultranest] Likelihood function evaluations: 5050\n",
      "[ultranest]   logZ = -10.64 +- 0.19\n",
      "[ultranest] Effective samples strategy satisfied (ESS = 809.9, need >400)\n",
      "[ultranest] Posterior uncertainty strategy is satisfied (KL: 0.46+-0.07 nat, need <0.50 nat)\n",
      "[ultranest] Evidency uncertainty strategy wants 198 minimum live points (dlogz from 0.15 to 0.59, need <0.5)\n",
      "[ultranest]   logZ error budget: single: 0.22 bs:0.19 tail:0.01 total:0.19 required:<0.50\n",
      "[ultranest] done iterating.\n",
      "[ultranest] Sampling 200 live points from prior ...\n"
     ]
    },
    {
     "data": {
      "application/vnd.jupyter.widget-view+json": {
       "model_id": "1f497da7d8d34107b54b37c7a2643c03",
       "version_major": 2,
       "version_minor": 0
      },
      "text/plain": [
       "VBox(children=(HTML(value=''), GridspecLayout(children=(HTML(value=\"<div style='background-color:#6E6BF4;'>&nb…"
      ]
     },
     "metadata": {},
     "output_type": "display_data"
    },
    {
     "name": "stdout",
     "output_type": "stream",
     "text": [
      "[ultranest] Explored until L=-4e-05  -0.0092..-0.0092]*| it/evals=3080/4807 eff=66.8548% N=200       0  0 0 0  0 0    0 \n",
      "[ultranest] Likelihood function evaluations: 4836\n",
      "[ultranest]   logZ = -10.89 +- 0.1439\n",
      "[ultranest] Effective samples strategy satisfied (ESS = 828.2, need >400)\n",
      "[ultranest] Posterior uncertainty strategy is satisfied (KL: 0.47+-0.11 nat, need <0.50 nat)\n",
      "[ultranest] Evidency uncertainty strategy is satisfied (dlogz=0.14, need <0.5)\n",
      "[ultranest]   logZ error budget: single: 0.22 bs:0.14 tail:0.01 total:0.14 required:<0.50\n",
      "[ultranest] done iterating.\n",
      "[ultranest] Sampling 200 live points from prior ...\n"
     ]
    },
    {
     "data": {
      "application/vnd.jupyter.widget-view+json": {
       "model_id": "efab9a75d88d4d2287ec5169867903bf",
       "version_major": 2,
       "version_minor": 0
      },
      "text/plain": [
       "VBox(children=(HTML(value=''), GridspecLayout(children=(HTML(value=\"<div style='background-color:#6E6BF4;'>&nb…"
      ]
     },
     "metadata": {},
     "output_type": "display_data"
    },
    {
     "name": "stdout",
     "output_type": "stream",
     "text": [
      "[ultranest] Explored until L=-2e-06  -0.0103..-0.0103]*| it/evals=3040/4699 eff=67.5706% N=200           0  0 0  00  00 \n",
      "[ultranest] Likelihood function evaluations: 4706\n",
      "[ultranest]   logZ = -10.63 +- 0.1612\n",
      "[ultranest] Effective samples strategy satisfied (ESS = 760.0, need >400)\n",
      "[ultranest] Posterior uncertainty strategy is satisfied (KL: 0.45+-0.11 nat, need <0.50 nat)\n",
      "[ultranest] Evidency uncertainty strategy is satisfied (dlogz=0.16, need <0.5)\n",
      "[ultranest]   logZ error budget: single: 0.22 bs:0.16 tail:0.01 total:0.16 required:<0.50\n",
      "[ultranest] done iterating.\n",
      "[ultranest] Sampling 200 live points from prior ...\n"
     ]
    },
    {
     "data": {
      "application/vnd.jupyter.widget-view+json": {
       "model_id": "5fe755c95df94ac0bd425b9a842c732f",
       "version_major": 2,
       "version_minor": 0
      },
      "text/plain": [
       "VBox(children=(HTML(value=''), GridspecLayout(children=(HTML(value=\"<div style='background-color:#6E6BF4;'>&nb…"
      ]
     },
     "metadata": {},
     "output_type": "display_data"
    },
    {
     "name": "stdout",
     "output_type": "stream",
     "text": [
      "[ultranest] Explored until L=-4e-05  -0.0084..-0.0084]*| it/evals=3080/5121 eff=62.5889% N=200        0  0 0 0   0   0 \n",
      "[ultranest] Likelihood function evaluations: 5139\n",
      "[ultranest]   logZ = -10.83 +- 0.2066\n",
      "[ultranest] Effective samples strategy satisfied (ESS = 821.0, need >400)\n",
      "[ultranest] Posterior uncertainty strategy is satisfied (KL: 0.46+-0.13 nat, need <0.50 nat)\n",
      "[ultranest] Evidency uncertainty strategy is satisfied (dlogz=0.21, need <0.5)\n",
      "[ultranest]   logZ error budget: single: 0.22 bs:0.21 tail:0.01 total:0.21 required:<0.50\n",
      "[ultranest] done iterating.\n",
      "[ultranest] Sampling 200 live points from prior ...\n"
     ]
    },
    {
     "data": {
      "application/vnd.jupyter.widget-view+json": {
       "model_id": "f342659bf6394281b8d20c298b680f91",
       "version_major": 2,
       "version_minor": 0
      },
      "text/plain": [
       "VBox(children=(HTML(value=''), GridspecLayout(children=(HTML(value=\"<div style='background-color:#6E6BF4;'>&nb…"
      ]
     },
     "metadata": {},
     "output_type": "display_data"
    },
    {
     "name": "stdout",
     "output_type": "stream",
     "text": [
      "[ultranest] Explored until L=-2e-05  -0.0080..-0.0078]*| it/evals=3015/5036 eff=62.3449% N=200   0  0    0   0  0     0 \n",
      "[ultranest] Likelihood function evaluations: 5039\n",
      "[ultranest]   logZ = -10.47 +- 0.1633\n",
      "[ultranest] Effective samples strategy satisfied (ESS = 818.4, need >400)\n",
      "[ultranest] Posterior uncertainty strategy is satisfied (KL: 0.45+-0.14 nat, need <0.50 nat)\n",
      "[ultranest] Evidency uncertainty strategy is satisfied (dlogz=0.16, need <0.5)\n",
      "[ultranest]   logZ error budget: single: 0.22 bs:0.16 tail:0.01 total:0.16 required:<0.50\n",
      "[ultranest] done iterating.\n",
      "[ultranest] Sampling 200 live points from prior ...\n"
     ]
    },
    {
     "data": {
      "application/vnd.jupyter.widget-view+json": {
       "model_id": "5d5c274d152e4f02a3f3867d2b28f3bd",
       "version_major": 2,
       "version_minor": 0
      },
      "text/plain": [
       "VBox(children=(HTML(value=''), GridspecLayout(children=(HTML(value=\"<div style='background-color:#6E6BF4;'>&nb…"
      ]
     },
     "metadata": {},
     "output_type": "display_data"
    },
    {
     "name": "stdout",
     "output_type": "stream",
     "text": [
      "[ultranest] Explored until L=-5e-05  -0.0121..-0.0121]*| it/evals=3120/4961 eff=65.5325% N=200        0  0 0 0  0   0 \n",
      "[ultranest] Likelihood function evaluations: 4989\n",
      "[ultranest]   logZ = -11.04 +- 0.1735\n",
      "[ultranest] Effective samples strategy satisfied (ESS = 812.9, need >400)\n",
      "[ultranest] Posterior uncertainty strategy is satisfied (KL: 0.46+-0.07 nat, need <0.50 nat)\n",
      "[ultranest] Evidency uncertainty strategy is satisfied (dlogz=0.17, need <0.5)\n",
      "[ultranest]   logZ error budget: single: 0.22 bs:0.17 tail:0.01 total:0.17 required:<0.50\n",
      "[ultranest] done iterating.\n",
      "[ultranest] Sampling 200 live points from prior ...\n"
     ]
    },
    {
     "data": {
      "application/vnd.jupyter.widget-view+json": {
       "model_id": "3c6e9432a7464a7f86a735c00d506e4a",
       "version_major": 2,
       "version_minor": 0
      },
      "text/plain": [
       "VBox(children=(HTML(value=''), GridspecLayout(children=(HTML(value=\"<div style='background-color:#6E6BF4;'>&nb…"
      ]
     },
     "metadata": {},
     "output_type": "display_data"
    },
    {
     "name": "stdout",
     "output_type": "stream",
     "text": [
      "[ultranest] Explored until L=-4e-05  -0.0079..-0.0078]*| it/evals=3060/4875 eff=65.4545% N=200        0  0 00  0 0 0 0 0 \n",
      "[ultranest] Likelihood function evaluations: 4895\n",
      "[ultranest]   logZ = -10.78 +- 0.1989\n",
      "[ultranest] Effective samples strategy satisfied (ESS = 793.8, need >400)\n",
      "[ultranest] Posterior uncertainty strategy is satisfied (KL: 0.45+-0.14 nat, need <0.50 nat)\n",
      "[ultranest] Evidency uncertainty strategy is satisfied (dlogz=0.20, need <0.5)\n",
      "[ultranest]   logZ error budget: single: 0.22 bs:0.20 tail:0.01 total:0.20 required:<0.50\n",
      "[ultranest] done iterating.\n",
      "[ultranest] Sampling 200 live points from prior ...\n"
     ]
    },
    {
     "data": {
      "application/vnd.jupyter.widget-view+json": {
       "model_id": "dfe5f40fca6a49c9886f99a34891baee",
       "version_major": 2,
       "version_minor": 0
      },
      "text/plain": [
       "VBox(children=(HTML(value=''), GridspecLayout(children=(HTML(value=\"<div style='background-color:#6E6BF4;'>&nb…"
      ]
     },
     "metadata": {},
     "output_type": "display_data"
    },
    {
     "name": "stdout",
     "output_type": "stream",
     "text": [
      "[ultranest] Explored until L=-3e-05  -0.0087..-0.0087]*| it/evals=3040/4712 eff=67.3759% N=200 0   0     0 0  00 0 0 0  \n",
      "[ultranest] Likelihood function evaluations: 4734\n",
      "[ultranest]   logZ = -10.7 +- 0.1838\n",
      "[ultranest] Effective samples strategy satisfied (ESS = 776.6, need >400)\n",
      "[ultranest] Posterior uncertainty strategy is satisfied (KL: 0.46+-0.10 nat, need <0.50 nat)\n",
      "[ultranest] Evidency uncertainty strategy is satisfied (dlogz=0.18, need <0.5)\n",
      "[ultranest]   logZ error budget: single: 0.22 bs:0.18 tail:0.01 total:0.18 required:<0.50\n",
      "[ultranest] done iterating.\n",
      "[ultranest] Sampling 200 live points from prior ...\n"
     ]
    },
    {
     "data": {
      "application/vnd.jupyter.widget-view+json": {
       "model_id": "621ca41f03764e4fb4d85a125f299aa2",
       "version_major": 2,
       "version_minor": 0
      },
      "text/plain": [
       "VBox(children=(HTML(value=''), GridspecLayout(children=(HTML(value=\"<div style='background-color:#6E6BF4;'>&nb…"
      ]
     },
     "metadata": {},
     "output_type": "display_data"
    },
    {
     "name": "stdout",
     "output_type": "stream",
     "text": [
      "[ultranest] Explored until L=-0.0002  0.0111..-0.0109]*| it/evals=3060/4919 eff=64.8442% N=200       0   0 0  200 0 0 0  \n",
      "[ultranest] Likelihood function evaluations: 4926\n",
      "[ultranest]   logZ = -10.73 +- 0.1486\n",
      "[ultranest] Effective samples strategy satisfied (ESS = 792.4, need >400)\n",
      "[ultranest] Posterior uncertainty strategy is satisfied (KL: 0.46+-0.14 nat, need <0.50 nat)\n",
      "[ultranest] Evidency uncertainty strategy is satisfied (dlogz=0.15, need <0.5)\n",
      "[ultranest]   logZ error budget: single: 0.22 bs:0.15 tail:0.01 total:0.15 required:<0.50\n",
      "[ultranest] done iterating.\n",
      "[ultranest] Sampling 200 live points from prior ...\n"
     ]
    },
    {
     "data": {
      "application/vnd.jupyter.widget-view+json": {
       "model_id": "73889bdd33ba49268878a105774ecd36",
       "version_major": 2,
       "version_minor": 0
      },
      "text/plain": [
       "VBox(children=(HTML(value=''), GridspecLayout(children=(HTML(value=\"<div style='background-color:#6E6BF4;'>&nb…"
      ]
     },
     "metadata": {},
     "output_type": "display_data"
    },
    {
     "name": "stdout",
     "output_type": "stream",
     "text": [
      "[ultranest] Explored until L=-5e-05  -0.0105..-0.0105]*| it/evals=3105/5021 eff=64.4057% N=200            0 0 0   0 0 0  \n",
      "[ultranest] Likelihood function evaluations: 5031\n",
      "[ultranest]   logZ = -11.04 +- 0.1856\n",
      "[ultranest] Effective samples strategy satisfied (ESS = 827.9, need >400)\n",
      "[ultranest] Posterior uncertainty strategy is satisfied (KL: 0.45+-0.09 nat, need <0.50 nat)\n",
      "[ultranest] Evidency uncertainty strategy is satisfied (dlogz=0.19, need <0.5)\n",
      "[ultranest]   logZ error budget: single: 0.22 bs:0.19 tail:0.01 total:0.19 required:<0.50\n",
      "[ultranest] done iterating.\n",
      "[ultranest] Sampling 200 live points from prior ...\n"
     ]
    },
    {
     "data": {
      "application/vnd.jupyter.widget-view+json": {
       "model_id": "91db1cfa3c7d4a4b8303ad9b98d76a97",
       "version_major": 2,
       "version_minor": 0
      },
      "text/plain": [
       "VBox(children=(HTML(value=''), GridspecLayout(children=(HTML(value=\"<div style='background-color:#6E6BF4;'>&nb…"
      ]
     },
     "metadata": {},
     "output_type": "display_data"
    },
    {
     "name": "stdout",
     "output_type": "stream",
     "text": [
      "[ultranest] Explored until L=-3e-05  -0.0102..-0.0102]*| it/evals=3140/4958 eff=65.9941% N=200        0  0 0 0  00 0 0  \n",
      "[ultranest] Likelihood function evaluations: 4966\n",
      "[ultranest]   logZ = -11.09 +- 0.1269\n",
      "[ultranest] Effective samples strategy satisfied (ESS = 801.0, need >400)\n",
      "[ultranest] Posterior uncertainty strategy is satisfied (KL: 0.46+-0.12 nat, need <0.50 nat)\n",
      "[ultranest] Evidency uncertainty strategy is satisfied (dlogz=0.13, need <0.5)\n",
      "[ultranest]   logZ error budget: single: 0.22 bs:0.13 tail:0.01 total:0.13 required:<0.50\n",
      "[ultranest] done iterating.\n",
      "[ultranest] Sampling 200 live points from prior ...\n"
     ]
    },
    {
     "data": {
      "application/vnd.jupyter.widget-view+json": {
       "model_id": "f5c7500756b64690a2874bea03c0759b",
       "version_major": 2,
       "version_minor": 0
      },
      "text/plain": [
       "VBox(children=(HTML(value=''), GridspecLayout(children=(HTML(value=\"<div style='background-color:#6E6BF4;'>&nb…"
      ]
     },
     "metadata": {},
     "output_type": "display_data"
    },
    {
     "name": "stdout",
     "output_type": "stream",
     "text": [
      "[ultranest] Explored until L=-4e-05  -0.0115..-0.0114]*| it/evals=3160/4978 eff=66.1365% N=200   0    0  0 0  0 0 00 0 0  \n",
      "[ultranest] Likelihood function evaluations: 4995\n",
      "[ultranest]   logZ = -11.26 +- 0.1675\n",
      "[ultranest] Effective samples strategy satisfied (ESS = 804.3, need >400)\n",
      "[ultranest] Posterior uncertainty strategy is satisfied (KL: 0.46+-0.10 nat, need <0.50 nat)\n",
      "[ultranest] Evidency uncertainty strategy is satisfied (dlogz=0.17, need <0.5)\n",
      "[ultranest]   logZ error budget: single: 0.23 bs:0.17 tail:0.01 total:0.17 required:<0.50\n",
      "[ultranest] done iterating.\n",
      "[ultranest] Sampling 200 live points from prior ...\n"
     ]
    },
    {
     "data": {
      "application/vnd.jupyter.widget-view+json": {
       "model_id": "b8c991827b174577abfada15e8ef466e",
       "version_major": 2,
       "version_minor": 0
      },
      "text/plain": [
       "VBox(children=(HTML(value=''), GridspecLayout(children=(HTML(value=\"<div style='background-color:#6E6BF4;'>&nb…"
      ]
     },
     "metadata": {},
     "output_type": "display_data"
    },
    {
     "name": "stdout",
     "output_type": "stream",
     "text": [
      "[ultranest] Explored until L=-8e-06  -0.0107..-0.0106]*| it/evals=3220/5092 eff=65.8217% N=200        0  0 00 0 00 0 0 0 \n",
      "[ultranest] Likelihood function evaluations: 5097\n",
      "[ultranest]   logZ = -11.47 +- 0.1896\n",
      "[ultranest] Effective samples strategy satisfied (ESS = 807.8, need >400)\n",
      "[ultranest] Posterior uncertainty strategy is satisfied (KL: 0.46+-0.09 nat, need <0.50 nat)\n",
      "[ultranest] Evidency uncertainty strategy wants 198 minimum live points (dlogz from 0.15 to 0.56, need <0.5)\n",
      "[ultranest]   logZ error budget: single: 0.23 bs:0.19 tail:0.01 total:0.19 required:<0.50\n",
      "[ultranest] done iterating.\n",
      "[ultranest] Sampling 200 live points from prior ...\n"
     ]
    },
    {
     "data": {
      "application/vnd.jupyter.widget-view+json": {
       "model_id": "c0064cac41c146579bf17f17a50e3b57",
       "version_major": 2,
       "version_minor": 0
      },
      "text/plain": [
       "VBox(children=(HTML(value=''), GridspecLayout(children=(HTML(value=\"<div style='background-color:#6E6BF4;'>&nb…"
      ]
     },
     "metadata": {},
     "output_type": "display_data"
    },
    {
     "name": "stdout",
     "output_type": "stream",
     "text": [
      "[ultranest] Explored until L=-0.0001  0.0104..-0.0104]*| it/evals=3160/4976 eff=66.1642% N=200   0    0  0 0  0  0 0  0  \n",
      "[ultranest] Likelihood function evaluations: 4987\n",
      "[ultranest]   logZ = -11.19 +- 0.1984\n",
      "[ultranest] Effective samples strategy satisfied (ESS = 783.5, need >400)\n",
      "[ultranest] Posterior uncertainty strategy is satisfied (KL: 0.47+-0.11 nat, need <0.50 nat)\n",
      "[ultranest] Evidency uncertainty strategy is satisfied (dlogz=0.20, need <0.5)\n",
      "[ultranest]   logZ error budget: single: 0.23 bs:0.20 tail:0.01 total:0.20 required:<0.50\n",
      "[ultranest] done iterating.\n",
      "[ultranest] Sampling 200 live points from prior ...\n"
     ]
    },
    {
     "data": {
      "application/vnd.jupyter.widget-view+json": {
       "model_id": "268ecc3925cd46b581aaaf98fccfb48e",
       "version_major": 2,
       "version_minor": 0
      },
      "text/plain": [
       "VBox(children=(HTML(value=''), GridspecLayout(children=(HTML(value=\"<div style='background-color:#6E6BF4;'>&nb…"
      ]
     },
     "metadata": {},
     "output_type": "display_data"
    },
    {
     "name": "stdout",
     "output_type": "stream",
     "text": [
      "[ultranest] Explored until L=-0.0001  0.0103..-0.0103]*| it/evals=3120/4863 eff=66.9097% N=200        00  0 0 00  00 0 0  \n",
      "[ultranest] Likelihood function evaluations: 4876\n",
      "[ultranest]   logZ = -11.06 +- 0.1562\n",
      "[ultranest] Effective samples strategy satisfied (ESS = 809.0, need >400)\n",
      "[ultranest] Posterior uncertainty strategy is satisfied (KL: 0.47+-0.10 nat, need <0.50 nat)\n",
      "[ultranest] Evidency uncertainty strategy is satisfied (dlogz=0.16, need <0.5)\n",
      "[ultranest]   logZ error budget: single: 0.22 bs:0.16 tail:0.01 total:0.16 required:<0.50\n",
      "[ultranest] done iterating.\n",
      "[ultranest] Sampling 200 live points from prior ...\n"
     ]
    },
    {
     "data": {
      "application/vnd.jupyter.widget-view+json": {
       "model_id": "74eecbb8a3fa46dab7ffba7ff1126893",
       "version_major": 2,
       "version_minor": 0
      },
      "text/plain": [
       "VBox(children=(HTML(value=''), GridspecLayout(children=(HTML(value=\"<div style='background-color:#6E6BF4;'>&nb…"
      ]
     },
     "metadata": {},
     "output_type": "display_data"
    },
    {
     "name": "stdout",
     "output_type": "stream",
     "text": [
      "[ultranest] Explored until L=-5e-05  -0.0119..-0.0119]*| it/evals=3080/5172 eff=61.9469% N=200   0    0  00   0   0  00 \n",
      "[ultranest] Likelihood function evaluations: 5192\n",
      "[ultranest]   logZ = -10.91 +- 0.1498\n",
      "[ultranest] Effective samples strategy satisfied (ESS = 804.1, need >400)\n",
      "[ultranest] Posterior uncertainty strategy is satisfied (KL: 0.46+-0.10 nat, need <0.50 nat)\n",
      "[ultranest] Evidency uncertainty strategy is satisfied (dlogz=0.15, need <0.5)\n",
      "[ultranest]   logZ error budget: single: 0.22 bs:0.15 tail:0.01 total:0.15 required:<0.50\n",
      "[ultranest] done iterating.\n",
      "[ultranest] Sampling 200 live points from prior ...\n"
     ]
    },
    {
     "data": {
      "application/vnd.jupyter.widget-view+json": {
       "model_id": "be777597f3c341e886290cf412c1fbbb",
       "version_major": 2,
       "version_minor": 0
      },
      "text/plain": [
       "VBox(children=(HTML(value=''), GridspecLayout(children=(HTML(value=\"<div style='background-color:#6E6BF4;'>&nb…"
      ]
     },
     "metadata": {},
     "output_type": "display_data"
    },
    {
     "name": "stdout",
     "output_type": "stream",
     "text": [
      "[ultranest] Explored until L=-0.0001  0.0118..-0.0117]*| it/evals=3140/4921 eff=66.5113% N=200        0  0 0 0   0 0  0   \n",
      "[ultranest] Likelihood function evaluations: 4937\n",
      "[ultranest]   logZ = -11.17 +- 0.1963\n",
      "[ultranest] Effective samples strategy satisfied (ESS = 794.5, need >400)\n",
      "[ultranest] Posterior uncertainty strategy is satisfied (KL: 0.46+-0.13 nat, need <0.50 nat)\n",
      "[ultranest] Evidency uncertainty strategy wants 198 minimum live points (dlogz from 0.15 to 0.56, need <0.5)\n",
      "[ultranest]   logZ error budget: single: 0.23 bs:0.20 tail:0.01 total:0.20 required:<0.50\n",
      "[ultranest] done iterating.\n"
     ]
    }
   ],
   "source": [
    "sigmatotal = range(1,90)\n",
    "sigxtotal = []\n",
    "residualtotal = []\n",
    "for i in sigmatotal:\n",
    "    sigma = i\n",
    "    A = TDH(0).reshape(360,91)\n",
    "    slice1 = A[0]\n",
    "    slice1 = np.array(slice1)\n",
    "    sigma1 = np.std(slice1)\n",
    "    param_names = ['A', 'sigx']\n",
    "    def my_prior_transform(cube):\n",
    "        params = cube.copy()\n",
    "\n",
    "        # transform location parameter: uniform prior\n",
    "        lo = 0\n",
    "        hi = 20\n",
    "        params[0] = cube[0] * (hi - lo) + lo\n",
    "\n",
    "        lo = 1\n",
    "        hi = 200\n",
    "        params[1] = cube[1] * (hi - lo) + lo\n",
    "\n",
    "        return params\n",
    "    def my_likelihood(params):\n",
    "        mo = model1(params)\n",
    "        diff = mo - slice1\n",
    "        return -0.5 * np.sum((diff/sigma1)**2)\n",
    "    sampler = ultranest.ReactiveNestedSampler(param_names, my_likelihood, my_prior_transform)\n",
    "    result = sampler.run(min_num_live_points=200)\n",
    "    sigx = np.average((result[\"samples\"].T)[1])\n",
    "    sigxtotal.append(sigx)\n",
    "    a = np.average((result[\"samples\"].T)[0])\n",
    "    residual = slice1 - model1([a,sigx])\n",
    "    residualtotal.append(residual)"
   ]
  },
  {
   "cell_type": "code",
   "execution_count": 15,
   "id": "48594de3",
   "metadata": {},
   "outputs": [
    {
     "data": {
      "text/plain": [
       "[<matplotlib.lines.Line2D at 0x7f93c8048700>]"
      ]
     },
     "execution_count": 15,
     "metadata": {},
     "output_type": "execute_result"
    },
    {
     "data": {
      "image/png": "[encoded data removed]",
      "text/plain": [
       "<Figure size 432x288 with 1 Axes>"
      ]
     },
     "metadata": {
      "needs_background": "light"
     },
     "output_type": "display_data"
    }
   ],
   "source": [
    "plt.plot(sigmatotal)"
   ]
  },
  {
   "cell_type": "code",
   "execution_count": 18,
   "id": "872409ce",
   "metadata": {},
   "outputs": [
    {
     "data": {
      "image/png": "[encoded data removed]",
      "text/plain": [
       "<Figure size 576x576 with 1 Axes>"
      ]
     },
     "metadata": {
      "needs_background": "light"
     },
     "output_type": "display_data"
    }
   ],
   "source": [
    "plt.figure(figsize = (8,8))\n",
    "plt.plot(sigmatotal, sigxtotal, label = \"True data\")\n",
    "plt.plot(sigmatotal, 1.43*np.array(sigmatotal), label = 'y = 1.43x', linestyle = 'dashed')\n",
    "plt.xlabel(\"TDH sigma [deg]\")\n",
    "plt.ylabel(\"1D Gaussian sigma [deg]\")\n",
    "plt.legend()\n",
    "plt.axis('scaled')\n",
    "plt.savefig(\"sigma relation\")"
   ]
  },
  {
   "cell_type": "code",
   "execution_count": 20,
   "id": "e064d3a4",
   "metadata": {},
   "outputs": [],
   "source": [
    "np.savetxt('sigexplore.csv', sigxtotal, delimiter=',')"
   ]
  },
  {
   "cell_type": "code",
   "execution_count": 294,
   "id": "70bffe50",
   "metadata": {},
   "outputs": [
    {
     "data": {
      "text/plain": [
       "[<matplotlib.lines.Line2D at 0x7f9df24d9f40>]"
      ]
     },
     "execution_count": 294,
     "metadata": {},
     "output_type": "execute_result"
    },
    {
     "data": {
      "image/png": "[encoded data removed]",
      "text/plain": [
       "<Figure size 432x288 with 1 Axes>"
      ]
     },
     "metadata": {
      "needs_background": "light"
     },
     "output_type": "display_data"
    }
   ],
   "source": [
    "plt.plot(np.array(sigxtotal)/np.array(sigmatotal))"
   ]
  },
  {
   "cell_type": "code",
   "execution_count": 295,
   "id": "5583554a",
   "metadata": {},
   "outputs": [
    {
     "data": {
      "text/plain": [
       "1.4325556634750685"
      ]
     },
     "execution_count": 295,
     "metadata": {},
     "output_type": "execute_result"
    }
   ],
   "source": [
    "np.average(np.array(sigxtotal)/np.array(sigmatotal))"
   ]
  },
  {
   "cell_type": "code",
   "execution_count": null,
   "id": "06566d2b",
   "metadata": {},
   "outputs": [],
   "source": []
  }
 ],
 "metadata": {
  "kernelspec": {
   "display_name": "Python 3",
   "language": "python",
   "name": "python3"
  },
  "language_info": {
   "codemirror_mode": {
    "name": "ipython",
    "version": 3
   },
   "file_extension": ".py",
   "mimetype": "text/x-python",
   "name": "python",
   "nbconvert_exporter": "python",
   "pygments_lexer": "ipython3",
   "version": "3.8.8"
  }
 },
 "nbformat": 4,
 "nbformat_minor": 5
}
