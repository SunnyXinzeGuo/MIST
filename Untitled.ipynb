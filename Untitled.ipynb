{
 "cells": [
  {
   "cell_type": "code",
   "execution_count": 3,
   "id": "f9788738",
   "metadata": {},
   "outputs": [],
   "source": [
    "import numpy as np\n",
    "import matplotlib.pyplot as plt\n",
    "from numpy.linalg import inv"
   ]
  },
  {
   "cell_type": "code",
   "execution_count": 4,
   "id": "21da74a6",
   "metadata": {},
   "outputs": [],
   "source": [
    "azimuth = np.array(range(0,360))\n",
    "elevation = np.array(range(-90,91))\n",
    "freq = np.array(range(50,101))\n",
    "A, sigy = 9.5*(freq/75), 40\n",
    "y0 = 90"
   ]
  },
  {
   "cell_type": "code",
   "execution_count": 5,
   "id": "9d4faa23",
   "metadata": {},
   "outputs": [],
   "source": [
    "elev = np.exp(-((elevation-y0)**2/(2*(sigy**2))))\n",
    "surface = np.tile(elev, (360,1)).T\n",
    "cube = np.tile(surface, (51,1,1))\n",
    "A_ = np.tile(A, (360,181,1))\n",
    "A_=A_.T\n",
    "cube = cube*A_"
   ]
  },
  {
   "cell_type": "code",
   "execution_count": 6,
   "id": "bddecbb6",
   "metadata": {},
   "outputs": [
    {
     "data": {
      "text/plain": [
       "[<matplotlib.lines.Line2D at 0x7fa210056460>]"
      ]
     },
     "execution_count": 6,
     "metadata": {},
     "output_type": "execute_result"
    },
    {
     "data": {
      "image/png": "[encoded data removed]",
      "text/plain": [
       "<Figure size 432x288 with 1 Axes>"
      ]
     },
     "metadata": {
      "needs_background": "light"
     },
     "output_type": "display_data"
    }
   ],
   "source": [
    "plt.plot(cube[0,:,0])"
   ]
  },
  {
   "cell_type": "code",
   "execution_count": 7,
   "id": "909b4eb0",
   "metadata": {},
   "outputs": [],
   "source": [
    "A = np.array([1,2,3])\n",
    "sigy = np.array([30,40,50])\n",
    "Anew = np.repeat(A,len(sigy))\n",
    "sigynew = np.tile(sigy, len(A))\n",
    "parameters = np.column_stack((Anew,sigynew))"
   ]
  },
  {
   "cell_type": "code",
   "execution_count": 8,
   "id": "6c72a2b7",
   "metadata": {},
   "outputs": [
    {
     "data": {
      "text/plain": [
       "array([[ 1, 30],\n",
       "       [ 1, 40],\n",
       "       [ 1, 50],\n",
       "       [ 2, 30],\n",
       "       [ 2, 40],\n",
       "       [ 2, 50],\n",
       "       [ 3, 30],\n",
       "       [ 3, 40],\n",
       "       [ 3, 50]])"
      ]
     },
     "execution_count": 8,
     "metadata": {},
     "output_type": "execute_result"
    }
   ],
   "source": [
    "parameters"
   ]
  },
  {
   "cell_type": "code",
   "execution_count": 9,
   "id": "7449f8cd",
   "metadata": {},
   "outputs": [
    {
     "data": {
      "image/png": "[encoded data removed]",
      "text/plain": [
       "<Figure size 576x432 with 1 Axes>"
      ]
     },
     "metadata": {
      "needs_background": "light"
     },
     "output_type": "display_data"
    }
   ],
   "source": [
    "nu = np.arange(1,101,1) * np.power(10,6)\n",
    "nu_0 = 50* np.power(10,6)\n",
    "dt = 1\n",
    "dnu = 1*np.power(10,6)\n",
    "def model(paras, nu):\n",
    "    A,alpha = paras\n",
    "    return A*(nu/nu_0)**alpha\n",
    "# True parameters\n",
    "params_true = np.array([10000, -2.5])\n",
    "# Creating Error\n",
    "error = model(params_true, nu)/np.sqrt(dnu*dt)\n",
    "#Simulating data\n",
    "data = model(params_true,nu)+error\n",
    "plt.figure(figsize=(8,6))\n",
    "plt.errorbar(nu, data, yerr=error, fmt=\"o\", label='data')\n",
    "plt.plot(nu, model(params_true, nu), label='model')\n",
    "plt.xlabel(r'$miu$', fontsize=16)\n",
    "plt.ylabel(r'$Temperature$', fontsize=16)\n",
    "plt.xticks(fontsize=14)\n",
    "plt.yticks(fontsize=14)\n",
    "plt.legend(fontsize=14)\n",
    "plt.xlim(20e6, 100e6)\n",
    "plt.ylim(0, 100000)\n",
    "plt.show()"
   ]
  },
  {
   "cell_type": "code",
   "execution_count": 16,
   "id": "e7721382",
   "metadata": {},
   "outputs": [],
   "source": [
    "stand = np.std(error)\n",
    "stand_2 = np.full((100),stand**2)"
   ]
  },
  {
   "cell_type": "code",
   "execution_count": 20,
   "id": "fd063719",
   "metadata": {},
   "outputs": [
    {
     "data": {
      "text/plain": [
       "matrix([[-50.]])"
      ]
     },
     "execution_count": 20,
     "metadata": {},
     "output_type": "execute_result"
    }
   ],
   "source": [
    "m = model(params_true, nu)\n",
    "diff1 = m - data\n",
    "diff = np.asmatrix(diff1)\n",
    "diff_T = diff.T\n",
    "sig = np.diagflat(error**2)\n",
    "sig_inv = inv(sig)\n",
    "half = np.matmul(diff,sig_inv)\n",
    "-0.5*np.matmul(half,diff_T)"
   ]
  },
  {
   "cell_type": "code",
   "execution_count": 21,
   "id": "e29585bd",
   "metadata": {
    "scrolled": true
   },
   "outputs": [
    {
     "data": {
      "text/plain": [
       "array([[1, 0],\n",
       "       [0, 1]])"
      ]
     },
     "execution_count": 21,
     "metadata": {},
     "output_type": "execute_result"
    }
   ],
   "source": [
    "x = np.array([1,1])\n",
    "y = np.array([[1],[1]])\n",
    "xm = np.diagflat(x)\n",
    "ym = np.asmatrix(y)\n",
    "np.matmul(xm,ym)\n",
    "xm"
   ]
  },
  {
   "cell_type": "code",
   "execution_count": 22,
   "id": "896831fd",
   "metadata": {},
   "outputs": [
    {
     "data": {
      "text/plain": [
       "array([1.76776695e+05, 3.12500000e+04, 1.13402303e+04, 5.52427173e+03,\n",
       "       3.16227766e+03, 2.00468843e+03, 1.36357776e+03, 9.76562500e+02,\n",
       "       7.27476112e+02, 5.59016994e+02, 4.40497348e+02, 3.54382197e+02,\n",
       "       2.90112626e+02, 2.41048771e+02, 2.02860206e+02, 1.72633492e+02,\n",
       "       1.48355177e+02, 1.28600823e+02, 1.12341704e+02, 9.88211769e+01,\n",
       "       8.74735544e+01, 7.78696654e+01, 6.96795634e+01, 6.26465136e+01,\n",
       "       5.65685425e+01, 5.12851513e+01, 4.66676144e+01, 4.26118052e+01,\n",
       "       3.90328278e+01, 3.58609569e+01, 3.30385346e+01, 3.05175781e+01,\n",
       "       2.82579180e+01, 2.62257380e+01, 2.43924206e+01, 2.27336285e+01,\n",
       "       2.12285681e+01, 1.98593952e+01, 1.86107336e+01, 1.74692811e+01,\n",
       "       1.64234869e+01, 1.54632859e+01, 1.45798774e+01, 1.37655421e+01,\n",
       "       1.30134883e+01, 1.23177229e+01, 1.16729430e+01, 1.10744436e+01,\n",
       "       1.05180398e+01, 1.00000000e+01, 9.51698907e+00, 9.06601956e+00,\n",
       "       8.64440960e+00, 8.24974664e+00, 7.87985611e+00, 7.53277410e+00,\n",
       "       7.20672370e+00, 6.90009431e+00, 6.61142357e+00, 6.33938145e+00,\n",
       "       6.08275639e+00, 5.84044296e+00, 5.61143113e+00, 5.39479661e+00,\n",
       "       5.18969242e+00, 4.99534137e+00, 4.81102932e+00, 4.63609930e+00,\n",
       "       4.46994608e+00, 4.31201150e+00, 4.16178019e+00, 4.01877572e+00,\n",
       "       3.88255718e+00, 3.75271611e+00, 3.62887369e+00, 3.51067826e+00,\n",
       "       3.39780302e+00, 3.28994399e+00, 3.18681815e+00, 3.08816178e+00,\n",
       "       2.99372886e+00, 2.90328974e+00, 2.81662987e+00, 2.73354858e+00,\n",
       "       2.65385809e+00, 2.57738254e+00, 2.50395707e+00, 2.43342704e+00,\n",
       "       2.36564730e+00, 2.30048146e+00, 2.23780134e+00, 2.17748636e+00,\n",
       "       2.11942298e+00, 2.06350429e+00, 2.00962950e+00, 1.95770355e+00,\n",
       "       1.90763673e+00, 1.85934432e+00, 1.81274629e+00, 1.76776695e+00])"
      ]
     },
     "execution_count": 22,
     "metadata": {},
     "output_type": "execute_result"
    }
   ],
   "source": [
    "z = np.array([2,3])\n",
    "error"
   ]
  },
  {
   "cell_type": "code",
   "execution_count": 23,
   "id": "9592d1eb",
   "metadata": {},
   "outputs": [
    {
     "data": {
      "text/plain": [
       "-50.00000000000067"
      ]
     },
     "execution_count": 23,
     "metadata": {},
     "output_type": "execute_result"
    }
   ],
   "source": [
    "-0.5 * np.sum(((diff1)/error)**2)"
   ]
  },
  {
   "cell_type": "code",
   "execution_count": null,
   "id": "87bfaa3e",
   "metadata": {},
   "outputs": [],
   "source": []
  }
 ],
 "metadata": {
  "kernelspec": {
   "display_name": "Python 3",
   "language": "python",
   "name": "python3"
  },
  "language_info": {
   "codemirror_mode": {
    "name": "ipython",
    "version": 3
   },
   "file_extension": ".py",
   "mimetype": "text/x-python",
   "name": "python",
   "nbconvert_exporter": "python",
   "pygments_lexer": "ipython3",
   "version": "3.8.8"
  }
 },
 "nbformat": 4,
 "nbformat_minor": 5
}
